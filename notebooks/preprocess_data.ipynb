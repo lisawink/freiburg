{
 "cells": [
  {
   "cell_type": "code",
   "execution_count": 1,
   "metadata": {},
   "outputs": [],
   "source": [
    "import pandas as pd\n",
    "import geopandas as gpd\n",
    "import osmnx\n",
    "import sgeop\n",
    "import momepy\n",
    "import json\n",
    "import geoplanar"
   ]
  },
  {
   "cell_type": "markdown",
   "metadata": {},
   "source": [
    "## 2D Buildings"
   ]
  },
  {
   "cell_type": "markdown",
   "metadata": {},
   "source": [
    "Building footprints from the ALKIS cadastre data https://opengeodata.lgl-bw.de/#/(sidenav:product/1) were downloaded for the following regions."
   ]
  },
  {
   "cell_type": "code",
   "execution_count": 2,
   "metadata": {},
   "outputs": [],
   "source": [
    "\n",
    "paths = [\n",
    "    \"ALKIS-oE_085280_Bötzingen_shp/\",\n",
    "    \"ALKIS-oE_085300_Umkirch_shp/\",\n",
    "    \"ALKIS-oE_085714_Lehen_shp/\",\n",
    "    \"ALKIS-oE_085292_Hugstetten_shp/\",\n",
    "    \"ALKIS-oE_085290_Buchheim_shp/\",\n",
    "    \"ALKIS-oE_085293_Neuershausen_shp/\",\n",
    "    \"ALKIS-oE_085291_Holzhausen_shp/\",\n",
    "    \"ALKIS-oE_085712_Hochdorf_shp/\",\n",
    "    \"ALKIS-oE_085240_Vörstetten_shp/\",\n",
    "    \"ALKIS-oE_085235_Denzlingen_shp/\",\n",
    "    \"ALKIS-oE_085350_Föhrental_shp/\",\n",
    "    \"ALKIS-oE_085335_Heuweiler_shp/\",\n",
    "    \"ALKIS-oE_085341_Wildtal_shp/\",\n",
    "    \"ALKIS-oE_085340_Gundelfingen_shp/\",\n",
    "    \"ALKIS-oE_085420_Stegen_shp/\",\n",
    "    \"ALKIS-oE_085422_Wittental_shp/\",\n",
    "    \"ALKIS-oE_085711_Ebnet_shp/\",\n",
    "    \"ALKIS-oE_085432_Zarten_shp/\",\n",
    "    \"ALKIS-oE_085430_Kirchzarten_shp/\",\n",
    "    \"ALKIS-oE_085713_Kappel_shp/\",\n",
    "    \"ALKIS-oE_085710_Freiburg_shp/\",\n",
    "    \"ALKIS-oE_085415_Horben_shp/\",\n",
    "    \"ALKIS-oE_085410_Sölden_shp/\",\n",
    "    \"ALKIS-oE_085405_Wittnau_shp/\",\n",
    "    \"ALKIS-oE_085400_Au_shp/\",\n",
    "    \"ALKIS-oE_085390_Merzhausen_shp/\",\n",
    "    \"ALKIS-oE_085380_Ebringen_shp/\",\n",
    "    \"ALKIS-oE_085372_Wolfenweiler_shp/\",\n",
    "    \"ALKIS-oE_085385_Pfaffenweiler_shp/\",\n",
    "    \"ALKIS-oE_085512_Norsingen_shp/\",\n",
    "    \"ALKIS-oE_085514_Scherzingen_shp/\",\n",
    "    \"ALKIS-oE_085371_Schallstadt_shp/\",\n",
    "    \"ALKIS-oE_085370_Mengen_shp/\",\n",
    "    \"ALKIS-oE_085715_Munzingen_shp/\",\n",
    "    \"ALKIS-oE_085717_Tiengen_shp/\",\n",
    "    \"ALKIS-oE_085716_Opfingen_shp/\",\n",
    "    \"ALKIS-oE_085718_Waltershofen_shp/\",\n",
    "    \"ALKIS-oE_085330_Merdingen_shp/\",\n",
    "    \"ALKIS-oE_085285_Gottenheim_shp/\",\n",
    "    \"ALKIS-oE_085311_Wasenweiler_shp/\"\n",
    "]"
   ]
  },
  {
   "cell_type": "code",
   "execution_count": 3,
   "metadata": {},
   "outputs": [],
   "source": [
    "building_gdfs = []"
   ]
  },
  {
   "cell_type": "code",
   "execution_count": 5,
   "metadata": {},
   "outputs": [
    {
     "name": "stdout",
     "output_type": "stream",
     "text": [
      "ALKIS-oE_085280_Bötzingen_shp/\n",
      "ALKIS-oE_085300_Umkirch_shp/\n",
      "ALKIS-oE_085714_Lehen_shp/\n",
      "ALKIS-oE_085292_Hugstetten_shp/\n",
      "ALKIS-oE_085290_Buchheim_shp/\n",
      "ALKIS-oE_085293_Neuershausen_shp/\n",
      "ALKIS-oE_085291_Holzhausen_shp/\n",
      "ALKIS-oE_085712_Hochdorf_shp/\n",
      "ALKIS-oE_085240_Vörstetten_shp/\n",
      "ALKIS-oE_085235_Denzlingen_shp/\n",
      "ALKIS-oE_085350_Föhrental_shp/\n",
      "ALKIS-oE_085335_Heuweiler_shp/\n",
      "ALKIS-oE_085341_Wildtal_shp/\n",
      "ALKIS-oE_085340_Gundelfingen_shp/\n",
      "ALKIS-oE_085420_Stegen_shp/\n",
      "ALKIS-oE_085422_Wittental_shp/\n",
      "ALKIS-oE_085711_Ebnet_shp/\n",
      "ALKIS-oE_085432_Zarten_shp/\n",
      "ALKIS-oE_085430_Kirchzarten_shp/\n",
      "ALKIS-oE_085713_Kappel_shp/\n",
      "ALKIS-oE_085710_Freiburg_shp/\n",
      "ALKIS-oE_085415_Horben_shp/\n",
      "ALKIS-oE_085410_Sölden_shp/\n",
      "ALKIS-oE_085405_Wittnau_shp/\n",
      "ALKIS-oE_085400_Au_shp/\n",
      "ALKIS-oE_085390_Merzhausen_shp/\n",
      "ALKIS-oE_085380_Ebringen_shp/\n",
      "ALKIS-oE_085372_Wolfenweiler_shp/\n",
      "ALKIS-oE_085385_Pfaffenweiler_shp/\n",
      "ALKIS-oE_085512_Norsingen_shp/\n",
      "ALKIS-oE_085514_Scherzingen_shp/\n",
      "ALKIS-oE_085371_Schallstadt_shp/\n",
      "ALKIS-oE_085370_Mengen_shp/\n",
      "ALKIS-oE_085715_Munzingen_shp/\n",
      "ALKIS-oE_085717_Tiengen_shp/\n",
      "ALKIS-oE_085716_Opfingen_shp/\n",
      "ALKIS-oE_085718_Waltershofen_shp/\n",
      "ALKIS-oE_085330_Merdingen_shp/\n",
      "ALKIS-oE_085285_Gottenheim_shp/\n",
      "ALKIS-oE_085311_Wasenweiler_shp/\n"
     ]
    }
   ],
   "source": [
    "for i in paths:\n",
    "    print(i)\n",
    "    buildings = gpd.read_file('/Users/lisawink/Documents/paper1/data/raw_data/' + i + 'gebaeudeBauwerke.shp')\n",
    "    buildings = buildings[buildings['gebnutzbez'] == \"Gebaeude\"]\n",
    "    buildings = buildings[~buildings['funktion'].isin(['Tiefgarage','Schuppen','Gartenhaus','Schutzhütte','Stall','Wasserbehälter','Scheune und Stall','Garage','Scheune','Gebäude für Vorratshaltung','Umformer'])]\n",
    "    buildings = buildings.to_crs(31468)\n",
    "    building_gdfs.append(buildings)"
   ]
  },
  {
   "cell_type": "code",
   "execution_count": 18,
   "metadata": {},
   "outputs": [],
   "source": [
    "all_buildings = pd.concat(building_gdfs, ignore_index=True)"
   ]
  },
  {
   "cell_type": "code",
   "execution_count": 19,
   "metadata": {},
   "outputs": [],
   "source": [
    "# find bounding box of data\n",
    "bounds = all_buildings.to_crs('epsg:4326').total_bounds"
   ]
  },
  {
   "cell_type": "markdown",
   "metadata": {},
   "source": [
    "## 3D Buildings"
   ]
  },
  {
   "cell_type": "markdown",
   "metadata": {},
   "source": [
    "Merge with 3D LoD1 CityJSON data from https://geodaten.freiburg.de/geonetwork/srv/ger/catalog.search#/metadata/164ceef4-6c67-4763-8100-c5799a2ea6d8 (converted from CityGML using https://www.cityjson.org/tutorials/conversion/ and analysed using https://github.com/tudelft3d/3d-building-metrics) to obtain the heights and the 3d form statistics"
   ]
  },
  {
   "cell_type": "code",
   "execution_count": 20,
   "metadata": {},
   "outputs": [],
   "source": [
    "def read_json_file(file_name):\n",
    "    with open(file_name) as f:\n",
    "        data = json.load(f)\n",
    "    return data"
   ]
  },
  {
   "cell_type": "code",
   "execution_count": 21,
   "metadata": {},
   "outputs": [],
   "source": [
    "data = read_json_file('/Users/lisawink/Documents/paper1/data/2023_Freiburg_LoD1.json')\n",
    "# read data into dataframe\n",
    "df = pd.DataFrame.from_dict(data['CityObjects'], orient='index')\n",
    "df[['Bodenhoehe', 'Firsthoehe', 'Traufhoehe', 'measuredHeight', 'roofType','Gemeindeschluessel', 'Hausnummer', 'Lagebezeichnung', 'class', 'name']] = df['attributes'].apply(pd.Series)\n",
    "df[df['geometry'].apply(pd.Series).columns] = df['geometry'].apply(pd.Series)"
   ]
  },
  {
   "cell_type": "code",
   "execution_count": 22,
   "metadata": {},
   "outputs": [
    {
     "data": {
      "text/html": [
       "<div>\n",
       "<style scoped>\n",
       "    .dataframe tbody tr th:only-of-type {\n",
       "        vertical-align: middle;\n",
       "    }\n",
       "\n",
       "    .dataframe tbody tr th {\n",
       "        vertical-align: top;\n",
       "    }\n",
       "\n",
       "    .dataframe thead th {\n",
       "        text-align: right;\n",
       "    }\n",
       "</style>\n",
       "<table border=\"1\" class=\"dataframe\">\n",
       "  <thead>\n",
       "    <tr style=\"text-align: right;\">\n",
       "      <th></th>\n",
       "      <th>type</th>\n",
       "      <th>attributes</th>\n",
       "      <th>geometry</th>\n",
       "      <th>Bodenhoehe</th>\n",
       "      <th>Firsthoehe</th>\n",
       "      <th>Traufhoehe</th>\n",
       "      <th>measuredHeight</th>\n",
       "      <th>roofType</th>\n",
       "      <th>Gemeindeschluessel</th>\n",
       "      <th>Hausnummer</th>\n",
       "      <th>Lagebezeichnung</th>\n",
       "      <th>class</th>\n",
       "      <th>name</th>\n",
       "      <th>0</th>\n",
       "    </tr>\n",
       "  </thead>\n",
       "  <tbody>\n",
       "    <tr>\n",
       "      <th>DEBWL0010007TIIT</th>\n",
       "      <td>Building</td>\n",
       "      <td>{'Bodenhoehe': '254.218', 'Firsthoehe': '272.8...</td>\n",
       "      <td>[{'type': 'Solid', 'lod': '1', 'boundaries': [...</td>\n",
       "      <td>254.218</td>\n",
       "      <td>272.838</td>\n",
       "      <td>272.838</td>\n",
       "      <td>18.620</td>\n",
       "      <td>1000</td>\n",
       "      <td>NaN</td>\n",
       "      <td>NaN</td>\n",
       "      <td>NaN</td>\n",
       "      <td>NaN</td>\n",
       "      <td>NaN</td>\n",
       "      <td>{'type': 'Solid', 'lod': '1', 'boundaries': [[...</td>\n",
       "    </tr>\n",
       "    <tr>\n",
       "      <th>DEBWL0010007TIIU</th>\n",
       "      <td>Building</td>\n",
       "      <td>{'Bodenhoehe': '254.520', 'Firsthoehe': '257.5...</td>\n",
       "      <td>[{'type': 'Solid', 'lod': '1', 'boundaries': [...</td>\n",
       "      <td>254.520</td>\n",
       "      <td>257.504</td>\n",
       "      <td>257.504</td>\n",
       "      <td>2.984</td>\n",
       "      <td>1000</td>\n",
       "      <td>NaN</td>\n",
       "      <td>NaN</td>\n",
       "      <td>NaN</td>\n",
       "      <td>NaN</td>\n",
       "      <td>NaN</td>\n",
       "      <td>{'type': 'Solid', 'lod': '1', 'boundaries': [[...</td>\n",
       "    </tr>\n",
       "    <tr>\n",
       "      <th>DEBWL0010007TII4</th>\n",
       "      <td>Building</td>\n",
       "      <td>{'Bodenhoehe': '250.677', 'Firsthoehe': '257.9...</td>\n",
       "      <td>[{'type': 'Solid', 'lod': '1', 'boundaries': [...</td>\n",
       "      <td>250.677</td>\n",
       "      <td>257.946</td>\n",
       "      <td>257.946</td>\n",
       "      <td>7.269</td>\n",
       "      <td>1000</td>\n",
       "      <td>NaN</td>\n",
       "      <td>NaN</td>\n",
       "      <td>NaN</td>\n",
       "      <td>NaN</td>\n",
       "      <td>NaN</td>\n",
       "      <td>{'type': 'Solid', 'lod': '1', 'boundaries': [[...</td>\n",
       "    </tr>\n",
       "    <tr>\n",
       "      <th>DEBWL001000i26bW</th>\n",
       "      <td>Building</td>\n",
       "      <td>{'Bodenhoehe': '239.074', 'Firsthoehe': '241.6...</td>\n",
       "      <td>[{'type': 'Solid', 'lod': '1', 'boundaries': [...</td>\n",
       "      <td>239.074</td>\n",
       "      <td>241.617</td>\n",
       "      <td>241.617</td>\n",
       "      <td>2.543</td>\n",
       "      <td>1000</td>\n",
       "      <td>NaN</td>\n",
       "      <td>NaN</td>\n",
       "      <td>NaN</td>\n",
       "      <td>NaN</td>\n",
       "      <td>NaN</td>\n",
       "      <td>{'type': 'Solid', 'lod': '1', 'boundaries': [[...</td>\n",
       "    </tr>\n",
       "    <tr>\n",
       "      <th>DEBWL0010007TIHZ</th>\n",
       "      <td>Building</td>\n",
       "      <td>{'Bodenhoehe': '250.696', 'Firsthoehe': '256.8...</td>\n",
       "      <td>[{'type': 'Solid', 'lod': '1', 'boundaries': [...</td>\n",
       "      <td>250.696</td>\n",
       "      <td>256.876</td>\n",
       "      <td>256.876</td>\n",
       "      <td>6.181</td>\n",
       "      <td>1000</td>\n",
       "      <td>NaN</td>\n",
       "      <td>NaN</td>\n",
       "      <td>NaN</td>\n",
       "      <td>NaN</td>\n",
       "      <td>NaN</td>\n",
       "      <td>{'type': 'Solid', 'lod': '1', 'boundaries': [[...</td>\n",
       "    </tr>\n",
       "    <tr>\n",
       "      <th>...</th>\n",
       "      <td>...</td>\n",
       "      <td>...</td>\n",
       "      <td>...</td>\n",
       "      <td>...</td>\n",
       "      <td>...</td>\n",
       "      <td>...</td>\n",
       "      <td>...</td>\n",
       "      <td>...</td>\n",
       "      <td>...</td>\n",
       "      <td>...</td>\n",
       "      <td>...</td>\n",
       "      <td>...</td>\n",
       "      <td>...</td>\n",
       "      <td>...</td>\n",
       "    </tr>\n",
       "    <tr>\n",
       "      <th>DEBWL001000g414h</th>\n",
       "      <td>Building</td>\n",
       "      <td>{'name': 'Zedernhütte', 'Bodenhoehe': '315.967...</td>\n",
       "      <td>[{'type': 'Solid', 'lod': '1', 'boundaries': [...</td>\n",
       "      <td>315.967</td>\n",
       "      <td>333.999</td>\n",
       "      <td>333.999</td>\n",
       "      <td>18.032</td>\n",
       "      <td>1000</td>\n",
       "      <td>08311000</td>\n",
       "      <td>NaN</td>\n",
       "      <td>Distr. Illenberg</td>\n",
       "      <td>Öffentlich</td>\n",
       "      <td>Zedernhütte</td>\n",
       "      <td>{'type': 'Solid', 'lod': '1', 'boundaries': [[...</td>\n",
       "    </tr>\n",
       "    <tr>\n",
       "      <th>DEBWL001000s0iiB</th>\n",
       "      <td>Building</td>\n",
       "      <td>{'Bodenhoehe': '301.605', 'Firsthoehe': '305.2...</td>\n",
       "      <td>[{'type': 'Solid', 'lod': '1', 'boundaries': [...</td>\n",
       "      <td>301.605</td>\n",
       "      <td>305.280</td>\n",
       "      <td>305.280</td>\n",
       "      <td>3.675</td>\n",
       "      <td>1000</td>\n",
       "      <td>08311000</td>\n",
       "      <td>8</td>\n",
       "      <td>Wonnhaldestraße</td>\n",
       "      <td>Öffentlich</td>\n",
       "      <td>NaN</td>\n",
       "      <td>{'type': 'Solid', 'lod': '1', 'boundaries': [[...</td>\n",
       "    </tr>\n",
       "    <tr>\n",
       "      <th>DEBWL0010007TAhF</th>\n",
       "      <td>Building</td>\n",
       "      <td>{'Bodenhoehe': '306.829', 'Firsthoehe': '312.9...</td>\n",
       "      <td>[{'type': 'Solid', 'lod': '1', 'boundaries': [...</td>\n",
       "      <td>306.829</td>\n",
       "      <td>312.915</td>\n",
       "      <td>312.915</td>\n",
       "      <td>6.086</td>\n",
       "      <td>1000</td>\n",
       "      <td>08311000</td>\n",
       "      <td>NaN</td>\n",
       "      <td>Wonnhaldestraße</td>\n",
       "      <td>Sonstige</td>\n",
       "      <td>NaN</td>\n",
       "      <td>{'type': 'Solid', 'lod': '1', 'boundaries': [[...</td>\n",
       "    </tr>\n",
       "    <tr>\n",
       "      <th>DEBWL0010007TAgD</th>\n",
       "      <td>Building</td>\n",
       "      <td>{'Bodenhoehe': '369.483', 'Firsthoehe': '372.5...</td>\n",
       "      <td>[{'type': 'Solid', 'lod': '1', 'boundaries': [...</td>\n",
       "      <td>369.483</td>\n",
       "      <td>372.509</td>\n",
       "      <td>372.509</td>\n",
       "      <td>3.026</td>\n",
       "      <td>1000</td>\n",
       "      <td>08311000</td>\n",
       "      <td>NaN</td>\n",
       "      <td>Schauinslandstraße</td>\n",
       "      <td>Sonstige</td>\n",
       "      <td>NaN</td>\n",
       "      <td>{'type': 'Solid', 'lod': '1', 'boundaries': [[...</td>\n",
       "    </tr>\n",
       "    <tr>\n",
       "      <th>DEBWL0010007TAgT</th>\n",
       "      <td>Building</td>\n",
       "      <td>{'Bodenhoehe': '382.945', 'Firsthoehe': '385.5...</td>\n",
       "      <td>[{'type': 'Solid', 'lod': '1', 'boundaries': [...</td>\n",
       "      <td>382.945</td>\n",
       "      <td>385.578</td>\n",
       "      <td>385.578</td>\n",
       "      <td>2.633</td>\n",
       "      <td>1000</td>\n",
       "      <td>08311000</td>\n",
       "      <td>131</td>\n",
       "      <td>Schauinslandstraße</td>\n",
       "      <td>Wohnen</td>\n",
       "      <td>NaN</td>\n",
       "      <td>{'type': 'Solid', 'lod': '1', 'boundaries': [[...</td>\n",
       "    </tr>\n",
       "  </tbody>\n",
       "</table>\n",
       "<p>59950 rows × 14 columns</p>\n",
       "</div>"
      ],
      "text/plain": [
       "                      type                                         attributes  \\\n",
       "DEBWL0010007TIIT  Building  {'Bodenhoehe': '254.218', 'Firsthoehe': '272.8...   \n",
       "DEBWL0010007TIIU  Building  {'Bodenhoehe': '254.520', 'Firsthoehe': '257.5...   \n",
       "DEBWL0010007TII4  Building  {'Bodenhoehe': '250.677', 'Firsthoehe': '257.9...   \n",
       "DEBWL001000i26bW  Building  {'Bodenhoehe': '239.074', 'Firsthoehe': '241.6...   \n",
       "DEBWL0010007TIHZ  Building  {'Bodenhoehe': '250.696', 'Firsthoehe': '256.8...   \n",
       "...                    ...                                                ...   \n",
       "DEBWL001000g414h  Building  {'name': 'Zedernhütte', 'Bodenhoehe': '315.967...   \n",
       "DEBWL001000s0iiB  Building  {'Bodenhoehe': '301.605', 'Firsthoehe': '305.2...   \n",
       "DEBWL0010007TAhF  Building  {'Bodenhoehe': '306.829', 'Firsthoehe': '312.9...   \n",
       "DEBWL0010007TAgD  Building  {'Bodenhoehe': '369.483', 'Firsthoehe': '372.5...   \n",
       "DEBWL0010007TAgT  Building  {'Bodenhoehe': '382.945', 'Firsthoehe': '385.5...   \n",
       "\n",
       "                                                           geometry  \\\n",
       "DEBWL0010007TIIT  [{'type': 'Solid', 'lod': '1', 'boundaries': [...   \n",
       "DEBWL0010007TIIU  [{'type': 'Solid', 'lod': '1', 'boundaries': [...   \n",
       "DEBWL0010007TII4  [{'type': 'Solid', 'lod': '1', 'boundaries': [...   \n",
       "DEBWL001000i26bW  [{'type': 'Solid', 'lod': '1', 'boundaries': [...   \n",
       "DEBWL0010007TIHZ  [{'type': 'Solid', 'lod': '1', 'boundaries': [...   \n",
       "...                                                             ...   \n",
       "DEBWL001000g414h  [{'type': 'Solid', 'lod': '1', 'boundaries': [...   \n",
       "DEBWL001000s0iiB  [{'type': 'Solid', 'lod': '1', 'boundaries': [...   \n",
       "DEBWL0010007TAhF  [{'type': 'Solid', 'lod': '1', 'boundaries': [...   \n",
       "DEBWL0010007TAgD  [{'type': 'Solid', 'lod': '1', 'boundaries': [...   \n",
       "DEBWL0010007TAgT  [{'type': 'Solid', 'lod': '1', 'boundaries': [...   \n",
       "\n",
       "                 Bodenhoehe Firsthoehe Traufhoehe  measuredHeight roofType  \\\n",
       "DEBWL0010007TIIT    254.218    272.838    272.838          18.620     1000   \n",
       "DEBWL0010007TIIU    254.520    257.504    257.504           2.984     1000   \n",
       "DEBWL0010007TII4    250.677    257.946    257.946           7.269     1000   \n",
       "DEBWL001000i26bW    239.074    241.617    241.617           2.543     1000   \n",
       "DEBWL0010007TIHZ    250.696    256.876    256.876           6.181     1000   \n",
       "...                     ...        ...        ...             ...      ...   \n",
       "DEBWL001000g414h    315.967    333.999    333.999          18.032     1000   \n",
       "DEBWL001000s0iiB    301.605    305.280    305.280           3.675     1000   \n",
       "DEBWL0010007TAhF    306.829    312.915    312.915           6.086     1000   \n",
       "DEBWL0010007TAgD    369.483    372.509    372.509           3.026     1000   \n",
       "DEBWL0010007TAgT    382.945    385.578    385.578           2.633     1000   \n",
       "\n",
       "                 Gemeindeschluessel Hausnummer     Lagebezeichnung  \\\n",
       "DEBWL0010007TIIT                NaN        NaN                 NaN   \n",
       "DEBWL0010007TIIU                NaN        NaN                 NaN   \n",
       "DEBWL0010007TII4                NaN        NaN                 NaN   \n",
       "DEBWL001000i26bW                NaN        NaN                 NaN   \n",
       "DEBWL0010007TIHZ                NaN        NaN                 NaN   \n",
       "...                             ...        ...                 ...   \n",
       "DEBWL001000g414h           08311000        NaN    Distr. Illenberg   \n",
       "DEBWL001000s0iiB           08311000          8     Wonnhaldestraße   \n",
       "DEBWL0010007TAhF           08311000        NaN     Wonnhaldestraße   \n",
       "DEBWL0010007TAgD           08311000        NaN  Schauinslandstraße   \n",
       "DEBWL0010007TAgT           08311000        131  Schauinslandstraße   \n",
       "\n",
       "                       class         name  \\\n",
       "DEBWL0010007TIIT         NaN          NaN   \n",
       "DEBWL0010007TIIU         NaN          NaN   \n",
       "DEBWL0010007TII4         NaN          NaN   \n",
       "DEBWL001000i26bW         NaN          NaN   \n",
       "DEBWL0010007TIHZ         NaN          NaN   \n",
       "...                      ...          ...   \n",
       "DEBWL001000g414h  Öffentlich  Zedernhütte   \n",
       "DEBWL001000s0iiB  Öffentlich          NaN   \n",
       "DEBWL0010007TAhF    Sonstige          NaN   \n",
       "DEBWL0010007TAgD    Sonstige          NaN   \n",
       "DEBWL0010007TAgT      Wohnen          NaN   \n",
       "\n",
       "                                                                  0  \n",
       "DEBWL0010007TIIT  {'type': 'Solid', 'lod': '1', 'boundaries': [[...  \n",
       "DEBWL0010007TIIU  {'type': 'Solid', 'lod': '1', 'boundaries': [[...  \n",
       "DEBWL0010007TII4  {'type': 'Solid', 'lod': '1', 'boundaries': [[...  \n",
       "DEBWL001000i26bW  {'type': 'Solid', 'lod': '1', 'boundaries': [[...  \n",
       "DEBWL0010007TIHZ  {'type': 'Solid', 'lod': '1', 'boundaries': [[...  \n",
       "...                                                             ...  \n",
       "DEBWL001000g414h  {'type': 'Solid', 'lod': '1', 'boundaries': [[...  \n",
       "DEBWL001000s0iiB  {'type': 'Solid', 'lod': '1', 'boundaries': [[...  \n",
       "DEBWL0010007TAhF  {'type': 'Solid', 'lod': '1', 'boundaries': [[...  \n",
       "DEBWL0010007TAgD  {'type': 'Solid', 'lod': '1', 'boundaries': [[...  \n",
       "DEBWL0010007TAgT  {'type': 'Solid', 'lod': '1', 'boundaries': [[...  \n",
       "\n",
       "[59950 rows x 14 columns]"
      ]
     },
     "execution_count": 22,
     "metadata": {},
     "output_type": "execute_result"
    }
   ],
   "source": [
    "df"
   ]
  },
  {
   "cell_type": "code",
   "execution_count": 23,
   "metadata": {},
   "outputs": [
    {
     "data": {
      "text/plain": [
       "True"
      ]
     },
     "execution_count": 23,
     "metadata": {},
     "output_type": "execute_result"
    }
   ],
   "source": [
    "#check if all building oid end with BL\n",
    "all_buildings[\"oid\"].str.endswith(\"BL\").all()"
   ]
  },
  {
   "cell_type": "code",
   "execution_count": 24,
   "metadata": {},
   "outputs": [],
   "source": [
    "#remove BL from oid\n",
    "all_buildings[\"oid\"] = all_buildings[\"oid\"].str[:-2]"
   ]
  },
  {
   "cell_type": "code",
   "execution_count": 25,
   "metadata": {},
   "outputs": [],
   "source": [
    "all_buildings = all_buildings.merge(df,left_on='oid',right_on=df.index,how='left', suffixes=('_2d', '_3d'))\n",
    "all_buildings = all_buildings.set_geometry('geometry_2d')"
   ]
  },
  {
   "cell_type": "code",
   "execution_count": 29,
   "metadata": {},
   "outputs": [
    {
     "data": {
      "text/plain": [
       "measuredHeight\n",
       "10.000    128\n",
       "3.000      24\n",
       "8.738      16\n",
       "8.475      14\n",
       "8.293      14\n",
       "         ... \n",
       "12.950      1\n",
       "2.697       1\n",
       "15.692      1\n",
       "4.329       1\n",
       "4.519       1\n",
       "Name: count, Length: 12967, dtype: int64"
      ]
     },
     "execution_count": 29,
     "metadata": {},
     "output_type": "execute_result"
    }
   ],
   "source": [
    "all_buildings['measuredHeight'].value_counts()"
   ]
  },
  {
   "cell_type": "code",
   "execution_count": null,
   "metadata": {},
   "outputs": [],
   "source": [
    "all_buildings[['oid','geometry_2d']].explore()"
   ]
  },
  {
   "cell_type": "markdown",
   "metadata": {},
   "source": [
    "## Street data"
   ]
  },
  {
   "cell_type": "markdown",
   "metadata": {},
   "source": [
    "Extract street network from Overture for the region with building footprints and simplify using https://github.com/uscuni/sgeop"
   ]
  },
  {
   "cell_type": "code",
   "execution_count": 18,
   "metadata": {},
   "outputs": [
    {
     "data": {
      "text/plain": [
       "(48.0922300969916, 47.90948492578161, 7.998250541041024, 7.669916729552059)"
      ]
     },
     "execution_count": 18,
     "metadata": {},
     "output_type": "execute_result"
    }
   ],
   "source": [
    "bounds[3],bounds[1],bounds[2],bounds[0]"
   ]
  },
  {
   "cell_type": "code",
   "execution_count": 19,
   "metadata": {},
   "outputs": [],
   "source": [
    "!overturemaps download --bbox=7.669916729552059,47.90948492578161,7.998250541041024,48.0922300969916 -f geoparquet --type=segment -o fbg_streets_overture.parquet"
   ]
  },
  {
   "cell_type": "code",
   "execution_count": 20,
   "metadata": {},
   "outputs": [],
   "source": [
    "streets = gpd.read_parquet('/Users/lisawink/Documents/paper1/data/raw_data/fbg_streets_overture.parquet')"
   ]
  },
  {
   "cell_type": "code",
   "execution_count": 21,
   "metadata": {},
   "outputs": [],
   "source": [
    "## service road removed\n",
    "approved_roads = ['living_street',\n",
    "                    'motorway',\n",
    "                    'motorway_link',\n",
    "                    'pedestrian',\n",
    "                    'primary',\n",
    "                    'primary_link',\n",
    "                    'residential',\n",
    "                    'secondary',\n",
    "                    'secondary_link',\n",
    "                    'tertiary',\n",
    "                    'tertiary_link',\n",
    "                    'trunk',\n",
    "                    'trunk_link',\n",
    "                    'unclassified']\n",
    "streets = streets[streets['class'].isin(approved_roads)]"
   ]
  },
  {
   "cell_type": "code",
   "execution_count": 22,
   "metadata": {},
   "outputs": [],
   "source": [
    "streets = streets.to_crs(epsg=31468)"
   ]
  },
  {
   "cell_type": "code",
   "execution_count": 23,
   "metadata": {},
   "outputs": [
    {
     "name": "stderr",
     "output_type": "stream",
     "text": [
      "/Users/lisawink/.conda/envs/py312_uscuni_buildingfootprints/lib/python3.12/site-packages/sgeop/simplify.py:377: UserWarning: Could not create a connection as it would lead outside of the artifact.\n",
      "  nx_gx_cluster(\n"
     ]
    }
   ],
   "source": [
    "streets = sgeop.simplify_network(streets)"
   ]
  },
  {
   "cell_type": "code",
   "execution_count": null,
   "metadata": {},
   "outputs": [],
   "source": [
    "streets.explore()"
   ]
  },
  {
   "cell_type": "code",
   "execution_count": 31,
   "metadata": {},
   "outputs": [],
   "source": [
    "all_buildings[\"street_index\"] = momepy.get_nearest_street(all_buildings, streets)"
   ]
  },
  {
   "cell_type": "code",
   "execution_count": 32,
   "metadata": {},
   "outputs": [],
   "source": [
    "all_buildings.columns = all_buildings.columns.astype(str)"
   ]
  },
  {
   "cell_type": "code",
   "execution_count": 27,
   "metadata": {},
   "outputs": [],
   "source": [
    "streets.to_parquet('/Users/lisawink/Documents/paper1/data/processed_data/preprocessed_streets.parquet')"
   ]
  },
  {
   "cell_type": "code",
   "execution_count": 33,
   "metadata": {},
   "outputs": [],
   "source": [
    "all_buildings.to_parquet('/Users/lisawink/Documents/paper1/data/processed_data/preprocessed_buildings.parquet')"
   ]
  },
  {
   "cell_type": "code",
   "execution_count": null,
   "metadata": {},
   "outputs": [],
   "source": []
  }
 ],
 "metadata": {
  "kernelspec": {
   "display_name": "py312_uscuni_buildingfootprints",
   "language": "python",
   "name": "python3"
  },
  "language_info": {
   "codemirror_mode": {
    "name": "ipython",
    "version": 3
   },
   "file_extension": ".py",
   "mimetype": "text/x-python",
   "name": "python",
   "nbconvert_exporter": "python",
   "pygments_lexer": "ipython3",
   "version": "3.12.2"
  }
 },
 "nbformat": 4,
 "nbformat_minor": 2
}
