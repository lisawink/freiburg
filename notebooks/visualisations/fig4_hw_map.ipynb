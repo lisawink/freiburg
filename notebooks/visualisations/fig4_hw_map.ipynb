{
 "cells": [
  {
   "cell_type": "code",
   "execution_count": 1,
   "metadata": {},
   "outputs": [],
   "source": [
    "import os\n",
    "import sys\n",
    "import geopandas as gpd\n",
    "import pandas as pd\n",
    "from scipy.stats import pearsonr, spearmanr\n",
    "from sklearn.feature_selection import mutual_info_regression\n",
    "from sklearn.model_selection import train_test_split\n",
    "from sklearn.linear_model import Lasso\n",
    "import numpy as np\n",
    "import statsmodels.api as sm\n",
    "from sklearn.preprocessing import StandardScaler\n",
    "import matplotlib.pyplot as plt\n",
    "import altair as alt\n",
    "from mpl_toolkits.mplot3d import Axes3D\n",
    "alt.data_transformers.enable(\"vegafusion\")\n",
    "import plotly.express as px\n",
    "import plotly.io as pio\n",
    "import plotly.graph_objects as go\n",
    "import warnings\n",
    "\n",
    "warnings.filterwarnings('ignore')"
   ]
  },
  {
   "cell_type": "code",
   "execution_count": 2,
   "metadata": {},
   "outputs": [],
   "source": [
    "sys.path.append(\"../../src\")\n",
    "import main"
   ]
  },
  {
   "cell_type": "code",
   "execution_count": 4,
   "metadata": {},
   "outputs": [
    {
     "name": "stdout",
     "output_type": "stream",
     "text": [
      "30\n",
      "40\n",
      "50\n",
      "60\n",
      "70\n",
      "80\n",
      "90\n",
      "100\n",
      "110\n",
      "120\n",
      "130\n",
      "140\n",
      "150\n",
      "160\n",
      "170\n",
      "180\n",
      "190\n",
      "200\n",
      "210\n",
      "220\n",
      "230\n",
      "240\n",
      "250\n",
      "260\n",
      "270\n",
      "280\n",
      "290\n",
      "300\n",
      "320\n",
      "340\n",
      "360\n",
      "380\n",
      "400\n",
      "450\n",
      "500\n"
     ]
    }
   ],
   "source": [
    "# HW ratio map\n",
    "\n",
    "radii = [30,40,50,60,70,80,90,100,110,120,130,140,150,160,170,180,190,200,210,220,230,240,250,260,270,280,290,300,320,340,360,380,400,450,500]\n",
    "\n",
    "stats = {}\n",
    "\n",
    "for radius in radii:\n",
    "    print(radius)\n",
    "    gdf = gpd.read_parquet(f'/Users/lisawink/Documents/paper1/data/processed_data/processed_station_params_{radius}.parquet')\n",
    "    stats[radius] = gdf['StrHW_median'].max()"
   ]
  },
  {
   "cell_type": "code",
   "execution_count": 5,
   "metadata": {},
   "outputs": [
    {
     "data": {
      "text/plain": [
       "{30: 0.7532907324105238,\n",
       " 40: 1.0380185920443687,\n",
       " 50: 1.21659255577615,\n",
       " 60: 1.5771890085683011,\n",
       " 70: 1.5771890085683011,\n",
       " 80: 1.598810338866798,\n",
       " 90: 1.598810338866798,\n",
       " 100: 1.4759549404445451,\n",
       " 110: 1.366435769831119,\n",
       " 120: 1.366435769831119,\n",
       " 130: 1.340049319135237,\n",
       " 140: 1.340049319135237,\n",
       " 150: 1.3071923034183528,\n",
       " 160: 1.3071923034183528,\n",
       " 170: 1.2628128684882514,\n",
       " 180: 1.2628128684882514,\n",
       " 190: 1.3071923034183528,\n",
       " 200: 1.2628128684882514,\n",
       " 210: 1.2628128684882514,\n",
       " 220: 1.2320993676042207,\n",
       " 230: 1.161734160092296,\n",
       " 240: 1.161734160092296,\n",
       " 250: 1.1019249574070678,\n",
       " 260: 1.0840288051568694,\n",
       " 270: 1.0913864405190898,\n",
       " 280: 1.0212335090800109,\n",
       " 290: 0.9886809445923814,\n",
       " 300: 0.9886809445923814,\n",
       " 320: 0.9812037255717482,\n",
       " 340: 0.9724419045727278,\n",
       " 360: 0.9396109287636494,\n",
       " 380: 0.9396109287636494,\n",
       " 400: 0.9133443584855077,\n",
       " 450: 0.9521602979040193,\n",
       " 500: 0.951159387578441}"
      ]
     },
     "execution_count": 5,
     "metadata": {},
     "output_type": "execute_result"
    }
   ],
   "source": [
    "stats"
   ]
  },
  {
   "cell_type": "code",
   "execution_count": null,
   "metadata": {},
   "outputs": [],
   "source": []
  }
 ],
 "metadata": {
  "kernelspec": {
   "display_name": "py312_uscuni_buildingfootprints",
   "language": "python",
   "name": "python3"
  },
  "language_info": {
   "codemirror_mode": {
    "name": "ipython",
    "version": 3
   },
   "file_extension": ".py",
   "mimetype": "text/x-python",
   "name": "python",
   "nbconvert_exporter": "python",
   "pygments_lexer": "ipython3",
   "version": "3.12.2"
  }
 },
 "nbformat": 4,
 "nbformat_minor": 2
}
