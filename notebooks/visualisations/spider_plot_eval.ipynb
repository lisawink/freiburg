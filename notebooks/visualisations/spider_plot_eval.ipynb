{
 "cells": [
  {
   "cell_type": "code",
   "execution_count": 37,
   "metadata": {},
   "outputs": [],
   "source": [
    "import os\n",
    "import sys\n",
    "import pandas as pd\n",
    "import geopandas as gpd\n",
    "from tqdm import tqdm\n",
    "import pandas as pd\n",
    "from tqdm import tqdm\n",
    "import numpy as np\n",
    "from scipy.stats import pearsonr, spearmanr\n",
    "from datetime import datetime\n",
    "import pandas as pd\n",
    "import plotly.graph_objects as go\n",
    "from plotly.subplots import make_subplots\n",
    "from importlib import reload\n",
    "import matplotlib.pyplot as plt\n",
    "from suncalc import get_position, get_times\n",
    "from datetime import datetime, timezone"
   ]
  },
  {
   "cell_type": "code",
   "execution_count": 4,
   "metadata": {},
   "outputs": [],
   "source": [
    "sys.path.append(\"../../src\")\n",
    "import main"
   ]
  },
  {
   "cell_type": "code",
   "execution_count": 5,
   "metadata": {},
   "outputs": [],
   "source": [
    "def calc_diurnal(hid, radius=300, season='year'):\n",
    "\n",
    "    temp =  pd.read_csv('/Users/lisawink/Documents/paper1/data/gap_filled_data_ta_rh.csv')\n",
    "    temp['datetime_UTC']=pd.to_datetime(temp['datetime_UTC'])\n",
    "    temp = temp[temp['variable']=='Ta_deg_C']\n",
    "    temp = temp[temp['datetime_UTC'].dt.date.isin(hid['datetime_UTC'].dt.date)]\n",
    "    temp['datetime_UTC'] = temp['datetime_UTC'].astype(str)\n",
    "    temp = temp.pivot(index='station_id', columns='datetime_UTC', values='value')\n",
    "\n",
    "    params = gpd.read_parquet(f'/Users/lisawink/Documents/paper1/data/processed_data/processed_station_params_{radius}.parquet')\n",
    "    params = params.set_index('station_id')\n",
    "    to_remove = ['station_no','station_name','station_long_name','station_type','station_lat','station_lon','station_elevation','mounting_structure','sky_view_factor','dominant_land_use','local_climate_zone','urban_atlas_class','urban_atlas_code','geometry','SVF_3D']\n",
    "    params = params.drop(to_remove, axis=1)\n",
    "    vars = params.columns\n",
    "\n",
    "    vars = ['BuAre_sum', 'BuVol_3D_sum', 'BuEWA_3D_sum', 'BuIBD', 'BuAdj', 'BuSWR_3D_median', 'BuHt_wmean','StrHW_median','SVF_3D_mean', 'BuERI_wmean', 'StrClo400_median']\n",
    "\n",
    "    for var in vars:\n",
    "        params_v = params[[var]]\n",
    "\n",
    "        stats_dict = {}\n",
    "\n",
    "        for time in temp.columns:\n",
    "            params_t = params_v.merge(temp[time], left_on='station_id', right_on='station_id',how='inner')\n",
    "            stats = main.calculate_statistics(params_t, time)\n",
    "            stats.index = stats['Parameter']\n",
    "            stats['Time'] = time\n",
    "            stats_dict[time] = stats\n",
    "        pd.concat(stats_dict).to_csv(f'/Users/lisawink/Documents/paper1/data/processed_data/diurnal/all_year/{season,var,radius}.csv')   "
   ]
  },
  {
   "cell_type": "code",
   "execution_count": 6,
   "metadata": {},
   "outputs": [],
   "source": [
    "def calc_diurnal(hid, radius=300, season='year'):\n",
    "\n",
    "    temp =  pd.read_csv('/Users/lisawink/Documents/paper1/data/gap_filled_data_ta_rh.csv')\n",
    "    temp['datetime_UTC']=pd.to_datetime(temp['datetime_UTC'])\n",
    "    temp = temp[temp['variable']=='Ta_deg_C']\n",
    "    temp = temp[temp['datetime_UTC'].dt.date.isin(hid['datetime_UTC'].dt.date)]\n",
    "    temp['datetime_UTC'] = temp['datetime_UTC'].astype(str)\n",
    "    temp = temp.pivot(index='station_id', columns='datetime_UTC', values='value')\n",
    "\n",
    "    params = gpd.read_parquet(f'/Users/lisawink/Documents/paper1/data/processed_data/processed_station_params_{radius}.parquet')\n",
    "    params = params.set_index('station_id')\n",
    "    to_remove = ['station_no','station_name','station_long_name','station_type','station_lat','station_lon','station_elevation','mounting_structure','sky_view_factor','dominant_land_use','local_climate_zone','urban_atlas_class','urban_atlas_code','geometry','SVF_3D']\n",
    "    params = params.drop(to_remove, axis=1)\n",
    "    vars = params.columns\n",
    "\n",
    "    vars = ['BuAre_median','BuVol_3D_median','BuEWA_3D_median','BuSWR_median','BuHt_wmean','BuHt_max','StrHW_mean','SVF_3D_mean','BuERI_mode']\n",
    "\n",
    "    for var in vars:\n",
    "        params_v = params[[var]]\n",
    "\n",
    "        stats_dict = {}\n",
    "\n",
    "        for time in temp.columns:\n",
    "            params_t = params_v.merge(temp[time], left_on='station_id', right_on='station_id',how='inner')\n",
    "            stats = main.calculate_statistics(params_t, time)\n",
    "            stats.index = stats['Parameter']\n",
    "            stats['Time'] = time\n",
    "            stats_dict[time] = stats\n",
    "        pd.concat(stats_dict).to_csv(f'/Users/lisawink/Documents/paper1/data/processed_data/diurnal/all_year/{season,var,radius}.csv')   "
   ]
  },
  {
   "cell_type": "code",
   "execution_count": 7,
   "metadata": {},
   "outputs": [
    {
     "ename": "KeyboardInterrupt",
     "evalue": "",
     "output_type": "error",
     "traceback": [
      "\u001b[0;31m---------------------------------------------------------------------------\u001b[0m",
      "\u001b[0;31mKeyboardInterrupt\u001b[0m                         Traceback (most recent call last)",
      "Cell \u001b[0;32mIn[7], line 3\u001b[0m\n\u001b[1;32m      1\u001b[0m temp \u001b[38;5;241m=\u001b[39m pd\u001b[38;5;241m.\u001b[39mread_csv(\u001b[38;5;124m'\u001b[39m\u001b[38;5;124m/Users/lisawink/Documents/paper1/data/gap_filled_data_ta_rh.csv\u001b[39m\u001b[38;5;124m'\u001b[39m)\n\u001b[1;32m      2\u001b[0m temp[\u001b[38;5;124m'\u001b[39m\u001b[38;5;124mdatetime_UTC\u001b[39m\u001b[38;5;124m'\u001b[39m]\u001b[38;5;241m=\u001b[39mpd\u001b[38;5;241m.\u001b[39mto_datetime(temp[\u001b[38;5;124m'\u001b[39m\u001b[38;5;124mdatetime_UTC\u001b[39m\u001b[38;5;124m'\u001b[39m])\n\u001b[0;32m----> 3\u001b[0m \u001b[43mcalc_diurnal\u001b[49m\u001b[43m(\u001b[49m\u001b[43mtemp\u001b[49m\u001b[43m[\u001b[49m\u001b[43m[\u001b[49m\u001b[38;5;124;43m'\u001b[39;49m\u001b[38;5;124;43mdatetime_UTC\u001b[39;49m\u001b[38;5;124;43m'\u001b[39;49m\u001b[43m]\u001b[49m\u001b[43m]\u001b[49m\u001b[43m,\u001b[49m\u001b[43m \u001b[49m\u001b[43mradius\u001b[49m\u001b[38;5;241;43m=\u001b[39;49m\u001b[38;5;241;43m200\u001b[39;49m\u001b[43m,\u001b[49m\u001b[43m \u001b[49m\u001b[43mseason\u001b[49m\u001b[38;5;241;43m=\u001b[39;49m\u001b[38;5;124;43m'\u001b[39;49m\u001b[38;5;124;43myear\u001b[39;49m\u001b[38;5;124;43m'\u001b[39;49m\u001b[43m)\u001b[49m\n",
      "Cell \u001b[0;32mIn[4], line 25\u001b[0m, in \u001b[0;36mcalc_diurnal\u001b[0;34m(hid, radius, season)\u001b[0m\n\u001b[1;32m     23\u001b[0m \u001b[38;5;28;01mfor\u001b[39;00m time \u001b[38;5;129;01min\u001b[39;00m temp\u001b[38;5;241m.\u001b[39mcolumns:\n\u001b[1;32m     24\u001b[0m     params_t \u001b[38;5;241m=\u001b[39m params_v\u001b[38;5;241m.\u001b[39mmerge(temp[time], left_on\u001b[38;5;241m=\u001b[39m\u001b[38;5;124m'\u001b[39m\u001b[38;5;124mstation_id\u001b[39m\u001b[38;5;124m'\u001b[39m, right_on\u001b[38;5;241m=\u001b[39m\u001b[38;5;124m'\u001b[39m\u001b[38;5;124mstation_id\u001b[39m\u001b[38;5;124m'\u001b[39m,how\u001b[38;5;241m=\u001b[39m\u001b[38;5;124m'\u001b[39m\u001b[38;5;124minner\u001b[39m\u001b[38;5;124m'\u001b[39m)\n\u001b[0;32m---> 25\u001b[0m     stats \u001b[38;5;241m=\u001b[39m \u001b[43mmain\u001b[49m\u001b[38;5;241;43m.\u001b[39;49m\u001b[43mcalculate_statistics\u001b[49m\u001b[43m(\u001b[49m\u001b[43mparams_t\u001b[49m\u001b[43m,\u001b[49m\u001b[43m \u001b[49m\u001b[43mtime\u001b[49m\u001b[43m)\u001b[49m\n\u001b[1;32m     26\u001b[0m     stats\u001b[38;5;241m.\u001b[39mindex \u001b[38;5;241m=\u001b[39m stats[\u001b[38;5;124m'\u001b[39m\u001b[38;5;124mParameter\u001b[39m\u001b[38;5;124m'\u001b[39m]\n\u001b[1;32m     27\u001b[0m     stats[\u001b[38;5;124m'\u001b[39m\u001b[38;5;124mTime\u001b[39m\u001b[38;5;124m'\u001b[39m] \u001b[38;5;241m=\u001b[39m time\n",
      "File \u001b[0;32m~/Documents/freiburg/notebooks/visualisations/../../src/main.py:516\u001b[0m, in \u001b[0;36mcalculate_statistics\u001b[0;34m(data, target_column, bootstrap)\u001b[0m\n\u001b[1;32m    513\u001b[0m y \u001b[38;5;241m=\u001b[39m valid_data[target_column]\n\u001b[1;32m    515\u001b[0m \u001b[38;5;66;03m# Calculate Pearson correlation\u001b[39;00m\n\u001b[0;32m--> 516\u001b[0m pearson_corr, pearson_pval \u001b[38;5;241m=\u001b[39m \u001b[43mpearsonr\u001b[49m\u001b[43m(\u001b[49m\u001b[43mx\u001b[49m\u001b[43m,\u001b[49m\u001b[43m \u001b[49m\u001b[43my\u001b[49m\u001b[43m)\u001b[49m\n\u001b[1;32m    518\u001b[0m \u001b[38;5;66;03m# Calculate Spearman's rank correlation\u001b[39;00m\n\u001b[1;32m    519\u001b[0m spearman_corr, spearman_pval \u001b[38;5;241m=\u001b[39m spearmanr(x, y)\n",
      "File \u001b[0;32m~/.conda/envs/py312_uscuni_buildingfootprints/lib/python3.12/site-packages/scipy/stats/_stats_py.py:4817\u001b[0m, in \u001b[0;36mpearsonr\u001b[0;34m(x, y, alternative, method)\u001b[0m\n\u001b[1;32m   4814\u001b[0m \u001b[38;5;66;03m# As explained in the docstring, the distribution of `r` under the null\u001b[39;00m\n\u001b[1;32m   4815\u001b[0m \u001b[38;5;66;03m# hypothesis is the beta distribution on (-1, 1) with a = b = n/2 - 1.\u001b[39;00m\n\u001b[1;32m   4816\u001b[0m ab \u001b[38;5;241m=\u001b[39m n\u001b[38;5;241m/\u001b[39m\u001b[38;5;241m2\u001b[39m \u001b[38;5;241m-\u001b[39m \u001b[38;5;241m1\u001b[39m\n\u001b[0;32m-> 4817\u001b[0m dist \u001b[38;5;241m=\u001b[39m \u001b[43mstats\u001b[49m\u001b[38;5;241;43m.\u001b[39;49m\u001b[43mbeta\u001b[49m\u001b[43m(\u001b[49m\u001b[43mab\u001b[49m\u001b[43m,\u001b[49m\u001b[43m \u001b[49m\u001b[43mab\u001b[49m\u001b[43m,\u001b[49m\u001b[43m \u001b[49m\u001b[43mloc\u001b[49m\u001b[38;5;241;43m=\u001b[39;49m\u001b[38;5;241;43m-\u001b[39;49m\u001b[38;5;241;43m1\u001b[39;49m\u001b[43m,\u001b[49m\u001b[43m \u001b[49m\u001b[43mscale\u001b[49m\u001b[38;5;241;43m=\u001b[39;49m\u001b[38;5;241;43m2\u001b[39;49m\u001b[43m)\u001b[49m\n\u001b[1;32m   4818\u001b[0m \u001b[38;5;28;01mif\u001b[39;00m alternative \u001b[38;5;241m==\u001b[39m \u001b[38;5;124m'\u001b[39m\u001b[38;5;124mtwo-sided\u001b[39m\u001b[38;5;124m'\u001b[39m:\n\u001b[1;32m   4819\u001b[0m     prob \u001b[38;5;241m=\u001b[39m \u001b[38;5;241m2\u001b[39m\u001b[38;5;241m*\u001b[39mdist\u001b[38;5;241m.\u001b[39msf(\u001b[38;5;28mabs\u001b[39m(r))\n",
      "File \u001b[0;32m~/.conda/envs/py312_uscuni_buildingfootprints/lib/python3.12/site-packages/scipy/stats/_distn_infrastructure.py:851\u001b[0m, in \u001b[0;36mrv_generic.__call__\u001b[0;34m(self, *args, **kwds)\u001b[0m\n\u001b[1;32m    850\u001b[0m \u001b[38;5;28;01mdef\u001b[39;00m \u001b[38;5;21m__call__\u001b[39m(\u001b[38;5;28mself\u001b[39m, \u001b[38;5;241m*\u001b[39margs, \u001b[38;5;241m*\u001b[39m\u001b[38;5;241m*\u001b[39mkwds):\n\u001b[0;32m--> 851\u001b[0m     \u001b[38;5;28;01mreturn\u001b[39;00m \u001b[38;5;28;43mself\u001b[39;49m\u001b[38;5;241;43m.\u001b[39;49m\u001b[43mfreeze\u001b[49m\u001b[43m(\u001b[49m\u001b[38;5;241;43m*\u001b[39;49m\u001b[43margs\u001b[49m\u001b[43m,\u001b[49m\u001b[43m \u001b[49m\u001b[38;5;241;43m*\u001b[39;49m\u001b[38;5;241;43m*\u001b[39;49m\u001b[43mkwds\u001b[49m\u001b[43m)\u001b[49m\n",
      "File \u001b[0;32m~/.conda/envs/py312_uscuni_buildingfootprints/lib/python3.12/site-packages/scipy/stats/_distn_infrastructure.py:846\u001b[0m, in \u001b[0;36mrv_generic.freeze\u001b[0;34m(self, *args, **kwds)\u001b[0m\n\u001b[1;32m    831\u001b[0m \u001b[38;5;250m\u001b[39m\u001b[38;5;124;03m\"\"\"Freeze the distribution for the given arguments.\u001b[39;00m\n\u001b[1;32m    832\u001b[0m \n\u001b[1;32m    833\u001b[0m \u001b[38;5;124;03mParameters\u001b[39;00m\n\u001b[0;32m   (...)\u001b[0m\n\u001b[1;32m    843\u001b[0m \n\u001b[1;32m    844\u001b[0m \u001b[38;5;124;03m\"\"\"\u001b[39;00m\n\u001b[1;32m    845\u001b[0m \u001b[38;5;28;01mif\u001b[39;00m \u001b[38;5;28misinstance\u001b[39m(\u001b[38;5;28mself\u001b[39m, rv_continuous):\n\u001b[0;32m--> 846\u001b[0m     \u001b[38;5;28;01mreturn\u001b[39;00m \u001b[43mrv_continuous_frozen\u001b[49m\u001b[43m(\u001b[49m\u001b[38;5;28;43mself\u001b[39;49m\u001b[43m,\u001b[49m\u001b[43m \u001b[49m\u001b[38;5;241;43m*\u001b[39;49m\u001b[43margs\u001b[49m\u001b[43m,\u001b[49m\u001b[43m \u001b[49m\u001b[38;5;241;43m*\u001b[39;49m\u001b[38;5;241;43m*\u001b[39;49m\u001b[43mkwds\u001b[49m\u001b[43m)\u001b[49m\n\u001b[1;32m    847\u001b[0m \u001b[38;5;28;01melse\u001b[39;00m:\n\u001b[1;32m    848\u001b[0m     \u001b[38;5;28;01mreturn\u001b[39;00m rv_discrete_frozen(\u001b[38;5;28mself\u001b[39m, \u001b[38;5;241m*\u001b[39margs, \u001b[38;5;241m*\u001b[39m\u001b[38;5;241m*\u001b[39mkwds)\n",
      "File \u001b[0;32m~/.conda/envs/py312_uscuni_buildingfootprints/lib/python3.12/site-packages/scipy/stats/_distn_infrastructure.py:465\u001b[0m, in \u001b[0;36mrv_frozen.__init__\u001b[0;34m(self, dist, *args, **kwds)\u001b[0m\n\u001b[1;32m    462\u001b[0m \u001b[38;5;28mself\u001b[39m\u001b[38;5;241m.\u001b[39mkwds \u001b[38;5;241m=\u001b[39m kwds\n\u001b[1;32m    464\u001b[0m \u001b[38;5;66;03m# create a new instance\u001b[39;00m\n\u001b[0;32m--> 465\u001b[0m \u001b[38;5;28mself\u001b[39m\u001b[38;5;241m.\u001b[39mdist \u001b[38;5;241m=\u001b[39m \u001b[43mdist\u001b[49m\u001b[38;5;241;43m.\u001b[39;49m\u001b[38;5;18;43m__class__\u001b[39;49m\u001b[43m(\u001b[49m\u001b[38;5;241;43m*\u001b[39;49m\u001b[38;5;241;43m*\u001b[39;49m\u001b[43mdist\u001b[49m\u001b[38;5;241;43m.\u001b[39;49m\u001b[43m_updated_ctor_param\u001b[49m\u001b[43m(\u001b[49m\u001b[43m)\u001b[49m\u001b[43m)\u001b[49m\n\u001b[1;32m    467\u001b[0m shapes, _, _ \u001b[38;5;241m=\u001b[39m \u001b[38;5;28mself\u001b[39m\u001b[38;5;241m.\u001b[39mdist\u001b[38;5;241m.\u001b[39m_parse_args(\u001b[38;5;241m*\u001b[39margs, \u001b[38;5;241m*\u001b[39m\u001b[38;5;241m*\u001b[39mkwds)\n\u001b[1;32m    468\u001b[0m \u001b[38;5;28mself\u001b[39m\u001b[38;5;241m.\u001b[39ma, \u001b[38;5;28mself\u001b[39m\u001b[38;5;241m.\u001b[39mb \u001b[38;5;241m=\u001b[39m \u001b[38;5;28mself\u001b[39m\u001b[38;5;241m.\u001b[39mdist\u001b[38;5;241m.\u001b[39m_get_support(\u001b[38;5;241m*\u001b[39mshapes)\n",
      "File \u001b[0;32m~/.conda/envs/py312_uscuni_buildingfootprints/lib/python3.12/site-packages/scipy/stats/_distn_infrastructure.py:1828\u001b[0m, in \u001b[0;36mrv_continuous.__init__\u001b[0;34m(self, momtype, a, b, xtol, badvalue, name, longname, shapes, seed)\u001b[0m\n\u001b[1;32m   1825\u001b[0m \u001b[38;5;28mself\u001b[39m\u001b[38;5;241m.\u001b[39mmoment_type \u001b[38;5;241m=\u001b[39m momtype\n\u001b[1;32m   1826\u001b[0m \u001b[38;5;28mself\u001b[39m\u001b[38;5;241m.\u001b[39mshapes \u001b[38;5;241m=\u001b[39m shapes\n\u001b[0;32m-> 1828\u001b[0m \u001b[38;5;28;43mself\u001b[39;49m\u001b[38;5;241;43m.\u001b[39;49m\u001b[43m_construct_argparser\u001b[49m\u001b[43m(\u001b[49m\u001b[43mmeths_to_inspect\u001b[49m\u001b[38;5;241;43m=\u001b[39;49m\u001b[43m[\u001b[49m\u001b[38;5;28;43mself\u001b[39;49m\u001b[38;5;241;43m.\u001b[39;49m\u001b[43m_pdf\u001b[49m\u001b[43m,\u001b[49m\u001b[43m \u001b[49m\u001b[38;5;28;43mself\u001b[39;49m\u001b[38;5;241;43m.\u001b[39;49m\u001b[43m_cdf\u001b[49m\u001b[43m]\u001b[49m\u001b[43m,\u001b[49m\n\u001b[1;32m   1829\u001b[0m \u001b[43m                          \u001b[49m\u001b[43mlocscale_in\u001b[49m\u001b[38;5;241;43m=\u001b[39;49m\u001b[38;5;124;43m'\u001b[39;49m\u001b[38;5;124;43mloc=0, scale=1\u001b[39;49m\u001b[38;5;124;43m'\u001b[39;49m\u001b[43m,\u001b[49m\n\u001b[1;32m   1830\u001b[0m \u001b[43m                          \u001b[49m\u001b[43mlocscale_out\u001b[49m\u001b[38;5;241;43m=\u001b[39;49m\u001b[38;5;124;43m'\u001b[39;49m\u001b[38;5;124;43mloc, scale\u001b[39;49m\u001b[38;5;124;43m'\u001b[39;49m\u001b[43m)\u001b[49m\n\u001b[1;32m   1831\u001b[0m \u001b[38;5;28mself\u001b[39m\u001b[38;5;241m.\u001b[39m_attach_methods()\n\u001b[1;32m   1833\u001b[0m \u001b[38;5;28;01mif\u001b[39;00m longname \u001b[38;5;129;01mis\u001b[39;00m \u001b[38;5;28;01mNone\u001b[39;00m:\n",
      "File \u001b[0;32m~/.conda/envs/py312_uscuni_buildingfootprints/lib/python3.12/site-packages/scipy/stats/_distn_infrastructure.py:724\u001b[0m, in \u001b[0;36mrv_generic._construct_argparser\u001b[0;34m(self, meths_to_inspect, locscale_in, locscale_out)\u001b[0m\n\u001b[1;32m    721\u001b[0m \u001b[38;5;28;01mif\u001b[39;00m \u001b[38;5;129;01mnot\u001b[39;00m \u001b[38;5;28misinstance\u001b[39m(\u001b[38;5;28mself\u001b[39m\u001b[38;5;241m.\u001b[39mshapes, \u001b[38;5;28mstr\u001b[39m):\n\u001b[1;32m    722\u001b[0m     \u001b[38;5;28;01mraise\u001b[39;00m \u001b[38;5;167;01mTypeError\u001b[39;00m(\u001b[38;5;124m'\u001b[39m\u001b[38;5;124mshapes must be a string.\u001b[39m\u001b[38;5;124m'\u001b[39m)\n\u001b[0;32m--> 724\u001b[0m shapes \u001b[38;5;241m=\u001b[39m \u001b[38;5;28;43mself\u001b[39;49m\u001b[38;5;241;43m.\u001b[39;49m\u001b[43mshapes\u001b[49m\u001b[38;5;241;43m.\u001b[39;49m\u001b[43mreplace\u001b[49m\u001b[43m(\u001b[49m\u001b[38;5;124;43m'\u001b[39;49m\u001b[38;5;124;43m,\u001b[39;49m\u001b[38;5;124;43m'\u001b[39;49m\u001b[43m,\u001b[49m\u001b[43m \u001b[49m\u001b[38;5;124;43m'\u001b[39;49m\u001b[38;5;124;43m \u001b[39;49m\u001b[38;5;124;43m'\u001b[39;49m\u001b[43m)\u001b[49m\u001b[38;5;241;43m.\u001b[39;49m\u001b[43msplit\u001b[49m\u001b[43m(\u001b[49m\u001b[43m)\u001b[49m\n\u001b[1;32m    726\u001b[0m \u001b[38;5;28;01mfor\u001b[39;00m field \u001b[38;5;129;01min\u001b[39;00m shapes:\n\u001b[1;32m    727\u001b[0m     \u001b[38;5;28;01mif\u001b[39;00m keyword\u001b[38;5;241m.\u001b[39miskeyword(field):\n",
      "\u001b[0;31mKeyboardInterrupt\u001b[0m: "
     ]
    }
   ],
   "source": [
    "temp = pd.read_csv('/Users/lisawink/Documents/paper1/data/gap_filled_data_ta_rh.csv')\n",
    "temp['datetime_UTC']=pd.to_datetime(temp['datetime_UTC'])\n",
    "calc_diurnal(temp[['datetime_UTC']], radius=200, season='year')"
   ]
  },
  {
   "cell_type": "markdown",
   "metadata": {},
   "source": [
    "### BuAre_sum"
   ]
  },
  {
   "cell_type": "code",
   "execution_count": 41,
   "metadata": {},
   "outputs": [],
   "source": [
    "var = 'BuAre_sum'\n",
    "year = 'year'\n",
    "radius = 300"
   ]
  },
  {
   "cell_type": "code",
   "execution_count": 42,
   "metadata": {},
   "outputs": [],
   "source": [
    "stats_dict = pd.read_csv(f'/Users/lisawink/Documents/paper1/data/processed_data/altitude_out/2024/{year,var,radius}.csv') "
   ]
  },
  {
   "cell_type": "code",
   "execution_count": 44,
   "metadata": {},
   "outputs": [],
   "source": [
    "stats_dict = stats_dict.drop(columns=['Unnamed: 0','Parameter.1'])"
   ]
  },
  {
   "cell_type": "code",
   "execution_count": 50,
   "metadata": {},
   "outputs": [],
   "source": [
    "\n",
    "lon = 7.85222\n",
    "lat = 47.9959\n",
    "\n",
    "times = {}\n",
    "\n",
    "stats_dict['Time'] = pd.to_datetime(stats_dict['Time'])\n",
    "\n",
    "for i in stats_dict['Time'].unique():\n",
    "\n",
    "    times[i] = get_times(i, lon, lat)\n",
    "\n",
    "stats_dict['sunrise'] = stats_dict['Time'].apply(\n",
    "    lambda x: times[x]['sunrise'].replace(tzinfo=timezone.utc))\n",
    "stats_dict['sunset'] = stats_dict['Time'].apply(\n",
    "    lambda x: times[x]['sunset'].replace(tzinfo=timezone.utc))\n",
    "\n",
    "stats_dict['time_of_day'] = np.where(\n",
    "    stats_dict['Time'] < stats_dict['sunrise'], 'night',\n",
    "    np.where(stats_dict['Time'] > stats_dict['sunset'], 'night', 'day')"
   ]
  },
  {
   "cell_type": "code",
   "execution_count": 53,
   "metadata": {},
   "outputs": [],
   "source": [
    "stats_dict['time_of_day'] = np.where(\n",
    "    stats_dict['Time'] < stats_dict['sunrise'], 'night',\n",
    "    np.where(stats_dict['Time'] > stats_dict['sunset'], 'night', 'day')\n",
    ")"
   ]
  },
  {
   "cell_type": "code",
   "execution_count": 67,
   "metadata": {},
   "outputs": [],
   "source": [
    "vars_to_plot = ['BuAre_sum', 'BuVol_3D_sum', 'BuEWA_3D_sum', 'BuIBD', 'BuAdj', 'BuSWR_3D_median', 'BuHt_wmean','StrHW_median','SVF_3D_mean', 'BuERI_mode', 'StrClo400_median']"
   ]
  },
  {
   "cell_type": "code",
   "execution_count": 22,
   "metadata": {},
   "outputs": [],
   "source": [
    "import numpy as np\n",
    "from scipy.stats import spearmanr\n",
    "from statsmodels.stats.multitest import multipletests\n",
    "\n",
    "# Example: suppose you have data for many time steps\n",
    "# X[t], Y[t] contain the values at time t\n",
    "# You'll compute correlations per hour\n",
    "\n",
    "p_values = stats_dict_n['Spearman p-value'].values\n",
    "\n",
    "# Run FDR correction (Benjamini-Hochberg, common default)\n",
    "reject, pvals_corrected, _, _ = multipletests(p_values, alpha=0.05, method='fdr_bh')\n"
   ]
  },
  {
   "cell_type": "code",
   "execution_count": 57,
   "metadata": {},
   "outputs": [
    {
     "data": {
      "text/plain": [
       "array([1.02275382e-05, 3.35516914e-06, 2.35532962e-06, ...,\n",
       "       1.81767784e-05, 9.89491938e-06, 3.35678158e-05])"
      ]
     },
     "execution_count": 57,
     "metadata": {},
     "output_type": "execute_result"
    }
   ],
   "source": [
    "pvals_corrected"
   ]
  },
  {
   "cell_type": "code",
   "execution_count": 36,
   "metadata": {},
   "outputs": [
    {
     "data": {
      "text/plain": [
       "0.02940441296575158"
      ]
     },
     "execution_count": 36,
     "metadata": {},
     "output_type": "execute_result"
    }
   ],
   "source": [
    "pvals_corrected.mean()"
   ]
  },
  {
   "cell_type": "code",
   "execution_count": 29,
   "metadata": {},
   "outputs": [
    {
     "data": {
      "text/plain": [
       "array([ True,  True,  True, ...,  True,  True,  True])"
      ]
     },
     "execution_count": 29,
     "metadata": {},
     "output_type": "execute_result"
    }
   ],
   "source": [
    "p_values < pvals_corrected"
   ]
  },
  {
   "cell_type": "code",
   "execution_count": 59,
   "metadata": {},
   "outputs": [
    {
     "data": {
      "text/plain": [
       "1987"
      ]
     },
     "execution_count": 59,
     "metadata": {},
     "output_type": "execute_result"
    }
   ],
   "source": [
    "sum(p_values < 0.05)"
   ]
  },
  {
   "cell_type": "code",
   "execution_count": 31,
   "metadata": {},
   "outputs": [
    {
     "data": {
      "text/plain": [
       "2193"
      ]
     },
     "execution_count": 31,
     "metadata": {},
     "output_type": "execute_result"
    }
   ],
   "source": [
    "len(p_values)"
   ]
  },
  {
   "cell_type": "code",
   "execution_count": 30,
   "metadata": {},
   "outputs": [
    {
     "data": {
      "text/plain": [
       "2192"
      ]
     },
     "execution_count": 30,
     "metadata": {},
     "output_type": "execute_result"
    }
   ],
   "source": [
    "# count how many are true p_values < pvals_corrected\n",
    "sum(p_values < pvals_corrected)\n"
   ]
  },
  {
   "cell_type": "code",
   "execution_count": 58,
   "metadata": {},
   "outputs": [
    {
     "data": {
      "text/plain": [
       "1975"
      ]
     },
     "execution_count": 58,
     "metadata": {},
     "output_type": "execute_result"
    }
   ],
   "source": [
    "# check how many are significant after correction\n",
    "len(pvals_corrected[pvals_corrected < 0.05])\n"
   ]
  },
  {
   "cell_type": "code",
   "execution_count": 44,
   "metadata": {},
   "outputs": [
    {
     "name": "stdout",
     "output_type": "stream",
     "text": [
      "Spearman corr > 0.6 BuAre_sum 0.3589597353712787\n",
      "Spearman corr > 0.7 BuAre_sum 0.18877609216379607\n",
      "Spearman p-val < 0.05 BuAre_sum 0.5585719174175887\n",
      "Spearman corr > 0.6 BuVol_3D_sum 0.3575909661229611\n",
      "Spearman corr > 0.7 BuVol_3D_sum 0.2030341051671039\n",
      "Spearman p-val < 0.05 BuVol_3D_sum 0.5366716094445079\n",
      "Spearman corr > 0.6 BuEWA_3D_sum 0.3183529143378579\n",
      "Spearman corr > 0.7 BuEWA_3D_sum 0.17839625869738793\n",
      "Spearman p-val < 0.05 BuEWA_3D_sum 0.5008554807801985\n",
      "Spearman corr > 0.6 BuIBD 0.14143948899281397\n",
      "Spearman corr > 0.7 BuIBD 0.03216607733546253\n",
      "Spearman p-val < 0.05 BuIBD 0.33443595300558915\n",
      "Spearman corr > 0.6 BuAdj 0.27751796509638416\n",
      "Spearman corr > 0.7 BuAdj 0.14337857876126384\n",
      "Spearman p-val < 0.05 BuAdj 0.4685753393407095\n",
      "Spearman corr > 0.6 BuSWR_3D_median 0.17246492528801186\n",
      "Spearman corr > 0.7 BuSWR_3D_median 0.05383825710049048\n",
      "Spearman p-val < 0.05 BuSWR_3D_median 0.3842819664651534\n",
      "Spearman corr > 0.6 BuHt_wmean 0.27443823428766967\n",
      "Spearman corr > 0.7 BuHt_wmean 0.15261777118740733\n",
      "Spearman p-val < 0.05 BuHt_wmean 0.46617999315615377\n",
      "Spearman corr > 0.6 StrHW_median 0.29439945249230065\n",
      "Spearman corr > 0.7 StrHW_median 0.17006957910345613\n",
      "Spearman p-val < 0.05 StrHW_median 0.4369795825253793\n",
      "Spearman corr > 0.6 SVF_3D_mean 0.25139728527432414\n",
      "Spearman corr > 0.7 SVF_3D_mean 0.1133797194023041\n",
      "Spearman p-val < 0.05 SVF_3D_mean 0.4495266339682902\n",
      "Spearman corr > 0.6 StrClo400_median 0.005132884681190829\n",
      "Spearman corr > 0.7 StrClo400_median 0.00011406410402646287\n",
      "Spearman p-val < 0.05 StrClo400_median 0.08897000114064103\n"
     ]
    }
   ],
   "source": [
    "for i in vars_to_plot:\n",
    "    stats_dict = pd.read_csv(f'/Users/lisawink/Documents/paper1/data/processed_data/diurnal/all_year/{year,i,radius}.csv') \n",
    "    print('Spearman corr > 0.6',i,len(stats_dict[(stats_dict['Spearman Correlation'] > 0.6) | (stats_dict['Spearman Correlation'] < -0.6)]) / len(stats_dict))\n",
    "    print('Spearman corr > 0.7',i,len(stats_dict[(stats_dict['Spearman Correlation'] > 0.7) | (stats_dict['Spearman Correlation'] < -0.7)]) / len(stats_dict))\n",
    "    print('Spearman p-val < 0.05',i,len(stats_dict[(stats_dict['Spearman p-value'] < 0.005)]) / len(stats_dict))"
   ]
  },
  {
   "cell_type": "code",
   "execution_count": 16,
   "metadata": {},
   "outputs": [],
   "source": [
    "stats_dict['Time']=pd.to_datetime(stats_dict['Time'])"
   ]
  },
  {
   "cell_type": "code",
   "execution_count": 48,
   "metadata": {},
   "outputs": [],
   "source": [
    "# nighttime hours"
   ]
  },
  {
   "cell_type": "code",
   "execution_count": 18,
   "metadata": {},
   "outputs": [],
   "source": [
    "stats_dict_n = stats_dict[stats_dict['Time'].dt.hour.isin([0,1,2,21,22,23])]"
   ]
  },
  {
   "cell_type": "code",
   "execution_count": 19,
   "metadata": {},
   "outputs": [],
   "source": [
    "stats_dict_d = stats_dict[stats_dict['Time'].dt.hour.isin([10,11,12,13,14,15])]"
   ]
  },
  {
   "cell_type": "code",
   "execution_count": 21,
   "metadata": {},
   "outputs": [
    {
     "data": {
      "text/plain": [
       "0       2.324524e-06\n",
       "1       5.025658e-07\n",
       "2       2.899859e-07\n",
       "21      7.959106e-03\n",
       "22      7.492167e-03\n",
       "            ...     \n",
       "8758    3.541716e-02\n",
       "8759    7.904454e-03\n",
       "8760    4.889967e-06\n",
       "8761    2.219927e-06\n",
       "8762    1.063823e-05\n",
       "Name: Spearman p-value, Length: 2193, dtype: float64"
      ]
     },
     "execution_count": 21,
     "metadata": {},
     "output_type": "execute_result"
    }
   ],
   "source": [
    "stats_dict_n['Spearman p-value']"
   ]
  },
  {
   "cell_type": "code",
   "execution_count": 43,
   "metadata": {},
   "outputs": [],
   "source": [
    "#Night"
   ]
  },
  {
   "cell_type": "code",
   "execution_count": 57,
   "metadata": {},
   "outputs": [
    {
     "data": {
      "text/html": [
       "<div>\n",
       "<style scoped>\n",
       "    .dataframe tbody tr th:only-of-type {\n",
       "        vertical-align: middle;\n",
       "    }\n",
       "\n",
       "    .dataframe tbody tr th {\n",
       "        vertical-align: top;\n",
       "    }\n",
       "\n",
       "    .dataframe thead th {\n",
       "        text-align: right;\n",
       "    }\n",
       "</style>\n",
       "<table border=\"1\" class=\"dataframe\">\n",
       "  <thead>\n",
       "    <tr style=\"text-align: right;\">\n",
       "      <th></th>\n",
       "      <th>Unnamed: 0</th>\n",
       "      <th>Parameter</th>\n",
       "      <th>Parameter.1</th>\n",
       "      <th>Pearson Correlation</th>\n",
       "      <th>Pearson p-value</th>\n",
       "      <th>Spearman Correlation</th>\n",
       "      <th>Spearman p-value</th>\n",
       "      <th>Mutual Information</th>\n",
       "      <th>Time</th>\n",
       "    </tr>\n",
       "  </thead>\n",
       "  <tbody>\n",
       "    <tr>\n",
       "      <th>0</th>\n",
       "      <td>2022-09-01 00:00:00+00:00</td>\n",
       "      <td>BuAre_sum</td>\n",
       "      <td>BuAre_sum</td>\n",
       "      <td>0.747157</td>\n",
       "      <td>7.112184e-08</td>\n",
       "      <td>0.755485</td>\n",
       "      <td>4.197272e-08</td>\n",
       "      <td>0.331665</td>\n",
       "      <td>2022-09-01 00:00:00+00:00</td>\n",
       "    </tr>\n",
       "    <tr>\n",
       "      <th>1</th>\n",
       "      <td>2022-09-01 01:00:00+00:00</td>\n",
       "      <td>BuAre_sum</td>\n",
       "      <td>BuAre_sum</td>\n",
       "      <td>0.808415</td>\n",
       "      <td>8.339340e-10</td>\n",
       "      <td>0.796454</td>\n",
       "      <td>2.231764e-09</td>\n",
       "      <td>0.286936</td>\n",
       "      <td>2022-09-01 01:00:00+00:00</td>\n",
       "    </tr>\n",
       "    <tr>\n",
       "      <th>2</th>\n",
       "      <td>2022-09-01 02:00:00+00:00</td>\n",
       "      <td>BuAre_sum</td>\n",
       "      <td>BuAre_sum</td>\n",
       "      <td>0.802746</td>\n",
       "      <td>1.340863e-09</td>\n",
       "      <td>0.812934</td>\n",
       "      <td>5.646784e-10</td>\n",
       "      <td>0.355844</td>\n",
       "      <td>2022-09-01 02:00:00+00:00</td>\n",
       "    </tr>\n",
       "    <tr>\n",
       "      <th>21</th>\n",
       "      <td>2022-09-01 21:00:00+00:00</td>\n",
       "      <td>BuAre_sum</td>\n",
       "      <td>BuAre_sum</td>\n",
       "      <td>0.593337</td>\n",
       "      <td>8.633700e-05</td>\n",
       "      <td>0.602429</td>\n",
       "      <td>6.282164e-05</td>\n",
       "      <td>0.243900</td>\n",
       "      <td>2022-09-01 21:00:00+00:00</td>\n",
       "    </tr>\n",
       "    <tr>\n",
       "      <th>24</th>\n",
       "      <td>2022-09-02 00:00:00+00:00</td>\n",
       "      <td>BuAre_sum</td>\n",
       "      <td>BuAre_sum</td>\n",
       "      <td>0.562458</td>\n",
       "      <td>2.374463e-04</td>\n",
       "      <td>0.605056</td>\n",
       "      <td>5.720527e-05</td>\n",
       "      <td>0.213615</td>\n",
       "      <td>2022-09-02 00:00:00+00:00</td>\n",
       "    </tr>\n",
       "    <tr>\n",
       "      <th>...</th>\n",
       "      <td>...</td>\n",
       "      <td>...</td>\n",
       "      <td>...</td>\n",
       "      <td>...</td>\n",
       "      <td>...</td>\n",
       "      <td>...</td>\n",
       "      <td>...</td>\n",
       "      <td>...</td>\n",
       "      <td>...</td>\n",
       "    </tr>\n",
       "    <tr>\n",
       "      <th>8737</th>\n",
       "      <td>2023-08-31 01:00:00+00:00</td>\n",
       "      <td>BuAre_sum</td>\n",
       "      <td>BuAre_sum</td>\n",
       "      <td>0.619118</td>\n",
       "      <td>3.415143e-05</td>\n",
       "      <td>0.637120</td>\n",
       "      <td>1.699488e-05</td>\n",
       "      <td>0.125482</td>\n",
       "      <td>2023-08-31 01:00:00+00:00</td>\n",
       "    </tr>\n",
       "    <tr>\n",
       "      <th>8757</th>\n",
       "      <td>2023-08-31 21:00:00+00:00</td>\n",
       "      <td>BuAre_sum</td>\n",
       "      <td>BuAre_sum</td>\n",
       "      <td>0.544005</td>\n",
       "      <td>4.150709e-04</td>\n",
       "      <td>0.674661</td>\n",
       "      <td>3.401271e-06</td>\n",
       "      <td>0.161121</td>\n",
       "      <td>2023-08-31 21:00:00+00:00</td>\n",
       "    </tr>\n",
       "    <tr>\n",
       "      <th>8760</th>\n",
       "      <td>2023-09-01 00:00:00+00:00</td>\n",
       "      <td>BuAre_sum</td>\n",
       "      <td>BuAre_sum</td>\n",
       "      <td>0.635418</td>\n",
       "      <td>1.818814e-05</td>\n",
       "      <td>0.747483</td>\n",
       "      <td>6.969922e-08</td>\n",
       "      <td>0.428086</td>\n",
       "      <td>2023-09-01 00:00:00+00:00</td>\n",
       "    </tr>\n",
       "    <tr>\n",
       "      <th>8761</th>\n",
       "      <td>2023-09-01 01:00:00+00:00</td>\n",
       "      <td>BuAre_sum</td>\n",
       "      <td>BuAre_sum</td>\n",
       "      <td>0.674023</td>\n",
       "      <td>3.502211e-06</td>\n",
       "      <td>0.746290</td>\n",
       "      <td>7.504980e-08</td>\n",
       "      <td>0.405092</td>\n",
       "      <td>2023-09-01 01:00:00+00:00</td>\n",
       "    </tr>\n",
       "    <tr>\n",
       "      <th>8762</th>\n",
       "      <td>2023-09-01 02:00:00+00:00</td>\n",
       "      <td>BuAre_sum</td>\n",
       "      <td>BuAre_sum</td>\n",
       "      <td>0.668341</td>\n",
       "      <td>4.530506e-06</td>\n",
       "      <td>0.722913</td>\n",
       "      <td>2.962214e-07</td>\n",
       "      <td>0.379853</td>\n",
       "      <td>2023-09-01 02:00:00+00:00</td>\n",
       "    </tr>\n",
       "  </tbody>\n",
       "</table>\n",
       "<p>1321 rows × 9 columns</p>\n",
       "</div>"
      ],
      "text/plain": [
       "                     Unnamed: 0  Parameter Parameter.1  Pearson Correlation  \\\n",
       "0     2022-09-01 00:00:00+00:00  BuAre_sum   BuAre_sum             0.747157   \n",
       "1     2022-09-01 01:00:00+00:00  BuAre_sum   BuAre_sum             0.808415   \n",
       "2     2022-09-01 02:00:00+00:00  BuAre_sum   BuAre_sum             0.802746   \n",
       "21    2022-09-01 21:00:00+00:00  BuAre_sum   BuAre_sum             0.593337   \n",
       "24    2022-09-02 00:00:00+00:00  BuAre_sum   BuAre_sum             0.562458   \n",
       "...                         ...        ...         ...                  ...   \n",
       "8737  2023-08-31 01:00:00+00:00  BuAre_sum   BuAre_sum             0.619118   \n",
       "8757  2023-08-31 21:00:00+00:00  BuAre_sum   BuAre_sum             0.544005   \n",
       "8760  2023-09-01 00:00:00+00:00  BuAre_sum   BuAre_sum             0.635418   \n",
       "8761  2023-09-01 01:00:00+00:00  BuAre_sum   BuAre_sum             0.674023   \n",
       "8762  2023-09-01 02:00:00+00:00  BuAre_sum   BuAre_sum             0.668341   \n",
       "\n",
       "      Pearson p-value  Spearman Correlation  Spearman p-value  \\\n",
       "0        7.112184e-08              0.755485      4.197272e-08   \n",
       "1        8.339340e-10              0.796454      2.231764e-09   \n",
       "2        1.340863e-09              0.812934      5.646784e-10   \n",
       "21       8.633700e-05              0.602429      6.282164e-05   \n",
       "24       2.374463e-04              0.605056      5.720527e-05   \n",
       "...               ...                   ...               ...   \n",
       "8737     3.415143e-05              0.637120      1.699488e-05   \n",
       "8757     4.150709e-04              0.674661      3.401271e-06   \n",
       "8760     1.818814e-05              0.747483      6.969922e-08   \n",
       "8761     3.502211e-06              0.746290      7.504980e-08   \n",
       "8762     4.530506e-06              0.722913      2.962214e-07   \n",
       "\n",
       "      Mutual Information                      Time  \n",
       "0               0.331665 2022-09-01 00:00:00+00:00  \n",
       "1               0.286936 2022-09-01 01:00:00+00:00  \n",
       "2               0.355844 2022-09-01 02:00:00+00:00  \n",
       "21              0.243900 2022-09-01 21:00:00+00:00  \n",
       "24              0.213615 2022-09-02 00:00:00+00:00  \n",
       "...                  ...                       ...  \n",
       "8737            0.125482 2023-08-31 01:00:00+00:00  \n",
       "8757            0.161121 2023-08-31 21:00:00+00:00  \n",
       "8760            0.428086 2023-09-01 00:00:00+00:00  \n",
       "8761            0.405092 2023-09-01 01:00:00+00:00  \n",
       "8762            0.379853 2023-09-01 02:00:00+00:00  \n",
       "\n",
       "[1321 rows x 9 columns]"
      ]
     },
     "execution_count": 57,
     "metadata": {},
     "output_type": "execute_result"
    }
   ],
   "source": [
    "stats_dict[(((stats_dict['Spearman Correlation'] > 0.6) | (stats_dict['Spearman Correlation'] < -0.6))) & (stats_dict['Spearman p-value'] < 0.005)]"
   ]
  },
  {
   "cell_type": "code",
   "execution_count": null,
   "metadata": {},
   "outputs": [],
   "source": [
    "vars = ['BuAre_sum', 'BuVol_3D_sum', 'BuEWA_3D_sum', 'BuIBD', 'BuAdj', 'BuSWR_3D_median', 'BuHt_wmean','StrHW_median','SVF_3D_mean', 'BuERI_mode', 'StrClo400_median','BuAre_median','BuVol_3D_median','BuEWA_3D_median','BuSWR_median','BuHt_max','StrHW_mean','BuERI_wmean']"
   ]
  },
  {
   "cell_type": "code",
   "execution_count": 68,
   "metadata": {},
   "outputs": [
    {
     "name": "stdout",
     "output_type": "stream",
     "text": [
      "Spearman corr > 0.5 BuAre_sum 0.8066465256797583\n",
      "Spearman corr > 0.5 BuVol_3D_sum 0.8064141296769696\n",
      "Spearman corr > 0.5 BuEWA_3D_sum 0.802231001626772\n",
      "Spearman corr > 0.5 BuIBD 0.6296769695561236\n",
      "Spearman corr > 0.5 BuAdj 0.7670230072042761\n",
      "Spearman corr > 0.5 BuSWR_3D_median 0.6056239832674878\n",
      "Spearman corr > 0.5 BuHt_wmean 0.7275156867301883\n",
      "Spearman corr > 0.5 StrHW_median 0.7974668835696026\n",
      "Spearman corr > 0.5 SVF_3D_mean 0.7269346967232163\n",
      "Spearman corr > 0.5 BuERI_mode 0.35242853822914244\n",
      "Spearman corr > 0.5 StrClo400_median 0.07227515686730188\n"
     ]
    }
   ],
   "source": [
    "lon = 7.85222\n",
    "lat = 47.9959\n",
    "\n",
    "for j in vars_to_plot:\n",
    "    stats_dict = pd.read_csv(f'/Users/lisawink/Documents/paper1/data/processed_data/altitude_out/2024/{year,j,radius}.csv') \n",
    "    stats_dict['Time']=pd.to_datetime(stats_dict['Time'])\n",
    "\n",
    "    times = {}\n",
    "\n",
    "    stats_dict['Time'] = pd.to_datetime(stats_dict['Time'])\n",
    "\n",
    "    for i in stats_dict['Time'].unique():\n",
    "\n",
    "        times[i] = get_times(i, lon, lat)\n",
    "\n",
    "    stats_dict['sunrise'] = stats_dict['Time'].apply(\n",
    "        lambda x: times[x]['sunrise'].replace(tzinfo=timezone.utc))\n",
    "    stats_dict['sunset'] = stats_dict['Time'].apply(\n",
    "        lambda x: times[x]['sunset'].replace(tzinfo=timezone.utc))\n",
    "\n",
    "    stats_dict['time_of_day'] = np.where(\n",
    "        stats_dict['Time'] < stats_dict['sunrise'], 'night',\n",
    "        np.where(stats_dict['Time'] > stats_dict['sunset'], 'night', 'day'))\n",
    "    \n",
    "    stats_dict = stats_dict[stats_dict['time_of_day'].isin(['night'])]\n",
    "\n",
    "    p_values = stats_dict['Spearman p-value'].values\n",
    "\n",
    "    # Run FDR correction (Benjamini-Hochberg, common default)\n",
    "    reject, pvals_corrected, _, _ = multipletests(p_values, alpha=0.05, method='fdr_bh')\n",
    "\n",
    "    stats_dict['Spearman p-value corrected'] = pvals_corrected\n",
    "\n",
    "    print('Spearman corr > 0.5',j,len(stats_dict[(((stats_dict['Spearman Correlation'] > 0.5) | (stats_dict['Spearman Correlation'] < -0.5))) & (stats_dict['Spearman p-value corrected'] < 0.05)]) / len(stats_dict))\n",
    "    #print('Spearman corr > 0.7',i,len(stats_dict[(stats_dict['Spearman Correlation'] > 0.7) | (stats_dict['Spearman Correlation'] < -0.7)]) / len(stats_dict))\n",
    "    #print('Spearman p-val < 0.05',i,len(stats_dict[(stats_dict['Spearman p-value'] < 0.005)]) / len(stats_dict))"
   ]
  },
  {
   "cell_type": "code",
   "execution_count": 70,
   "metadata": {},
   "outputs": [
    {
     "name": "stdout",
     "output_type": "stream",
     "text": [
      "Spearman corr > 0.5 BuAre_median 0.04961654659539856\n",
      "Spearman corr > 0.5 BuVol_3D_median 0.12468045549616547\n",
      "Spearman corr > 0.5 BuEWA_3D_median 0.0\n",
      "Spearman corr > 0.5 BuSWR_median 0.6693004880316059\n",
      "Spearman corr > 0.5 BuHt_max 0.4589821055077853\n",
      "Spearman corr > 0.5 StrHW_mean 0.7777132233325587\n",
      "Spearman corr > 0.5 BuERI_wmean 0.060887752730653034\n"
     ]
    }
   ],
   "source": [
    "vars = ['BuAre_median','BuVol_3D_median','BuEWA_3D_median','BuSWR_median','BuHt_max','StrHW_mean','BuERI_wmean']\n",
    "\n",
    "lon = 7.85222\n",
    "lat = 47.9959\n",
    "\n",
    "for j in vars:\n",
    "    stats_dict = pd.read_csv(f'/Users/lisawink/Documents/paper1/data/processed_data/altitude_out/2024/{year,j,radius}.csv') \n",
    "    stats_dict['Time']=pd.to_datetime(stats_dict['Time'])\n",
    "\n",
    "    times = {}\n",
    "\n",
    "    stats_dict['Time'] = pd.to_datetime(stats_dict['Time'])\n",
    "\n",
    "    for i in stats_dict['Time'].unique():\n",
    "\n",
    "        times[i] = get_times(i, lon, lat)\n",
    "\n",
    "    stats_dict['sunrise'] = stats_dict['Time'].apply(\n",
    "        lambda x: times[x]['sunrise'].replace(tzinfo=timezone.utc))\n",
    "    stats_dict['sunset'] = stats_dict['Time'].apply(\n",
    "        lambda x: times[x]['sunset'].replace(tzinfo=timezone.utc))\n",
    "\n",
    "    stats_dict['time_of_day'] = np.where(\n",
    "        stats_dict['Time'] < stats_dict['sunrise'], 'night',\n",
    "        np.where(stats_dict['Time'] > stats_dict['sunset'], 'night', 'day'))\n",
    "    \n",
    "    stats_dict = stats_dict[stats_dict['time_of_day'].isin(['night'])]\n",
    "\n",
    "    p_values = stats_dict['Spearman p-value'].values\n",
    "\n",
    "    # Run FDR correction (Benjamini-Hochberg, common default)\n",
    "    reject, pvals_corrected, _, _ = multipletests(p_values, alpha=0.05, method='fdr_bh')\n",
    "\n",
    "    stats_dict['Spearman p-value corrected'] = pvals_corrected\n",
    "\n",
    "    print('Spearman corr > 0.5',j,len(stats_dict[(((stats_dict['Spearman Correlation'] > 0.5) | (stats_dict['Spearman Correlation'] < -0.5))) & (stats_dict['Spearman p-value corrected'] < 0.05)]) / len(stats_dict))\n",
    "    #print('Spearman corr > 0.7',i,len(stats_dict[(stats_dict['Spearman Correlation'] > 0.7) | (stats_dict['Spearman Correlation'] < -0.7)]) / len(stats_dict))\n",
    "    #print('Spearman p-val < 0.05',i,len(stats_dict[(stats_dict['Spearman p-value'] < 0.005)]) / len(stats_dict))"
   ]
  },
  {
   "cell_type": "code",
   "execution_count": 84,
   "metadata": {},
   "outputs": [
    {
     "name": "stdout",
     "output_type": "stream",
     "text": [
      "Spearman corr > 0.6 BuAre_median 0.19288645690834474\n",
      "Spearman corr > 0.6 BuVol_3D_median 0.2270861833105335\n",
      "Spearman corr > 0.6 BuEWA_3D_median 0.005015959872321021\n",
      "Spearman corr > 0.6 BuSWR_median 0.6165070679434564\n",
      "Spearman corr > 0.6 BuHt_wmean 0.6853625170998632\n",
      "Spearman corr > 0.6 BuHt_max 0.5303237574099408\n",
      "Spearman corr > 0.6 StrHW_mean 0.674874601003192\n",
      "Spearman corr > 0.6 SVF_3D_mean 0.66484268125855\n",
      "Spearman corr > 0.6 BuERI_mode 0.3875968992248062\n"
     ]
    }
   ],
   "source": [
    "for i in vars:\n",
    "    stats_dict = pd.read_csv(f'/Users/lisawink/Documents/paper1/data/processed_data/diurnal/all_year/{year,i,radius}.csv') \n",
    "    stats_dict['Time']=pd.to_datetime(stats_dict['Time'])\n",
    "    stats_dict = stats_dict[stats_dict['Time'].dt.hour.isin([0,1,2,21,22,23])]\n",
    "    print('Spearman corr > 0.6',i,len(stats_dict[(((stats_dict['Spearman Correlation'] > 0.5) | (stats_dict['Spearman Correlation'] < -0.5))) & (stats_dict['Spearman p-value'] < 0.005)]) / len(stats_dict))\n",
    "    #print('Spearman corr > 0.7',i,len(stats_dict[(stats_dict['Spearman Correlation'] > 0.7) | (stats_dict['Spearman Correlation'] < -0.7)]) / len(stats_dict))\n",
    "    #print('Spearman p-val < 0.05',i,len(stats_dict[(stats_dict['Spearman p-value'] < 0.005)]) / len(stats_dict))"
   ]
  },
  {
   "cell_type": "code",
   "execution_count": 46,
   "metadata": {},
   "outputs": [],
   "source": [
    "# Day"
   ]
  },
  {
   "cell_type": "code",
   "execution_count": 13,
   "metadata": {},
   "outputs": [
    {
     "data": {
      "text/plain": [
       "200"
      ]
     },
     "execution_count": 13,
     "metadata": {},
     "output_type": "execute_result"
    }
   ],
   "source": [
    "radius"
   ]
  },
  {
   "cell_type": "code",
   "execution_count": 16,
   "metadata": {},
   "outputs": [
    {
     "name": "stdout",
     "output_type": "stream",
     "text": [
      "Spearman corr > 0.3 BuAre_sum 0.06575342465753424\n",
      "Spearman corr > 0.3 BuVol_3D_sum 0.06684931506849315\n",
      "Spearman corr > 0.3 BuEWA_3D_sum 0.06301369863013699\n",
      "Spearman corr > 0.3 BuIBD 0.03232876712328767\n",
      "Spearman corr > 0.3 BuAdj 0.060821917808219175\n",
      "Spearman corr > 0.3 BuSWR_3D_median 0.06958904109589041\n",
      "Spearman corr > 0.3 BuHt_wmean 0.044931506849315066\n",
      "Spearman corr > 0.3 StrHW_median 0.08\n",
      "Spearman corr > 0.3 SVF_3D_mean 0.04986301369863014\n"
     ]
    },
    {
     "ename": "FileNotFoundError",
     "evalue": "[Errno 2] No such file or directory: \"/Users/lisawink/Documents/paper1/data/processed_data/diurnal/all_year/('year', 'BuERI_wmean', 200).csv\"",
     "output_type": "error",
     "traceback": [
      "\u001b[0;31m---------------------------------------------------------------------------\u001b[0m",
      "\u001b[0;31mFileNotFoundError\u001b[0m                         Traceback (most recent call last)",
      "Cell \u001b[0;32mIn[16], line 5\u001b[0m\n\u001b[1;32m      2\u001b[0m radius \u001b[38;5;241m=\u001b[39m \u001b[38;5;241m200\u001b[39m\n\u001b[1;32m      4\u001b[0m \u001b[38;5;28;01mfor\u001b[39;00m i \u001b[38;5;129;01min\u001b[39;00m vars_to_plot:\n\u001b[0;32m----> 5\u001b[0m     stats_dict \u001b[38;5;241m=\u001b[39m \u001b[43mpd\u001b[49m\u001b[38;5;241;43m.\u001b[39;49m\u001b[43mread_csv\u001b[49m\u001b[43m(\u001b[49m\u001b[38;5;124;43mf\u001b[39;49m\u001b[38;5;124;43m'\u001b[39;49m\u001b[38;5;124;43m/Users/lisawink/Documents/paper1/data/processed_data/diurnal/all_year/\u001b[39;49m\u001b[38;5;132;43;01m{\u001b[39;49;00m\u001b[43myear\u001b[49m\u001b[43m,\u001b[49m\u001b[43mi\u001b[49m\u001b[43m,\u001b[49m\u001b[43mradius\u001b[49m\u001b[38;5;132;43;01m}\u001b[39;49;00m\u001b[38;5;124;43m.csv\u001b[39;49m\u001b[38;5;124;43m'\u001b[39;49m\u001b[43m)\u001b[49m \n\u001b[1;32m      6\u001b[0m     stats_dict[\u001b[38;5;124m'\u001b[39m\u001b[38;5;124mTime\u001b[39m\u001b[38;5;124m'\u001b[39m]\u001b[38;5;241m=\u001b[39mpd\u001b[38;5;241m.\u001b[39mto_datetime(stats_dict[\u001b[38;5;124m'\u001b[39m\u001b[38;5;124mTime\u001b[39m\u001b[38;5;124m'\u001b[39m])\n\u001b[1;32m      7\u001b[0m     stats_dict \u001b[38;5;241m=\u001b[39m stats_dict[stats_dict[\u001b[38;5;124m'\u001b[39m\u001b[38;5;124mTime\u001b[39m\u001b[38;5;124m'\u001b[39m]\u001b[38;5;241m.\u001b[39mdt\u001b[38;5;241m.\u001b[39mhour\u001b[38;5;241m.\u001b[39misin([\u001b[38;5;241m7\u001b[39m,\u001b[38;5;241m8\u001b[39m,\u001b[38;5;241m9\u001b[39m,\u001b[38;5;241m10\u001b[39m,\u001b[38;5;241m11\u001b[39m])]\n",
      "File \u001b[0;32m~/.conda/envs/py312_uscuni_buildingfootprints/lib/python3.12/site-packages/pandas/io/parsers/readers.py:1026\u001b[0m, in \u001b[0;36mread_csv\u001b[0;34m(filepath_or_buffer, sep, delimiter, header, names, index_col, usecols, dtype, engine, converters, true_values, false_values, skipinitialspace, skiprows, skipfooter, nrows, na_values, keep_default_na, na_filter, verbose, skip_blank_lines, parse_dates, infer_datetime_format, keep_date_col, date_parser, date_format, dayfirst, cache_dates, iterator, chunksize, compression, thousands, decimal, lineterminator, quotechar, quoting, doublequote, escapechar, comment, encoding, encoding_errors, dialect, on_bad_lines, delim_whitespace, low_memory, memory_map, float_precision, storage_options, dtype_backend)\u001b[0m\n\u001b[1;32m   1013\u001b[0m kwds_defaults \u001b[38;5;241m=\u001b[39m _refine_defaults_read(\n\u001b[1;32m   1014\u001b[0m     dialect,\n\u001b[1;32m   1015\u001b[0m     delimiter,\n\u001b[0;32m   (...)\u001b[0m\n\u001b[1;32m   1022\u001b[0m     dtype_backend\u001b[38;5;241m=\u001b[39mdtype_backend,\n\u001b[1;32m   1023\u001b[0m )\n\u001b[1;32m   1024\u001b[0m kwds\u001b[38;5;241m.\u001b[39mupdate(kwds_defaults)\n\u001b[0;32m-> 1026\u001b[0m \u001b[38;5;28;01mreturn\u001b[39;00m \u001b[43m_read\u001b[49m\u001b[43m(\u001b[49m\u001b[43mfilepath_or_buffer\u001b[49m\u001b[43m,\u001b[49m\u001b[43m \u001b[49m\u001b[43mkwds\u001b[49m\u001b[43m)\u001b[49m\n",
      "File \u001b[0;32m~/.conda/envs/py312_uscuni_buildingfootprints/lib/python3.12/site-packages/pandas/io/parsers/readers.py:620\u001b[0m, in \u001b[0;36m_read\u001b[0;34m(filepath_or_buffer, kwds)\u001b[0m\n\u001b[1;32m    617\u001b[0m _validate_names(kwds\u001b[38;5;241m.\u001b[39mget(\u001b[38;5;124m\"\u001b[39m\u001b[38;5;124mnames\u001b[39m\u001b[38;5;124m\"\u001b[39m, \u001b[38;5;28;01mNone\u001b[39;00m))\n\u001b[1;32m    619\u001b[0m \u001b[38;5;66;03m# Create the parser.\u001b[39;00m\n\u001b[0;32m--> 620\u001b[0m parser \u001b[38;5;241m=\u001b[39m \u001b[43mTextFileReader\u001b[49m\u001b[43m(\u001b[49m\u001b[43mfilepath_or_buffer\u001b[49m\u001b[43m,\u001b[49m\u001b[43m \u001b[49m\u001b[38;5;241;43m*\u001b[39;49m\u001b[38;5;241;43m*\u001b[39;49m\u001b[43mkwds\u001b[49m\u001b[43m)\u001b[49m\n\u001b[1;32m    622\u001b[0m \u001b[38;5;28;01mif\u001b[39;00m chunksize \u001b[38;5;129;01mor\u001b[39;00m iterator:\n\u001b[1;32m    623\u001b[0m     \u001b[38;5;28;01mreturn\u001b[39;00m parser\n",
      "File \u001b[0;32m~/.conda/envs/py312_uscuni_buildingfootprints/lib/python3.12/site-packages/pandas/io/parsers/readers.py:1620\u001b[0m, in \u001b[0;36mTextFileReader.__init__\u001b[0;34m(self, f, engine, **kwds)\u001b[0m\n\u001b[1;32m   1617\u001b[0m     \u001b[38;5;28mself\u001b[39m\u001b[38;5;241m.\u001b[39moptions[\u001b[38;5;124m\"\u001b[39m\u001b[38;5;124mhas_index_names\u001b[39m\u001b[38;5;124m\"\u001b[39m] \u001b[38;5;241m=\u001b[39m kwds[\u001b[38;5;124m\"\u001b[39m\u001b[38;5;124mhas_index_names\u001b[39m\u001b[38;5;124m\"\u001b[39m]\n\u001b[1;32m   1619\u001b[0m \u001b[38;5;28mself\u001b[39m\u001b[38;5;241m.\u001b[39mhandles: IOHandles \u001b[38;5;241m|\u001b[39m \u001b[38;5;28;01mNone\u001b[39;00m \u001b[38;5;241m=\u001b[39m \u001b[38;5;28;01mNone\u001b[39;00m\n\u001b[0;32m-> 1620\u001b[0m \u001b[38;5;28mself\u001b[39m\u001b[38;5;241m.\u001b[39m_engine \u001b[38;5;241m=\u001b[39m \u001b[38;5;28;43mself\u001b[39;49m\u001b[38;5;241;43m.\u001b[39;49m\u001b[43m_make_engine\u001b[49m\u001b[43m(\u001b[49m\u001b[43mf\u001b[49m\u001b[43m,\u001b[49m\u001b[43m \u001b[49m\u001b[38;5;28;43mself\u001b[39;49m\u001b[38;5;241;43m.\u001b[39;49m\u001b[43mengine\u001b[49m\u001b[43m)\u001b[49m\n",
      "File \u001b[0;32m~/.conda/envs/py312_uscuni_buildingfootprints/lib/python3.12/site-packages/pandas/io/parsers/readers.py:1880\u001b[0m, in \u001b[0;36mTextFileReader._make_engine\u001b[0;34m(self, f, engine)\u001b[0m\n\u001b[1;32m   1878\u001b[0m     \u001b[38;5;28;01mif\u001b[39;00m \u001b[38;5;124m\"\u001b[39m\u001b[38;5;124mb\u001b[39m\u001b[38;5;124m\"\u001b[39m \u001b[38;5;129;01mnot\u001b[39;00m \u001b[38;5;129;01min\u001b[39;00m mode:\n\u001b[1;32m   1879\u001b[0m         mode \u001b[38;5;241m+\u001b[39m\u001b[38;5;241m=\u001b[39m \u001b[38;5;124m\"\u001b[39m\u001b[38;5;124mb\u001b[39m\u001b[38;5;124m\"\u001b[39m\n\u001b[0;32m-> 1880\u001b[0m \u001b[38;5;28mself\u001b[39m\u001b[38;5;241m.\u001b[39mhandles \u001b[38;5;241m=\u001b[39m \u001b[43mget_handle\u001b[49m\u001b[43m(\u001b[49m\n\u001b[1;32m   1881\u001b[0m \u001b[43m    \u001b[49m\u001b[43mf\u001b[49m\u001b[43m,\u001b[49m\n\u001b[1;32m   1882\u001b[0m \u001b[43m    \u001b[49m\u001b[43mmode\u001b[49m\u001b[43m,\u001b[49m\n\u001b[1;32m   1883\u001b[0m \u001b[43m    \u001b[49m\u001b[43mencoding\u001b[49m\u001b[38;5;241;43m=\u001b[39;49m\u001b[38;5;28;43mself\u001b[39;49m\u001b[38;5;241;43m.\u001b[39;49m\u001b[43moptions\u001b[49m\u001b[38;5;241;43m.\u001b[39;49m\u001b[43mget\u001b[49m\u001b[43m(\u001b[49m\u001b[38;5;124;43m\"\u001b[39;49m\u001b[38;5;124;43mencoding\u001b[39;49m\u001b[38;5;124;43m\"\u001b[39;49m\u001b[43m,\u001b[49m\u001b[43m \u001b[49m\u001b[38;5;28;43;01mNone\u001b[39;49;00m\u001b[43m)\u001b[49m\u001b[43m,\u001b[49m\n\u001b[1;32m   1884\u001b[0m \u001b[43m    \u001b[49m\u001b[43mcompression\u001b[49m\u001b[38;5;241;43m=\u001b[39;49m\u001b[38;5;28;43mself\u001b[39;49m\u001b[38;5;241;43m.\u001b[39;49m\u001b[43moptions\u001b[49m\u001b[38;5;241;43m.\u001b[39;49m\u001b[43mget\u001b[49m\u001b[43m(\u001b[49m\u001b[38;5;124;43m\"\u001b[39;49m\u001b[38;5;124;43mcompression\u001b[39;49m\u001b[38;5;124;43m\"\u001b[39;49m\u001b[43m,\u001b[49m\u001b[43m \u001b[49m\u001b[38;5;28;43;01mNone\u001b[39;49;00m\u001b[43m)\u001b[49m\u001b[43m,\u001b[49m\n\u001b[1;32m   1885\u001b[0m \u001b[43m    \u001b[49m\u001b[43mmemory_map\u001b[49m\u001b[38;5;241;43m=\u001b[39;49m\u001b[38;5;28;43mself\u001b[39;49m\u001b[38;5;241;43m.\u001b[39;49m\u001b[43moptions\u001b[49m\u001b[38;5;241;43m.\u001b[39;49m\u001b[43mget\u001b[49m\u001b[43m(\u001b[49m\u001b[38;5;124;43m\"\u001b[39;49m\u001b[38;5;124;43mmemory_map\u001b[39;49m\u001b[38;5;124;43m\"\u001b[39;49m\u001b[43m,\u001b[49m\u001b[43m \u001b[49m\u001b[38;5;28;43;01mFalse\u001b[39;49;00m\u001b[43m)\u001b[49m\u001b[43m,\u001b[49m\n\u001b[1;32m   1886\u001b[0m \u001b[43m    \u001b[49m\u001b[43mis_text\u001b[49m\u001b[38;5;241;43m=\u001b[39;49m\u001b[43mis_text\u001b[49m\u001b[43m,\u001b[49m\n\u001b[1;32m   1887\u001b[0m \u001b[43m    \u001b[49m\u001b[43merrors\u001b[49m\u001b[38;5;241;43m=\u001b[39;49m\u001b[38;5;28;43mself\u001b[39;49m\u001b[38;5;241;43m.\u001b[39;49m\u001b[43moptions\u001b[49m\u001b[38;5;241;43m.\u001b[39;49m\u001b[43mget\u001b[49m\u001b[43m(\u001b[49m\u001b[38;5;124;43m\"\u001b[39;49m\u001b[38;5;124;43mencoding_errors\u001b[39;49m\u001b[38;5;124;43m\"\u001b[39;49m\u001b[43m,\u001b[49m\u001b[43m \u001b[49m\u001b[38;5;124;43m\"\u001b[39;49m\u001b[38;5;124;43mstrict\u001b[39;49m\u001b[38;5;124;43m\"\u001b[39;49m\u001b[43m)\u001b[49m\u001b[43m,\u001b[49m\n\u001b[1;32m   1888\u001b[0m \u001b[43m    \u001b[49m\u001b[43mstorage_options\u001b[49m\u001b[38;5;241;43m=\u001b[39;49m\u001b[38;5;28;43mself\u001b[39;49m\u001b[38;5;241;43m.\u001b[39;49m\u001b[43moptions\u001b[49m\u001b[38;5;241;43m.\u001b[39;49m\u001b[43mget\u001b[49m\u001b[43m(\u001b[49m\u001b[38;5;124;43m\"\u001b[39;49m\u001b[38;5;124;43mstorage_options\u001b[39;49m\u001b[38;5;124;43m\"\u001b[39;49m\u001b[43m,\u001b[49m\u001b[43m \u001b[49m\u001b[38;5;28;43;01mNone\u001b[39;49;00m\u001b[43m)\u001b[49m\u001b[43m,\u001b[49m\n\u001b[1;32m   1889\u001b[0m \u001b[43m\u001b[49m\u001b[43m)\u001b[49m\n\u001b[1;32m   1890\u001b[0m \u001b[38;5;28;01massert\u001b[39;00m \u001b[38;5;28mself\u001b[39m\u001b[38;5;241m.\u001b[39mhandles \u001b[38;5;129;01mis\u001b[39;00m \u001b[38;5;129;01mnot\u001b[39;00m \u001b[38;5;28;01mNone\u001b[39;00m\n\u001b[1;32m   1891\u001b[0m f \u001b[38;5;241m=\u001b[39m \u001b[38;5;28mself\u001b[39m\u001b[38;5;241m.\u001b[39mhandles\u001b[38;5;241m.\u001b[39mhandle\n",
      "File \u001b[0;32m~/.conda/envs/py312_uscuni_buildingfootprints/lib/python3.12/site-packages/pandas/io/common.py:873\u001b[0m, in \u001b[0;36mget_handle\u001b[0;34m(path_or_buf, mode, encoding, compression, memory_map, is_text, errors, storage_options)\u001b[0m\n\u001b[1;32m    868\u001b[0m \u001b[38;5;28;01melif\u001b[39;00m \u001b[38;5;28misinstance\u001b[39m(handle, \u001b[38;5;28mstr\u001b[39m):\n\u001b[1;32m    869\u001b[0m     \u001b[38;5;66;03m# Check whether the filename is to be opened in binary mode.\u001b[39;00m\n\u001b[1;32m    870\u001b[0m     \u001b[38;5;66;03m# Binary mode does not support 'encoding' and 'newline'.\u001b[39;00m\n\u001b[1;32m    871\u001b[0m     \u001b[38;5;28;01mif\u001b[39;00m ioargs\u001b[38;5;241m.\u001b[39mencoding \u001b[38;5;129;01mand\u001b[39;00m \u001b[38;5;124m\"\u001b[39m\u001b[38;5;124mb\u001b[39m\u001b[38;5;124m\"\u001b[39m \u001b[38;5;129;01mnot\u001b[39;00m \u001b[38;5;129;01min\u001b[39;00m ioargs\u001b[38;5;241m.\u001b[39mmode:\n\u001b[1;32m    872\u001b[0m         \u001b[38;5;66;03m# Encoding\u001b[39;00m\n\u001b[0;32m--> 873\u001b[0m         handle \u001b[38;5;241m=\u001b[39m \u001b[38;5;28;43mopen\u001b[39;49m\u001b[43m(\u001b[49m\n\u001b[1;32m    874\u001b[0m \u001b[43m            \u001b[49m\u001b[43mhandle\u001b[49m\u001b[43m,\u001b[49m\n\u001b[1;32m    875\u001b[0m \u001b[43m            \u001b[49m\u001b[43mioargs\u001b[49m\u001b[38;5;241;43m.\u001b[39;49m\u001b[43mmode\u001b[49m\u001b[43m,\u001b[49m\n\u001b[1;32m    876\u001b[0m \u001b[43m            \u001b[49m\u001b[43mencoding\u001b[49m\u001b[38;5;241;43m=\u001b[39;49m\u001b[43mioargs\u001b[49m\u001b[38;5;241;43m.\u001b[39;49m\u001b[43mencoding\u001b[49m\u001b[43m,\u001b[49m\n\u001b[1;32m    877\u001b[0m \u001b[43m            \u001b[49m\u001b[43merrors\u001b[49m\u001b[38;5;241;43m=\u001b[39;49m\u001b[43merrors\u001b[49m\u001b[43m,\u001b[49m\n\u001b[1;32m    878\u001b[0m \u001b[43m            \u001b[49m\u001b[43mnewline\u001b[49m\u001b[38;5;241;43m=\u001b[39;49m\u001b[38;5;124;43m\"\u001b[39;49m\u001b[38;5;124;43m\"\u001b[39;49m\u001b[43m,\u001b[49m\n\u001b[1;32m    879\u001b[0m \u001b[43m        \u001b[49m\u001b[43m)\u001b[49m\n\u001b[1;32m    880\u001b[0m     \u001b[38;5;28;01melse\u001b[39;00m:\n\u001b[1;32m    881\u001b[0m         \u001b[38;5;66;03m# Binary mode\u001b[39;00m\n\u001b[1;32m    882\u001b[0m         handle \u001b[38;5;241m=\u001b[39m \u001b[38;5;28mopen\u001b[39m(handle, ioargs\u001b[38;5;241m.\u001b[39mmode)\n",
      "\u001b[0;31mFileNotFoundError\u001b[0m: [Errno 2] No such file or directory: \"/Users/lisawink/Documents/paper1/data/processed_data/diurnal/all_year/('year', 'BuERI_wmean', 200).csv\""
     ]
    }
   ],
   "source": [
    "# Day (200m)\n",
    "radius = 200\n",
    "\n",
    "for i in vars_to_plot:\n",
    "    stats_dict = pd.read_csv(f'/Users/lisawink/Documents/paper1/data/processed_data/diurnal/all_year/{year,i,radius}.csv') \n",
    "    stats_dict['Time']=pd.to_datetime(stats_dict['Time'])\n",
    "    stats_dict = stats_dict[stats_dict['Time'].dt.hour.isin([7,8,9,10,11])]\n",
    "    print('Spearman corr > 0.3',i,len(stats_dict[(((stats_dict['Spearman Correlation'] > 0.3) | (stats_dict['Spearman Correlation'] < -0.3))) & (stats_dict['Spearman p-value'] < 0.005)]) / len(stats_dict))\n",
    "    #print('Spearman corr > 0.7',i,len(stats_dict[(stats_dict['Spearman Correlation'] > 0.7) | (stats_dict['Spearman Correlation'] < -0.7)]) / len(stats_dict))\n",
    "    #print('Spearman p-val < 0.05',i,len(stats_dict[(stats_dict['Spearman p-value'] < 0.005)]) / len(stats_dict))"
   ]
  },
  {
   "cell_type": "code",
   "execution_count": 17,
   "metadata": {},
   "outputs": [
    {
     "data": {
      "text/html": [
       "<div>\n",
       "<style scoped>\n",
       "    .dataframe tbody tr th:only-of-type {\n",
       "        vertical-align: middle;\n",
       "    }\n",
       "\n",
       "    .dataframe tbody tr th {\n",
       "        vertical-align: top;\n",
       "    }\n",
       "\n",
       "    .dataframe thead th {\n",
       "        text-align: right;\n",
       "    }\n",
       "</style>\n",
       "<table border=\"1\" class=\"dataframe\">\n",
       "  <thead>\n",
       "    <tr style=\"text-align: right;\">\n",
       "      <th></th>\n",
       "      <th>Unnamed: 0</th>\n",
       "      <th>Parameter</th>\n",
       "      <th>Parameter.1</th>\n",
       "      <th>Pearson Correlation</th>\n",
       "      <th>Pearson p-value</th>\n",
       "      <th>Spearman Correlation</th>\n",
       "      <th>Spearman p-value</th>\n",
       "      <th>Mutual Information</th>\n",
       "      <th>Time</th>\n",
       "    </tr>\n",
       "  </thead>\n",
       "  <tbody>\n",
       "    <tr>\n",
       "      <th>7</th>\n",
       "      <td>2022-09-01 07:00:00+00:00</td>\n",
       "      <td>SVF_3D_mean</td>\n",
       "      <td>SVF_3D_mean</td>\n",
       "      <td>-0.092747</td>\n",
       "      <td>0.619723</td>\n",
       "      <td>-0.120778</td>\n",
       "      <td>0.517498</td>\n",
       "      <td>0.000000</td>\n",
       "      <td>2022-09-01 07:00:00+00:00</td>\n",
       "    </tr>\n",
       "    <tr>\n",
       "      <th>8</th>\n",
       "      <td>2022-09-01 08:00:00+00:00</td>\n",
       "      <td>SVF_3D_mean</td>\n",
       "      <td>SVF_3D_mean</td>\n",
       "      <td>0.051538</td>\n",
       "      <td>0.783053</td>\n",
       "      <td>0.063918</td>\n",
       "      <td>0.732649</td>\n",
       "      <td>0.000000</td>\n",
       "      <td>2022-09-01 08:00:00+00:00</td>\n",
       "    </tr>\n",
       "    <tr>\n",
       "      <th>9</th>\n",
       "      <td>2022-09-01 09:00:00+00:00</td>\n",
       "      <td>SVF_3D_mean</td>\n",
       "      <td>SVF_3D_mean</td>\n",
       "      <td>0.254308</td>\n",
       "      <td>0.167413</td>\n",
       "      <td>0.242766</td>\n",
       "      <td>0.188205</td>\n",
       "      <td>0.000000</td>\n",
       "      <td>2022-09-01 09:00:00+00:00</td>\n",
       "    </tr>\n",
       "    <tr>\n",
       "      <th>10</th>\n",
       "      <td>2022-09-01 10:00:00+00:00</td>\n",
       "      <td>SVF_3D_mean</td>\n",
       "      <td>SVF_3D_mean</td>\n",
       "      <td>0.218329</td>\n",
       "      <td>0.238021</td>\n",
       "      <td>0.245161</td>\n",
       "      <td>0.183749</td>\n",
       "      <td>0.000000</td>\n",
       "      <td>2022-09-01 10:00:00+00:00</td>\n",
       "    </tr>\n",
       "    <tr>\n",
       "      <th>11</th>\n",
       "      <td>2022-09-01 11:00:00+00:00</td>\n",
       "      <td>SVF_3D_mean</td>\n",
       "      <td>SVF_3D_mean</td>\n",
       "      <td>0.219517</td>\n",
       "      <td>0.235413</td>\n",
       "      <td>0.179032</td>\n",
       "      <td>0.335215</td>\n",
       "      <td>0.016635</td>\n",
       "      <td>2022-09-01 11:00:00+00:00</td>\n",
       "    </tr>\n",
       "    <tr>\n",
       "      <th>...</th>\n",
       "      <td>...</td>\n",
       "      <td>...</td>\n",
       "      <td>...</td>\n",
       "      <td>...</td>\n",
       "      <td>...</td>\n",
       "      <td>...</td>\n",
       "      <td>...</td>\n",
       "      <td>...</td>\n",
       "      <td>...</td>\n",
       "    </tr>\n",
       "    <tr>\n",
       "      <th>8743</th>\n",
       "      <td>2023-08-31 07:00:00+00:00</td>\n",
       "      <td>SVF_3D_mean</td>\n",
       "      <td>SVF_3D_mean</td>\n",
       "      <td>0.035686</td>\n",
       "      <td>0.848848</td>\n",
       "      <td>0.066129</td>\n",
       "      <td>0.723753</td>\n",
       "      <td>0.248793</td>\n",
       "      <td>2023-08-31 07:00:00+00:00</td>\n",
       "    </tr>\n",
       "    <tr>\n",
       "      <th>8744</th>\n",
       "      <td>2023-08-31 08:00:00+00:00</td>\n",
       "      <td>SVF_3D_mean</td>\n",
       "      <td>SVF_3D_mean</td>\n",
       "      <td>0.066535</td>\n",
       "      <td>0.722123</td>\n",
       "      <td>0.073790</td>\n",
       "      <td>0.693210</td>\n",
       "      <td>0.254496</td>\n",
       "      <td>2023-08-31 08:00:00+00:00</td>\n",
       "    </tr>\n",
       "    <tr>\n",
       "      <th>8745</th>\n",
       "      <td>2023-08-31 09:00:00+00:00</td>\n",
       "      <td>SVF_3D_mean</td>\n",
       "      <td>SVF_3D_mean</td>\n",
       "      <td>0.091740</td>\n",
       "      <td>0.623545</td>\n",
       "      <td>0.098810</td>\n",
       "      <td>0.596916</td>\n",
       "      <td>0.007693</td>\n",
       "      <td>2023-08-31 09:00:00+00:00</td>\n",
       "    </tr>\n",
       "    <tr>\n",
       "      <th>8746</th>\n",
       "      <td>2023-08-31 10:00:00+00:00</td>\n",
       "      <td>SVF_3D_mean</td>\n",
       "      <td>SVF_3D_mean</td>\n",
       "      <td>0.099669</td>\n",
       "      <td>0.593716</td>\n",
       "      <td>0.192377</td>\n",
       "      <td>0.299819</td>\n",
       "      <td>0.000000</td>\n",
       "      <td>2023-08-31 10:00:00+00:00</td>\n",
       "    </tr>\n",
       "    <tr>\n",
       "      <th>8747</th>\n",
       "      <td>2023-08-31 11:00:00+00:00</td>\n",
       "      <td>SVF_3D_mean</td>\n",
       "      <td>SVF_3D_mean</td>\n",
       "      <td>0.158571</td>\n",
       "      <td>0.394208</td>\n",
       "      <td>0.233290</td>\n",
       "      <td>0.206575</td>\n",
       "      <td>0.000000</td>\n",
       "      <td>2023-08-31 11:00:00+00:00</td>\n",
       "    </tr>\n",
       "  </tbody>\n",
       "</table>\n",
       "<p>1825 rows × 9 columns</p>\n",
       "</div>"
      ],
      "text/plain": [
       "                     Unnamed: 0    Parameter  Parameter.1  \\\n",
       "7     2022-09-01 07:00:00+00:00  SVF_3D_mean  SVF_3D_mean   \n",
       "8     2022-09-01 08:00:00+00:00  SVF_3D_mean  SVF_3D_mean   \n",
       "9     2022-09-01 09:00:00+00:00  SVF_3D_mean  SVF_3D_mean   \n",
       "10    2022-09-01 10:00:00+00:00  SVF_3D_mean  SVF_3D_mean   \n",
       "11    2022-09-01 11:00:00+00:00  SVF_3D_mean  SVF_3D_mean   \n",
       "...                         ...          ...          ...   \n",
       "8743  2023-08-31 07:00:00+00:00  SVF_3D_mean  SVF_3D_mean   \n",
       "8744  2023-08-31 08:00:00+00:00  SVF_3D_mean  SVF_3D_mean   \n",
       "8745  2023-08-31 09:00:00+00:00  SVF_3D_mean  SVF_3D_mean   \n",
       "8746  2023-08-31 10:00:00+00:00  SVF_3D_mean  SVF_3D_mean   \n",
       "8747  2023-08-31 11:00:00+00:00  SVF_3D_mean  SVF_3D_mean   \n",
       "\n",
       "      Pearson Correlation  Pearson p-value  Spearman Correlation  \\\n",
       "7               -0.092747         0.619723             -0.120778   \n",
       "8                0.051538         0.783053              0.063918   \n",
       "9                0.254308         0.167413              0.242766   \n",
       "10               0.218329         0.238021              0.245161   \n",
       "11               0.219517         0.235413              0.179032   \n",
       "...                   ...              ...                   ...   \n",
       "8743             0.035686         0.848848              0.066129   \n",
       "8744             0.066535         0.722123              0.073790   \n",
       "8745             0.091740         0.623545              0.098810   \n",
       "8746             0.099669         0.593716              0.192377   \n",
       "8747             0.158571         0.394208              0.233290   \n",
       "\n",
       "      Spearman p-value  Mutual Information                      Time  \n",
       "7             0.517498            0.000000 2022-09-01 07:00:00+00:00  \n",
       "8             0.732649            0.000000 2022-09-01 08:00:00+00:00  \n",
       "9             0.188205            0.000000 2022-09-01 09:00:00+00:00  \n",
       "10            0.183749            0.000000 2022-09-01 10:00:00+00:00  \n",
       "11            0.335215            0.016635 2022-09-01 11:00:00+00:00  \n",
       "...                ...                 ...                       ...  \n",
       "8743          0.723753            0.248793 2023-08-31 07:00:00+00:00  \n",
       "8744          0.693210            0.254496 2023-08-31 08:00:00+00:00  \n",
       "8745          0.596916            0.007693 2023-08-31 09:00:00+00:00  \n",
       "8746          0.299819            0.000000 2023-08-31 10:00:00+00:00  \n",
       "8747          0.206575            0.000000 2023-08-31 11:00:00+00:00  \n",
       "\n",
       "[1825 rows x 9 columns]"
      ]
     },
     "execution_count": 17,
     "metadata": {},
     "output_type": "execute_result"
    }
   ],
   "source": [
    "stats_dict"
   ]
  },
  {
   "cell_type": "code",
   "execution_count": 18,
   "metadata": {},
   "outputs": [
    {
     "name": "stdout",
     "output_type": "stream",
     "text": [
      "Spearman corr > 0.3 BuAre_sum 0.19726027397260273\n",
      "Spearman corr > 0.3 BuVol_3D_sum 0.1736986301369863\n",
      "Spearman corr > 0.3 BuEWA_3D_sum 0.16602739726027396\n",
      "Spearman corr > 0.3 BuIBD 0.10849315068493151\n",
      "Spearman corr > 0.3 BuAdj 0.16821917808219178\n",
      "Spearman corr > 0.3 BuSWR_3D_median 0.136986301369863\n",
      "Spearman corr > 0.3 BuHt_wmean 0.15178082191780823\n",
      "Spearman corr > 0.3 StrHW_median 0.15013698630136987\n",
      "Spearman corr > 0.3 SVF_3D_mean 0.13534246575342465\n",
      "Spearman corr > 0.3 BuERI_wmean 0.09698630136986301\n",
      "Spearman corr > 0.3 StrClo400_median 0.028493150684931506\n"
     ]
    }
   ],
   "source": [
    "#Day (300m)\n",
    "radius = 300\n",
    "for i in vars_to_plot:\n",
    "    stats_dict = pd.read_csv(f'/Users/lisawink/Documents/paper1/data/processed_data/diurnal/all_year/{year,i,radius}.csv') \n",
    "    stats_dict['Time']=pd.to_datetime(stats_dict['Time'])\n",
    "    stats_dict = stats_dict[stats_dict['Time'].dt.hour.isin([7,8,9,10,11])]\n",
    "    print('Spearman corr > 0.3',i,len(stats_dict[(((stats_dict['Spearman Correlation'] > 0.3) | (stats_dict['Spearman Correlation'] < -0.3))) & (stats_dict['Spearman p-value'] < 0.005)]) / len(stats_dict))\n",
    "    #print('Spearman corr > 0.7',i,len(stats_dict[(stats_dict['Spearman Correlation'] > 0.7) | (stats_dict['Spearman Correlation'] < -0.7)]) / len(stats_dict))\n",
    "    #print('Spearman p-val < 0.05',i,len(stats_dict[(stats_dict['Spearman p-value'] < 0.005)]) / len(stats_dict))"
   ]
  },
  {
   "cell_type": "code",
   "execution_count": 19,
   "metadata": {},
   "outputs": [
    {
     "data": {
      "text/html": [
       "<div>\n",
       "<style scoped>\n",
       "    .dataframe tbody tr th:only-of-type {\n",
       "        vertical-align: middle;\n",
       "    }\n",
       "\n",
       "    .dataframe tbody tr th {\n",
       "        vertical-align: top;\n",
       "    }\n",
       "\n",
       "    .dataframe thead th {\n",
       "        text-align: right;\n",
       "    }\n",
       "</style>\n",
       "<table border=\"1\" class=\"dataframe\">\n",
       "  <thead>\n",
       "    <tr style=\"text-align: right;\">\n",
       "      <th></th>\n",
       "      <th>Unnamed: 0</th>\n",
       "      <th>Parameter</th>\n",
       "      <th>Parameter.1</th>\n",
       "      <th>Pearson Correlation</th>\n",
       "      <th>Pearson p-value</th>\n",
       "      <th>Spearman Correlation</th>\n",
       "      <th>Spearman p-value</th>\n",
       "      <th>Mutual Information</th>\n",
       "      <th>Time</th>\n",
       "    </tr>\n",
       "  </thead>\n",
       "  <tbody>\n",
       "    <tr>\n",
       "      <th>7</th>\n",
       "      <td>2022-09-01 07:00:00+00:00</td>\n",
       "      <td>StrClo400_median</td>\n",
       "      <td>StrClo400_median</td>\n",
       "      <td>0.375532</td>\n",
       "      <td>0.024008</td>\n",
       "      <td>0.351760</td>\n",
       "      <td>0.035393</td>\n",
       "      <td>0.000000</td>\n",
       "      <td>2022-09-01 07:00:00+00:00</td>\n",
       "    </tr>\n",
       "    <tr>\n",
       "      <th>8</th>\n",
       "      <td>2022-09-01 08:00:00+00:00</td>\n",
       "      <td>StrClo400_median</td>\n",
       "      <td>StrClo400_median</td>\n",
       "      <td>0.361013</td>\n",
       "      <td>0.030528</td>\n",
       "      <td>0.243001</td>\n",
       "      <td>0.153274</td>\n",
       "      <td>0.000000</td>\n",
       "      <td>2022-09-01 08:00:00+00:00</td>\n",
       "    </tr>\n",
       "    <tr>\n",
       "      <th>9</th>\n",
       "      <td>2022-09-01 09:00:00+00:00</td>\n",
       "      <td>StrClo400_median</td>\n",
       "      <td>StrClo400_median</td>\n",
       "      <td>0.138318</td>\n",
       "      <td>0.421111</td>\n",
       "      <td>0.163975</td>\n",
       "      <td>0.339267</td>\n",
       "      <td>0.000000</td>\n",
       "      <td>2022-09-01 09:00:00+00:00</td>\n",
       "    </tr>\n",
       "    <tr>\n",
       "      <th>10</th>\n",
       "      <td>2022-09-01 10:00:00+00:00</td>\n",
       "      <td>StrClo400_median</td>\n",
       "      <td>StrClo400_median</td>\n",
       "      <td>0.072427</td>\n",
       "      <td>0.674648</td>\n",
       "      <td>0.126898</td>\n",
       "      <td>0.460813</td>\n",
       "      <td>0.010805</td>\n",
       "      <td>2022-09-01 10:00:00+00:00</td>\n",
       "    </tr>\n",
       "    <tr>\n",
       "      <th>11</th>\n",
       "      <td>2022-09-01 11:00:00+00:00</td>\n",
       "      <td>StrClo400_median</td>\n",
       "      <td>StrClo400_median</td>\n",
       "      <td>0.082064</td>\n",
       "      <td>0.634210</td>\n",
       "      <td>0.151094</td>\n",
       "      <td>0.379057</td>\n",
       "      <td>0.000000</td>\n",
       "      <td>2022-09-01 11:00:00+00:00</td>\n",
       "    </tr>\n",
       "    <tr>\n",
       "      <th>...</th>\n",
       "      <td>...</td>\n",
       "      <td>...</td>\n",
       "      <td>...</td>\n",
       "      <td>...</td>\n",
       "      <td>...</td>\n",
       "      <td>...</td>\n",
       "      <td>...</td>\n",
       "      <td>...</td>\n",
       "      <td>...</td>\n",
       "    </tr>\n",
       "    <tr>\n",
       "      <th>8743</th>\n",
       "      <td>2023-08-31 07:00:00+00:00</td>\n",
       "      <td>StrClo400_median</td>\n",
       "      <td>StrClo400_median</td>\n",
       "      <td>0.155460</td>\n",
       "      <td>0.365273</td>\n",
       "      <td>0.024710</td>\n",
       "      <td>0.886249</td>\n",
       "      <td>0.000000</td>\n",
       "      <td>2023-08-31 07:00:00+00:00</td>\n",
       "    </tr>\n",
       "    <tr>\n",
       "      <th>8744</th>\n",
       "      <td>2023-08-31 08:00:00+00:00</td>\n",
       "      <td>StrClo400_median</td>\n",
       "      <td>StrClo400_median</td>\n",
       "      <td>0.250314</td>\n",
       "      <td>0.140903</td>\n",
       "      <td>0.157786</td>\n",
       "      <td>0.358053</td>\n",
       "      <td>0.090911</td>\n",
       "      <td>2023-08-31 08:00:00+00:00</td>\n",
       "    </tr>\n",
       "    <tr>\n",
       "      <th>8745</th>\n",
       "      <td>2023-08-31 09:00:00+00:00</td>\n",
       "      <td>StrClo400_median</td>\n",
       "      <td>StrClo400_median</td>\n",
       "      <td>0.131755</td>\n",
       "      <td>0.443687</td>\n",
       "      <td>0.099118</td>\n",
       "      <td>0.565196</td>\n",
       "      <td>0.000000</td>\n",
       "      <td>2023-08-31 09:00:00+00:00</td>\n",
       "    </tr>\n",
       "    <tr>\n",
       "      <th>8746</th>\n",
       "      <td>2023-08-31 10:00:00+00:00</td>\n",
       "      <td>StrClo400_median</td>\n",
       "      <td>StrClo400_median</td>\n",
       "      <td>0.010431</td>\n",
       "      <td>0.951856</td>\n",
       "      <td>0.031407</td>\n",
       "      <td>0.855712</td>\n",
       "      <td>0.121908</td>\n",
       "      <td>2023-08-31 10:00:00+00:00</td>\n",
       "    </tr>\n",
       "    <tr>\n",
       "      <th>8747</th>\n",
       "      <td>2023-08-31 11:00:00+00:00</td>\n",
       "      <td>StrClo400_median</td>\n",
       "      <td>StrClo400_median</td>\n",
       "      <td>-0.043982</td>\n",
       "      <td>0.798952</td>\n",
       "      <td>-0.042216</td>\n",
       "      <td>0.806869</td>\n",
       "      <td>0.028958</td>\n",
       "      <td>2023-08-31 11:00:00+00:00</td>\n",
       "    </tr>\n",
       "  </tbody>\n",
       "</table>\n",
       "<p>1825 rows × 9 columns</p>\n",
       "</div>"
      ],
      "text/plain": [
       "                     Unnamed: 0         Parameter       Parameter.1  \\\n",
       "7     2022-09-01 07:00:00+00:00  StrClo400_median  StrClo400_median   \n",
       "8     2022-09-01 08:00:00+00:00  StrClo400_median  StrClo400_median   \n",
       "9     2022-09-01 09:00:00+00:00  StrClo400_median  StrClo400_median   \n",
       "10    2022-09-01 10:00:00+00:00  StrClo400_median  StrClo400_median   \n",
       "11    2022-09-01 11:00:00+00:00  StrClo400_median  StrClo400_median   \n",
       "...                         ...               ...               ...   \n",
       "8743  2023-08-31 07:00:00+00:00  StrClo400_median  StrClo400_median   \n",
       "8744  2023-08-31 08:00:00+00:00  StrClo400_median  StrClo400_median   \n",
       "8745  2023-08-31 09:00:00+00:00  StrClo400_median  StrClo400_median   \n",
       "8746  2023-08-31 10:00:00+00:00  StrClo400_median  StrClo400_median   \n",
       "8747  2023-08-31 11:00:00+00:00  StrClo400_median  StrClo400_median   \n",
       "\n",
       "      Pearson Correlation  Pearson p-value  Spearman Correlation  \\\n",
       "7                0.375532         0.024008              0.351760   \n",
       "8                0.361013         0.030528              0.243001   \n",
       "9                0.138318         0.421111              0.163975   \n",
       "10               0.072427         0.674648              0.126898   \n",
       "11               0.082064         0.634210              0.151094   \n",
       "...                   ...              ...                   ...   \n",
       "8743             0.155460         0.365273              0.024710   \n",
       "8744             0.250314         0.140903              0.157786   \n",
       "8745             0.131755         0.443687              0.099118   \n",
       "8746             0.010431         0.951856              0.031407   \n",
       "8747            -0.043982         0.798952             -0.042216   \n",
       "\n",
       "      Spearman p-value  Mutual Information                      Time  \n",
       "7             0.035393            0.000000 2022-09-01 07:00:00+00:00  \n",
       "8             0.153274            0.000000 2022-09-01 08:00:00+00:00  \n",
       "9             0.339267            0.000000 2022-09-01 09:00:00+00:00  \n",
       "10            0.460813            0.010805 2022-09-01 10:00:00+00:00  \n",
       "11            0.379057            0.000000 2022-09-01 11:00:00+00:00  \n",
       "...                ...                 ...                       ...  \n",
       "8743          0.886249            0.000000 2023-08-31 07:00:00+00:00  \n",
       "8744          0.358053            0.090911 2023-08-31 08:00:00+00:00  \n",
       "8745          0.565196            0.000000 2023-08-31 09:00:00+00:00  \n",
       "8746          0.855712            0.121908 2023-08-31 10:00:00+00:00  \n",
       "8747          0.806869            0.028958 2023-08-31 11:00:00+00:00  \n",
       "\n",
       "[1825 rows x 9 columns]"
      ]
     },
     "execution_count": 19,
     "metadata": {},
     "output_type": "execute_result"
    }
   ],
   "source": [
    "stats_dict"
   ]
  },
  {
   "cell_type": "code",
   "execution_count": 85,
   "metadata": {},
   "outputs": [
    {
     "name": "stdout",
     "output_type": "stream",
     "text": [
      "Spearman corr > 0.3 BuAre_median 0.040547945205479455\n",
      "Spearman corr > 0.3 BuVol_3D_median 0.03726027397260274\n",
      "Spearman corr > 0.3 BuEWA_3D_median 0.0032876712328767125\n",
      "Spearman corr > 0.3 BuSWR_median 0.16219178082191782\n",
      "Spearman corr > 0.3 BuHt_wmean 0.15178082191780823\n",
      "Spearman corr > 0.3 BuHt_max 0.13534246575342465\n",
      "Spearman corr > 0.3 StrHW_mean 0.14904109589041095\n",
      "Spearman corr > 0.3 SVF_3D_mean 0.13534246575342465\n",
      "Spearman corr > 0.3 BuERI_mode 0.059726027397260274\n"
     ]
    }
   ],
   "source": [
    "for i in vars:\n",
    "    stats_dict = pd.read_csv(f'/Users/lisawink/Documents/paper1/data/processed_data/diurnal/all_year/{year,i,radius}.csv') \n",
    "    stats_dict['Time']=pd.to_datetime(stats_dict['Time'])\n",
    "    stats_dict = stats_dict[stats_dict['Time'].dt.hour.isin([7,8,9,10,11])]\n",
    "    print('Spearman corr > 0.3',i,len(stats_dict[(((stats_dict['Spearman Correlation'] > 0.3) | (stats_dict['Spearman Correlation'] < -0.3))) & (stats_dict['Spearman p-value'] < 0.005)]) / len(stats_dict))\n",
    "    #print('Spearman corr > 0.7',i,len(stats_dict[(stats_dict['Spearman Correlation'] > 0.7) | (stats_dict['Spearman Correlation'] < -0.7)]) / len(stats_dict))\n",
    "    #print('Spearman p-val < 0.05',i,len(stats_dict[(stats_dict['Spearman p-value'] < 0.005)]) / len(stats_dict))"
   ]
  },
  {
   "cell_type": "code",
   "execution_count": 78,
   "metadata": {},
   "outputs": [
    {
     "name": "stdout",
     "output_type": "stream",
     "text": [
      "Spearman corr > 0.6 BuAre_sum 0.08602739726027397\n",
      "Spearman corr > 0.7 BuAre_sum 0.030136986301369864\n",
      "Spearman p-val < 0.05 BuAre_sum 0.19726027397260273\n",
      "Spearman corr > 0.6 BuVol_3D_sum 0.08547945205479453\n",
      "Spearman corr > 0.7 BuVol_3D_sum 0.027945205479452055\n",
      "Spearman p-val < 0.05 BuVol_3D_sum 0.1736986301369863\n",
      "Spearman corr > 0.6 BuEWA_3D_sum 0.08\n",
      "Spearman corr > 0.7 BuEWA_3D_sum 0.030136986301369864\n",
      "Spearman p-val < 0.05 BuEWA_3D_sum 0.16602739726027396\n",
      "Spearman corr > 0.6 BuIBD 0.03123287671232877\n",
      "Spearman corr > 0.7 BuIBD 0.007671232876712329\n",
      "Spearman p-val < 0.05 BuIBD 0.10849315068493151\n",
      "Spearman corr > 0.6 BuAdj 0.07013698630136986\n",
      "Spearman corr > 0.7 BuAdj 0.02684931506849315\n",
      "Spearman p-val < 0.05 BuAdj 0.16821917808219178\n",
      "Spearman corr > 0.6 BuSWR_3D_median 0.04328767123287671\n",
      "Spearman corr > 0.7 BuSWR_3D_median 0.01315068493150685\n",
      "Spearman p-val < 0.05 BuSWR_3D_median 0.136986301369863\n",
      "Spearman corr > 0.6 BuHt_wmean 0.0536986301369863\n",
      "Spearman corr > 0.7 BuHt_wmean 0.020821917808219178\n",
      "Spearman p-val < 0.05 BuHt_wmean 0.15178082191780823\n",
      "Spearman corr > 0.6 StrHW_median 0.08273972602739726\n",
      "Spearman corr > 0.7 StrHW_median 0.03945205479452055\n",
      "Spearman p-val < 0.05 StrHW_median 0.15013698630136987\n",
      "Spearman corr > 0.6 SVF_3D_mean 0.05315068493150685\n",
      "Spearman corr > 0.7 SVF_3D_mean 0.01863013698630137\n",
      "Spearman p-val < 0.05 SVF_3D_mean 0.13534246575342465\n",
      "Spearman corr > 0.6 BuERI_wmean 0.0027397260273972603\n",
      "Spearman corr > 0.7 BuERI_wmean 0.0\n",
      "Spearman p-val < 0.05 BuERI_wmean 0.09698630136986301\n",
      "Spearman corr > 0.6 StrClo400_median 0.0032876712328767125\n",
      "Spearman corr > 0.7 StrClo400_median 0.0\n",
      "Spearman p-val < 0.05 StrClo400_median 0.028493150684931506\n"
     ]
    }
   ],
   "source": [
    "for i in vars_to_plot:\n",
    "    stats_dict = pd.read_csv(f'/Users/lisawink/Documents/paper1/data/processed_data/diurnal/all_year/{year,i,radius}.csv') \n",
    "    stats_dict['Time']=pd.to_datetime(stats_dict['Time'])\n",
    "    stats_dict = stats_dict[stats_dict['Time'].dt.hour.isin([7,8,9,10,11])]\n",
    "    print('Spearman corr > 0.6',i,len(stats_dict[(stats_dict['Spearman Correlation'] > 0.6) | (stats_dict['Spearman Correlation'] < -0.6)]) / len(stats_dict))\n",
    "    print('Spearman corr > 0.7',i,len(stats_dict[(stats_dict['Spearman Correlation'] > 0.7) | (stats_dict['Spearman Correlation'] < -0.7)]) / len(stats_dict))\n",
    "    print('Spearman p-val < 0.05',i,len(stats_dict[(stats_dict['Spearman p-value'] < 0.005)]) / len(stats_dict))"
   ]
  },
  {
   "cell_type": "code",
   "execution_count": null,
   "metadata": {},
   "outputs": [],
   "source": []
  }
 ],
 "metadata": {
  "kernelspec": {
   "display_name": "py312_uscuni_buildingfootprints",
   "language": "python",
   "name": "python3"
  },
  "language_info": {
   "codemirror_mode": {
    "name": "ipython",
    "version": 3
   },
   "file_extension": ".py",
   "mimetype": "text/x-python",
   "name": "python",
   "nbconvert_exporter": "python",
   "pygments_lexer": "ipython3",
   "version": "3.12.2"
  }
 },
 "nbformat": 4,
 "nbformat_minor": 2
}
