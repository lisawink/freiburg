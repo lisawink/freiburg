{
 "cells": [
  {
   "cell_type": "code",
   "execution_count": 26,
   "metadata": {},
   "outputs": [],
   "source": [
    "import geopandas as gpd"
   ]
  },
  {
   "cell_type": "code",
   "execution_count": 27,
   "metadata": {},
   "outputs": [],
   "source": [
    "import numpy as np\n",
    "import pandas as pd\n",
    "from scipy.stats import spearmanr\n",
    "import statsmodels.api as sm\n",
    "\n",
    "def partial_spearman(y, x, control):\n",
    "    # Rank transform the variables\n",
    "    y_rank = pd.Series(y).rank()\n",
    "    x_rank = pd.Series(x).rank()\n",
    "    control_rank = pd.Series(control).rank()\n",
    "\n",
    "    # Regress out control from y and x\n",
    "    control_with_const = sm.add_constant(control_rank)\n",
    "    y_resid = sm.OLS(y_rank, control_with_const).fit().resid\n",
    "    x_resid = sm.OLS(x_rank, control_with_const).fit().resid\n",
    "\n",
    "    # Compute Spearman correlation of residuals\n",
    "    rho, p = spearmanr(y_resid, x_resid)\n",
    "    return rho, p\n",
    "\n"
   ]
  },
  {
   "cell_type": "code",
   "execution_count": 28,
   "metadata": {},
   "outputs": [],
   "source": [
    "i=300"
   ]
  },
  {
   "cell_type": "code",
   "execution_count": 29,
   "metadata": {},
   "outputs": [],
   "source": [
    "stn_buffers = gpd.read_parquet('/Users/lisawink/Documents/paper1/data/processed_data/mbike/270623_processed_station_params_' + str(i) + '.parquet')"
   ]
  },
  {
   "cell_type": "code",
   "execution_count": 30,
   "metadata": {},
   "outputs": [
    {
     "name": "stdout",
     "output_type": "stream",
     "text": [
      "BuAre_sum SignificanceResult(statistic=0.7195245121533279, pvalue=0.0)\n",
      "BuVol_3D_sum SignificanceResult(statistic=0.7238714707106089, pvalue=0.0)\n",
      "BuEWA_3D_sum SignificanceResult(statistic=0.7004659564158483, pvalue=0.0)\n",
      "BuIBD SignificanceResult(statistic=-0.4861278459702284, pvalue=0.0)\n",
      "BuAdj SignificanceResult(statistic=-0.6087434980924655, pvalue=0.0)\n",
      "BuSWR_3D_median SignificanceResult(statistic=0.5164056794403572, pvalue=0.0)\n",
      "BuHt_wmean SignificanceResult(statistic=0.571760902809407, pvalue=0.0)\n",
      "StrHW_median SignificanceResult(statistic=0.5233956650473369, pvalue=0.0)\n",
      "SVF_3D_mean SignificanceResult(statistic=-0.7082080163057006, pvalue=0.0)\n",
      "BuERI_mode SignificanceResult(statistic=-0.5224129377333145, pvalue=0.0)\n",
      "StrClo400_median SignificanceResult(statistic=0.398533351005574, pvalue=1.9268951463029676e-200)\n",
      "BuERI_wsum SignificanceResult(statistic=0.7150755929360922, pvalue=0.0)\n",
      "BuHt_wsum SignificanceResult(statistic=0.72399714347843, pvalue=0.0)\n",
      "BuRough_3D_wsum SignificanceResult(statistic=0.7324304708470681, pvalue=0.0)\n"
     ]
    }
   ],
   "source": [
    "# spearman correlation of data\n",
    "from scipy.stats import pearsonr, spearmanr\n",
    "params = ['BuAre_sum', 'BuVol_3D_sum', 'BuEWA_3D_sum', 'BuIBD', 'BuAdj', 'BuSWR_3D_median', 'BuHt_wmean','StrHW_median','SVF_3D_mean', 'BuERI_mode','StrClo400_median','BuERI_wsum','BuHt_wsum','BuRough_3D_wsum']\n",
    "\n",
    "for i in params:\n",
    "\n",
    "    data = stn_buffers[[i,'Temperature_diff_K']].dropna()\n",
    "    spearman = spearmanr(data[i], data['Temperature_diff_K'])\n",
    "    print(i, spearman)"
   ]
  },
  {
   "cell_type": "code",
   "execution_count": 39,
   "metadata": {},
   "outputs": [],
   "source": [
    "params = ['BuAre_sum','BuVol_3D_sum', 'BuEWA_3D_sum', 'BuIBD', 'BuAdj', 'BuSWR_3D_median', 'BuHt_wmean','StrHW_median','SVF_3D_mean', 'BuERI_mode','StrClo400_median','BuERI_wsum','BuHt_wsum','BuRough_3D_wsum']\n",
    "\n",
    "# loop through parameters and calculate partial spearman correlation for each parameter to get a matrix of partial correlations\n",
    "partial_corr_matrix = pd.DataFrame(index=params, columns=params)\n",
    "for i in params:\n",
    "    for j in params:\n",
    "        if i == j:\n",
    "            partial_corr_matrix.loc[i, j] = 0\n",
    "        else:\n",
    "            data = stn_buffers[['Temperature_diff_K',i,j]].dropna()\n",
    "            rho, p = partial_spearman(data['Temperature_diff_K'], data[i], data[j])\n",
    "            partial_corr_matrix.loc[i, j] = rho"
   ]
  },
  {
   "cell_type": "code",
   "execution_count": 40,
   "metadata": {},
   "outputs": [
    {
     "data": {
      "text/html": [
       "<div>\n",
       "<style scoped>\n",
       "    .dataframe tbody tr th:only-of-type {\n",
       "        vertical-align: middle;\n",
       "    }\n",
       "\n",
       "    .dataframe tbody tr th {\n",
       "        vertical-align: top;\n",
       "    }\n",
       "\n",
       "    .dataframe thead th {\n",
       "        text-align: right;\n",
       "    }\n",
       "</style>\n",
       "<table border=\"1\" class=\"dataframe\">\n",
       "  <thead>\n",
       "    <tr style=\"text-align: right;\">\n",
       "      <th></th>\n",
       "      <th>BuAre_sum</th>\n",
       "      <th>BuVol_3D_sum</th>\n",
       "      <th>BuEWA_3D_sum</th>\n",
       "      <th>BuIBD</th>\n",
       "      <th>BuAdj</th>\n",
       "      <th>BuSWR_3D_median</th>\n",
       "      <th>BuHt_wmean</th>\n",
       "      <th>StrHW_median</th>\n",
       "      <th>SVF_3D_mean</th>\n",
       "      <th>BuERI_mode</th>\n",
       "      <th>StrClo400_median</th>\n",
       "      <th>BuERI_wsum</th>\n",
       "      <th>BuHt_wsum</th>\n",
       "      <th>BuRough_3D_wsum</th>\n",
       "    </tr>\n",
       "  </thead>\n",
       "  <tbody>\n",
       "    <tr>\n",
       "      <th>BuAre_sum</th>\n",
       "      <td>0</td>\n",
       "      <td>0.068466</td>\n",
       "      <td>0.244892</td>\n",
       "      <td>0.567196</td>\n",
       "      <td>0.430666</td>\n",
       "      <td>0.519614</td>\n",
       "      <td>0.506213</td>\n",
       "      <td>0.441208</td>\n",
       "      <td>0.317486</td>\n",
       "      <td>0.558777</td>\n",
       "      <td>0.585398</td>\n",
       "      <td>0.066101</td>\n",
       "      <td>0.06816</td>\n",
       "      <td>0.018218</td>\n",
       "    </tr>\n",
       "    <tr>\n",
       "      <th>BuVol_3D_sum</th>\n",
       "      <td>0.200862</td>\n",
       "      <td>0</td>\n",
       "      <td>0.327193</td>\n",
       "      <td>0.587009</td>\n",
       "      <td>0.431694</td>\n",
       "      <td>0.525973</td>\n",
       "      <td>0.512147</td>\n",
       "      <td>0.458843</td>\n",
       "      <td>0.33477</td>\n",
       "      <td>0.566696</td>\n",
       "      <td>0.59208</td>\n",
       "      <td>0.216118</td>\n",
       "      <td>0.002935</td>\n",
       "      <td>0.096959</td>\n",
       "    </tr>\n",
       "    <tr>\n",
       "      <th>BuEWA_3D_sum</th>\n",
       "      <td>-0.035345</td>\n",
       "      <td>-0.182701</td>\n",
       "      <td>0</td>\n",
       "      <td>0.54202</td>\n",
       "      <td>0.385326</td>\n",
       "      <td>0.480616</td>\n",
       "      <td>0.447073</td>\n",
       "      <td>0.395312</td>\n",
       "      <td>0.207165</td>\n",
       "      <td>0.533079</td>\n",
       "      <td>0.552469</td>\n",
       "      <td>0.007664</td>\n",
       "      <td>-0.186315</td>\n",
       "      <td>-0.025876</td>\n",
       "    </tr>\n",
       "    <tr>\n",
       "      <th>BuIBD</th>\n",
       "      <td>0.091669</td>\n",
       "      <td>0.05977</td>\n",
       "      <td>0.08201</td>\n",
       "      <td>0</td>\n",
       "      <td>-0.023439</td>\n",
       "      <td>-0.1427</td>\n",
       "      <td>-0.244742</td>\n",
       "      <td>-0.11158</td>\n",
       "      <td>0.045491</td>\n",
       "      <td>-0.342622</td>\n",
       "      <td>-0.231444</td>\n",
       "      <td>0.115284</td>\n",
       "      <td>0.059827</td>\n",
       "      <td>0.00108</td>\n",
       "    </tr>\n",
       "    <tr>\n",
       "      <th>BuAdj</th>\n",
       "      <td>-0.234905</td>\n",
       "      <td>-0.201296</td>\n",
       "      <td>-0.234422</td>\n",
       "      <td>-0.434867</td>\n",
       "      <td>0</td>\n",
       "      <td>-0.354778</td>\n",
       "      <td>-0.40326</td>\n",
       "      <td>-0.32062</td>\n",
       "      <td>-0.26282</td>\n",
       "      <td>-0.483779</td>\n",
       "      <td>-0.453037</td>\n",
       "      <td>-0.226572</td>\n",
       "      <td>-0.198904</td>\n",
       "      <td>-0.232483</td>\n",
       "    </tr>\n",
       "    <tr>\n",
       "      <th>BuSWR_3D_median</th>\n",
       "      <td>0.092124</td>\n",
       "      <td>0.065857</td>\n",
       "      <td>0.094549</td>\n",
       "      <td>0.277325</td>\n",
       "      <td>-0.035222</td>\n",
       "      <td>0</td>\n",
       "      <td>0.301661</td>\n",
       "      <td>0.180353</td>\n",
       "      <td>0.124318</td>\n",
       "      <td>0.39716</td>\n",
       "      <td>0.257543</td>\n",
       "      <td>0.076702</td>\n",
       "      <td>0.064488</td>\n",
       "      <td>0.113631</td>\n",
       "    </tr>\n",
       "    <tr>\n",
       "      <th>BuHt_wmean</th>\n",
       "      <td>0.142913</td>\n",
       "      <td>-0.093011</td>\n",
       "      <td>0.049373</td>\n",
       "      <td>0.411397</td>\n",
       "      <td>0.233944</td>\n",
       "      <td>0.345049</td>\n",
       "      <td>0</td>\n",
       "      <td>0.150228</td>\n",
       "      <td>0.138482</td>\n",
       "      <td>0.39518</td>\n",
       "      <td>0.426562</td>\n",
       "      <td>0.168296</td>\n",
       "      <td>-0.095351</td>\n",
       "      <td>0.094991</td>\n",
       "    </tr>\n",
       "    <tr>\n",
       "      <th>StrHW_median</th>\n",
       "      <td>0.097883</td>\n",
       "      <td>-0.025407</td>\n",
       "      <td>0.071547</td>\n",
       "      <td>0.347189</td>\n",
       "      <td>0.18286</td>\n",
       "      <td>0.287521</td>\n",
       "      <td>0.206261</td>\n",
       "      <td>0</td>\n",
       "      <td>0.126145</td>\n",
       "      <td>0.395508</td>\n",
       "      <td>0.367191</td>\n",
       "      <td>0.105566</td>\n",
       "      <td>-0.027822</td>\n",
       "      <td>0.106604</td>\n",
       "    </tr>\n",
       "    <tr>\n",
       "      <th>SVF_3D_mean</th>\n",
       "      <td>-0.026567</td>\n",
       "      <td>0.054915</td>\n",
       "      <td>0.016056</td>\n",
       "      <td>-0.480376</td>\n",
       "      <td>-0.364462</td>\n",
       "      <td>-0.440719</td>\n",
       "      <td>-0.403459</td>\n",
       "      <td>-0.350444</td>\n",
       "      <td>0</td>\n",
       "      <td>-0.494709</td>\n",
       "      <td>-0.517469</td>\n",
       "      <td>-0.023411</td>\n",
       "      <td>0.054103</td>\n",
       "      <td>-0.03269</td>\n",
       "    </tr>\n",
       "    <tr>\n",
       "      <th>BuERI_mode</th>\n",
       "      <td>-0.027718</td>\n",
       "      <td>-0.007231</td>\n",
       "      <td>-0.012912</td>\n",
       "      <td>-0.335119</td>\n",
       "      <td>-0.248487</td>\n",
       "      <td>-0.328306</td>\n",
       "      <td>-0.268627</td>\n",
       "      <td>-0.225962</td>\n",
       "      <td>-0.110703</td>\n",
       "      <td>0</td>\n",
       "      <td>-0.350913</td>\n",
       "      <td>-0.071756</td>\n",
       "      <td>-0.008893</td>\n",
       "      <td>0.00621</td>\n",
       "    </tr>\n",
       "    <tr>\n",
       "      <th>StrClo400_median</th>\n",
       "      <td>-0.084228</td>\n",
       "      <td>-0.044783</td>\n",
       "      <td>-0.06321</td>\n",
       "      <td>0.105212</td>\n",
       "      <td>0.019869</td>\n",
       "      <td>0.132415</td>\n",
       "      <td>0.213666</td>\n",
       "      <td>0.095215</td>\n",
       "      <td>-0.028756</td>\n",
       "      <td>0.277483</td>\n",
       "      <td>0</td>\n",
       "      <td>-0.100311</td>\n",
       "      <td>-0.045885</td>\n",
       "      <td>-0.00711</td>\n",
       "    </tr>\n",
       "    <tr>\n",
       "      <th>BuERI_wsum</th>\n",
       "      <td>0.012568</td>\n",
       "      <td>0.077582</td>\n",
       "      <td>0.227151</td>\n",
       "      <td>0.560482</td>\n",
       "      <td>0.423963</td>\n",
       "      <td>0.511992</td>\n",
       "      <td>0.500878</td>\n",
       "      <td>0.432291</td>\n",
       "      <td>0.305674</td>\n",
       "      <td>0.556614</td>\n",
       "      <td>0.579141</td>\n",
       "      <td>0</td>\n",
       "      <td>0.076493</td>\n",
       "      <td>0.043067</td>\n",
       "    </tr>\n",
       "    <tr>\n",
       "      <th>BuHt_wsum</th>\n",
       "      <td>0.200451</td>\n",
       "      <td>-0.002399</td>\n",
       "      <td>0.332098</td>\n",
       "      <td>0.587521</td>\n",
       "      <td>0.432085</td>\n",
       "      <td>0.526076</td>\n",
       "      <td>0.513283</td>\n",
       "      <td>0.458988</td>\n",
       "      <td>0.33473</td>\n",
       "      <td>0.566602</td>\n",
       "      <td>0.592209</td>\n",
       "      <td>0.216938</td>\n",
       "      <td>0</td>\n",
       "      <td>0.098551</td>\n",
       "    </tr>\n",
       "    <tr>\n",
       "      <th>BuRough_3D_wsum</th>\n",
       "      <td>0.225549</td>\n",
       "      <td>0.156663</td>\n",
       "      <td>0.298418</td>\n",
       "      <td>0.597334</td>\n",
       "      <td>0.470017</td>\n",
       "      <td>0.552262</td>\n",
       "      <td>0.532041</td>\n",
       "      <td>0.493211</td>\n",
       "      <td>0.349695</td>\n",
       "      <td>0.581201</td>\n",
       "      <td>0.615072</td>\n",
       "      <td>0.23415</td>\n",
       "      <td>0.156586</td>\n",
       "      <td>0</td>\n",
       "    </tr>\n",
       "  </tbody>\n",
       "</table>\n",
       "</div>"
      ],
      "text/plain": [
       "                 BuAre_sum BuVol_3D_sum BuEWA_3D_sum     BuIBD     BuAdj  \\\n",
       "BuAre_sum                0     0.068466     0.244892  0.567196  0.430666   \n",
       "BuVol_3D_sum      0.200862            0     0.327193  0.587009  0.431694   \n",
       "BuEWA_3D_sum     -0.035345    -0.182701            0   0.54202  0.385326   \n",
       "BuIBD             0.091669      0.05977      0.08201         0 -0.023439   \n",
       "BuAdj            -0.234905    -0.201296    -0.234422 -0.434867         0   \n",
       "BuSWR_3D_median   0.092124     0.065857     0.094549  0.277325 -0.035222   \n",
       "BuHt_wmean        0.142913    -0.093011     0.049373  0.411397  0.233944   \n",
       "StrHW_median      0.097883    -0.025407     0.071547  0.347189   0.18286   \n",
       "SVF_3D_mean      -0.026567     0.054915     0.016056 -0.480376 -0.364462   \n",
       "BuERI_mode       -0.027718    -0.007231    -0.012912 -0.335119 -0.248487   \n",
       "StrClo400_median -0.084228    -0.044783     -0.06321  0.105212  0.019869   \n",
       "BuERI_wsum        0.012568     0.077582     0.227151  0.560482  0.423963   \n",
       "BuHt_wsum         0.200451    -0.002399     0.332098  0.587521  0.432085   \n",
       "BuRough_3D_wsum   0.225549     0.156663     0.298418  0.597334  0.470017   \n",
       "\n",
       "                 BuSWR_3D_median BuHt_wmean StrHW_median SVF_3D_mean  \\\n",
       "BuAre_sum               0.519614   0.506213     0.441208    0.317486   \n",
       "BuVol_3D_sum            0.525973   0.512147     0.458843     0.33477   \n",
       "BuEWA_3D_sum            0.480616   0.447073     0.395312    0.207165   \n",
       "BuIBD                    -0.1427  -0.244742     -0.11158    0.045491   \n",
       "BuAdj                  -0.354778   -0.40326     -0.32062    -0.26282   \n",
       "BuSWR_3D_median                0   0.301661     0.180353    0.124318   \n",
       "BuHt_wmean              0.345049          0     0.150228    0.138482   \n",
       "StrHW_median            0.287521   0.206261            0    0.126145   \n",
       "SVF_3D_mean            -0.440719  -0.403459    -0.350444           0   \n",
       "BuERI_mode             -0.328306  -0.268627    -0.225962   -0.110703   \n",
       "StrClo400_median        0.132415   0.213666     0.095215   -0.028756   \n",
       "BuERI_wsum              0.511992   0.500878     0.432291    0.305674   \n",
       "BuHt_wsum               0.526076   0.513283     0.458988     0.33473   \n",
       "BuRough_3D_wsum         0.552262   0.532041     0.493211    0.349695   \n",
       "\n",
       "                 BuERI_mode StrClo400_median BuERI_wsum BuHt_wsum  \\\n",
       "BuAre_sum          0.558777         0.585398   0.066101   0.06816   \n",
       "BuVol_3D_sum       0.566696          0.59208   0.216118  0.002935   \n",
       "BuEWA_3D_sum       0.533079         0.552469   0.007664 -0.186315   \n",
       "BuIBD             -0.342622        -0.231444   0.115284  0.059827   \n",
       "BuAdj             -0.483779        -0.453037  -0.226572 -0.198904   \n",
       "BuSWR_3D_median     0.39716         0.257543   0.076702  0.064488   \n",
       "BuHt_wmean          0.39518         0.426562   0.168296 -0.095351   \n",
       "StrHW_median       0.395508         0.367191   0.105566 -0.027822   \n",
       "SVF_3D_mean       -0.494709        -0.517469  -0.023411  0.054103   \n",
       "BuERI_mode                0        -0.350913  -0.071756 -0.008893   \n",
       "StrClo400_median   0.277483                0  -0.100311 -0.045885   \n",
       "BuERI_wsum         0.556614         0.579141          0  0.076493   \n",
       "BuHt_wsum          0.566602         0.592209   0.216938         0   \n",
       "BuRough_3D_wsum    0.581201         0.615072    0.23415  0.156586   \n",
       "\n",
       "                 BuRough_3D_wsum  \n",
       "BuAre_sum               0.018218  \n",
       "BuVol_3D_sum            0.096959  \n",
       "BuEWA_3D_sum           -0.025876  \n",
       "BuIBD                    0.00108  \n",
       "BuAdj                  -0.232483  \n",
       "BuSWR_3D_median         0.113631  \n",
       "BuHt_wmean              0.094991  \n",
       "StrHW_median            0.106604  \n",
       "SVF_3D_mean             -0.03269  \n",
       "BuERI_mode               0.00621  \n",
       "StrClo400_median        -0.00711  \n",
       "BuERI_wsum              0.043067  \n",
       "BuHt_wsum               0.098551  \n",
       "BuRough_3D_wsum                0  "
      ]
     },
     "execution_count": 40,
     "metadata": {},
     "output_type": "execute_result"
    }
   ],
   "source": [
    "partial_corr_matrix"
   ]
  },
  {
   "cell_type": "code",
   "execution_count": 41,
   "metadata": {},
   "outputs": [
    {
     "data": {
      "text/html": [
       "<div>\n",
       "<style scoped>\n",
       "    .dataframe tbody tr th:only-of-type {\n",
       "        vertical-align: middle;\n",
       "    }\n",
       "\n",
       "    .dataframe tbody tr th {\n",
       "        vertical-align: top;\n",
       "    }\n",
       "\n",
       "    .dataframe thead th {\n",
       "        text-align: right;\n",
       "    }\n",
       "</style>\n",
       "<table border=\"1\" class=\"dataframe\">\n",
       "  <thead>\n",
       "    <tr style=\"text-align: right;\">\n",
       "      <th></th>\n",
       "      <th>BuAre_sum</th>\n",
       "      <th>BuVol_3D_sum</th>\n",
       "      <th>BuEWA_3D_sum</th>\n",
       "      <th>BuIBD</th>\n",
       "      <th>BuAdj</th>\n",
       "      <th>BuSWR_3D_median</th>\n",
       "      <th>BuHt_wmean</th>\n",
       "      <th>StrHW_median</th>\n",
       "      <th>SVF_3D_mean</th>\n",
       "      <th>BuERI_mode</th>\n",
       "      <th>StrClo400_median</th>\n",
       "      <th>BuERI_wsum</th>\n",
       "      <th>BuHt_wsum</th>\n",
       "      <th>BuRough_3D_wsum</th>\n",
       "    </tr>\n",
       "  </thead>\n",
       "  <tbody>\n",
       "    <tr>\n",
       "      <th>BuAre_sum</th>\n",
       "      <td>0</td>\n",
       "      <td>0.068466</td>\n",
       "      <td>0.244892</td>\n",
       "      <td>0.567196</td>\n",
       "      <td>0.430666</td>\n",
       "      <td>0.519614</td>\n",
       "      <td>0.506213</td>\n",
       "      <td>0.441208</td>\n",
       "      <td>0.317486</td>\n",
       "      <td>0.558777</td>\n",
       "      <td>0.585398</td>\n",
       "      <td>0.066101</td>\n",
       "      <td>0.06816</td>\n",
       "      <td>0.018218</td>\n",
       "    </tr>\n",
       "    <tr>\n",
       "      <th>BuVol_3D_sum</th>\n",
       "      <td>0.200862</td>\n",
       "      <td>0</td>\n",
       "      <td>0.327193</td>\n",
       "      <td>0.587009</td>\n",
       "      <td>0.431694</td>\n",
       "      <td>0.525973</td>\n",
       "      <td>0.512147</td>\n",
       "      <td>0.458843</td>\n",
       "      <td>0.33477</td>\n",
       "      <td>0.566696</td>\n",
       "      <td>0.59208</td>\n",
       "      <td>0.216118</td>\n",
       "      <td>0.002935</td>\n",
       "      <td>0.096959</td>\n",
       "    </tr>\n",
       "    <tr>\n",
       "      <th>BuEWA_3D_sum</th>\n",
       "      <td>0.035345</td>\n",
       "      <td>0.182701</td>\n",
       "      <td>0</td>\n",
       "      <td>0.54202</td>\n",
       "      <td>0.385326</td>\n",
       "      <td>0.480616</td>\n",
       "      <td>0.447073</td>\n",
       "      <td>0.395312</td>\n",
       "      <td>0.207165</td>\n",
       "      <td>0.533079</td>\n",
       "      <td>0.552469</td>\n",
       "      <td>0.007664</td>\n",
       "      <td>0.186315</td>\n",
       "      <td>0.025876</td>\n",
       "    </tr>\n",
       "    <tr>\n",
       "      <th>BuIBD</th>\n",
       "      <td>0.091669</td>\n",
       "      <td>0.05977</td>\n",
       "      <td>0.08201</td>\n",
       "      <td>0</td>\n",
       "      <td>0.023439</td>\n",
       "      <td>0.1427</td>\n",
       "      <td>0.244742</td>\n",
       "      <td>0.11158</td>\n",
       "      <td>0.045491</td>\n",
       "      <td>0.342622</td>\n",
       "      <td>0.231444</td>\n",
       "      <td>0.115284</td>\n",
       "      <td>0.059827</td>\n",
       "      <td>0.00108</td>\n",
       "    </tr>\n",
       "    <tr>\n",
       "      <th>BuAdj</th>\n",
       "      <td>0.234905</td>\n",
       "      <td>0.201296</td>\n",
       "      <td>0.234422</td>\n",
       "      <td>0.434867</td>\n",
       "      <td>0</td>\n",
       "      <td>0.354778</td>\n",
       "      <td>0.40326</td>\n",
       "      <td>0.32062</td>\n",
       "      <td>0.26282</td>\n",
       "      <td>0.483779</td>\n",
       "      <td>0.453037</td>\n",
       "      <td>0.226572</td>\n",
       "      <td>0.198904</td>\n",
       "      <td>0.232483</td>\n",
       "    </tr>\n",
       "    <tr>\n",
       "      <th>BuSWR_3D_median</th>\n",
       "      <td>0.092124</td>\n",
       "      <td>0.065857</td>\n",
       "      <td>0.094549</td>\n",
       "      <td>0.277325</td>\n",
       "      <td>0.035222</td>\n",
       "      <td>0</td>\n",
       "      <td>0.301661</td>\n",
       "      <td>0.180353</td>\n",
       "      <td>0.124318</td>\n",
       "      <td>0.39716</td>\n",
       "      <td>0.257543</td>\n",
       "      <td>0.076702</td>\n",
       "      <td>0.064488</td>\n",
       "      <td>0.113631</td>\n",
       "    </tr>\n",
       "    <tr>\n",
       "      <th>BuHt_wmean</th>\n",
       "      <td>0.142913</td>\n",
       "      <td>0.093011</td>\n",
       "      <td>0.049373</td>\n",
       "      <td>0.411397</td>\n",
       "      <td>0.233944</td>\n",
       "      <td>0.345049</td>\n",
       "      <td>0</td>\n",
       "      <td>0.150228</td>\n",
       "      <td>0.138482</td>\n",
       "      <td>0.39518</td>\n",
       "      <td>0.426562</td>\n",
       "      <td>0.168296</td>\n",
       "      <td>0.095351</td>\n",
       "      <td>0.094991</td>\n",
       "    </tr>\n",
       "    <tr>\n",
       "      <th>StrHW_median</th>\n",
       "      <td>0.097883</td>\n",
       "      <td>0.025407</td>\n",
       "      <td>0.071547</td>\n",
       "      <td>0.347189</td>\n",
       "      <td>0.18286</td>\n",
       "      <td>0.287521</td>\n",
       "      <td>0.206261</td>\n",
       "      <td>0</td>\n",
       "      <td>0.126145</td>\n",
       "      <td>0.395508</td>\n",
       "      <td>0.367191</td>\n",
       "      <td>0.105566</td>\n",
       "      <td>0.027822</td>\n",
       "      <td>0.106604</td>\n",
       "    </tr>\n",
       "    <tr>\n",
       "      <th>SVF_3D_mean</th>\n",
       "      <td>0.026567</td>\n",
       "      <td>0.054915</td>\n",
       "      <td>0.016056</td>\n",
       "      <td>0.480376</td>\n",
       "      <td>0.364462</td>\n",
       "      <td>0.440719</td>\n",
       "      <td>0.403459</td>\n",
       "      <td>0.350444</td>\n",
       "      <td>0</td>\n",
       "      <td>0.494709</td>\n",
       "      <td>0.517469</td>\n",
       "      <td>0.023411</td>\n",
       "      <td>0.054103</td>\n",
       "      <td>0.03269</td>\n",
       "    </tr>\n",
       "    <tr>\n",
       "      <th>BuERI_mode</th>\n",
       "      <td>0.027718</td>\n",
       "      <td>0.007231</td>\n",
       "      <td>0.012912</td>\n",
       "      <td>0.335119</td>\n",
       "      <td>0.248487</td>\n",
       "      <td>0.328306</td>\n",
       "      <td>0.268627</td>\n",
       "      <td>0.225962</td>\n",
       "      <td>0.110703</td>\n",
       "      <td>0</td>\n",
       "      <td>0.350913</td>\n",
       "      <td>0.071756</td>\n",
       "      <td>0.008893</td>\n",
       "      <td>0.00621</td>\n",
       "    </tr>\n",
       "    <tr>\n",
       "      <th>StrClo400_median</th>\n",
       "      <td>0.084228</td>\n",
       "      <td>0.044783</td>\n",
       "      <td>0.06321</td>\n",
       "      <td>0.105212</td>\n",
       "      <td>0.019869</td>\n",
       "      <td>0.132415</td>\n",
       "      <td>0.213666</td>\n",
       "      <td>0.095215</td>\n",
       "      <td>0.028756</td>\n",
       "      <td>0.277483</td>\n",
       "      <td>0</td>\n",
       "      <td>0.100311</td>\n",
       "      <td>0.045885</td>\n",
       "      <td>0.00711</td>\n",
       "    </tr>\n",
       "    <tr>\n",
       "      <th>BuERI_wsum</th>\n",
       "      <td>0.012568</td>\n",
       "      <td>0.077582</td>\n",
       "      <td>0.227151</td>\n",
       "      <td>0.560482</td>\n",
       "      <td>0.423963</td>\n",
       "      <td>0.511992</td>\n",
       "      <td>0.500878</td>\n",
       "      <td>0.432291</td>\n",
       "      <td>0.305674</td>\n",
       "      <td>0.556614</td>\n",
       "      <td>0.579141</td>\n",
       "      <td>0</td>\n",
       "      <td>0.076493</td>\n",
       "      <td>0.043067</td>\n",
       "    </tr>\n",
       "    <tr>\n",
       "      <th>BuHt_wsum</th>\n",
       "      <td>0.200451</td>\n",
       "      <td>0.002399</td>\n",
       "      <td>0.332098</td>\n",
       "      <td>0.587521</td>\n",
       "      <td>0.432085</td>\n",
       "      <td>0.526076</td>\n",
       "      <td>0.513283</td>\n",
       "      <td>0.458988</td>\n",
       "      <td>0.33473</td>\n",
       "      <td>0.566602</td>\n",
       "      <td>0.592209</td>\n",
       "      <td>0.216938</td>\n",
       "      <td>0</td>\n",
       "      <td>0.098551</td>\n",
       "    </tr>\n",
       "    <tr>\n",
       "      <th>BuRough_3D_wsum</th>\n",
       "      <td>0.225549</td>\n",
       "      <td>0.156663</td>\n",
       "      <td>0.298418</td>\n",
       "      <td>0.597334</td>\n",
       "      <td>0.470017</td>\n",
       "      <td>0.552262</td>\n",
       "      <td>0.532041</td>\n",
       "      <td>0.493211</td>\n",
       "      <td>0.349695</td>\n",
       "      <td>0.581201</td>\n",
       "      <td>0.615072</td>\n",
       "      <td>0.23415</td>\n",
       "      <td>0.156586</td>\n",
       "      <td>0</td>\n",
       "    </tr>\n",
       "  </tbody>\n",
       "</table>\n",
       "</div>"
      ],
      "text/plain": [
       "                 BuAre_sum BuVol_3D_sum BuEWA_3D_sum     BuIBD     BuAdj  \\\n",
       "BuAre_sum                0     0.068466     0.244892  0.567196  0.430666   \n",
       "BuVol_3D_sum      0.200862            0     0.327193  0.587009  0.431694   \n",
       "BuEWA_3D_sum      0.035345     0.182701            0   0.54202  0.385326   \n",
       "BuIBD             0.091669      0.05977      0.08201         0  0.023439   \n",
       "BuAdj             0.234905     0.201296     0.234422  0.434867         0   \n",
       "BuSWR_3D_median   0.092124     0.065857     0.094549  0.277325  0.035222   \n",
       "BuHt_wmean        0.142913     0.093011     0.049373  0.411397  0.233944   \n",
       "StrHW_median      0.097883     0.025407     0.071547  0.347189   0.18286   \n",
       "SVF_3D_mean       0.026567     0.054915     0.016056  0.480376  0.364462   \n",
       "BuERI_mode        0.027718     0.007231     0.012912  0.335119  0.248487   \n",
       "StrClo400_median  0.084228     0.044783      0.06321  0.105212  0.019869   \n",
       "BuERI_wsum        0.012568     0.077582     0.227151  0.560482  0.423963   \n",
       "BuHt_wsum         0.200451     0.002399     0.332098  0.587521  0.432085   \n",
       "BuRough_3D_wsum   0.225549     0.156663     0.298418  0.597334  0.470017   \n",
       "\n",
       "                 BuSWR_3D_median BuHt_wmean StrHW_median SVF_3D_mean  \\\n",
       "BuAre_sum               0.519614   0.506213     0.441208    0.317486   \n",
       "BuVol_3D_sum            0.525973   0.512147     0.458843     0.33477   \n",
       "BuEWA_3D_sum            0.480616   0.447073     0.395312    0.207165   \n",
       "BuIBD                     0.1427   0.244742      0.11158    0.045491   \n",
       "BuAdj                   0.354778    0.40326      0.32062     0.26282   \n",
       "BuSWR_3D_median                0   0.301661     0.180353    0.124318   \n",
       "BuHt_wmean              0.345049          0     0.150228    0.138482   \n",
       "StrHW_median            0.287521   0.206261            0    0.126145   \n",
       "SVF_3D_mean             0.440719   0.403459     0.350444           0   \n",
       "BuERI_mode              0.328306   0.268627     0.225962    0.110703   \n",
       "StrClo400_median        0.132415   0.213666     0.095215    0.028756   \n",
       "BuERI_wsum              0.511992   0.500878     0.432291    0.305674   \n",
       "BuHt_wsum               0.526076   0.513283     0.458988     0.33473   \n",
       "BuRough_3D_wsum         0.552262   0.532041     0.493211    0.349695   \n",
       "\n",
       "                 BuERI_mode StrClo400_median BuERI_wsum BuHt_wsum  \\\n",
       "BuAre_sum          0.558777         0.585398   0.066101   0.06816   \n",
       "BuVol_3D_sum       0.566696          0.59208   0.216118  0.002935   \n",
       "BuEWA_3D_sum       0.533079         0.552469   0.007664  0.186315   \n",
       "BuIBD              0.342622         0.231444   0.115284  0.059827   \n",
       "BuAdj              0.483779         0.453037   0.226572  0.198904   \n",
       "BuSWR_3D_median     0.39716         0.257543   0.076702  0.064488   \n",
       "BuHt_wmean          0.39518         0.426562   0.168296  0.095351   \n",
       "StrHW_median       0.395508         0.367191   0.105566  0.027822   \n",
       "SVF_3D_mean        0.494709         0.517469   0.023411  0.054103   \n",
       "BuERI_mode                0         0.350913   0.071756  0.008893   \n",
       "StrClo400_median   0.277483                0   0.100311  0.045885   \n",
       "BuERI_wsum         0.556614         0.579141          0  0.076493   \n",
       "BuHt_wsum          0.566602         0.592209   0.216938         0   \n",
       "BuRough_3D_wsum    0.581201         0.615072    0.23415  0.156586   \n",
       "\n",
       "                 BuRough_3D_wsum  \n",
       "BuAre_sum               0.018218  \n",
       "BuVol_3D_sum            0.096959  \n",
       "BuEWA_3D_sum            0.025876  \n",
       "BuIBD                    0.00108  \n",
       "BuAdj                   0.232483  \n",
       "BuSWR_3D_median         0.113631  \n",
       "BuHt_wmean              0.094991  \n",
       "StrHW_median            0.106604  \n",
       "SVF_3D_mean              0.03269  \n",
       "BuERI_mode               0.00621  \n",
       "StrClo400_median         0.00711  \n",
       "BuERI_wsum              0.043067  \n",
       "BuHt_wsum               0.098551  \n",
       "BuRough_3D_wsum                0  "
      ]
     },
     "execution_count": 41,
     "metadata": {},
     "output_type": "execute_result"
    }
   ],
   "source": [
    "abs(partial_corr_matrix)"
   ]
  },
  {
   "cell_type": "code",
   "execution_count": 55,
   "metadata": {},
   "outputs": [
    {
     "data": {
      "image/png": "[encoded data removed]",
      "text/plain": [
       "<Figure size 1000x800 with 2 Axes>"
      ]
     },
     "metadata": {},
     "output_type": "display_data"
    }
   ],
   "source": [
    "# make heatmap of partial correlation matrix\n",
    "import seaborn as sns\n",
    "import matplotlib.pyplot as plt\n",
    "plt.figure(figsize=(10, 8))\n",
    "sns.heatmap(abs(partial_corr_matrix.astype(float)).round(2), annot=True, cmap='viridis_r', center=0, square=True, cbar_kws={\"shrink\": .8}, vmin=0, vmax=0.6)\n",
    "plt.xticks(fontsize=12)\n",
    "plt.yticks(fontsize=12)\n",
    "plt.savefig('/Users/lisawink/Documents/paper1/figures/fig14/partial_corr_matrix.png', dpi=300, bbox_inches='tight')\n",
    "plt.savefig('/Users/lisawink/Documents/paper1/figures/fig14/partial_corr_matrix.svg', dpi=300, bbox_inches='tight')\n",
    "plt.show()"
   ]
  },
  {
   "cell_type": "code",
   "execution_count": null,
   "metadata": {},
   "outputs": [],
   "source": [
    "params = ['BuAre_sum','BuVol_3D_sum', 'BuEWA_3D_sum', 'BuIBD', 'BuAdj', 'BuSWR_3D_median', 'BuHt_wmean','StrHW_median','SVF_3D_mean', 'BuERI_mode','StrClo400_median','BuERI_wsum','BuHt_wsum','BuRough_3D_wsum']\n",
    "\n",
    "for i in params:\n",
    "\n",
    "    data = stn_buffers[['Temperature_diff_K',i,'BuAre_sum']].dropna()\n",
    "\n",
    "    y = data['Temperature_diff_K']\n",
    "    x2 = data[i]\n",
    "    x1 = data['BuAre_sum']\n",
    "    rho, pval = partial_spearman(y, x2, x1)\n",
    "    print(f\"{i},Partial Spearman correlation between Y and X2 controlling for X1: {rho:.3f}, p={pval:.3g}\")"
   ]
  },
  {
   "cell_type": "code",
   "execution_count": 64,
   "metadata": {},
   "outputs": [
    {
     "name": "stdout",
     "output_type": "stream",
     "text": [
      "BuVol_3D_sum,Partial Spearman correlation between Y and X2 controlling for X1: 0.201, p=5.77e-52\n",
      "Selecting 2 Best Predictors for the Model\n",
      "Selected Predictors :  ['X1', 'X2']\n",
      "\n",
      "********************  R-Squared of Complete Model :  ********************\n",
      "R Squared : 0.47757076350505245\n",
      "\n",
      "Selecting 2 Best Predictors for the Model\n",
      "Selected Predictors :  ['X1', 'X2']\n",
      "\n",
      "Creating models for 3 possible combinations of 2 features :\n"
     ]
    },
    {
     "name": "stderr",
     "output_type": "stream",
     "text": [
      "  0%|          | 0/2 [00:00<?, ?it/s]"
     ]
    },
    {
     "name": "stderr",
     "output_type": "stream",
     "text": [
      "100%|██████████| 2/2 [00:00<00:00, 145.36it/s]\n"
     ]
    },
    {
     "name": "stdout",
     "output_type": "stream",
     "text": [
      "#########################  Model Training Done!!!!!  #########################\n",
      "\n",
      "#########################  Calculating Variable Dominances  #########################\n"
     ]
    },
    {
     "name": "stderr",
     "output_type": "stream",
     "text": [
      "100%|██████████| 1/1 [00:00<00:00, 4744.69it/s]\n"
     ]
    },
    {
     "name": "stdout",
     "output_type": "stream",
     "text": [
      "#########################  Variable Dominance Calculation Done!!!!!  #########################\n",
      "\n",
      "Incremental R² for each variable (Shapley values):\n",
      "{'X1': 0.2748689184390391, 'X2': 0.20270184506601335}\n",
      "---------------------------------------------------------------------------------------------------------------\n",
      "BuEWA_3D_sum,Partial Spearman correlation between Y and X2 controlling for X1: -0.035, p=0.00823\n",
      "Selecting 2 Best Predictors for the Model\n",
      "Selected Predictors :  ['X1', 'X2']\n",
      "\n",
      "********************  R-Squared of Complete Model :  ********************\n",
      "R Squared : 0.46660615311941556\n",
      "\n",
      "Selecting 2 Best Predictors for the Model\n",
      "Selected Predictors :  ['X1', 'X2']\n",
      "\n",
      "Creating models for 3 possible combinations of 2 features :\n"
     ]
    },
    {
     "name": "stderr",
     "output_type": "stream",
     "text": [
      "100%|██████████| 2/2 [00:00<00:00, 172.38it/s]\n"
     ]
    },
    {
     "name": "stdout",
     "output_type": "stream",
     "text": [
      "#########################  Model Training Done!!!!!  #########################\n",
      "\n",
      "#########################  Calculating Variable Dominances  #########################\n"
     ]
    },
    {
     "name": "stderr",
     "output_type": "stream",
     "text": [
      "100%|██████████| 1/1 [00:00<00:00, 5592.41it/s]\n"
     ]
    },
    {
     "name": "stdout",
     "output_type": "stream",
     "text": [
      "#########################  Variable Dominance Calculation Done!!!!!  #########################\n",
      "\n",
      "Incremental R² for each variable (Shapley values):\n",
      "{'X1': 0.2518259827668328, 'X2': 0.21478017035258273}\n",
      "---------------------------------------------------------------------------------------------------------------\n",
      "BuIBD,Partial Spearman correlation between Y and X2 controlling for X1: 0.092, p=1.53e-11\n",
      "Selecting 2 Best Predictors for the Model\n",
      "Selected Predictors :  ['X1', 'X2']\n",
      "\n",
      "********************  R-Squared of Complete Model :  ********************\n",
      "R Squared : 0.4589001562493633\n",
      "\n",
      "Selecting 2 Best Predictors for the Model\n",
      "Selected Predictors :  ['X1', 'X2']\n",
      "\n",
      "Creating models for 3 possible combinations of 2 features :\n"
     ]
    },
    {
     "name": "stderr",
     "output_type": "stream",
     "text": [
      "100%|██████████| 2/2 [00:00<00:00, 162.87it/s]\n"
     ]
    },
    {
     "name": "stdout",
     "output_type": "stream",
     "text": [
      "#########################  Model Training Done!!!!!  #########################\n",
      "\n",
      "#########################  Calculating Variable Dominances  #########################\n"
     ]
    },
    {
     "name": "stderr",
     "output_type": "stream",
     "text": [
      "100%|██████████| 1/1 [00:00<00:00, 4782.56it/s]\n"
     ]
    },
    {
     "name": "stdout",
     "output_type": "stream",
     "text": [
      "#########################  Variable Dominance Calculation Done!!!!!  #########################\n",
      "\n",
      "Incremental R² for each variable (Shapley values):\n",
      "{'X1': 0.3411159039242165, 'X2': 0.11778425232514683}\n",
      "---------------------------------------------------------------------------------------------------------------\n",
      "BuAdj,Partial Spearman correlation between Y and X2 controlling for X1: -0.235, p=4.98e-69\n",
      "Selecting 2 Best Predictors for the Model\n",
      "Selected Predictors :  ['X1', 'X2']\n",
      "\n",
      "********************  R-Squared of Complete Model :  ********************\n",
      "R Squared : 0.4788134704871312\n",
      "\n",
      "Selecting 2 Best Predictors for the Model\n",
      "Selected Predictors :  ['X1', 'X2']\n",
      "\n",
      "Creating models for 3 possible combinations of 2 features :\n"
     ]
    },
    {
     "name": "stderr",
     "output_type": "stream",
     "text": [
      "100%|██████████| 2/2 [00:00<00:00, 180.45it/s]\n"
     ]
    },
    {
     "name": "stdout",
     "output_type": "stream",
     "text": [
      "#########################  Model Training Done!!!!!  #########################\n",
      "\n",
      "#########################  Calculating Variable Dominances  #########################\n"
     ]
    },
    {
     "name": "stderr",
     "output_type": "stream",
     "text": [
      "100%|██████████| 1/1 [00:00<00:00, 5356.71it/s]\n"
     ]
    },
    {
     "name": "stdout",
     "output_type": "stream",
     "text": [
      "#########################  Variable Dominance Calculation Done!!!!!  #########################\n",
      "\n",
      "Incremental R² for each variable (Shapley values):\n",
      "{'X1': 0.27373469993816185, 'X2': 0.20507877054896934}\n",
      "---------------------------------------------------------------------------------------------------------------\n",
      "BuSWR_3D_median,Partial Spearman correlation between Y and X2 controlling for X1: 0.092, p=1.11e-11\n",
      "Selecting 2 Best Predictors for the Model\n",
      "Selected Predictors :  ['X1', 'X2']\n",
      "\n",
      "********************  R-Squared of Complete Model :  ********************\n",
      "R Squared : 0.45981024260537906\n",
      "\n",
      "Selecting 2 Best Predictors for the Model\n",
      "Selected Predictors :  ['X1', 'X2']\n",
      "\n",
      "Creating models for 3 possible combinations of 2 features :\n"
     ]
    },
    {
     "name": "stderr",
     "output_type": "stream",
     "text": [
      "100%|██████████| 2/2 [00:00<00:00, 181.85it/s]\n"
     ]
    },
    {
     "name": "stdout",
     "output_type": "stream",
     "text": [
      "#########################  Model Training Done!!!!!  #########################\n",
      "\n",
      "#########################  Calculating Variable Dominances  #########################\n"
     ]
    },
    {
     "name": "stderr",
     "output_type": "stream",
     "text": [
      "100%|██████████| 1/1 [00:00<00:00, 50.80it/s]\n"
     ]
    },
    {
     "name": "stdout",
     "output_type": "stream",
     "text": [
      "#########################  Variable Dominance Calculation Done!!!!!  #########################\n",
      "\n",
      "Incremental R² for each variable (Shapley values):\n",
      "{'X1': 0.3314443134749406, 'X2': 0.12836592913043848}\n",
      "---------------------------------------------------------------------------------------------------------------\n",
      "BuHt_wmean,Partial Spearman correlation between Y and X2 controlling for X1: 0.143, p=6.83e-27\n",
      "Selecting 2 Best Predictors for the Model\n",
      "Selected Predictors :  ['X1', 'X2']\n",
      "\n",
      "********************  R-Squared of Complete Model :  ********************\n",
      "R Squared : 0.48828986901097415\n",
      "\n",
      "Selecting 2 Best Predictors for the Model\n",
      "Selected Predictors :  ['X1', 'X2']\n",
      "\n",
      "Creating models for 3 possible combinations of 2 features :\n"
     ]
    },
    {
     "name": "stderr",
     "output_type": "stream",
     "text": [
      "100%|██████████| 2/2 [00:00<00:00, 173.78it/s]\n"
     ]
    },
    {
     "name": "stdout",
     "output_type": "stream",
     "text": [
      "#########################  Model Training Done!!!!!  #########################\n",
      "\n",
      "#########################  Calculating Variable Dominances  #########################\n"
     ]
    },
    {
     "name": "stderr",
     "output_type": "stream",
     "text": [
      "100%|██████████| 1/1 [00:00<00:00, 5315.97it/s]\n"
     ]
    },
    {
     "name": "stdout",
     "output_type": "stream",
     "text": [
      "#########################  Variable Dominance Calculation Done!!!!!  #########################\n",
      "\n",
      "Incremental R² for each variable (Shapley values):\n",
      "{'X1': 0.3270235842767913, 'X2': 0.16126628473418286}\n",
      "---------------------------------------------------------------------------------------------------------------\n",
      "StrHW_median,Partial Spearman correlation between Y and X2 controlling for X1: 0.098, p=2.93e-12\n",
      "Selecting 2 Best Predictors for the Model\n",
      "Selected Predictors :  ['X1', 'X2']\n",
      "\n",
      "********************  R-Squared of Complete Model :  ********************\n",
      "R Squared : 0.4210618841860043\n",
      "\n",
      "Selecting 2 Best Predictors for the Model\n",
      "Selected Predictors :  ['X1', 'X2']\n",
      "\n",
      "Creating models for 3 possible combinations of 2 features :\n"
     ]
    },
    {
     "name": "stderr",
     "output_type": "stream",
     "text": [
      "100%|██████████| 2/2 [00:00<00:00, 179.99it/s]\n"
     ]
    },
    {
     "name": "stdout",
     "output_type": "stream",
     "text": [
      "#########################  Model Training Done!!!!!  #########################\n",
      "\n",
      "#########################  Calculating Variable Dominances  #########################\n"
     ]
    },
    {
     "name": "stderr",
     "output_type": "stream",
     "text": [
      "100%|██████████| 1/1 [00:00<00:00, 5262.61it/s]\n"
     ]
    },
    {
     "name": "stdout",
     "output_type": "stream",
     "text": [
      "#########################  Variable Dominance Calculation Done!!!!!  #########################\n",
      "\n",
      "Incremental R² for each variable (Shapley values):\n",
      "{'X1': 0.3081555854323103, 'X2': 0.11290629875369401}\n",
      "---------------------------------------------------------------------------------------------------------------\n",
      "SVF_3D_mean,Partial Spearman correlation between Y and X2 controlling for X1: -0.027, p=0.047\n",
      "Selecting 2 Best Predictors for the Model\n",
      "Selected Predictors :  ['X1', 'X2']\n",
      "\n",
      "********************  R-Squared of Complete Model :  ********************\n",
      "R Squared : 0.4683242722868528\n",
      "\n",
      "Selecting 2 Best Predictors for the Model\n",
      "Selected Predictors :  ['X1', 'X2']\n",
      "\n",
      "Creating models for 3 possible combinations of 2 features :\n"
     ]
    },
    {
     "name": "stderr",
     "output_type": "stream",
     "text": [
      "100%|██████████| 2/2 [00:00<00:00, 172.89it/s]\n"
     ]
    },
    {
     "name": "stdout",
     "output_type": "stream",
     "text": [
      "#########################  Model Training Done!!!!!  #########################\n",
      "\n",
      "#########################  Calculating Variable Dominances  #########################\n"
     ]
    },
    {
     "name": "stderr",
     "output_type": "stream",
     "text": [
      "100%|██████████| 1/1 [00:00<00:00, 5614.86it/s]\n"
     ]
    },
    {
     "name": "stdout",
     "output_type": "stream",
     "text": [
      "#########################  Variable Dominance Calculation Done!!!!!  #########################\n",
      "\n",
      "Incremental R² for each variable (Shapley values):\n",
      "{'X1': 0.25760472526007705, 'X2': 0.21071954702677576}\n",
      "---------------------------------------------------------------------------------------------------------------\n",
      "BuERI_mode,Partial Spearman correlation between Y and X2 controlling for X1: -0.028, p=0.0383\n",
      "Selecting 2 Best Predictors for the Model\n",
      "Selected Predictors :  ['X1', 'X2']\n",
      "\n",
      "********************  R-Squared of Complete Model :  ********************\n",
      "R Squared : 0.4818969850122883\n",
      "\n",
      "Selecting 2 Best Predictors for the Model\n",
      "Selected Predictors :  ['X1', 'X2']\n",
      "\n",
      "Creating models for 3 possible combinations of 2 features :\n"
     ]
    },
    {
     "name": "stderr",
     "output_type": "stream",
     "text": [
      "100%|██████████| 2/2 [00:00<00:00, 174.98it/s]\n"
     ]
    },
    {
     "name": "stdout",
     "output_type": "stream",
     "text": [
      "#########################  Model Training Done!!!!!  #########################\n",
      "\n",
      "#########################  Calculating Variable Dominances  #########################\n"
     ]
    },
    {
     "name": "stderr",
     "output_type": "stream",
     "text": [
      "100%|██████████| 1/1 [00:00<00:00, 4271.19it/s]\n"
     ]
    },
    {
     "name": "stdout",
     "output_type": "stream",
     "text": [
      "#########################  Variable Dominance Calculation Done!!!!!  #########################\n",
      "\n",
      "Incremental R² for each variable (Shapley values):\n",
      "{'X1': 0.32248138241555363, 'X2': 0.15941560259673465}\n",
      "---------------------------------------------------------------------------------------------------------------\n",
      "StrClo400_median,Partial Spearman correlation between Y and X2 controlling for X1: -0.084, p=8.87e-10\n",
      "Selecting 2 Best Predictors for the Model\n",
      "Selected Predictors :  ['X1', 'X2']\n",
      "\n",
      "********************  R-Squared of Complete Model :  ********************\n",
      "R Squared : 0.4492531019198994\n",
      "\n",
      "Selecting 2 Best Predictors for the Model\n",
      "Selected Predictors :  ['X1', 'X2']\n",
      "\n",
      "Creating models for 3 possible combinations of 2 features :\n"
     ]
    },
    {
     "name": "stderr",
     "output_type": "stream",
     "text": [
      "100%|██████████| 2/2 [00:00<00:00, 182.06it/s]\n"
     ]
    },
    {
     "name": "stdout",
     "output_type": "stream",
     "text": [
      "#########################  Model Training Done!!!!!  #########################\n",
      "\n",
      "#########################  Calculating Variable Dominances  #########################\n"
     ]
    },
    {
     "name": "stderr",
     "output_type": "stream",
     "text": [
      "100%|██████████| 1/1 [00:00<00:00, 3938.31it/s]"
     ]
    },
    {
     "name": "stdout",
     "output_type": "stream",
     "text": [
      "#########################  Variable Dominance Calculation Done!!!!!  #########################\n",
      "\n",
      "Incremental R² for each variable (Shapley values):\n",
      "{'X1': 0.36322901886491354, 'X2': 0.08602408305498588}\n",
      "---------------------------------------------------------------------------------------------------------------\n",
      "BuERI_wsum,Partial Spearman correlation between Y and X2 controlling for X1: 0.013, p=0.348\n",
      "Selecting 2 Best Predictors for the Model\n"
     ]
    },
    {
     "name": "stderr",
     "output_type": "stream",
     "text": [
      "\n"
     ]
    },
    {
     "name": "stdout",
     "output_type": "stream",
     "text": [
      "Selected Predictors :  ['X1', 'X2']\n",
      "\n",
      "********************  R-Squared of Complete Model :  ********************\n",
      "R Squared : 0.4706972599302863\n",
      "\n",
      "Selecting 2 Best Predictors for the Model\n",
      "Selected Predictors :  ['X1', 'X2']\n",
      "\n",
      "Creating models for 3 possible combinations of 2 features :\n"
     ]
    },
    {
     "name": "stderr",
     "output_type": "stream",
     "text": [
      "100%|██████████| 2/2 [00:00<00:00, 174.68it/s]\n"
     ]
    },
    {
     "name": "stdout",
     "output_type": "stream",
     "text": [
      "#########################  Model Training Done!!!!!  #########################\n",
      "\n",
      "#########################  Calculating Variable Dominances  #########################\n"
     ]
    },
    {
     "name": "stderr",
     "output_type": "stream",
     "text": [
      "100%|██████████| 1/1 [00:00<00:00, 4084.04it/s]\n"
     ]
    },
    {
     "name": "stdout",
     "output_type": "stream",
     "text": [
      "#########################  Variable Dominance Calculation Done!!!!!  #########################\n",
      "\n",
      "Incremental R² for each variable (Shapley values):\n",
      "{'X1': 0.23316018779657194, 'X2': 0.2375370721337144}\n",
      "---------------------------------------------------------------------------------------------------------------\n",
      "BuHt_wsum,Partial Spearman correlation between Y and X2 controlling for X1: 0.200, p=9.35e-52\n",
      "Selecting 2 Best Predictors for the Model\n",
      "Selected Predictors :  ['X1', 'X2']\n",
      "\n",
      "********************  R-Squared of Complete Model :  ********************\n",
      "R Squared : 0.47701904410437035\n",
      "\n",
      "Selecting 2 Best Predictors for the Model\n",
      "Selected Predictors :  ['X1', 'X2']\n",
      "\n",
      "Creating models for 3 possible combinations of 2 features :\n"
     ]
    },
    {
     "name": "stderr",
     "output_type": "stream",
     "text": [
      "100%|██████████| 2/2 [00:00<00:00, 163.15it/s]\n"
     ]
    },
    {
     "name": "stdout",
     "output_type": "stream",
     "text": [
      "#########################  Model Training Done!!!!!  #########################\n",
      "\n",
      "#########################  Calculating Variable Dominances  #########################\n"
     ]
    },
    {
     "name": "stderr",
     "output_type": "stream",
     "text": [
      "100%|██████████| 1/1 [00:00<00:00, 12483.05it/s]\n"
     ]
    },
    {
     "name": "stdout",
     "output_type": "stream",
     "text": [
      "#########################  Variable Dominance Calculation Done!!!!!  #########################\n",
      "\n",
      "Incremental R² for each variable (Shapley values):\n",
      "{'X1': 0.2741090539662315, 'X2': 0.20290999013813887}\n",
      "---------------------------------------------------------------------------------------------------------------\n",
      "BuRough_3D_wsum,Partial Spearman correlation between Y and X2 controlling for X1: 0.226, p=2.14e-65\n",
      "Selecting 2 Best Predictors for the Model\n",
      "Selected Predictors :  ['X1', 'X2']\n",
      "\n",
      "********************  R-Squared of Complete Model :  ********************\n",
      "R Squared : 0.4920944157661391\n",
      "\n",
      "Selecting 2 Best Predictors for the Model\n",
      "Selected Predictors :  ['X1', 'X2']\n",
      "\n",
      "Creating models for 3 possible combinations of 2 features :\n"
     ]
    },
    {
     "name": "stderr",
     "output_type": "stream",
     "text": [
      "100%|██████████| 2/2 [00:00<00:00, 175.69it/s]\n"
     ]
    },
    {
     "name": "stdout",
     "output_type": "stream",
     "text": [
      "#########################  Model Training Done!!!!!  #########################\n",
      "\n",
      "#########################  Calculating Variable Dominances  #########################\n"
     ]
    },
    {
     "name": "stderr",
     "output_type": "stream",
     "text": [
      "100%|██████████| 1/1 [00:00<00:00, 7194.35it/s]"
     ]
    },
    {
     "name": "stdout",
     "output_type": "stream",
     "text": [
      "#########################  Variable Dominance Calculation Done!!!!!  #########################\n",
      "\n",
      "Incremental R² for each variable (Shapley values):\n",
      "{'X1': 0.23338858460836687, 'X2': 0.25870583115777224}\n",
      "---------------------------------------------------------------------------------------------------------------\n"
     ]
    },
    {
     "name": "stderr",
     "output_type": "stream",
     "text": [
      "\n"
     ]
    }
   ],
   "source": [
    "params = ['BuVol_3D_sum', 'BuEWA_3D_sum', 'BuIBD', 'BuAdj', 'BuSWR_3D_median', 'BuHt_wmean','StrHW_median','SVF_3D_mean', 'BuERI_mode','StrClo400_median','BuERI_wsum','BuHt_wsum','BuRough_3D_wsum']\n",
    "\n",
    "for i in params:\n",
    "\n",
    "    data = stn_buffers[['Temperature_diff_K',i,'BuAre_sum']].dropna()\n",
    "\n",
    "    y = data['Temperature_diff_K']\n",
    "    x2 = data[i]\n",
    "    x1 = data['BuAre_sum']\n",
    "    rho, pval = partial_spearman(y, x2, x1)\n",
    "    print(f\"{i},Partial Spearman correlation between Y and X2 controlling for X1: {rho:.3f}, p={pval:.3g}\")\n",
    "\n",
    "    # Example DataFrame with outcome 'Y' and predictors 'X1', 'X2'\n",
    "    df = pd.DataFrame({\n",
    "        'Y': y,\n",
    "        'X1': x1,\n",
    "        'X2': x2\n",
    "    })\n",
    "\n",
    "    # Run dominance analysis\n",
    "    dominance = Dominance(data=df, target='Y', objective=1)  # 1 = regression, 0 = classification\n",
    "    dominance_stats = dominance.incremental_rsquare()\n",
    "\n",
    "    # View incremental R² contributions\n",
    "    print(\"Incremental R² for each variable (Shapley values):\")\n",
    "    print(dominance_stats)\n",
    "    print('---------------------------------------------------------------------------------------------------------------')"
   ]
  },
  {
   "cell_type": "code",
   "execution_count": 79,
   "metadata": {},
   "outputs": [
    {
     "name": "stdout",
     "output_type": "stream",
     "text": [
      "Selecting 11 Best Predictors for the Model\n",
      "Selected Predictors :  ['BuAre_sum', 'BuVol_3D_sum', 'BuEWA_3D_sum', 'BuIBD', 'BuAdj', 'BuSWR_3D_median', 'BuHt_wmean', 'StrHW_median', 'SVF_3D_mean', 'BuERI_mode', 'StrClo400_median']\n",
      "\n",
      "********************  R-Squared of Complete Model :  ********************\n",
      "R Squared : 0.5606257549803152\n",
      "\n",
      "Selecting 11 Best Predictors for the Model\n",
      "Selected Predictors :  ['BuAre_sum', 'BuVol_3D_sum', 'BuEWA_3D_sum', 'BuIBD', 'BuAdj', 'BuSWR_3D_median', 'BuHt_wmean', 'StrHW_median', 'SVF_3D_mean', 'BuERI_mode', 'StrClo400_median']\n",
      "\n",
      "Creating models for 2047 possible combinations of 11 features :\n"
     ]
    },
    {
     "name": "stderr",
     "output_type": "stream",
     "text": [
      "  0%|          | 0/11 [00:00<?, ?it/s]"
     ]
    },
    {
     "name": "stderr",
     "output_type": "stream",
     "text": [
      "100%|██████████| 11/11 [00:07<00:00,  1.42it/s]\n"
     ]
    },
    {
     "name": "stdout",
     "output_type": "stream",
     "text": [
      "#########################  Model Training Done!!!!!  #########################\n",
      "\n",
      "#########################  Calculating Variable Dominances  #########################\n"
     ]
    },
    {
     "name": "stderr",
     "output_type": "stream",
     "text": [
      "100%|██████████| 10/10 [00:00<00:00, 12.50it/s]"
     ]
    },
    {
     "name": "stdout",
     "output_type": "stream",
     "text": [
      "#########################  Variable Dominance Calculation Done!!!!!  #########################\n",
      "\n",
      "\n",
      "Incremental R² (Shapley values) for each predictor:\n"
     ]
    },
    {
     "name": "stderr",
     "output_type": "stream",
     "text": [
      "\n"
     ]
    }
   ],
   "source": [
    "df = stn_buffers[['Temperature_diff_K','BuAre_sum','BuVol_3D_sum', 'BuEWA_3D_sum', 'BuIBD', 'BuAdj', 'BuSWR_3D_median', 'BuHt_wmean','StrHW_median','SVF_3D_mean', 'BuERI_mode','StrClo400_median','BuERI_wsum','BuHt_wsum','BuRough_3D_wsum']].dropna()\n",
    "df = stn_buffers[['Temperature_diff_K','BuAre_sum','BuVol_3D_sum', 'BuEWA_3D_sum', 'BuIBD', 'BuAdj', 'BuSWR_3D_median', 'BuHt_wmean','StrHW_median','SVF_3D_mean', 'BuERI_mode','StrClo400_median']].dropna()\n",
    "X = df.drop(columns='Temperature_diff_K')\n",
    "y = df['Temperature_diff_K']\n",
    "\n",
    "# Combine again as expected by the package\n",
    "df_full = pd.concat([y, X], axis=1)\n",
    "\n",
    "# Run dominance analysis (objective=1 for regression; use 0 for classification)\n",
    "dominance_reg = Dominance(data=df_full, target='Temperature_diff_K', objective=1)\n",
    "\n",
    "# Get incremental R² (like Shapley values)\n",
    "dominance_stats = dominance_reg.incremental_rsquare()\n",
    "print(\"\\nIncremental R² (Shapley values) for each predictor:\")"
   ]
  },
  {
   "cell_type": "code",
   "execution_count": 66,
   "metadata": {},
   "outputs": [
    {
     "data": {
      "text/plain": [
       "{'BuAre_sum': 0.060608813080017546,\n",
       " 'BuVol_3D_sum': 0.039138303807556694,\n",
       " 'BuEWA_3D_sum': 0.04159403473457485,\n",
       " 'BuIBD': 0.014801284844611701,\n",
       " 'BuAdj': 0.05961623560660457,\n",
       " 'BuSWR_3D_median': 0.024521625306191557,\n",
       " 'BuHt_wmean': 0.05708947852007114,\n",
       " 'StrHW_median': 0.020129225410401044,\n",
       " 'SVF_3D_mean': 0.03645859946772888,\n",
       " 'BuERI_mode': 0.02716685547720251,\n",
       " 'StrClo400_median': 0.02007464213768379,\n",
       " 'BuERI_wsum': 0.056861990744936086,\n",
       " 'BuHt_wsum': 0.03894521125956132,\n",
       " 'BuRough_3D_wsum': 0.07321254150627297}"
      ]
     },
     "execution_count": 66,
     "metadata": {},
     "output_type": "execute_result"
    }
   ],
   "source": [
    "dominance_stats"
   ]
  },
  {
   "cell_type": "code",
   "execution_count": 80,
   "metadata": {},
   "outputs": [
    {
     "data": {
      "application/vnd.plotly.v1+json": {
       "config": {
        "linkText": "Export to plot.ly",
        "plotlyServerURL": "https://plot.ly",
        "showLink": false
       },
       "data": [
        {
         "marker": {
          "color": "rgba(255, 153, 51, 0.6)",
          "line": {
           "color": "rgba(255, 153, 51, 1.0)",
           "width": 1
          }
         },
         "name": "incremental_r2",
         "orientation": "v",
         "text": "",
         "type": "bar",
         "x": [
          "BuAre_sum",
          "BuAdj",
          "BuHt_wmean",
          "BuVol_3D_sum",
          "BuEWA_3D_sum",
          "SVF_3D_mean",
          "BuERI_mode",
          "BuSWR_3D_median",
          "StrHW_median",
          "StrClo400_median",
          "BuIBD"
         ],
         "y": [
          0.12304481403414763,
          0.07142617769527546,
          0.060541220989828615,
          0.058694078348587746,
          0.0580205035347094,
          0.04998379041587608,
          0.03694500434845435,
          0.03098309214107706,
          0.02758205276117647,
          0.02413876528000933,
          0.01926625543117304
         ]
        }
       ],
       "layout": {
        "legend": {
         "bgcolor": "#F5F6F9",
         "font": {
          "color": "#4D5663"
         }
        },
        "paper_bgcolor": "#F5F6F9",
        "plot_bgcolor": "#F5F6F9",
        "template": {
         "data": {
          "bar": [
           {
            "error_x": {
             "color": "#2a3f5f"
            },
            "error_y": {
             "color": "#2a3f5f"
            },
            "marker": {
             "line": {
              "color": "#E5ECF6",
              "width": 0.5
             },
             "pattern": {
              "fillmode": "overlay",
              "size": 10,
              "solidity": 0.2
             }
            },
            "type": "bar"
           }
          ],
          "barpolar": [
           {
            "marker": {
             "line": {
              "color": "#E5ECF6",
              "width": 0.5
             },
             "pattern": {
              "fillmode": "overlay",
              "size": 10,
              "solidity": 0.2
             }
            },
            "type": "barpolar"
           }
          ],
          "carpet": [
           {
            "aaxis": {
             "endlinecolor": "#2a3f5f",
             "gridcolor": "white",
             "linecolor": "white",
             "minorgridcolor": "white",
             "startlinecolor": "#2a3f5f"
            },
            "baxis": {
             "endlinecolor": "#2a3f5f",
             "gridcolor": "white",
             "linecolor": "white",
             "minorgridcolor": "white",
             "startlinecolor": "#2a3f5f"
            },
            "type": "carpet"
           }
          ],
          "choropleth": [
           {
            "colorbar": {
             "outlinewidth": 0,
             "ticks": ""
            },
            "type": "choropleth"
           }
          ],
          "contour": [
           {
            "colorbar": {
             "outlinewidth": 0,
             "ticks": ""
            },
            "colorscale": [
             [
              0,
              "#0d0887"
             ],
             [
              0.1111111111111111,
              "#46039f"
             ],
             [
              0.2222222222222222,
              "#7201a8"
             ],
             [
              0.3333333333333333,
              "#9c179e"
             ],
             [
              0.4444444444444444,
              "#bd3786"
             ],
             [
              0.5555555555555556,
              "#d8576b"
             ],
             [
              0.6666666666666666,
              "#ed7953"
             ],
             [
              0.7777777777777778,
              "#fb9f3a"
             ],
             [
              0.8888888888888888,
              "#fdca26"
             ],
             [
              1,
              "#f0f921"
             ]
            ],
            "type": "contour"
           }
          ],
          "contourcarpet": [
           {
            "colorbar": {
             "outlinewidth": 0,
             "ticks": ""
            },
            "type": "contourcarpet"
           }
          ],
          "heatmap": [
           {
            "colorbar": {
             "outlinewidth": 0,
             "ticks": ""
            },
            "colorscale": [
             [
              0,
              "#0d0887"
             ],
             [
              0.1111111111111111,
              "#46039f"
             ],
             [
              0.2222222222222222,
              "#7201a8"
             ],
             [
              0.3333333333333333,
              "#9c179e"
             ],
             [
              0.4444444444444444,
              "#bd3786"
             ],
             [
              0.5555555555555556,
              "#d8576b"
             ],
             [
              0.6666666666666666,
              "#ed7953"
             ],
             [
              0.7777777777777778,
              "#fb9f3a"
             ],
             [
              0.8888888888888888,
              "#fdca26"
             ],
             [
              1,
              "#f0f921"
             ]
            ],
            "type": "heatmap"
           }
          ],
          "heatmapgl": [
           {
            "colorbar": {
             "outlinewidth": 0,
             "ticks": ""
            },
            "colorscale": [
             [
              0,
              "#0d0887"
             ],
             [
              0.1111111111111111,
              "#46039f"
             ],
             [
              0.2222222222222222,
              "#7201a8"
             ],
             [
              0.3333333333333333,
              "#9c179e"
             ],
             [
              0.4444444444444444,
              "#bd3786"
             ],
             [
              0.5555555555555556,
              "#d8576b"
             ],
             [
              0.6666666666666666,
              "#ed7953"
             ],
             [
              0.7777777777777778,
              "#fb9f3a"
             ],
             [
              0.8888888888888888,
              "#fdca26"
             ],
             [
              1,
              "#f0f921"
             ]
            ],
            "type": "heatmapgl"
           }
          ],
          "histogram": [
           {
            "marker": {
             "pattern": {
              "fillmode": "overlay",
              "size": 10,
              "solidity": 0.2
             }
            },
            "type": "histogram"
           }
          ],
          "histogram2d": [
           {
            "colorbar": {
             "outlinewidth": 0,
             "ticks": ""
            },
            "colorscale": [
             [
              0,
              "#0d0887"
             ],
             [
              0.1111111111111111,
              "#46039f"
             ],
             [
              0.2222222222222222,
              "#7201a8"
             ],
             [
              0.3333333333333333,
              "#9c179e"
             ],
             [
              0.4444444444444444,
              "#bd3786"
             ],
             [
              0.5555555555555556,
              "#d8576b"
             ],
             [
              0.6666666666666666,
              "#ed7953"
             ],
             [
              0.7777777777777778,
              "#fb9f3a"
             ],
             [
              0.8888888888888888,
              "#fdca26"
             ],
             [
              1,
              "#f0f921"
             ]
            ],
            "type": "histogram2d"
           }
          ],
          "histogram2dcontour": [
           {
            "colorbar": {
             "outlinewidth": 0,
             "ticks": ""
            },
            "colorscale": [
             [
              0,
              "#0d0887"
             ],
             [
              0.1111111111111111,
              "#46039f"
             ],
             [
              0.2222222222222222,
              "#7201a8"
             ],
             [
              0.3333333333333333,
              "#9c179e"
             ],
             [
              0.4444444444444444,
              "#bd3786"
             ],
             [
              0.5555555555555556,
              "#d8576b"
             ],
             [
              0.6666666666666666,
              "#ed7953"
             ],
             [
              0.7777777777777778,
              "#fb9f3a"
             ],
             [
              0.8888888888888888,
              "#fdca26"
             ],
             [
              1,
              "#f0f921"
             ]
            ],
            "type": "histogram2dcontour"
           }
          ],
          "mesh3d": [
           {
            "colorbar": {
             "outlinewidth": 0,
             "ticks": ""
            },
            "type": "mesh3d"
           }
          ],
          "parcoords": [
           {
            "line": {
             "colorbar": {
              "outlinewidth": 0,
              "ticks": ""
             }
            },
            "type": "parcoords"
           }
          ],
          "pie": [
           {
            "automargin": true,
            "type": "pie"
           }
          ],
          "scatter": [
           {
            "fillpattern": {
             "fillmode": "overlay",
             "size": 10,
             "solidity": 0.2
            },
            "type": "scatter"
           }
          ],
          "scatter3d": [
           {
            "line": {
             "colorbar": {
              "outlinewidth": 0,
              "ticks": ""
             }
            },
            "marker": {
             "colorbar": {
              "outlinewidth": 0,
              "ticks": ""
             }
            },
            "type": "scatter3d"
           }
          ],
          "scattercarpet": [
           {
            "marker": {
             "colorbar": {
              "outlinewidth": 0,
              "ticks": ""
             }
            },
            "type": "scattercarpet"
           }
          ],
          "scattergeo": [
           {
            "marker": {
             "colorbar": {
              "outlinewidth": 0,
              "ticks": ""
             }
            },
            "type": "scattergeo"
           }
          ],
          "scattergl": [
           {
            "marker": {
             "colorbar": {
              "outlinewidth": 0,
              "ticks": ""
             }
            },
            "type": "scattergl"
           }
          ],
          "scattermapbox": [
           {
            "marker": {
             "colorbar": {
              "outlinewidth": 0,
              "ticks": ""
             }
            },
            "type": "scattermapbox"
           }
          ],
          "scatterpolar": [
           {
            "marker": {
             "colorbar": {
              "outlinewidth": 0,
              "ticks": ""
             }
            },
            "type": "scatterpolar"
           }
          ],
          "scatterpolargl": [
           {
            "marker": {
             "colorbar": {
              "outlinewidth": 0,
              "ticks": ""
             }
            },
            "type": "scatterpolargl"
           }
          ],
          "scatterternary": [
           {
            "marker": {
             "colorbar": {
              "outlinewidth": 0,
              "ticks": ""
             }
            },
            "type": "scatterternary"
           }
          ],
          "surface": [
           {
            "colorbar": {
             "outlinewidth": 0,
             "ticks": ""
            },
            "colorscale": [
             [
              0,
              "#0d0887"
             ],
             [
              0.1111111111111111,
              "#46039f"
             ],
             [
              0.2222222222222222,
              "#7201a8"
             ],
             [
              0.3333333333333333,
              "#9c179e"
             ],
             [
              0.4444444444444444,
              "#bd3786"
             ],
             [
              0.5555555555555556,
              "#d8576b"
             ],
             [
              0.6666666666666666,
              "#ed7953"
             ],
             [
              0.7777777777777778,
              "#fb9f3a"
             ],
             [
              0.8888888888888888,
              "#fdca26"
             ],
             [
              1,
              "#f0f921"
             ]
            ],
            "type": "surface"
           }
          ],
          "table": [
           {
            "cells": {
             "fill": {
              "color": "#EBF0F8"
             },
             "line": {
              "color": "white"
             }
            },
            "header": {
             "fill": {
              "color": "#C8D4E3"
             },
             "line": {
              "color": "white"
             }
            },
            "type": "table"
           }
          ]
         },
         "layout": {
          "annotationdefaults": {
           "arrowcolor": "#2a3f5f",
           "arrowhead": 0,
           "arrowwidth": 1
          },
          "autotypenumbers": "strict",
          "coloraxis": {
           "colorbar": {
            "outlinewidth": 0,
            "ticks": ""
           }
          },
          "colorscale": {
           "diverging": [
            [
             0,
             "#8e0152"
            ],
            [
             0.1,
             "#c51b7d"
            ],
            [
             0.2,
             "#de77ae"
            ],
            [
             0.3,
             "#f1b6da"
            ],
            [
             0.4,
             "#fde0ef"
            ],
            [
             0.5,
             "#f7f7f7"
            ],
            [
             0.6,
             "#e6f5d0"
            ],
            [
             0.7,
             "#b8e186"
            ],
            [
             0.8,
             "#7fbc41"
            ],
            [
             0.9,
             "#4d9221"
            ],
            [
             1,
             "#276419"
            ]
           ],
           "sequential": [
            [
             0,
             "#0d0887"
            ],
            [
             0.1111111111111111,
             "#46039f"
            ],
            [
             0.2222222222222222,
             "#7201a8"
            ],
            [
             0.3333333333333333,
             "#9c179e"
            ],
            [
             0.4444444444444444,
             "#bd3786"
            ],
            [
             0.5555555555555556,
             "#d8576b"
            ],
            [
             0.6666666666666666,
             "#ed7953"
            ],
            [
             0.7777777777777778,
             "#fb9f3a"
            ],
            [
             0.8888888888888888,
             "#fdca26"
            ],
            [
             1,
             "#f0f921"
            ]
           ],
           "sequentialminus": [
            [
             0,
             "#0d0887"
            ],
            [
             0.1111111111111111,
             "#46039f"
            ],
            [
             0.2222222222222222,
             "#7201a8"
            ],
            [
             0.3333333333333333,
             "#9c179e"
            ],
            [
             0.4444444444444444,
             "#bd3786"
            ],
            [
             0.5555555555555556,
             "#d8576b"
            ],
            [
             0.6666666666666666,
             "#ed7953"
            ],
            [
             0.7777777777777778,
             "#fb9f3a"
            ],
            [
             0.8888888888888888,
             "#fdca26"
            ],
            [
             1,
             "#f0f921"
            ]
           ]
          },
          "colorway": [
           "#636efa",
           "#EF553B",
           "#00cc96",
           "#ab63fa",
           "#FFA15A",
           "#19d3f3",
           "#FF6692",
           "#B6E880",
           "#FF97FF",
           "#FECB52"
          ],
          "font": {
           "color": "#2a3f5f"
          },
          "geo": {
           "bgcolor": "white",
           "lakecolor": "white",
           "landcolor": "#E5ECF6",
           "showlakes": true,
           "showland": true,
           "subunitcolor": "white"
          },
          "hoverlabel": {
           "align": "left"
          },
          "hovermode": "closest",
          "mapbox": {
           "style": "light"
          },
          "paper_bgcolor": "white",
          "plot_bgcolor": "#E5ECF6",
          "polar": {
           "angularaxis": {
            "gridcolor": "white",
            "linecolor": "white",
            "ticks": ""
           },
           "bgcolor": "#E5ECF6",
           "radialaxis": {
            "gridcolor": "white",
            "linecolor": "white",
            "ticks": ""
           }
          },
          "scene": {
           "xaxis": {
            "backgroundcolor": "#E5ECF6",
            "gridcolor": "white",
            "gridwidth": 2,
            "linecolor": "white",
            "showbackground": true,
            "ticks": "",
            "zerolinecolor": "white"
           },
           "yaxis": {
            "backgroundcolor": "#E5ECF6",
            "gridcolor": "white",
            "gridwidth": 2,
            "linecolor": "white",
            "showbackground": true,
            "ticks": "",
            "zerolinecolor": "white"
           },
           "zaxis": {
            "backgroundcolor": "#E5ECF6",
            "gridcolor": "white",
            "gridwidth": 2,
            "linecolor": "white",
            "showbackground": true,
            "ticks": "",
            "zerolinecolor": "white"
           }
          },
          "shapedefaults": {
           "line": {
            "color": "#2a3f5f"
           }
          },
          "ternary": {
           "aaxis": {
            "gridcolor": "white",
            "linecolor": "white",
            "ticks": ""
           },
           "baxis": {
            "gridcolor": "white",
            "linecolor": "white",
            "ticks": ""
           },
           "bgcolor": "#E5ECF6",
           "caxis": {
            "gridcolor": "white",
            "linecolor": "white",
            "ticks": ""
           }
          },
          "title": {
           "x": 0.05
          },
          "xaxis": {
           "automargin": true,
           "gridcolor": "white",
           "linecolor": "white",
           "ticks": "",
           "title": {
            "standoff": 15
           },
           "zerolinecolor": "white",
           "zerolinewidth": 2
          },
          "yaxis": {
           "automargin": true,
           "gridcolor": "white",
           "linecolor": "white",
           "ticks": "",
           "title": {
            "standoff": 15
           },
           "zerolinecolor": "white",
           "zerolinewidth": 2
          }
         }
        },
        "title": {
         "font": {
          "color": "#4D5663"
         },
         "text": "Incremental  R Squared for Top 11 Variables "
        },
        "xaxis": {
         "gridcolor": "#E1E5ED",
         "showgrid": true,
         "tickfont": {
          "color": "#4D5663"
         },
         "title": {
          "font": {
           "color": "#4D5663"
          },
          "text": "Estimators"
         },
         "zerolinecolor": "#E1E5ED"
        },
        "yaxis": {
         "gridcolor": "#E1E5ED",
         "showgrid": true,
         "tickfont": {
          "color": "#4D5663"
         },
         "title": {
          "font": {
           "color": "#4D5663"
          },
          "text": "Incremental R2"
         },
         "zerolinecolor": "#E1E5ED"
        }
       }
      },
      "text/html": [
       "<div>                            <div id=\"cc28431c-3229-416f-b511-98613ca243ad\" class=\"plotly-graph-div\" style=\"height:525px; width:100%;\"></div>            <script type=\"text/javascript\">                require([\"plotly\"], function(Plotly) {                    window.PLOTLYENV=window.PLOTLYENV || {};                                    if (document.getElementById(\"cc28431c-3229-416f-b511-98613ca243ad\")) {                    Plotly.newPlot(                        \"cc28431c-3229-416f-b511-98613ca243ad\",                        [{\"marker\":{\"color\":\"rgba(255, 153, 51, 0.6)\",\"line\":{\"color\":\"rgba(255, 153, 51, 1.0)\",\"width\":1}},\"name\":\"incremental_r2\",\"orientation\":\"v\",\"text\":\"\",\"x\":[\"BuAre_sum\",\"BuAdj\",\"BuHt_wmean\",\"BuVol_3D_sum\",\"BuEWA_3D_sum\",\"SVF_3D_mean\",\"BuERI_mode\",\"BuSWR_3D_median\",\"StrHW_median\",\"StrClo400_median\",\"BuIBD\"],\"y\":[0.12304481403414763,0.07142617769527546,0.060541220989828615,0.058694078348587746,0.0580205035347094,0.04998379041587608,0.03694500434845435,0.03098309214107706,0.02758205276117647,0.02413876528000933,0.01926625543117304],\"type\":\"bar\"}],                        {\"legend\":{\"bgcolor\":\"#F5F6F9\",\"font\":{\"color\":\"#4D5663\"}},\"paper_bgcolor\":\"#F5F6F9\",\"plot_bgcolor\":\"#F5F6F9\",\"template\":{\"data\":{\"barpolar\":[{\"marker\":{\"line\":{\"color\":\"#E5ECF6\",\"width\":0.5},\"pattern\":{\"fillmode\":\"overlay\",\"size\":10,\"solidity\":0.2}},\"type\":\"barpolar\"}],\"bar\":[{\"error_x\":{\"color\":\"#2a3f5f\"},\"error_y\":{\"color\":\"#2a3f5f\"},\"marker\":{\"line\":{\"color\":\"#E5ECF6\",\"width\":0.5},\"pattern\":{\"fillmode\":\"overlay\",\"size\":10,\"solidity\":0.2}},\"type\":\"bar\"}],\"carpet\":[{\"aaxis\":{\"endlinecolor\":\"#2a3f5f\",\"gridcolor\":\"white\",\"linecolor\":\"white\",\"minorgridcolor\":\"white\",\"startlinecolor\":\"#2a3f5f\"},\"baxis\":{\"endlinecolor\":\"#2a3f5f\",\"gridcolor\":\"white\",\"linecolor\":\"white\",\"minorgridcolor\":\"white\",\"startlinecolor\":\"#2a3f5f\"},\"type\":\"carpet\"}],\"choropleth\":[{\"colorbar\":{\"outlinewidth\":0,\"ticks\":\"\"},\"type\":\"choropleth\"}],\"contourcarpet\":[{\"colorbar\":{\"outlinewidth\":0,\"ticks\":\"\"},\"type\":\"contourcarpet\"}],\"contour\":[{\"colorbar\":{\"outlinewidth\":0,\"ticks\":\"\"},\"colorscale\":[[0.0,\"#0d0887\"],[0.1111111111111111,\"#46039f\"],[0.2222222222222222,\"#7201a8\"],[0.3333333333333333,\"#9c179e\"],[0.4444444444444444,\"#bd3786\"],[0.5555555555555556,\"#d8576b\"],[0.6666666666666666,\"#ed7953\"],[0.7777777777777778,\"#fb9f3a\"],[0.8888888888888888,\"#fdca26\"],[1.0,\"#f0f921\"]],\"type\":\"contour\"}],\"heatmapgl\":[{\"colorbar\":{\"outlinewidth\":0,\"ticks\":\"\"},\"colorscale\":[[0.0,\"#0d0887\"],[0.1111111111111111,\"#46039f\"],[0.2222222222222222,\"#7201a8\"],[0.3333333333333333,\"#9c179e\"],[0.4444444444444444,\"#bd3786\"],[0.5555555555555556,\"#d8576b\"],[0.6666666666666666,\"#ed7953\"],[0.7777777777777778,\"#fb9f3a\"],[0.8888888888888888,\"#fdca26\"],[1.0,\"#f0f921\"]],\"type\":\"heatmapgl\"}],\"heatmap\":[{\"colorbar\":{\"outlinewidth\":0,\"ticks\":\"\"},\"colorscale\":[[0.0,\"#0d0887\"],[0.1111111111111111,\"#46039f\"],[0.2222222222222222,\"#7201a8\"],[0.3333333333333333,\"#9c179e\"],[0.4444444444444444,\"#bd3786\"],[0.5555555555555556,\"#d8576b\"],[0.6666666666666666,\"#ed7953\"],[0.7777777777777778,\"#fb9f3a\"],[0.8888888888888888,\"#fdca26\"],[1.0,\"#f0f921\"]],\"type\":\"heatmap\"}],\"histogram2dcontour\":[{\"colorbar\":{\"outlinewidth\":0,\"ticks\":\"\"},\"colorscale\":[[0.0,\"#0d0887\"],[0.1111111111111111,\"#46039f\"],[0.2222222222222222,\"#7201a8\"],[0.3333333333333333,\"#9c179e\"],[0.4444444444444444,\"#bd3786\"],[0.5555555555555556,\"#d8576b\"],[0.6666666666666666,\"#ed7953\"],[0.7777777777777778,\"#fb9f3a\"],[0.8888888888888888,\"#fdca26\"],[1.0,\"#f0f921\"]],\"type\":\"histogram2dcontour\"}],\"histogram2d\":[{\"colorbar\":{\"outlinewidth\":0,\"ticks\":\"\"},\"colorscale\":[[0.0,\"#0d0887\"],[0.1111111111111111,\"#46039f\"],[0.2222222222222222,\"#7201a8\"],[0.3333333333333333,\"#9c179e\"],[0.4444444444444444,\"#bd3786\"],[0.5555555555555556,\"#d8576b\"],[0.6666666666666666,\"#ed7953\"],[0.7777777777777778,\"#fb9f3a\"],[0.8888888888888888,\"#fdca26\"],[1.0,\"#f0f921\"]],\"type\":\"histogram2d\"}],\"histogram\":[{\"marker\":{\"pattern\":{\"fillmode\":\"overlay\",\"size\":10,\"solidity\":0.2}},\"type\":\"histogram\"}],\"mesh3d\":[{\"colorbar\":{\"outlinewidth\":0,\"ticks\":\"\"},\"type\":\"mesh3d\"}],\"parcoords\":[{\"line\":{\"colorbar\":{\"outlinewidth\":0,\"ticks\":\"\"}},\"type\":\"parcoords\"}],\"pie\":[{\"automargin\":true,\"type\":\"pie\"}],\"scatter3d\":[{\"line\":{\"colorbar\":{\"outlinewidth\":0,\"ticks\":\"\"}},\"marker\":{\"colorbar\":{\"outlinewidth\":0,\"ticks\":\"\"}},\"type\":\"scatter3d\"}],\"scattercarpet\":[{\"marker\":{\"colorbar\":{\"outlinewidth\":0,\"ticks\":\"\"}},\"type\":\"scattercarpet\"}],\"scattergeo\":[{\"marker\":{\"colorbar\":{\"outlinewidth\":0,\"ticks\":\"\"}},\"type\":\"scattergeo\"}],\"scattergl\":[{\"marker\":{\"colorbar\":{\"outlinewidth\":0,\"ticks\":\"\"}},\"type\":\"scattergl\"}],\"scattermapbox\":[{\"marker\":{\"colorbar\":{\"outlinewidth\":0,\"ticks\":\"\"}},\"type\":\"scattermapbox\"}],\"scatterpolargl\":[{\"marker\":{\"colorbar\":{\"outlinewidth\":0,\"ticks\":\"\"}},\"type\":\"scatterpolargl\"}],\"scatterpolar\":[{\"marker\":{\"colorbar\":{\"outlinewidth\":0,\"ticks\":\"\"}},\"type\":\"scatterpolar\"}],\"scatter\":[{\"fillpattern\":{\"fillmode\":\"overlay\",\"size\":10,\"solidity\":0.2},\"type\":\"scatter\"}],\"scatterternary\":[{\"marker\":{\"colorbar\":{\"outlinewidth\":0,\"ticks\":\"\"}},\"type\":\"scatterternary\"}],\"surface\":[{\"colorbar\":{\"outlinewidth\":0,\"ticks\":\"\"},\"colorscale\":[[0.0,\"#0d0887\"],[0.1111111111111111,\"#46039f\"],[0.2222222222222222,\"#7201a8\"],[0.3333333333333333,\"#9c179e\"],[0.4444444444444444,\"#bd3786\"],[0.5555555555555556,\"#d8576b\"],[0.6666666666666666,\"#ed7953\"],[0.7777777777777778,\"#fb9f3a\"],[0.8888888888888888,\"#fdca26\"],[1.0,\"#f0f921\"]],\"type\":\"surface\"}],\"table\":[{\"cells\":{\"fill\":{\"color\":\"#EBF0F8\"},\"line\":{\"color\":\"white\"}},\"header\":{\"fill\":{\"color\":\"#C8D4E3\"},\"line\":{\"color\":\"white\"}},\"type\":\"table\"}]},\"layout\":{\"annotationdefaults\":{\"arrowcolor\":\"#2a3f5f\",\"arrowhead\":0,\"arrowwidth\":1},\"autotypenumbers\":\"strict\",\"coloraxis\":{\"colorbar\":{\"outlinewidth\":0,\"ticks\":\"\"}},\"colorscale\":{\"diverging\":[[0,\"#8e0152\"],[0.1,\"#c51b7d\"],[0.2,\"#de77ae\"],[0.3,\"#f1b6da\"],[0.4,\"#fde0ef\"],[0.5,\"#f7f7f7\"],[0.6,\"#e6f5d0\"],[0.7,\"#b8e186\"],[0.8,\"#7fbc41\"],[0.9,\"#4d9221\"],[1,\"#276419\"]],\"sequential\":[[0.0,\"#0d0887\"],[0.1111111111111111,\"#46039f\"],[0.2222222222222222,\"#7201a8\"],[0.3333333333333333,\"#9c179e\"],[0.4444444444444444,\"#bd3786\"],[0.5555555555555556,\"#d8576b\"],[0.6666666666666666,\"#ed7953\"],[0.7777777777777778,\"#fb9f3a\"],[0.8888888888888888,\"#fdca26\"],[1.0,\"#f0f921\"]],\"sequentialminus\":[[0.0,\"#0d0887\"],[0.1111111111111111,\"#46039f\"],[0.2222222222222222,\"#7201a8\"],[0.3333333333333333,\"#9c179e\"],[0.4444444444444444,\"#bd3786\"],[0.5555555555555556,\"#d8576b\"],[0.6666666666666666,\"#ed7953\"],[0.7777777777777778,\"#fb9f3a\"],[0.8888888888888888,\"#fdca26\"],[1.0,\"#f0f921\"]]},\"colorway\":[\"#636efa\",\"#EF553B\",\"#00cc96\",\"#ab63fa\",\"#FFA15A\",\"#19d3f3\",\"#FF6692\",\"#B6E880\",\"#FF97FF\",\"#FECB52\"],\"font\":{\"color\":\"#2a3f5f\"},\"geo\":{\"bgcolor\":\"white\",\"lakecolor\":\"white\",\"landcolor\":\"#E5ECF6\",\"showlakes\":true,\"showland\":true,\"subunitcolor\":\"white\"},\"hoverlabel\":{\"align\":\"left\"},\"hovermode\":\"closest\",\"mapbox\":{\"style\":\"light\"},\"paper_bgcolor\":\"white\",\"plot_bgcolor\":\"#E5ECF6\",\"polar\":{\"angularaxis\":{\"gridcolor\":\"white\",\"linecolor\":\"white\",\"ticks\":\"\"},\"bgcolor\":\"#E5ECF6\",\"radialaxis\":{\"gridcolor\":\"white\",\"linecolor\":\"white\",\"ticks\":\"\"}},\"scene\":{\"xaxis\":{\"backgroundcolor\":\"#E5ECF6\",\"gridcolor\":\"white\",\"gridwidth\":2,\"linecolor\":\"white\",\"showbackground\":true,\"ticks\":\"\",\"zerolinecolor\":\"white\"},\"yaxis\":{\"backgroundcolor\":\"#E5ECF6\",\"gridcolor\":\"white\",\"gridwidth\":2,\"linecolor\":\"white\",\"showbackground\":true,\"ticks\":\"\",\"zerolinecolor\":\"white\"},\"zaxis\":{\"backgroundcolor\":\"#E5ECF6\",\"gridcolor\":\"white\",\"gridwidth\":2,\"linecolor\":\"white\",\"showbackground\":true,\"ticks\":\"\",\"zerolinecolor\":\"white\"}},\"shapedefaults\":{\"line\":{\"color\":\"#2a3f5f\"}},\"ternary\":{\"aaxis\":{\"gridcolor\":\"white\",\"linecolor\":\"white\",\"ticks\":\"\"},\"baxis\":{\"gridcolor\":\"white\",\"linecolor\":\"white\",\"ticks\":\"\"},\"bgcolor\":\"#E5ECF6\",\"caxis\":{\"gridcolor\":\"white\",\"linecolor\":\"white\",\"ticks\":\"\"}},\"title\":{\"x\":0.05},\"xaxis\":{\"automargin\":true,\"gridcolor\":\"white\",\"linecolor\":\"white\",\"ticks\":\"\",\"title\":{\"standoff\":15},\"zerolinecolor\":\"white\",\"zerolinewidth\":2},\"yaxis\":{\"automargin\":true,\"gridcolor\":\"white\",\"linecolor\":\"white\",\"ticks\":\"\",\"title\":{\"standoff\":15},\"zerolinecolor\":\"white\",\"zerolinewidth\":2}}},\"title\":{\"font\":{\"color\":\"#4D5663\"},\"text\":\"Incremental  R Squared for Top 11 Variables \"},\"xaxis\":{\"gridcolor\":\"#E1E5ED\",\"showgrid\":true,\"tickfont\":{\"color\":\"#4D5663\"},\"title\":{\"font\":{\"color\":\"#4D5663\"},\"text\":\"Estimators\"},\"zerolinecolor\":\"#E1E5ED\"},\"yaxis\":{\"gridcolor\":\"#E1E5ED\",\"showgrid\":true,\"tickfont\":{\"color\":\"#4D5663\"},\"title\":{\"font\":{\"color\":\"#4D5663\"},\"text\":\"Incremental R2\"},\"zerolinecolor\":\"#E1E5ED\"}},                        {\"responsive\": true}                    ).then(function(){\n",
       "                            \n",
       "var gd = document.getElementById('cc28431c-3229-416f-b511-98613ca243ad');\n",
       "var x = new MutationObserver(function (mutations, observer) {{\n",
       "        var display = window.getComputedStyle(gd).display;\n",
       "        if (!display || display === 'none') {{\n",
       "            console.log([gd, 'removed!']);\n",
       "            Plotly.purge(gd);\n",
       "            observer.disconnect();\n",
       "        }}\n",
       "}});\n",
       "\n",
       "// Listen for the removal of the full notebook cells\n",
       "var notebookContainer = gd.closest('#notebook-container');\n",
       "if (notebookContainer) {{\n",
       "    x.observe(notebookContainer, {childList: true});\n",
       "}}\n",
       "\n",
       "// Listen for the clearing of the current output cell\n",
       "var outputEl = gd.closest('.output');\n",
       "if (outputEl) {{\n",
       "    x.observe(outputEl, {childList: true});\n",
       "}}\n",
       "\n",
       "                        })                };                });            </script>        </div>"
      ]
     },
     "metadata": {},
     "output_type": "display_data"
    },
    {
     "data": {
      "application/vnd.plotly.v1+json": {
       "config": {
        "linkText": "Export to plot.ly",
        "plotlyServerURL": "https://plot.ly",
        "showLink": false
       },
       "data": [
        {
         "labels": [
          "BuAre_sum",
          "BuAdj",
          "BuHt_wmean",
          "BuVol_3D_sum",
          "BuEWA_3D_sum",
          "SVF_3D_mean",
          "BuERI_mode",
          "BuSWR_3D_median",
          "StrHW_median",
          "StrClo400_median",
          "BuIBD"
         ],
         "marker": {
          "colors": [
           "rgba(255, 153, 51, 1.0)",
           "rgba(55, 128, 191, 1.0)",
           "rgba(50, 171, 96, 1.0)",
           "rgba(128, 0, 128, 1.0)",
           "rgba(219, 64, 82, 1.0)",
           "rgba(0, 128, 128, 1.0)",
           "rgba(255, 255, 51, 1.0)",
           "rgba(128, 128, 0, 1.0)",
           "rgba(251, 128, 114, 1.0)",
           "rgba(128, 177, 211, 1.0)",
           "rgba(128, 177, 211, 0.8999999999999999)"
          ]
         },
         "name": "",
         "type": "pie",
         "values": [
          21.947763359260584,
          12.740438173016756,
          10.798865455611177,
          10.469386721387536,
          10.349239759194907,
          8.915714266040297,
          6.5899584562881115,
          5.526519583846972,
          4.9198690064007025,
          4.305682545900321,
          3.4365626730526357
         ]
        }
       ],
       "layout": {
        "legend": {
         "bgcolor": "#F5F6F9",
         "font": {
          "color": "#4D5663"
         }
        },
        "paper_bgcolor": "#F5F6F9",
        "plot_bgcolor": "#F5F6F9",
        "template": {
         "data": {
          "bar": [
           {
            "error_x": {
             "color": "#2a3f5f"
            },
            "error_y": {
             "color": "#2a3f5f"
            },
            "marker": {
             "line": {
              "color": "#E5ECF6",
              "width": 0.5
             },
             "pattern": {
              "fillmode": "overlay",
              "size": 10,
              "solidity": 0.2
             }
            },
            "type": "bar"
           }
          ],
          "barpolar": [
           {
            "marker": {
             "line": {
              "color": "#E5ECF6",
              "width": 0.5
             },
             "pattern": {
              "fillmode": "overlay",
              "size": 10,
              "solidity": 0.2
             }
            },
            "type": "barpolar"
           }
          ],
          "carpet": [
           {
            "aaxis": {
             "endlinecolor": "#2a3f5f",
             "gridcolor": "white",
             "linecolor": "white",
             "minorgridcolor": "white",
             "startlinecolor": "#2a3f5f"
            },
            "baxis": {
             "endlinecolor": "#2a3f5f",
             "gridcolor": "white",
             "linecolor": "white",
             "minorgridcolor": "white",
             "startlinecolor": "#2a3f5f"
            },
            "type": "carpet"
           }
          ],
          "choropleth": [
           {
            "colorbar": {
             "outlinewidth": 0,
             "ticks": ""
            },
            "type": "choropleth"
           }
          ],
          "contour": [
           {
            "colorbar": {
             "outlinewidth": 0,
             "ticks": ""
            },
            "colorscale": [
             [
              0,
              "#0d0887"
             ],
             [
              0.1111111111111111,
              "#46039f"
             ],
             [
              0.2222222222222222,
              "#7201a8"
             ],
             [
              0.3333333333333333,
              "#9c179e"
             ],
             [
              0.4444444444444444,
              "#bd3786"
             ],
             [
              0.5555555555555556,
              "#d8576b"
             ],
             [
              0.6666666666666666,
              "#ed7953"
             ],
             [
              0.7777777777777778,
              "#fb9f3a"
             ],
             [
              0.8888888888888888,
              "#fdca26"
             ],
             [
              1,
              "#f0f921"
             ]
            ],
            "type": "contour"
           }
          ],
          "contourcarpet": [
           {
            "colorbar": {
             "outlinewidth": 0,
             "ticks": ""
            },
            "type": "contourcarpet"
           }
          ],
          "heatmap": [
           {
            "colorbar": {
             "outlinewidth": 0,
             "ticks": ""
            },
            "colorscale": [
             [
              0,
              "#0d0887"
             ],
             [
              0.1111111111111111,
              "#46039f"
             ],
             [
              0.2222222222222222,
              "#7201a8"
             ],
             [
              0.3333333333333333,
              "#9c179e"
             ],
             [
              0.4444444444444444,
              "#bd3786"
             ],
             [
              0.5555555555555556,
              "#d8576b"
             ],
             [
              0.6666666666666666,
              "#ed7953"
             ],
             [
              0.7777777777777778,
              "#fb9f3a"
             ],
             [
              0.8888888888888888,
              "#fdca26"
             ],
             [
              1,
              "#f0f921"
             ]
            ],
            "type": "heatmap"
           }
          ],
          "heatmapgl": [
           {
            "colorbar": {
             "outlinewidth": 0,
             "ticks": ""
            },
            "colorscale": [
             [
              0,
              "#0d0887"
             ],
             [
              0.1111111111111111,
              "#46039f"
             ],
             [
              0.2222222222222222,
              "#7201a8"
             ],
             [
              0.3333333333333333,
              "#9c179e"
             ],
             [
              0.4444444444444444,
              "#bd3786"
             ],
             [
              0.5555555555555556,
              "#d8576b"
             ],
             [
              0.6666666666666666,
              "#ed7953"
             ],
             [
              0.7777777777777778,
              "#fb9f3a"
             ],
             [
              0.8888888888888888,
              "#fdca26"
             ],
             [
              1,
              "#f0f921"
             ]
            ],
            "type": "heatmapgl"
           }
          ],
          "histogram": [
           {
            "marker": {
             "pattern": {
              "fillmode": "overlay",
              "size": 10,
              "solidity": 0.2
             }
            },
            "type": "histogram"
           }
          ],
          "histogram2d": [
           {
            "colorbar": {
             "outlinewidth": 0,
             "ticks": ""
            },
            "colorscale": [
             [
              0,
              "#0d0887"
             ],
             [
              0.1111111111111111,
              "#46039f"
             ],
             [
              0.2222222222222222,
              "#7201a8"
             ],
             [
              0.3333333333333333,
              "#9c179e"
             ],
             [
              0.4444444444444444,
              "#bd3786"
             ],
             [
              0.5555555555555556,
              "#d8576b"
             ],
             [
              0.6666666666666666,
              "#ed7953"
             ],
             [
              0.7777777777777778,
              "#fb9f3a"
             ],
             [
              0.8888888888888888,
              "#fdca26"
             ],
             [
              1,
              "#f0f921"
             ]
            ],
            "type": "histogram2d"
           }
          ],
          "histogram2dcontour": [
           {
            "colorbar": {
             "outlinewidth": 0,
             "ticks": ""
            },
            "colorscale": [
             [
              0,
              "#0d0887"
             ],
             [
              0.1111111111111111,
              "#46039f"
             ],
             [
              0.2222222222222222,
              "#7201a8"
             ],
             [
              0.3333333333333333,
              "#9c179e"
             ],
             [
              0.4444444444444444,
              "#bd3786"
             ],
             [
              0.5555555555555556,
              "#d8576b"
             ],
             [
              0.6666666666666666,
              "#ed7953"
             ],
             [
              0.7777777777777778,
              "#fb9f3a"
             ],
             [
              0.8888888888888888,
              "#fdca26"
             ],
             [
              1,
              "#f0f921"
             ]
            ],
            "type": "histogram2dcontour"
           }
          ],
          "mesh3d": [
           {
            "colorbar": {
             "outlinewidth": 0,
             "ticks": ""
            },
            "type": "mesh3d"
           }
          ],
          "parcoords": [
           {
            "line": {
             "colorbar": {
              "outlinewidth": 0,
              "ticks": ""
             }
            },
            "type": "parcoords"
           }
          ],
          "pie": [
           {
            "automargin": true,
            "type": "pie"
           }
          ],
          "scatter": [
           {
            "fillpattern": {
             "fillmode": "overlay",
             "size": 10,
             "solidity": 0.2
            },
            "type": "scatter"
           }
          ],
          "scatter3d": [
           {
            "line": {
             "colorbar": {
              "outlinewidth": 0,
              "ticks": ""
             }
            },
            "marker": {
             "colorbar": {
              "outlinewidth": 0,
              "ticks": ""
             }
            },
            "type": "scatter3d"
           }
          ],
          "scattercarpet": [
           {
            "marker": {
             "colorbar": {
              "outlinewidth": 0,
              "ticks": ""
             }
            },
            "type": "scattercarpet"
           }
          ],
          "scattergeo": [
           {
            "marker": {
             "colorbar": {
              "outlinewidth": 0,
              "ticks": ""
             }
            },
            "type": "scattergeo"
           }
          ],
          "scattergl": [
           {
            "marker": {
             "colorbar": {
              "outlinewidth": 0,
              "ticks": ""
             }
            },
            "type": "scattergl"
           }
          ],
          "scattermapbox": [
           {
            "marker": {
             "colorbar": {
              "outlinewidth": 0,
              "ticks": ""
             }
            },
            "type": "scattermapbox"
           }
          ],
          "scatterpolar": [
           {
            "marker": {
             "colorbar": {
              "outlinewidth": 0,
              "ticks": ""
             }
            },
            "type": "scatterpolar"
           }
          ],
          "scatterpolargl": [
           {
            "marker": {
             "colorbar": {
              "outlinewidth": 0,
              "ticks": ""
             }
            },
            "type": "scatterpolargl"
           }
          ],
          "scatterternary": [
           {
            "marker": {
             "colorbar": {
              "outlinewidth": 0,
              "ticks": ""
             }
            },
            "type": "scatterternary"
           }
          ],
          "surface": [
           {
            "colorbar": {
             "outlinewidth": 0,
             "ticks": ""
            },
            "colorscale": [
             [
              0,
              "#0d0887"
             ],
             [
              0.1111111111111111,
              "#46039f"
             ],
             [
              0.2222222222222222,
              "#7201a8"
             ],
             [
              0.3333333333333333,
              "#9c179e"
             ],
             [
              0.4444444444444444,
              "#bd3786"
             ],
             [
              0.5555555555555556,
              "#d8576b"
             ],
             [
              0.6666666666666666,
              "#ed7953"
             ],
             [
              0.7777777777777778,
              "#fb9f3a"
             ],
             [
              0.8888888888888888,
              "#fdca26"
             ],
             [
              1,
              "#f0f921"
             ]
            ],
            "type": "surface"
           }
          ],
          "table": [
           {
            "cells": {
             "fill": {
              "color": "#EBF0F8"
             },
             "line": {
              "color": "white"
             }
            },
            "header": {
             "fill": {
              "color": "#C8D4E3"
             },
             "line": {
              "color": "white"
             }
            },
            "type": "table"
           }
          ]
         },
         "layout": {
          "annotationdefaults": {
           "arrowcolor": "#2a3f5f",
           "arrowhead": 0,
           "arrowwidth": 1
          },
          "autotypenumbers": "strict",
          "coloraxis": {
           "colorbar": {
            "outlinewidth": 0,
            "ticks": ""
           }
          },
          "colorscale": {
           "diverging": [
            [
             0,
             "#8e0152"
            ],
            [
             0.1,
             "#c51b7d"
            ],
            [
             0.2,
             "#de77ae"
            ],
            [
             0.3,
             "#f1b6da"
            ],
            [
             0.4,
             "#fde0ef"
            ],
            [
             0.5,
             "#f7f7f7"
            ],
            [
             0.6,
             "#e6f5d0"
            ],
            [
             0.7,
             "#b8e186"
            ],
            [
             0.8,
             "#7fbc41"
            ],
            [
             0.9,
             "#4d9221"
            ],
            [
             1,
             "#276419"
            ]
           ],
           "sequential": [
            [
             0,
             "#0d0887"
            ],
            [
             0.1111111111111111,
             "#46039f"
            ],
            [
             0.2222222222222222,
             "#7201a8"
            ],
            [
             0.3333333333333333,
             "#9c179e"
            ],
            [
             0.4444444444444444,
             "#bd3786"
            ],
            [
             0.5555555555555556,
             "#d8576b"
            ],
            [
             0.6666666666666666,
             "#ed7953"
            ],
            [
             0.7777777777777778,
             "#fb9f3a"
            ],
            [
             0.8888888888888888,
             "#fdca26"
            ],
            [
             1,
             "#f0f921"
            ]
           ],
           "sequentialminus": [
            [
             0,
             "#0d0887"
            ],
            [
             0.1111111111111111,
             "#46039f"
            ],
            [
             0.2222222222222222,
             "#7201a8"
            ],
            [
             0.3333333333333333,
             "#9c179e"
            ],
            [
             0.4444444444444444,
             "#bd3786"
            ],
            [
             0.5555555555555556,
             "#d8576b"
            ],
            [
             0.6666666666666666,
             "#ed7953"
            ],
            [
             0.7777777777777778,
             "#fb9f3a"
            ],
            [
             0.8888888888888888,
             "#fdca26"
            ],
            [
             1,
             "#f0f921"
            ]
           ]
          },
          "colorway": [
           "#636efa",
           "#EF553B",
           "#00cc96",
           "#ab63fa",
           "#FFA15A",
           "#19d3f3",
           "#FF6692",
           "#B6E880",
           "#FF97FF",
           "#FECB52"
          ],
          "font": {
           "color": "#2a3f5f"
          },
          "geo": {
           "bgcolor": "white",
           "lakecolor": "white",
           "landcolor": "#E5ECF6",
           "showlakes": true,
           "showland": true,
           "subunitcolor": "white"
          },
          "hoverlabel": {
           "align": "left"
          },
          "hovermode": "closest",
          "mapbox": {
           "style": "light"
          },
          "paper_bgcolor": "white",
          "plot_bgcolor": "#E5ECF6",
          "polar": {
           "angularaxis": {
            "gridcolor": "white",
            "linecolor": "white",
            "ticks": ""
           },
           "bgcolor": "#E5ECF6",
           "radialaxis": {
            "gridcolor": "white",
            "linecolor": "white",
            "ticks": ""
           }
          },
          "scene": {
           "xaxis": {
            "backgroundcolor": "#E5ECF6",
            "gridcolor": "white",
            "gridwidth": 2,
            "linecolor": "white",
            "showbackground": true,
            "ticks": "",
            "zerolinecolor": "white"
           },
           "yaxis": {
            "backgroundcolor": "#E5ECF6",
            "gridcolor": "white",
            "gridwidth": 2,
            "linecolor": "white",
            "showbackground": true,
            "ticks": "",
            "zerolinecolor": "white"
           },
           "zaxis": {
            "backgroundcolor": "#E5ECF6",
            "gridcolor": "white",
            "gridwidth": 2,
            "linecolor": "white",
            "showbackground": true,
            "ticks": "",
            "zerolinecolor": "white"
           }
          },
          "shapedefaults": {
           "line": {
            "color": "#2a3f5f"
           }
          },
          "ternary": {
           "aaxis": {
            "gridcolor": "white",
            "linecolor": "white",
            "ticks": ""
           },
           "baxis": {
            "gridcolor": "white",
            "linecolor": "white",
            "ticks": ""
           },
           "bgcolor": "#E5ECF6",
           "caxis": {
            "gridcolor": "white",
            "linecolor": "white",
            "ticks": ""
           }
          },
          "title": {
           "x": 0.05
          },
          "xaxis": {
           "automargin": true,
           "gridcolor": "white",
           "linecolor": "white",
           "ticks": "",
           "title": {
            "standoff": 15
           },
           "zerolinecolor": "white",
           "zerolinewidth": 2
          },
          "yaxis": {
           "automargin": true,
           "gridcolor": "white",
           "linecolor": "white",
           "ticks": "",
           "title": {
            "standoff": 15
           },
           "zerolinecolor": "white",
           "zerolinewidth": 2
          }
         }
        },
        "title": {
         "font": {
          "color": "#4D5663"
         },
         "text": "Percentage Relative Importance for Top 11 Variables "
        }
       }
      },
      "text/html": [
       "<div>                            <div id=\"13d57c08-4ebc-46bd-a25a-7a8ea8f23577\" class=\"plotly-graph-div\" style=\"height:525px; width:100%;\"></div>            <script type=\"text/javascript\">                require([\"plotly\"], function(Plotly) {                    window.PLOTLYENV=window.PLOTLYENV || {};                                    if (document.getElementById(\"13d57c08-4ebc-46bd-a25a-7a8ea8f23577\")) {                    Plotly.newPlot(                        \"13d57c08-4ebc-46bd-a25a-7a8ea8f23577\",                        [{\"labels\":[\"BuAre_sum\",\"BuAdj\",\"BuHt_wmean\",\"BuVol_3D_sum\",\"BuEWA_3D_sum\",\"SVF_3D_mean\",\"BuERI_mode\",\"BuSWR_3D_median\",\"StrHW_median\",\"StrClo400_median\",\"BuIBD\"],\"marker\":{\"colors\":[\"rgba(255, 153, 51, 1.0)\",\"rgba(55, 128, 191, 1.0)\",\"rgba(50, 171, 96, 1.0)\",\"rgba(128, 0, 128, 1.0)\",\"rgba(219, 64, 82, 1.0)\",\"rgba(0, 128, 128, 1.0)\",\"rgba(255, 255, 51, 1.0)\",\"rgba(128, 128, 0, 1.0)\",\"rgba(251, 128, 114, 1.0)\",\"rgba(128, 177, 211, 1.0)\",\"rgba(128, 177, 211, 0.8999999999999999)\"]},\"name\":\"\",\"values\":[21.947763359260584,12.740438173016756,10.798865455611177,10.469386721387536,10.349239759194907,8.915714266040297,6.5899584562881115,5.526519583846972,4.9198690064007025,4.305682545900321,3.4365626730526357],\"type\":\"pie\"}],                        {\"legend\":{\"bgcolor\":\"#F5F6F9\",\"font\":{\"color\":\"#4D5663\"}},\"paper_bgcolor\":\"#F5F6F9\",\"plot_bgcolor\":\"#F5F6F9\",\"template\":{\"data\":{\"barpolar\":[{\"marker\":{\"line\":{\"color\":\"#E5ECF6\",\"width\":0.5},\"pattern\":{\"fillmode\":\"overlay\",\"size\":10,\"solidity\":0.2}},\"type\":\"barpolar\"}],\"bar\":[{\"error_x\":{\"color\":\"#2a3f5f\"},\"error_y\":{\"color\":\"#2a3f5f\"},\"marker\":{\"line\":{\"color\":\"#E5ECF6\",\"width\":0.5},\"pattern\":{\"fillmode\":\"overlay\",\"size\":10,\"solidity\":0.2}},\"type\":\"bar\"}],\"carpet\":[{\"aaxis\":{\"endlinecolor\":\"#2a3f5f\",\"gridcolor\":\"white\",\"linecolor\":\"white\",\"minorgridcolor\":\"white\",\"startlinecolor\":\"#2a3f5f\"},\"baxis\":{\"endlinecolor\":\"#2a3f5f\",\"gridcolor\":\"white\",\"linecolor\":\"white\",\"minorgridcolor\":\"white\",\"startlinecolor\":\"#2a3f5f\"},\"type\":\"carpet\"}],\"choropleth\":[{\"colorbar\":{\"outlinewidth\":0,\"ticks\":\"\"},\"type\":\"choropleth\"}],\"contourcarpet\":[{\"colorbar\":{\"outlinewidth\":0,\"ticks\":\"\"},\"type\":\"contourcarpet\"}],\"contour\":[{\"colorbar\":{\"outlinewidth\":0,\"ticks\":\"\"},\"colorscale\":[[0.0,\"#0d0887\"],[0.1111111111111111,\"#46039f\"],[0.2222222222222222,\"#7201a8\"],[0.3333333333333333,\"#9c179e\"],[0.4444444444444444,\"#bd3786\"],[0.5555555555555556,\"#d8576b\"],[0.6666666666666666,\"#ed7953\"],[0.7777777777777778,\"#fb9f3a\"],[0.8888888888888888,\"#fdca26\"],[1.0,\"#f0f921\"]],\"type\":\"contour\"}],\"heatmapgl\":[{\"colorbar\":{\"outlinewidth\":0,\"ticks\":\"\"},\"colorscale\":[[0.0,\"#0d0887\"],[0.1111111111111111,\"#46039f\"],[0.2222222222222222,\"#7201a8\"],[0.3333333333333333,\"#9c179e\"],[0.4444444444444444,\"#bd3786\"],[0.5555555555555556,\"#d8576b\"],[0.6666666666666666,\"#ed7953\"],[0.7777777777777778,\"#fb9f3a\"],[0.8888888888888888,\"#fdca26\"],[1.0,\"#f0f921\"]],\"type\":\"heatmapgl\"}],\"heatmap\":[{\"colorbar\":{\"outlinewidth\":0,\"ticks\":\"\"},\"colorscale\":[[0.0,\"#0d0887\"],[0.1111111111111111,\"#46039f\"],[0.2222222222222222,\"#7201a8\"],[0.3333333333333333,\"#9c179e\"],[0.4444444444444444,\"#bd3786\"],[0.5555555555555556,\"#d8576b\"],[0.6666666666666666,\"#ed7953\"],[0.7777777777777778,\"#fb9f3a\"],[0.8888888888888888,\"#fdca26\"],[1.0,\"#f0f921\"]],\"type\":\"heatmap\"}],\"histogram2dcontour\":[{\"colorbar\":{\"outlinewidth\":0,\"ticks\":\"\"},\"colorscale\":[[0.0,\"#0d0887\"],[0.1111111111111111,\"#46039f\"],[0.2222222222222222,\"#7201a8\"],[0.3333333333333333,\"#9c179e\"],[0.4444444444444444,\"#bd3786\"],[0.5555555555555556,\"#d8576b\"],[0.6666666666666666,\"#ed7953\"],[0.7777777777777778,\"#fb9f3a\"],[0.8888888888888888,\"#fdca26\"],[1.0,\"#f0f921\"]],\"type\":\"histogram2dcontour\"}],\"histogram2d\":[{\"colorbar\":{\"outlinewidth\":0,\"ticks\":\"\"},\"colorscale\":[[0.0,\"#0d0887\"],[0.1111111111111111,\"#46039f\"],[0.2222222222222222,\"#7201a8\"],[0.3333333333333333,\"#9c179e\"],[0.4444444444444444,\"#bd3786\"],[0.5555555555555556,\"#d8576b\"],[0.6666666666666666,\"#ed7953\"],[0.7777777777777778,\"#fb9f3a\"],[0.8888888888888888,\"#fdca26\"],[1.0,\"#f0f921\"]],\"type\":\"histogram2d\"}],\"histogram\":[{\"marker\":{\"pattern\":{\"fillmode\":\"overlay\",\"size\":10,\"solidity\":0.2}},\"type\":\"histogram\"}],\"mesh3d\":[{\"colorbar\":{\"outlinewidth\":0,\"ticks\":\"\"},\"type\":\"mesh3d\"}],\"parcoords\":[{\"line\":{\"colorbar\":{\"outlinewidth\":0,\"ticks\":\"\"}},\"type\":\"parcoords\"}],\"pie\":[{\"automargin\":true,\"type\":\"pie\"}],\"scatter3d\":[{\"line\":{\"colorbar\":{\"outlinewidth\":0,\"ticks\":\"\"}},\"marker\":{\"colorbar\":{\"outlinewidth\":0,\"ticks\":\"\"}},\"type\":\"scatter3d\"}],\"scattercarpet\":[{\"marker\":{\"colorbar\":{\"outlinewidth\":0,\"ticks\":\"\"}},\"type\":\"scattercarpet\"}],\"scattergeo\":[{\"marker\":{\"colorbar\":{\"outlinewidth\":0,\"ticks\":\"\"}},\"type\":\"scattergeo\"}],\"scattergl\":[{\"marker\":{\"colorbar\":{\"outlinewidth\":0,\"ticks\":\"\"}},\"type\":\"scattergl\"}],\"scattermapbox\":[{\"marker\":{\"colorbar\":{\"outlinewidth\":0,\"ticks\":\"\"}},\"type\":\"scattermapbox\"}],\"scatterpolargl\":[{\"marker\":{\"colorbar\":{\"outlinewidth\":0,\"ticks\":\"\"}},\"type\":\"scatterpolargl\"}],\"scatterpolar\":[{\"marker\":{\"colorbar\":{\"outlinewidth\":0,\"ticks\":\"\"}},\"type\":\"scatterpolar\"}],\"scatter\":[{\"fillpattern\":{\"fillmode\":\"overlay\",\"size\":10,\"solidity\":0.2},\"type\":\"scatter\"}],\"scatterternary\":[{\"marker\":{\"colorbar\":{\"outlinewidth\":0,\"ticks\":\"\"}},\"type\":\"scatterternary\"}],\"surface\":[{\"colorbar\":{\"outlinewidth\":0,\"ticks\":\"\"},\"colorscale\":[[0.0,\"#0d0887\"],[0.1111111111111111,\"#46039f\"],[0.2222222222222222,\"#7201a8\"],[0.3333333333333333,\"#9c179e\"],[0.4444444444444444,\"#bd3786\"],[0.5555555555555556,\"#d8576b\"],[0.6666666666666666,\"#ed7953\"],[0.7777777777777778,\"#fb9f3a\"],[0.8888888888888888,\"#fdca26\"],[1.0,\"#f0f921\"]],\"type\":\"surface\"}],\"table\":[{\"cells\":{\"fill\":{\"color\":\"#EBF0F8\"},\"line\":{\"color\":\"white\"}},\"header\":{\"fill\":{\"color\":\"#C8D4E3\"},\"line\":{\"color\":\"white\"}},\"type\":\"table\"}]},\"layout\":{\"annotationdefaults\":{\"arrowcolor\":\"#2a3f5f\",\"arrowhead\":0,\"arrowwidth\":1},\"autotypenumbers\":\"strict\",\"coloraxis\":{\"colorbar\":{\"outlinewidth\":0,\"ticks\":\"\"}},\"colorscale\":{\"diverging\":[[0,\"#8e0152\"],[0.1,\"#c51b7d\"],[0.2,\"#de77ae\"],[0.3,\"#f1b6da\"],[0.4,\"#fde0ef\"],[0.5,\"#f7f7f7\"],[0.6,\"#e6f5d0\"],[0.7,\"#b8e186\"],[0.8,\"#7fbc41\"],[0.9,\"#4d9221\"],[1,\"#276419\"]],\"sequential\":[[0.0,\"#0d0887\"],[0.1111111111111111,\"#46039f\"],[0.2222222222222222,\"#7201a8\"],[0.3333333333333333,\"#9c179e\"],[0.4444444444444444,\"#bd3786\"],[0.5555555555555556,\"#d8576b\"],[0.6666666666666666,\"#ed7953\"],[0.7777777777777778,\"#fb9f3a\"],[0.8888888888888888,\"#fdca26\"],[1.0,\"#f0f921\"]],\"sequentialminus\":[[0.0,\"#0d0887\"],[0.1111111111111111,\"#46039f\"],[0.2222222222222222,\"#7201a8\"],[0.3333333333333333,\"#9c179e\"],[0.4444444444444444,\"#bd3786\"],[0.5555555555555556,\"#d8576b\"],[0.6666666666666666,\"#ed7953\"],[0.7777777777777778,\"#fb9f3a\"],[0.8888888888888888,\"#fdca26\"],[1.0,\"#f0f921\"]]},\"colorway\":[\"#636efa\",\"#EF553B\",\"#00cc96\",\"#ab63fa\",\"#FFA15A\",\"#19d3f3\",\"#FF6692\",\"#B6E880\",\"#FF97FF\",\"#FECB52\"],\"font\":{\"color\":\"#2a3f5f\"},\"geo\":{\"bgcolor\":\"white\",\"lakecolor\":\"white\",\"landcolor\":\"#E5ECF6\",\"showlakes\":true,\"showland\":true,\"subunitcolor\":\"white\"},\"hoverlabel\":{\"align\":\"left\"},\"hovermode\":\"closest\",\"mapbox\":{\"style\":\"light\"},\"paper_bgcolor\":\"white\",\"plot_bgcolor\":\"#E5ECF6\",\"polar\":{\"angularaxis\":{\"gridcolor\":\"white\",\"linecolor\":\"white\",\"ticks\":\"\"},\"bgcolor\":\"#E5ECF6\",\"radialaxis\":{\"gridcolor\":\"white\",\"linecolor\":\"white\",\"ticks\":\"\"}},\"scene\":{\"xaxis\":{\"backgroundcolor\":\"#E5ECF6\",\"gridcolor\":\"white\",\"gridwidth\":2,\"linecolor\":\"white\",\"showbackground\":true,\"ticks\":\"\",\"zerolinecolor\":\"white\"},\"yaxis\":{\"backgroundcolor\":\"#E5ECF6\",\"gridcolor\":\"white\",\"gridwidth\":2,\"linecolor\":\"white\",\"showbackground\":true,\"ticks\":\"\",\"zerolinecolor\":\"white\"},\"zaxis\":{\"backgroundcolor\":\"#E5ECF6\",\"gridcolor\":\"white\",\"gridwidth\":2,\"linecolor\":\"white\",\"showbackground\":true,\"ticks\":\"\",\"zerolinecolor\":\"white\"}},\"shapedefaults\":{\"line\":{\"color\":\"#2a3f5f\"}},\"ternary\":{\"aaxis\":{\"gridcolor\":\"white\",\"linecolor\":\"white\",\"ticks\":\"\"},\"baxis\":{\"gridcolor\":\"white\",\"linecolor\":\"white\",\"ticks\":\"\"},\"bgcolor\":\"#E5ECF6\",\"caxis\":{\"gridcolor\":\"white\",\"linecolor\":\"white\",\"ticks\":\"\"}},\"title\":{\"x\":0.05},\"xaxis\":{\"automargin\":true,\"gridcolor\":\"white\",\"linecolor\":\"white\",\"ticks\":\"\",\"title\":{\"standoff\":15},\"zerolinecolor\":\"white\",\"zerolinewidth\":2},\"yaxis\":{\"automargin\":true,\"gridcolor\":\"white\",\"linecolor\":\"white\",\"ticks\":\"\",\"title\":{\"standoff\":15},\"zerolinecolor\":\"white\",\"zerolinewidth\":2}}},\"title\":{\"font\":{\"color\":\"#4D5663\"},\"text\":\"Percentage Relative Importance for Top 11 Variables \"}},                        {\"responsive\": true}                    ).then(function(){\n",
       "                            \n",
       "var gd = document.getElementById('13d57c08-4ebc-46bd-a25a-7a8ea8f23577');\n",
       "var x = new MutationObserver(function (mutations, observer) {{\n",
       "        var display = window.getComputedStyle(gd).display;\n",
       "        if (!display || display === 'none') {{\n",
       "            console.log([gd, 'removed!']);\n",
       "            Plotly.purge(gd);\n",
       "            observer.disconnect();\n",
       "        }}\n",
       "}});\n",
       "\n",
       "// Listen for the removal of the full notebook cells\n",
       "var notebookContainer = gd.closest('#notebook-container');\n",
       "if (notebookContainer) {{\n",
       "    x.observe(notebookContainer, {childList: true});\n",
       "}}\n",
       "\n",
       "// Listen for the clearing of the current output cell\n",
       "var outputEl = gd.closest('.output');\n",
       "if (outputEl) {{\n",
       "    x.observe(outputEl, {childList: true});\n",
       "}}\n",
       "\n",
       "                        })                };                });            </script>        </div>"
      ]
     },
     "metadata": {},
     "output_type": "display_data"
    },
    {
     "ename": "AttributeError",
     "evalue": "'DataFrame' object has no attribute 'append'",
     "output_type": "error",
     "traceback": [
      "\u001b[0;31m---------------------------------------------------------------------------\u001b[0m",
      "\u001b[0;31mAttributeError\u001b[0m                            Traceback (most recent call last)",
      "\u001b[0;32m/var/folders/_c/80m5cqnd3ml3s2h2xdwdq9f40000gp/T/ipykernel_11173/1204992974.py\u001b[0m in \u001b[0;36m?\u001b[0;34m()\u001b[0m\n\u001b[0;32m----> 1\u001b[0;31m \u001b[0mdominance_reg\u001b[0m\u001b[0;34m.\u001b[0m\u001b[0mplot_incremental_rsquare\u001b[0m\u001b[0;34m(\u001b[0m\u001b[0;34m)\u001b[0m\u001b[0;34m\u001b[0m\u001b[0;34m\u001b[0m\u001b[0m\n\u001b[0m",
      "\u001b[0;32m~/.conda/envs/py312_uscuni_buildingfootprints/lib/python3.12/site-packages/dominance_analysis/dominance.py\u001b[0m in \u001b[0;36m?\u001b[0;34m(self)\u001b[0m\n\u001b[1;32m    319\u001b[0m                 \u001b[0;32melse\u001b[0m\u001b[0;34m:\u001b[0m\u001b[0;34m\u001b[0m\u001b[0;34m\u001b[0m\u001b[0m\n\u001b[1;32m    320\u001b[0m                         \u001b[0miplot\u001b[0m\u001b[0;34m(\u001b[0m\u001b[0mincremental_rsquare_df\u001b[0m\u001b[0;34m[\u001b[0m\u001b[0;34m[\u001b[0m\u001b[0;34m'Features'\u001b[0m\u001b[0;34m,\u001b[0m\u001b[0;34m'incremental_r2'\u001b[0m\u001b[0;34m]\u001b[0m\u001b[0;34m]\u001b[0m\u001b[0;34m.\u001b[0m\u001b[0mset_index\u001b[0m\u001b[0;34m(\u001b[0m\u001b[0;34m\"Features\"\u001b[0m\u001b[0;34m)\u001b[0m\u001b[0;34m.\u001b[0m\u001b[0miplot\u001b[0m\u001b[0;34m(\u001b[0m\u001b[0masFigure\u001b[0m\u001b[0;34m=\u001b[0m\u001b[0;32mTrue\u001b[0m\u001b[0;34m,\u001b[0m\u001b[0mkind\u001b[0m\u001b[0;34m=\u001b[0m\u001b[0;34m'bar'\u001b[0m\u001b[0;34m,\u001b[0m\u001b[0mtitle\u001b[0m\u001b[0;34m=\u001b[0m\u001b[0;34m\"Incremental \"\u001b[0m\u001b[0;34m+\u001b[0m\u001b[0;34m(\u001b[0m\u001b[0;34m\"Pseudo \"\u001b[0m \u001b[0;32mif\u001b[0m \u001b[0;34m(\u001b[0m\u001b[0mself\u001b[0m\u001b[0;34m.\u001b[0m\u001b[0mobjective\u001b[0m\u001b[0;34m!=\u001b[0m\u001b[0;36m1\u001b[0m\u001b[0;34m)\u001b[0m \u001b[0;32melse\u001b[0m \u001b[0;34m\" \"\u001b[0m\u001b[0;34m)\u001b[0m\u001b[0;34m+\u001b[0m\u001b[0;34m\"R Squared of \"\u001b[0m \u001b[0;34m+\u001b[0m\u001b[0;34m\" Variables \"\u001b[0m\u001b[0;34m,\u001b[0m\u001b[0myTitle\u001b[0m\u001b[0;34m=\u001b[0m\u001b[0;34m\"Incremental R2\"\u001b[0m\u001b[0;34m,\u001b[0m\u001b[0mxTitle\u001b[0m\u001b[0;34m=\u001b[0m\u001b[0;34m\"Estimators\"\u001b[0m\u001b[0;34m)\u001b[0m\u001b[0;34m)\u001b[0m\u001b[0;34m\u001b[0m\u001b[0;34m\u001b[0m\u001b[0m\n\u001b[1;32m    321\u001b[0m                         \u001b[0miplot\u001b[0m\u001b[0;34m(\u001b[0m\u001b[0mincremental_rsquare_df\u001b[0m\u001b[0;34m[\u001b[0m\u001b[0;34m[\u001b[0m\u001b[0;34m'Features'\u001b[0m\u001b[0;34m,\u001b[0m\u001b[0;34m'percentage_incremental_r2'\u001b[0m\u001b[0;34m]\u001b[0m\u001b[0;34m]\u001b[0m\u001b[0;34m.\u001b[0m\u001b[0miplot\u001b[0m\u001b[0;34m(\u001b[0m\u001b[0masFigure\u001b[0m\u001b[0;34m=\u001b[0m\u001b[0;32mTrue\u001b[0m\u001b[0;34m,\u001b[0m\u001b[0mkind\u001b[0m\u001b[0;34m=\u001b[0m\u001b[0;34m'pie'\u001b[0m\u001b[0;34m,\u001b[0m\u001b[0mtitle\u001b[0m\u001b[0;34m=\u001b[0m\u001b[0;34m\"Percentage Relative Importance of \"\u001b[0m \u001b[0;34m+\u001b[0m\u001b[0;34m\" Variables \"\u001b[0m\u001b[0;34m,\u001b[0m\u001b[0mvalues\u001b[0m\u001b[0;34m=\u001b[0m\u001b[0;34m\"percentage_incremental_r2\"\u001b[0m\u001b[0;34m,\u001b[0m\u001b[0mlabels\u001b[0m\u001b[0;34m=\u001b[0m\u001b[0;34m\"Features\"\u001b[0m\u001b[0;34m)\u001b[0m\u001b[0;34m)\u001b[0m\u001b[0;34m\u001b[0m\u001b[0;34m\u001b[0m\u001b[0m\n\u001b[1;32m    322\u001b[0m \u001b[0;31m#Bala changes end#Bala changes end\u001b[0m\u001b[0;34m\u001b[0m\u001b[0;34m\u001b[0m\u001b[0m\n\u001b[0;32m--> 323\u001b[0;31m                 \u001b[0mself\u001b[0m\u001b[0;34m.\u001b[0m\u001b[0mplot_waterfall_relative_importance\u001b[0m\u001b[0;34m(\u001b[0m\u001b[0mincremental_rsquare_df\u001b[0m\u001b[0;34m[\u001b[0m\u001b[0;34m[\u001b[0m\u001b[0;34m'Features'\u001b[0m\u001b[0;34m,\u001b[0m\u001b[0;34m'percentage_incremental_r2'\u001b[0m\u001b[0;34m]\u001b[0m\u001b[0;34m]\u001b[0m\u001b[0;34m)\u001b[0m\u001b[0;34m\u001b[0m\u001b[0;34m\u001b[0m\u001b[0m\n\u001b[0m",
      "\u001b[0;32m~/.conda/envs/py312_uscuni_buildingfootprints/lib/python3.12/site-packages/dominance_analysis/dominance.py\u001b[0m in \u001b[0;36m?\u001b[0;34m(self, incremental_rsquare_df)\u001b[0m\n\u001b[1;32m    268\u001b[0m \u001b[0;34m\u001b[0m\u001b[0m\n\u001b[1;32m    269\u001b[0m \t\tdf_net = pd.DataFrame.from_records([(net, net, 0, net)],\n\u001b[1;32m    270\u001b[0m                         \u001b[0mcolumns\u001b[0m\u001b[0;34m=\u001b[0m\u001b[0;34m[\u001b[0m\u001b[0;34m'Percentage Relative Importance'\u001b[0m\u001b[0;34m,\u001b[0m \u001b[0;34m'running_total'\u001b[0m\u001b[0;34m,\u001b[0m \u001b[0;34m'y_start'\u001b[0m\u001b[0;34m,\u001b[0m \u001b[0;34m'label_pos'\u001b[0m\u001b[0;34m]\u001b[0m\u001b[0;34m,\u001b[0m\u001b[0mindex\u001b[0m\u001b[0;34m=\u001b[0m\u001b[0;34m[\u001b[0m\u001b[0;34m\"net\"\u001b[0m\u001b[0;34m]\u001b[0m\u001b[0;34m)\u001b[0m\u001b[0;34m\u001b[0m\u001b[0;34m\u001b[0m\u001b[0m\n\u001b[1;32m    271\u001b[0m \u001b[0;34m\u001b[0m\u001b[0m\n\u001b[0;32m--> 272\u001b[0;31m                 \u001b[0mdf\u001b[0m \u001b[0;34m=\u001b[0m \u001b[0mdf\u001b[0m\u001b[0;34m.\u001b[0m\u001b[0mappend\u001b[0m\u001b[0;34m(\u001b[0m\u001b[0mdf_net\u001b[0m\u001b[0;34m)\u001b[0m\u001b[0;34m\u001b[0m\u001b[0;34m\u001b[0m\u001b[0m\n\u001b[0m\u001b[1;32m    273\u001b[0m \u001b[0;34m\u001b[0m\u001b[0m\n\u001b[1;32m    274\u001b[0m                 \u001b[0mdf\u001b[0m\u001b[0;34m[\u001b[0m\u001b[0;34m'color'\u001b[0m\u001b[0;34m]\u001b[0m \u001b[0;34m=\u001b[0m \u001b[0;34m'#1de9b6'\u001b[0m\u001b[0;34m\u001b[0m\u001b[0;34m\u001b[0m\u001b[0m\n\u001b[1;32m    275\u001b[0m                 \u001b[0mdf\u001b[0m\u001b[0;34m.\u001b[0m\u001b[0mloc\u001b[0m\u001b[0;34m[\u001b[0m\u001b[0mdf\u001b[0m\u001b[0;34m[\u001b[0m\u001b[0;34m'Percentage Relative Importance'\u001b[0m\u001b[0;34m]\u001b[0m \u001b[0;34m==\u001b[0m \u001b[0;36m100\u001b[0m\u001b[0;34m,\u001b[0m \u001b[0;34m'color'\u001b[0m\u001b[0;34m]\u001b[0m \u001b[0;34m=\u001b[0m \u001b[0;34m'#29b6f6'\u001b[0m\u001b[0;34m\u001b[0m\u001b[0;34m\u001b[0m\u001b[0m\n",
      "\u001b[0;32m~/.local/lib/python3.12/site-packages/pandas/core/generic.py\u001b[0m in \u001b[0;36m?\u001b[0;34m(self, name)\u001b[0m\n\u001b[1;32m   6314\u001b[0m             \u001b[0;32mand\u001b[0m \u001b[0mname\u001b[0m \u001b[0;32mnot\u001b[0m \u001b[0;32min\u001b[0m \u001b[0mself\u001b[0m\u001b[0;34m.\u001b[0m\u001b[0m_accessors\u001b[0m\u001b[0;34m\u001b[0m\u001b[0;34m\u001b[0m\u001b[0m\n\u001b[1;32m   6315\u001b[0m             \u001b[0;32mand\u001b[0m \u001b[0mself\u001b[0m\u001b[0;34m.\u001b[0m\u001b[0m_info_axis\u001b[0m\u001b[0;34m.\u001b[0m\u001b[0m_can_hold_identifiers_and_holds_name\u001b[0m\u001b[0;34m(\u001b[0m\u001b[0mname\u001b[0m\u001b[0;34m)\u001b[0m\u001b[0;34m\u001b[0m\u001b[0;34m\u001b[0m\u001b[0m\n\u001b[1;32m   6316\u001b[0m         \u001b[0;34m)\u001b[0m\u001b[0;34m:\u001b[0m\u001b[0;34m\u001b[0m\u001b[0;34m\u001b[0m\u001b[0m\n\u001b[1;32m   6317\u001b[0m             \u001b[0;32mreturn\u001b[0m \u001b[0mself\u001b[0m\u001b[0;34m[\u001b[0m\u001b[0mname\u001b[0m\u001b[0;34m]\u001b[0m\u001b[0;34m\u001b[0m\u001b[0;34m\u001b[0m\u001b[0m\n\u001b[0;32m-> 6318\u001b[0;31m         \u001b[0;32mreturn\u001b[0m \u001b[0mobject\u001b[0m\u001b[0;34m.\u001b[0m\u001b[0m__getattribute__\u001b[0m\u001b[0;34m(\u001b[0m\u001b[0mself\u001b[0m\u001b[0;34m,\u001b[0m \u001b[0mname\u001b[0m\u001b[0;34m)\u001b[0m\u001b[0;34m\u001b[0m\u001b[0;34m\u001b[0m\u001b[0m\n\u001b[0m",
      "\u001b[0;31mAttributeError\u001b[0m: 'DataFrame' object has no attribute 'append'"
     ]
    }
   ],
   "source": [
    "dominance_reg.plot_incremental_rsquare()"
   ]
  },
  {
   "cell_type": "code",
   "execution_count": 19,
   "metadata": {},
   "outputs": [
    {
     "data": {
      "text/html": [
       "<div>\n",
       "<style scoped>\n",
       "    .dataframe tbody tr th:only-of-type {\n",
       "        vertical-align: middle;\n",
       "    }\n",
       "\n",
       "    .dataframe tbody tr th {\n",
       "        vertical-align: top;\n",
       "    }\n",
       "\n",
       "    .dataframe thead th {\n",
       "        text-align: right;\n",
       "    }\n",
       "</style>\n",
       "<table border=\"1\" class=\"dataframe\">\n",
       "  <thead>\n",
       "    <tr style=\"text-align: right;\">\n",
       "      <th></th>\n",
       "      <th>Temperature_diff_K</th>\n",
       "      <th>BuAre_sum</th>\n",
       "      <th>BuVol_3D_sum</th>\n",
       "      <th>BuEWA_3D_sum</th>\n",
       "      <th>BuIBD</th>\n",
       "      <th>BuAdj</th>\n",
       "      <th>BuSWR_3D_median</th>\n",
       "      <th>BuHt_wmean</th>\n",
       "      <th>StrHW_median</th>\n",
       "      <th>SVF_3D_mean</th>\n",
       "      <th>BuERI_mode</th>\n",
       "      <th>StrClo400_median</th>\n",
       "      <th>BuRough_3D_wsum</th>\n",
       "    </tr>\n",
       "  </thead>\n",
       "  <tbody>\n",
       "    <tr>\n",
       "      <th>0</th>\n",
       "      <td>1.30</td>\n",
       "      <td>88611.064392</td>\n",
       "      <td>1.419363e+06</td>\n",
       "      <td>356116.386413</td>\n",
       "      <td>14.210120</td>\n",
       "      <td>0.316593</td>\n",
       "      <td>0.226575</td>\n",
       "      <td>16.088678</td>\n",
       "      <td>0.828041</td>\n",
       "      <td>0.726348</td>\n",
       "      <td>0.510927</td>\n",
       "      <td>0.000019</td>\n",
       "      <td>80898.284900</td>\n",
       "    </tr>\n",
       "    <tr>\n",
       "      <th>1</th>\n",
       "      <td>1.10</td>\n",
       "      <td>87945.342335</td>\n",
       "      <td>1.416225e+06</td>\n",
       "      <td>353928.535936</td>\n",
       "      <td>14.496523</td>\n",
       "      <td>0.333252</td>\n",
       "      <td>0.212780</td>\n",
       "      <td>16.174672</td>\n",
       "      <td>0.719806</td>\n",
       "      <td>0.733817</td>\n",
       "      <td>0.510927</td>\n",
       "      <td>0.000017</td>\n",
       "      <td>80032.293698</td>\n",
       "    </tr>\n",
       "    <tr>\n",
       "      <th>2</th>\n",
       "      <td>1.02</td>\n",
       "      <td>78953.475859</td>\n",
       "      <td>1.173644e+06</td>\n",
       "      <td>319341.437612</td>\n",
       "      <td>14.916552</td>\n",
       "      <td>0.359290</td>\n",
       "      <td>0.214372</td>\n",
       "      <td>14.934070</td>\n",
       "      <td>0.639352</td>\n",
       "      <td>0.746298</td>\n",
       "      <td>0.556153</td>\n",
       "      <td>0.000015</td>\n",
       "      <td>70812.779143</td>\n",
       "    </tr>\n",
       "    <tr>\n",
       "      <th>3</th>\n",
       "      <td>1.02</td>\n",
       "      <td>77989.530821</td>\n",
       "      <td>1.159853e+06</td>\n",
       "      <td>315972.447698</td>\n",
       "      <td>14.876094</td>\n",
       "      <td>0.359314</td>\n",
       "      <td>0.215963</td>\n",
       "      <td>14.941287</td>\n",
       "      <td>0.610363</td>\n",
       "      <td>0.746567</td>\n",
       "      <td>0.556153</td>\n",
       "      <td>0.000015</td>\n",
       "      <td>69021.019603</td>\n",
       "    </tr>\n",
       "    <tr>\n",
       "      <th>4</th>\n",
       "      <td>1.02</td>\n",
       "      <td>73037.647444</td>\n",
       "      <td>1.055864e+06</td>\n",
       "      <td>308325.986229</td>\n",
       "      <td>16.113767</td>\n",
       "      <td>0.417174</td>\n",
       "      <td>0.186234</td>\n",
       "      <td>14.499651</td>\n",
       "      <td>0.548229</td>\n",
       "      <td>0.751950</td>\n",
       "      <td>0.556153</td>\n",
       "      <td>0.000013</td>\n",
       "      <td>65432.815071</td>\n",
       "    </tr>\n",
       "    <tr>\n",
       "      <th>...</th>\n",
       "      <td>...</td>\n",
       "      <td>...</td>\n",
       "      <td>...</td>\n",
       "      <td>...</td>\n",
       "      <td>...</td>\n",
       "      <td>...</td>\n",
       "      <td>...</td>\n",
       "      <td>...</td>\n",
       "      <td>...</td>\n",
       "      <td>...</td>\n",
       "      <td>...</td>\n",
       "      <td>...</td>\n",
       "      <td>...</td>\n",
       "    </tr>\n",
       "    <tr>\n",
       "      <th>5936</th>\n",
       "      <td>-0.75</td>\n",
       "      <td>89538.392811</td>\n",
       "      <td>1.447345e+06</td>\n",
       "      <td>357100.320441</td>\n",
       "      <td>14.210719</td>\n",
       "      <td>0.322829</td>\n",
       "      <td>0.221957</td>\n",
       "      <td>16.235513</td>\n",
       "      <td>0.828041</td>\n",
       "      <td>0.726900</td>\n",
       "      <td>0.510927</td>\n",
       "      <td>0.000019</td>\n",
       "      <td>80993.454775</td>\n",
       "    </tr>\n",
       "    <tr>\n",
       "      <th>5937</th>\n",
       "      <td>-0.54</td>\n",
       "      <td>89442.584300</td>\n",
       "      <td>1.446028e+06</td>\n",
       "      <td>359930.485912</td>\n",
       "      <td>14.020836</td>\n",
       "      <td>0.316027</td>\n",
       "      <td>0.225701</td>\n",
       "      <td>16.238213</td>\n",
       "      <td>0.823423</td>\n",
       "      <td>0.725776</td>\n",
       "      <td>0.510927</td>\n",
       "      <td>0.000019</td>\n",
       "      <td>80778.206783</td>\n",
       "    </tr>\n",
       "    <tr>\n",
       "      <th>5938</th>\n",
       "      <td>-0.44</td>\n",
       "      <td>88410.156137</td>\n",
       "      <td>1.424107e+06</td>\n",
       "      <td>354690.005585</td>\n",
       "      <td>13.928590</td>\n",
       "      <td>0.310400</td>\n",
       "      <td>0.229856</td>\n",
       "      <td>16.179148</td>\n",
       "      <td>0.828041</td>\n",
       "      <td>0.723833</td>\n",
       "      <td>0.510927</td>\n",
       "      <td>0.000020</td>\n",
       "      <td>80722.173495</td>\n",
       "    </tr>\n",
       "    <tr>\n",
       "      <th>5939</th>\n",
       "      <td>-0.44</td>\n",
       "      <td>89368.249945</td>\n",
       "      <td>1.435355e+06</td>\n",
       "      <td>360215.607313</td>\n",
       "      <td>13.996876</td>\n",
       "      <td>0.310517</td>\n",
       "      <td>0.239904</td>\n",
       "      <td>16.131929</td>\n",
       "      <td>0.848238</td>\n",
       "      <td>0.722884</td>\n",
       "      <td>0.510927</td>\n",
       "      <td>0.000019</td>\n",
       "      <td>81591.473976</td>\n",
       "    </tr>\n",
       "    <tr>\n",
       "      <th>5940</th>\n",
       "      <td>-0.44</td>\n",
       "      <td>88879.198123</td>\n",
       "      <td>1.434105e+06</td>\n",
       "      <td>360214.725416</td>\n",
       "      <td>14.138048</td>\n",
       "      <td>0.312295</td>\n",
       "      <td>0.233347</td>\n",
       "      <td>16.206596</td>\n",
       "      <td>0.848238</td>\n",
       "      <td>0.723225</td>\n",
       "      <td>0.510927</td>\n",
       "      <td>0.000019</td>\n",
       "      <td>80809.150542</td>\n",
       "    </tr>\n",
       "  </tbody>\n",
       "</table>\n",
       "<p>4971 rows × 13 columns</p>\n",
       "</div>"
      ],
      "text/plain": [
       "      Temperature_diff_K     BuAre_sum  BuVol_3D_sum   BuEWA_3D_sum  \\\n",
       "0                   1.30  88611.064392  1.419363e+06  356116.386413   \n",
       "1                   1.10  87945.342335  1.416225e+06  353928.535936   \n",
       "2                   1.02  78953.475859  1.173644e+06  319341.437612   \n",
       "3                   1.02  77989.530821  1.159853e+06  315972.447698   \n",
       "4                   1.02  73037.647444  1.055864e+06  308325.986229   \n",
       "...                  ...           ...           ...            ...   \n",
       "5936               -0.75  89538.392811  1.447345e+06  357100.320441   \n",
       "5937               -0.54  89442.584300  1.446028e+06  359930.485912   \n",
       "5938               -0.44  88410.156137  1.424107e+06  354690.005585   \n",
       "5939               -0.44  89368.249945  1.435355e+06  360215.607313   \n",
       "5940               -0.44  88879.198123  1.434105e+06  360214.725416   \n",
       "\n",
       "          BuIBD     BuAdj  BuSWR_3D_median  BuHt_wmean  StrHW_median  \\\n",
       "0     14.210120  0.316593         0.226575   16.088678      0.828041   \n",
       "1     14.496523  0.333252         0.212780   16.174672      0.719806   \n",
       "2     14.916552  0.359290         0.214372   14.934070      0.639352   \n",
       "3     14.876094  0.359314         0.215963   14.941287      0.610363   \n",
       "4     16.113767  0.417174         0.186234   14.499651      0.548229   \n",
       "...         ...       ...              ...         ...           ...   \n",
       "5936  14.210719  0.322829         0.221957   16.235513      0.828041   \n",
       "5937  14.020836  0.316027         0.225701   16.238213      0.823423   \n",
       "5938  13.928590  0.310400         0.229856   16.179148      0.828041   \n",
       "5939  13.996876  0.310517         0.239904   16.131929      0.848238   \n",
       "5940  14.138048  0.312295         0.233347   16.206596      0.848238   \n",
       "\n",
       "      SVF_3D_mean  BuERI_mode  StrClo400_median  BuRough_3D_wsum  \n",
       "0        0.726348    0.510927          0.000019     80898.284900  \n",
       "1        0.733817    0.510927          0.000017     80032.293698  \n",
       "2        0.746298    0.556153          0.000015     70812.779143  \n",
       "3        0.746567    0.556153          0.000015     69021.019603  \n",
       "4        0.751950    0.556153          0.000013     65432.815071  \n",
       "...           ...         ...               ...              ...  \n",
       "5936     0.726900    0.510927          0.000019     80993.454775  \n",
       "5937     0.725776    0.510927          0.000019     80778.206783  \n",
       "5938     0.723833    0.510927          0.000020     80722.173495  \n",
       "5939     0.722884    0.510927          0.000019     81591.473976  \n",
       "5940     0.723225    0.510927          0.000019     80809.150542  \n",
       "\n",
       "[4971 rows x 13 columns]"
      ]
     },
     "execution_count": 19,
     "metadata": {},
     "output_type": "execute_result"
    }
   ],
   "source": [
    "df"
   ]
  },
  {
   "cell_type": "code",
   "execution_count": 82,
   "metadata": {},
   "outputs": [
    {
     "name": "stdout",
     "output_type": "stream",
     "text": [
      "🔵 Top 5 R² (linear regression on original data):\n",
      "('BuAre_sum', 'BuVol_3D_sum', 'BuHt_wmean') → R² = 0.495\n",
      "('BuAre_sum', 'BuAdj', 'StrClo400_median') → R² = 0.466\n",
      "('BuAre_sum', 'BuVol_3D_sum', 'BuAdj') → R² = 0.457\n",
      "('BuAre_sum', 'BuAdj', 'StrHW_median') → R² = 0.449\n",
      "('BuAre_sum', 'BuEWA_3D_sum', 'BuHt_wmean') → R² = 0.442\n",
      "\n",
      "🟢 Top 5 R² (linear regression on rank-transformed data):\n",
      "('BuAre_sum', 'BuIBD', 'BuAdj') → Spearman-style R² = 0.480\n",
      "('BuVol_3D_sum', 'BuIBD', 'BuAdj') → Spearman-style R² = 0.470\n",
      "('BuAre_sum', 'BuAdj', 'StrClo400_median') → Spearman-style R² = 0.470\n",
      "('BuAre_sum', 'BuAdj', 'BuSWR_3D_median') → Spearman-style R² = 0.464\n",
      "('BuVol_3D_sum', 'BuAdj', 'StrClo400_median') → Spearman-style R² = 0.464\n"
     ]
    }
   ],
   "source": [
    "import pandas as pd\n",
    "import numpy as np\n",
    "from itertools import combinations\n",
    "from sklearn.linear_model import LinearRegression\n",
    "from sklearn.metrics import r2_score\n",
    "\n",
    "def evaluate_combinations(df, target_col, max_vars=3, top_n=5):\n",
    "    predictors = [col for col in df.columns if col != target_col]\n",
    "    results_raw = []\n",
    "    results_ranked = []\n",
    "\n",
    "    # Rank-transform the data for Spearman-style regression\n",
    "    df_ranked = df.rank()\n",
    "\n",
    "    for k in [2, 3]:\n",
    "        for combo in combinations(predictors, k):\n",
    "            X = df[list(combo)]\n",
    "            y = df[target_col]\n",
    "            model = LinearRegression().fit(X, y)\n",
    "            r2_raw = r2_score(y, model.predict(X))\n",
    "            results_raw.append((combo, r2_raw))\n",
    "\n",
    "            # Spearman-style (ranked)\n",
    "            X_rank = df_ranked[list(combo)]\n",
    "            y_rank = df_ranked[target_col]\n",
    "            model_ranked = LinearRegression().fit(X_rank, y_rank)\n",
    "            r2_ranked = r2_score(y_rank, model_ranked.predict(X_rank))\n",
    "            results_ranked.append((combo, r2_ranked))\n",
    "\n",
    "    # Sort and return top N\n",
    "    top_raw = sorted(results_raw, key=lambda x: x[1], reverse=True)[:top_n]\n",
    "    top_ranked = sorted(results_ranked, key=lambda x: x[1], reverse=True)[:top_n]\n",
    "\n",
    "    return top_raw, top_ranked\n",
    "\n",
    "# Example usage\n",
    "# df: your DataFrame\n",
    "# target_col: string name of the dependent variable (e.g. 'temp_mean_day')\n",
    "target_col = 'Temperature_diff_K'  # change this!\n",
    "top_raw, top_ranked = evaluate_combinations(df, target_col)\n",
    "\n",
    "print(\"🔵 Top 5 R² (linear regression on original data):\")\n",
    "for combo, r2 in top_raw:\n",
    "    print(f\"{combo} → R² = {r2:.3f}\")\n",
    "\n",
    "print(\"\\n🟢 Top 5 R² (linear regression on rank-transformed data):\")\n",
    "for combo, r2 in top_ranked:\n",
    "    print(f\"{combo} → Spearman-style R² = {r2:.3f}\")\n"
   ]
  },
  {
   "cell_type": "markdown",
   "metadata": {},
   "source": [
    "Cross Validated OLS and ranked OLS results"
   ]
  },
  {
   "cell_type": "code",
   "execution_count": 21,
   "metadata": {},
   "outputs": [
    {
     "name": "stdout",
     "output_type": "stream",
     "text": [
      "🔵 Top 5 cross-validated R² (original data):\n",
      "('BuAre_sum', 'BuVol_3D_sum', 'BuHt_wmean') → R² = 0.279\n",
      "('BuAre_sum', 'BuAdj', 'StrClo400_median') → R² = 0.275\n",
      "('BuAre_sum', 'BuVol_3D_sum', 'BuAdj') → R² = 0.260\n",
      "('BuAre_sum', 'BuAdj', 'StrHW_median') → R² = 0.243\n",
      "('BuAre_sum', 'BuEWA_3D_sum', 'BuAdj') → R² = 0.234\n",
      "\n",
      "🟢 Top 5 cross-validated R² (ranked data, Spearman-style):\n",
      "('BuAre_sum', 'BuAdj', 'StrClo400_median') → Spearman-style R² = 0.369\n",
      "('BuAre_sum', 'BuIBD', 'BuAdj') → Spearman-style R² = 0.368\n",
      "('BuAre_sum', 'BuAdj', 'BuSWR_3D_median') → Spearman-style R² = 0.366\n",
      "('BuAre_sum', 'BuEWA_3D_sum', 'BuAdj') → Spearman-style R² = 0.360\n",
      "('BuAre_sum', 'BuAdj', 'StrHW_median') → Spearman-style R² = 0.356\n"
     ]
    }
   ],
   "source": [
    "import pandas as pd\n",
    "import numpy as np\n",
    "from itertools import combinations\n",
    "from sklearn.linear_model import LinearRegression\n",
    "from sklearn.model_selection import cross_val_score\n",
    "from sklearn.preprocessing import StandardScaler\n",
    "\n",
    "def evaluate_combinations_cv(df, target_col, max_vars=3, top_n=5, cv_folds=5):\n",
    "    predictors = [col for col in df.columns if col != target_col]\n",
    "    results_raw = []\n",
    "    results_ranked = []\n",
    "\n",
    "    df_ranked = df.rank()\n",
    "\n",
    "    for k in [1, max_vars]:\n",
    "        for combo in combinations(predictors, k):\n",
    "            # Raw data\n",
    "            X = df[list(combo)].values\n",
    "            y = df[target_col].values\n",
    "            model = LinearRegression()\n",
    "            r2_raw_cv = cross_val_score(model, X, y, scoring='r2', cv=cv_folds).mean()\n",
    "            results_raw.append((combo, r2_raw_cv))\n",
    "\n",
    "            # Ranked data\n",
    "            X_ranked = df_ranked[list(combo)].values\n",
    "            y_ranked = df_ranked[target_col].values\n",
    "            r2_ranked_cv = cross_val_score(model, X_ranked, y_ranked, scoring='r2', cv=cv_folds).mean()\n",
    "            results_ranked.append((combo, r2_ranked_cv))\n",
    "\n",
    "    # Sort and return top N combinations\n",
    "    top_raw = sorted(results_raw, key=lambda x: x[1], reverse=True)[:top_n]\n",
    "    top_ranked = sorted(results_ranked, key=lambda x: x[1], reverse=True)[:top_n]\n",
    "\n",
    "    return top_raw, top_ranked\n",
    "\n",
    "# ======= Example Usage =======\n",
    "# Replace this with your actual DataFrame and target column\n",
    "target_col = 'Temperature_diff_K'  # e.g. 'temp_mean_day'\n",
    "top_raw, top_ranked = evaluate_combinations_cv(df, target_col)\n",
    "\n",
    "# Print results\n",
    "print(\"🔵 Top 5 cross-validated R² (original data):\")\n",
    "for combo, r2 in top_raw:\n",
    "    print(f\"{combo} → R² = {r2:.3f}\")\n",
    "\n",
    "print(\"\\n🟢 Top 5 cross-validated R² (ranked data, Spearman-style):\")\n",
    "for combo, r2 in top_ranked:\n",
    "    print(f\"{combo} → Spearman-style R² = {r2:.3f}\")\n"
   ]
  },
  {
   "cell_type": "code",
   "execution_count": 20,
   "metadata": {},
   "outputs": [],
   "source": [
    "df = stn_buffers[['Temperature_diff_K','BuAre_sum','BuVol_3D_sum', 'BuEWA_3D_sum', 'BuIBD', 'BuAdj', 'BuSWR_3D_median', 'BuHt_wmean','StrHW_median','SVF_3D_mean', 'BuERI_mode','StrClo400_median']].dropna()\n",
    "X = df.drop(columns='Temperature_diff_K')\n",
    "y = df['Temperature_diff_K']"
   ]
  },
  {
   "cell_type": "code",
   "execution_count": 22,
   "metadata": {},
   "outputs": [
    {
     "name": "stdout",
     "output_type": "stream",
     "text": [
      "🔵 Top 5 cross-validated R² (original data):\n",
      "('BuAre_sum',) → R² = 0.172\n",
      "('BuAre_sum',) → R² = 0.172\n",
      "('BuEWA_3D_sum',) → R² = 0.111\n",
      "('BuEWA_3D_sum',) → R² = 0.111\n",
      "('SVF_3D_mean',) → R² = 0.107\n",
      "\n",
      "🟢 Top 5 cross-validated R² (ranked data, Spearman-style):\n",
      "('BuAre_sum',) → Spearman-style R² = 0.337\n",
      "('BuAre_sum',) → Spearman-style R² = 0.337\n",
      "('BuVol_3D_sum',) → Spearman-style R² = 0.332\n",
      "('BuVol_3D_sum',) → Spearman-style R² = 0.332\n",
      "('BuEWA_3D_sum',) → Spearman-style R² = 0.287\n"
     ]
    }
   ],
   "source": [
    "# ======= Example Usage =======\n",
    "# Replace this with your actual DataFrame and target column\n",
    "target_col = 'Temperature_diff_K'  # e.g. 'temp_mean_day'\n",
    "top_raw, top_ranked = evaluate_combinations_cv(df, target_col, max_vars=1, top_n=5)\n",
    "\n",
    "# Print results\n",
    "print(\"🔵 Top 5 cross-validated R² (original data):\")\n",
    "for combo, r2 in top_raw:\n",
    "    print(f\"{combo} → R² = {r2:.3f}\")\n",
    "\n",
    "print(\"\\n🟢 Top 5 cross-validated R² (ranked data, Spearman-style):\")\n",
    "for combo, r2 in top_ranked:\n",
    "    print(f\"{combo} → Spearman-style R² = {r2:.3f}\")"
   ]
  },
  {
   "cell_type": "code",
   "execution_count": 23,
   "metadata": {},
   "outputs": [
    {
     "name": "stdout",
     "output_type": "stream",
     "text": [
      "🔵 Top 5 cross-validated R² (original data):\n",
      "('BuAre_sum', 'BuAdj') → R² = 0.213\n",
      "('BuAre_sum', 'StrClo400_median') → R² = 0.195\n",
      "('BuAre_sum', 'BuVol_3D_sum') → R² = 0.190\n",
      "('BuAre_sum', 'BuSWR_3D_median') → R² = 0.178\n",
      "('BuAre_sum', 'BuEWA_3D_sum') → R² = 0.175\n",
      "('BuAre_sum',) → R² = 0.172\n",
      "('BuAre_sum', 'StrHW_median') → R² = 0.171\n",
      "('BuAre_sum', 'BuERI_mode') → R² = 0.171\n",
      "('BuAdj', 'SVF_3D_mean') → R² = 0.167\n",
      "('BuAre_sum', 'SVF_3D_mean') → R² = 0.167\n",
      "\n",
      "🟢 Top 5 cross-validated R² (ranked data, Spearman-style):\n",
      "('BuAre_sum', 'BuAdj') → Spearman-style R² = 0.360\n",
      "('BuVol_3D_sum', 'BuAdj') → Spearman-style R² = 0.346\n",
      "('BuAre_sum', 'BuVol_3D_sum') → Spearman-style R² = 0.341\n",
      "('BuAre_sum', 'BuSWR_3D_median') → Spearman-style R² = 0.338\n",
      "('BuAre_sum',) → Spearman-style R² = 0.337\n",
      "('BuAre_sum', 'BuHt_wmean') → Spearman-style R² = 0.337\n",
      "('BuAre_sum', 'BuERI_mode') → Spearman-style R² = 0.334\n",
      "('BuAre_sum', 'StrHW_median') → Spearman-style R² = 0.333\n",
      "('BuVol_3D_sum',) → Spearman-style R² = 0.332\n",
      "('BuAre_sum', 'StrClo400_median') → Spearman-style R² = 0.332\n"
     ]
    }
   ],
   "source": [
    "# ======= Example Usage =======\n",
    "# Replace this with your actual DataFrame and target column\n",
    "target_col = 'Temperature_diff_K'  # e.g. 'temp_mean_day'\n",
    "top_raw, top_ranked = evaluate_combinations_cv(df, target_col, max_vars=2, top_n=10)\n",
    "\n",
    "# Print results\n",
    "print(\"🔵 Top 5 cross-validated R² (original data):\")\n",
    "for combo, r2 in top_raw:\n",
    "    print(f\"{combo} → R² = {r2:.3f}\")\n",
    "\n",
    "print(\"\\n🟢 Top 5 cross-validated R² (ranked data, Spearman-style):\")\n",
    "for combo, r2 in top_ranked:\n",
    "    print(f\"{combo} → Spearman-style R² = {r2:.3f}\")"
   ]
  },
  {
   "cell_type": "code",
   "execution_count": 24,
   "metadata": {},
   "outputs": [
    {
     "name": "stdout",
     "output_type": "stream",
     "text": [
      "🔵 Top 5 cross-validated R² (original data):\n",
      "('BuAre_sum', 'BuVol_3D_sum', 'BuHt_wmean') → R² = 0.279\n",
      "('BuAre_sum', 'BuAdj', 'StrClo400_median') → R² = 0.275\n",
      "('BuAre_sum', 'BuVol_3D_sum', 'BuAdj') → R² = 0.260\n",
      "('BuAre_sum', 'BuAdj', 'StrHW_median') → R² = 0.243\n",
      "('BuAre_sum', 'BuEWA_3D_sum', 'BuAdj') → R² = 0.234\n",
      "('BuAre_sum', 'BuSWR_3D_median', 'StrClo400_median') → R² = 0.223\n",
      "('BuAre_sum', 'BuAdj', 'BuSWR_3D_median') → R² = 0.221\n",
      "('BuAre_sum', 'BuAdj', 'BuERI_mode') → R² = 0.211\n",
      "('BuAre_sum', 'BuAdj', 'SVF_3D_mean') → R² = 0.211\n",
      "('BuAre_sum', 'BuVol_3D_sum', 'BuSWR_3D_median') → R² = 0.203\n",
      "\n",
      "🟢 Top 5 cross-validated R² (ranked data, Spearman-style):\n",
      "('BuAre_sum', 'BuAdj', 'StrClo400_median') → Spearman-style R² = 0.369\n",
      "('BuAre_sum', 'BuIBD', 'BuAdj') → Spearman-style R² = 0.368\n",
      "('BuAre_sum', 'BuAdj', 'BuSWR_3D_median') → Spearman-style R² = 0.366\n",
      "('BuAre_sum', 'BuEWA_3D_sum', 'BuAdj') → Spearman-style R² = 0.360\n",
      "('BuAre_sum', 'BuAdj', 'StrHW_median') → Spearman-style R² = 0.356\n",
      "('BuAre_sum', 'BuAdj', 'BuERI_mode') → Spearman-style R² = 0.355\n",
      "('BuAre_sum', 'BuVol_3D_sum', 'BuAdj') → Spearman-style R² = 0.355\n",
      "('BuAre_sum', 'BuAdj', 'SVF_3D_mean') → Spearman-style R² = 0.353\n",
      "('BuAre_sum', 'BuAdj', 'BuHt_wmean') → Spearman-style R² = 0.352\n",
      "('BuVol_3D_sum', 'BuAdj', 'StrHW_median') → Spearman-style R² = 0.351\n"
     ]
    }
   ],
   "source": [
    "# ======= Example Usage =======\n",
    "# Replace this with your actual DataFrame and target column\n",
    "target_col = 'Temperature_diff_K'  # e.g. 'temp_mean_day'\n",
    "top_raw, top_ranked = evaluate_combinations_cv(df, target_col, max_vars=3, top_n=10)\n",
    "\n",
    "# Print results\n",
    "print(\"🔵 Top 5 cross-validated R² (original data):\")\n",
    "for combo, r2 in top_raw:\n",
    "    print(f\"{combo} → R² = {r2:.3f}\")\n",
    "\n",
    "print(\"\\n🟢 Top 5 cross-validated R² (ranked data, Spearman-style):\")\n",
    "for combo, r2 in top_ranked:\n",
    "    print(f\"{combo} → Spearman-style R² = {r2:.3f}\")"
   ]
  },
  {
   "cell_type": "code",
   "execution_count": 25,
   "metadata": {},
   "outputs": [
    {
     "name": "stdout",
     "output_type": "stream",
     "text": [
      "🔵 Top 5 cross-validated R² (original data):\n",
      "('BuAre_sum', 'BuVol_3D_sum', 'BuAdj', 'BuHt_wmean') → R² = 0.337\n",
      "('BuAre_sum', 'BuVol_3D_sum', 'BuAdj', 'StrClo400_median') → R² = 0.299\n",
      "('BuAre_sum', 'BuVol_3D_sum', 'BuSWR_3D_median', 'BuHt_wmean') → R² = 0.289\n",
      "('BuAre_sum', 'BuEWA_3D_sum', 'BuAdj', 'StrClo400_median') → R² = 0.288\n",
      "('BuAre_sum', 'BuVol_3D_sum', 'BuHt_wmean', 'BuERI_mode') → R² = 0.278\n",
      "('BuAre_sum', 'BuAdj', 'StrHW_median', 'StrClo400_median') → R² = 0.275\n",
      "('BuAre_sum', 'BuAdj', 'BuSWR_3D_median', 'StrClo400_median') → R² = 0.274\n",
      "('BuAre_sum', 'BuVol_3D_sum', 'BuHt_wmean', 'StrClo400_median') → R² = 0.273\n",
      "('BuAre_sum', 'BuAdj', 'SVF_3D_mean', 'StrClo400_median') → R² = 0.272\n",
      "('BuAre_sum', 'BuVol_3D_sum', 'BuHt_wmean', 'StrHW_median') → R² = 0.271\n",
      "\n",
      "🟢 Top 5 cross-validated R² (ranked data, Spearman-style):\n",
      "('BuAre_sum', 'BuAdj', 'BuSWR_3D_median', 'StrClo400_median') → Spearman-style R² = 0.372\n",
      "('BuAre_sum', 'BuIBD', 'BuAdj', 'BuSWR_3D_median') → Spearman-style R² = 0.372\n",
      "('BuAre_sum', 'BuIBD', 'BuAdj', 'StrClo400_median') → Spearman-style R² = 0.367\n",
      "('BuAre_sum', 'BuEWA_3D_sum', 'BuAdj', 'BuSWR_3D_median') → Spearman-style R² = 0.366\n",
      "('BuAre_sum', 'BuEWA_3D_sum', 'BuAdj', 'StrClo400_median') → Spearman-style R² = 0.366\n",
      "('BuAre_sum', 'BuIBD', 'BuAdj', 'BuERI_mode') → Spearman-style R² = 0.365\n",
      "('BuAre_sum', 'BuEWA_3D_sum', 'BuIBD', 'BuAdj') → Spearman-style R² = 0.365\n",
      "('BuAre_sum', 'BuAdj', 'BuERI_mode', 'StrClo400_median') → Spearman-style R² = 0.365\n",
      "('BuAre_sum', 'BuVol_3D_sum', 'BuAdj', 'StrClo400_median') → Spearman-style R² = 0.364\n",
      "('BuAre_sum', 'BuVol_3D_sum', 'BuEWA_3D_sum', 'BuAdj') → Spearman-style R² = 0.364\n"
     ]
    }
   ],
   "source": [
    "# ======= Example Usage =======\n",
    "# Replace this with your actual DataFrame and target column\n",
    "target_col = 'Temperature_diff_K'  # e.g. 'temp_mean_day'\n",
    "top_raw, top_ranked = evaluate_combinations_cv(df, target_col, max_vars=4, top_n=10)\n",
    "\n",
    "# Print results\n",
    "print(\"🔵 Top 5 cross-validated R² (original data):\")\n",
    "for combo, r2 in top_raw:\n",
    "    print(f\"{combo} → R² = {r2:.3f}\")\n",
    "\n",
    "print(\"\\n🟢 Top 5 cross-validated R² (ranked data, Spearman-style):\")\n",
    "for combo, r2 in top_ranked:\n",
    "    print(f\"{combo} → Spearman-style R² = {r2:.3f}\")"
   ]
  },
  {
   "cell_type": "code",
   "execution_count": 86,
   "metadata": {},
   "outputs": [
    {
     "name": "stdout",
     "output_type": "stream",
     "text": [
      "🔵 Top 5 cross-validated R² (original data):\n",
      "('BuAre_sum', 'BuVol_3D_sum', 'BuAdj', 'BuHt_wmean', 'StrClo400_median') → R² = 0.355\n",
      "('BuAre_sum', 'BuVol_3D_sum', 'BuAdj', 'BuSWR_3D_median', 'BuHt_wmean') → R² = 0.342\n",
      "('BuAre_sum', 'BuVol_3D_sum', 'BuAdj', 'BuHt_wmean', 'StrHW_median') → R² = 0.341\n",
      "('BuAre_sum', 'BuVol_3D_sum', 'BuEWA_3D_sum', 'BuAdj', 'BuHt_wmean') → R² = 0.336\n",
      "('BuAre_sum', 'BuVol_3D_sum', 'BuAdj', 'BuHt_wmean', 'BuERI_mode') → R² = 0.336\n",
      "\n",
      "🟢 Top 5 cross-validated R² (ranked data, Spearman-style):\n",
      "('BuAre_sum', 'BuIBD', 'BuAdj', 'BuSWR_3D_median', 'StrClo400_median') → Spearman-style R² = 0.370\n",
      "('BuAre_sum', 'BuEWA_3D_sum', 'BuIBD', 'BuAdj', 'BuSWR_3D_median') → Spearman-style R² = 0.369\n",
      "('BuAre_sum', 'BuIBD', 'BuAdj', 'BuSWR_3D_median', 'BuERI_mode') → Spearman-style R² = 0.369\n",
      "('BuAre_sum', 'BuVol_3D_sum', 'BuEWA_3D_sum', 'BuAdj', 'BuSWR_3D_median') → Spearman-style R² = 0.369\n",
      "('BuAre_sum', 'BuEWA_3D_sum', 'BuAdj', 'BuSWR_3D_median', 'StrClo400_median') → Spearman-style R² = 0.368\n"
     ]
    }
   ],
   "source": [
    "# ======= Example Usage =======\n",
    "# Replace this with your actual DataFrame and target column\n",
    "target_col = 'Temperature_diff_K'  # e.g. 'temp_mean_day'\n",
    "top_raw, top_ranked = evaluate_combinations_cv(df, target_col, max_vars=5)\n",
    "\n",
    "# Print results\n",
    "print(\"🔵 Top 5 cross-validated R² (original data):\")\n",
    "for combo, r2 in top_raw:\n",
    "    print(f\"{combo} → R² = {r2:.3f}\")\n",
    "\n",
    "print(\"\\n🟢 Top 5 cross-validated R² (ranked data, Spearman-style):\")\n",
    "for combo, r2 in top_ranked:\n",
    "    print(f\"{combo} → Spearman-style R² = {r2:.3f}\")"
   ]
  },
  {
   "cell_type": "code",
   "execution_count": 87,
   "metadata": {},
   "outputs": [
    {
     "name": "stdout",
     "output_type": "stream",
     "text": [
      "🔵 Top 5 cross-validated R² (original data):\n",
      "('BuAre_sum', 'BuVol_3D_sum', 'BuAdj', 'BuSWR_3D_median', 'BuHt_wmean', 'StrClo400_median') → R² = 0.356\n",
      "('BuAre_sum', 'BuVol_3D_sum', 'BuAdj', 'BuHt_wmean', 'BuERI_mode', 'StrClo400_median') → R² = 0.354\n",
      "('BuAre_sum', 'BuVol_3D_sum', 'BuAdj', 'BuHt_wmean', 'StrHW_median', 'StrClo400_median') → R² = 0.353\n",
      "('BuAre_sum', 'BuVol_3D_sum', 'BuEWA_3D_sum', 'BuAdj', 'BuHt_wmean', 'StrClo400_median') → R² = 0.347\n",
      "('BuAre_sum', 'BuVol_3D_sum', 'BuIBD', 'BuAdj', 'BuHt_wmean', 'StrClo400_median') → R² = 0.346\n",
      "\n",
      "🟢 Top 5 cross-validated R² (ranked data, Spearman-style):\n",
      "('BuAre_sum', 'BuEWA_3D_sum', 'BuIBD', 'BuAdj', 'BuSWR_3D_median', 'SVF_3D_mean') → Spearman-style R² = 0.370\n",
      "('BuAre_sum', 'BuVol_3D_sum', 'BuEWA_3D_sum', 'BuAdj', 'BuSWR_3D_median', 'SVF_3D_mean') → Spearman-style R² = 0.370\n",
      "('BuAre_sum', 'BuIBD', 'BuAdj', 'BuSWR_3D_median', 'BuERI_mode', 'StrClo400_median') → Spearman-style R² = 0.366\n",
      "('BuAre_sum', 'BuVol_3D_sum', 'BuEWA_3D_sum', 'BuIBD', 'BuAdj', 'BuSWR_3D_median') → Spearman-style R² = 0.366\n",
      "('BuAre_sum', 'BuVol_3D_sum', 'BuEWA_3D_sum', 'BuAdj', 'BuSWR_3D_median', 'BuHt_wmean') → Spearman-style R² = 0.366\n"
     ]
    }
   ],
   "source": [
    "# ======= Example Usage =======\n",
    "# Replace this with your actual DataFrame and target column\n",
    "target_col = 'Temperature_diff_K'  # e.g. 'temp_mean_day'\n",
    "top_raw, top_ranked = evaluate_combinations_cv(df, target_col, max_vars=6)\n",
    "\n",
    "# Print results\n",
    "print(\"🔵 Top 5 cross-validated R² (original data):\")\n",
    "for combo, r2 in top_raw:\n",
    "    print(f\"{combo} → R² = {r2:.3f}\")\n",
    "\n",
    "print(\"\\n🟢 Top 5 cross-validated R² (ranked data, Spearman-style):\")\n",
    "for combo, r2 in top_ranked:\n",
    "    print(f\"{combo} → Spearman-style R² = {r2:.3f}\")"
   ]
  },
  {
   "cell_type": "code",
   "execution_count": 58,
   "metadata": {},
   "outputs": [
    {
     "name": "stdout",
     "output_type": "stream",
     "text": [
      "🔵 Top 5 cross-validated R² (original data):\n",
      "('BuAre_sum', 'BuAdj') → R² = 0.213\n",
      "('BuAre_sum', 'BuAdj') → R² = 0.213\n",
      "('BuAre_sum', 'StrClo400_median') → R² = 0.195\n",
      "('BuAre_sum', 'StrClo400_median') → R² = 0.195\n",
      "('BuAre_sum', 'BuVol_3D_sum') → R² = 0.190\n",
      "\n",
      "🟢 Top 5 cross-validated R² (ranked data, Spearman-style):\n",
      "('BuAre_sum', 'BuAdj') → Spearman-style R² = 0.360\n",
      "('BuAre_sum', 'BuAdj') → Spearman-style R² = 0.360\n",
      "('BuVol_3D_sum', 'BuAdj') → Spearman-style R² = 0.346\n",
      "('BuVol_3D_sum', 'BuAdj') → Spearman-style R² = 0.346\n",
      "('BuAre_sum', 'BuVol_3D_sum') → Spearman-style R² = 0.341\n"
     ]
    }
   ],
   "source": [
    "# ======= Example Usage =======\n",
    "# Replace this with your actual DataFrame and target column\n",
    "target_col = 'Temperature_diff_K'  # e.g. 'temp_mean_day'\n",
    "top_raw, top_ranked = evaluate_combinations_cv(df, target_col, max_vars=2)\n",
    "\n",
    "# Print results\n",
    "print(\"🔵 Top 5 cross-validated R² (original data):\")\n",
    "for combo, r2 in top_raw:\n",
    "    print(f\"{combo} → R² = {r2:.3f}\")\n",
    "\n",
    "print(\"\\n🟢 Top 5 cross-validated R² (ranked data, Spearman-style):\")\n",
    "for combo, r2 in top_ranked:\n",
    "    print(f\"{combo} → Spearman-style R² = {r2:.3f}\")"
   ]
  },
  {
   "cell_type": "code",
   "execution_count": 73,
   "metadata": {},
   "outputs": [
    {
     "name": "stdout",
     "output_type": "stream",
     "text": [
      "🔵 Top 5 cross-validated R² (original data):\n",
      "('BuAdj', 'BuRough_3D_wsum') → R² = 0.250\n",
      "('BuAdj', 'BuERI_wsum') → R² = 0.219\n",
      "('BuSWR_3D_median', 'BuRough_3D_wsum') → R² = 0.217\n",
      "('BuVol_3D_sum', 'BuRough_3D_wsum') → R² = 0.216\n",
      "('BuHt_wsum', 'BuRough_3D_wsum') → R² = 0.215\n",
      "('BuAre_sum', 'BuAdj') → R² = 0.213\n",
      "('StrClo400_median', 'BuRough_3D_wsum') → R² = 0.208\n",
      "('StrClo400_median', 'BuERI_wsum') → R² = 0.207\n",
      "('BuRough_3D_wsum',) → R² = 0.206\n",
      "('BuHt_wmean', 'BuRough_3D_wsum') → R² = 0.205\n",
      "('BuEWA_3D_sum', 'BuRough_3D_wsum') → R² = 0.204\n",
      "('BuERI_mode', 'BuRough_3D_wsum') → R² = 0.203\n",
      "('BuAre_sum', 'BuRough_3D_wsum') → R² = 0.202\n",
      "('SVF_3D_mean', 'BuRough_3D_wsum') → R² = 0.201\n",
      "('BuERI_wsum', 'BuRough_3D_wsum') → R² = 0.201\n",
      "\n",
      "🟢 Top 5 cross-validated R² (ranked data, Spearman-style):\n",
      "('BuAdj', 'BuRough_3D_wsum') → Spearman-style R² = 0.386\n",
      "('BuSWR_3D_median', 'BuRough_3D_wsum') → Spearman-style R² = 0.364\n",
      "('BuHt_wmean', 'BuRough_3D_wsum') → Spearman-style R² = 0.363\n",
      "('BuHt_wsum', 'BuRough_3D_wsum') → Spearman-style R² = 0.362\n",
      "('BuVol_3D_sum', 'BuRough_3D_wsum') → Spearman-style R² = 0.361\n",
      "('BuRough_3D_wsum',) → Spearman-style R² = 0.360\n",
      "('BuAre_sum', 'BuAdj') → Spearman-style R² = 0.360\n",
      "('BuERI_mode', 'BuRough_3D_wsum') → Spearman-style R² = 0.360\n",
      "('StrHW_median', 'BuRough_3D_wsum') → Spearman-style R² = 0.358\n",
      "('BuAdj', 'BuERI_wsum') → Spearman-style R² = 0.355\n",
      "('BuAre_sum', 'BuRough_3D_wsum') → Spearman-style R² = 0.355\n",
      "('BuERI_wsum', 'BuRough_3D_wsum') → Spearman-style R² = 0.353\n",
      "('StrClo400_median', 'BuRough_3D_wsum') → Spearman-style R² = 0.349\n",
      "('BuEWA_3D_sum', 'BuRough_3D_wsum') → Spearman-style R² = 0.348\n",
      "('BuAdj', 'BuHt_wsum') → Spearman-style R² = 0.347\n"
     ]
    }
   ],
   "source": [
    "# ======= Example Usage =======\n",
    "# Replace this with your actual DataFrame and target column\n",
    "target_col = 'Temperature_diff_K'  # e.g. 'temp_mean_day'\n",
    "top_raw, top_ranked = evaluate_combinations_cv(df, target_col, max_vars=2, top_n=15)\n",
    "\n",
    "# Print results\n",
    "print(\"🔵 Top 5 cross-validated R² (original data):\")\n",
    "for combo, r2 in top_raw:\n",
    "    print(f\"{combo} → R² = {r2:.3f}\")\n",
    "\n",
    "print(\"\\n🟢 Top 5 cross-validated R² (ranked data, Spearman-style):\")\n",
    "for combo, r2 in top_ranked:\n",
    "    print(f\"{combo} → Spearman-style R² = {r2:.3f}\")"
   ]
  },
  {
   "cell_type": "code",
   "execution_count": 78,
   "metadata": {},
   "outputs": [
    {
     "name": "stdout",
     "output_type": "stream",
     "text": [
      "🔵 Top 5 cross-validated R² (original data):\n",
      "('BuVol_3D_sum', 'BuAdj', 'BuRough_3D_wsum') → R² = 0.303\n",
      "('BuAdj', 'BuHt_wsum', 'BuRough_3D_wsum') → R² = 0.302\n",
      "('BuAdj', 'StrClo400_median', 'BuRough_3D_wsum') → R² = 0.292\n",
      "('BuAdj', 'StrClo400_median', 'BuERI_wsum') → R² = 0.282\n",
      "('BuAre_sum', 'BuVol_3D_sum', 'BuHt_wmean') → R² = 0.279\n",
      "\n",
      "🟢 Top 5 cross-validated R² (ranked data, Spearman-style):\n",
      "('BuAdj', 'BuSWR_3D_median', 'BuRough_3D_wsum') → Spearman-style R² = 0.388\n",
      "('BuAdj', 'StrClo400_median', 'BuRough_3D_wsum') → Spearman-style R² = 0.386\n",
      "('BuAdj', 'BuERI_mode', 'BuRough_3D_wsum') → Spearman-style R² = 0.384\n",
      "('BuAdj', 'BuHt_wsum', 'BuRough_3D_wsum') → Spearman-style R² = 0.383\n",
      "('BuVol_3D_sum', 'BuAdj', 'BuRough_3D_wsum') → Spearman-style R² = 0.383\n"
     ]
    }
   ],
   "source": [
    "# ======= Example Usage =======\n",
    "# Replace this with your actual DataFrame and target column\n",
    "target_col = 'Temperature_diff_K'  # e.g. 'temp_mean_day'\n",
    "top_raw, top_ranked = evaluate_combinations_cv(df, target_col, max_vars=3)\n",
    "\n",
    "# Print results\n",
    "print(\"🔵 Top 5 cross-validated R² (original data):\")\n",
    "for combo, r2 in top_raw:\n",
    "    print(f\"{combo} → R² = {r2:.3f}\")\n",
    "\n",
    "print(\"\\n🟢 Top 5 cross-validated R² (ranked data, Spearman-style):\")\n",
    "for combo, r2 in top_ranked:\n",
    "    print(f\"{combo} → Spearman-style R² = {r2:.3f}\")"
   ]
  },
  {
   "cell_type": "code",
   "execution_count": 61,
   "metadata": {},
   "outputs": [
    {
     "name": "stdout",
     "output_type": "stream",
     "text": [
      "🔵 Top 5 cross-validated R² (original data):\n",
      "('BuAre_sum', 'BuVol_3D_sum', 'BuAdj', 'BuHt_wmean') → R² = 0.337\n",
      "('BuAre_sum', 'BuVol_3D_sum', 'BuAdj', 'StrClo400_median') → R² = 0.299\n",
      "('BuAre_sum', 'BuVol_3D_sum', 'BuSWR_3D_median', 'BuHt_wmean') → R² = 0.289\n",
      "('BuAre_sum', 'BuEWA_3D_sum', 'BuAdj', 'StrClo400_median') → R² = 0.288\n",
      "('BuAre_sum', 'BuVol_3D_sum', 'BuHt_wmean', 'BuERI_mode') → R² = 0.278\n",
      "\n",
      "🟢 Top 5 cross-validated R² (ranked data, Spearman-style):\n",
      "('BuAre_sum', 'BuAdj', 'BuSWR_3D_median', 'StrClo400_median') → Spearman-style R² = 0.372\n",
      "('BuAre_sum', 'BuIBD', 'BuAdj', 'BuSWR_3D_median') → Spearman-style R² = 0.372\n",
      "('BuAre_sum', 'BuIBD', 'BuAdj', 'StrClo400_median') → Spearman-style R² = 0.367\n",
      "('BuAre_sum', 'BuEWA_3D_sum', 'BuAdj', 'BuSWR_3D_median') → Spearman-style R² = 0.366\n",
      "('BuAre_sum', 'BuEWA_3D_sum', 'BuAdj', 'StrClo400_median') → Spearman-style R² = 0.366\n"
     ]
    }
   ],
   "source": [
    "# ======= Example Usage =======\n",
    "# Replace this with your actual DataFrame and target column\n",
    "target_col = 'Temperature_diff_K'  # e.g. 'temp_mean_day'\n",
    "top_raw, top_ranked = evaluate_combinations_cv(df, target_col, max_vars=4)\n",
    "\n",
    "# Print results\n",
    "print(\"🔵 Top 5 cross-validated R² (original data):\")\n",
    "for combo, r2 in top_raw:\n",
    "    print(f\"{combo} → R² = {r2:.3f}\")\n",
    "\n",
    "print(\"\\n🟢 Top 5 cross-validated R² (ranked data, Spearman-style):\")\n",
    "for combo, r2 in top_ranked:\n",
    "    print(f\"{combo} → Spearman-style R² = {r2:.3f}\")"
   ]
  },
  {
   "cell_type": "code",
   "execution_count": 72,
   "metadata": {},
   "outputs": [
    {
     "name": "stdout",
     "output_type": "stream",
     "text": [
      "🔵 Top 5 cross-validated R² (original data):\n",
      "('BuAre_sum', 'BuVol_3D_sum', 'BuAdj', 'BuHt_wmean') → R² = 0.337\n",
      "('BuAre_sum', 'BuAdj', 'BuHt_wmean', 'BuHt_wsum') → R² = 0.335\n",
      "('BuVol_3D_sum', 'BuAdj', 'BuHt_wmean', 'BuRough_3D_wsum') → R² = 0.334\n",
      "('BuAdj', 'BuHt_wmean', 'BuHt_wsum', 'BuRough_3D_wsum') → R² = 0.333\n",
      "('BuVol_3D_sum', 'BuAdj', 'StrClo400_median', 'BuRough_3D_wsum') → R² = 0.309\n",
      "('BuAdj', 'StrClo400_median', 'BuHt_wsum', 'BuRough_3D_wsum') → R² = 0.308\n",
      "('BuVol_3D_sum', 'BuAdj', 'SVF_3D_mean', 'BuRough_3D_wsum') → R² = 0.308\n",
      "('BuAdj', 'SVF_3D_mean', 'BuHt_wsum', 'BuRough_3D_wsum') → R² = 0.306\n",
      "('BuVol_3D_sum', 'BuAdj', 'BuSWR_3D_median', 'BuRough_3D_wsum') → R² = 0.304\n",
      "('BuVol_3D_sum', 'BuAdj', 'BuHt_wsum', 'BuRough_3D_wsum') → R² = 0.304\n",
      "\n",
      "🟢 Top 5 cross-validated R² (ranked data, Spearman-style):\n",
      "('BuAdj', 'BuSWR_3D_median', 'StrClo400_median', 'BuRough_3D_wsum') → Spearman-style R² = 0.387\n",
      "('BuAdj', 'BuSWR_3D_median', 'BuERI_mode', 'BuRough_3D_wsum') → Spearman-style R² = 0.386\n",
      "('BuAdj', 'BuSWR_3D_median', 'BuHt_wsum', 'BuRough_3D_wsum') → Spearman-style R² = 0.386\n",
      "('BuVol_3D_sum', 'BuAdj', 'BuSWR_3D_median', 'BuRough_3D_wsum') → Spearman-style R² = 0.386\n",
      "('BuAre_sum', 'BuAdj', 'BuSWR_3D_median', 'BuRough_3D_wsum') → Spearman-style R² = 0.385\n",
      "('BuAdj', 'BuERI_mode', 'StrClo400_median', 'BuRough_3D_wsum') → Spearman-style R² = 0.384\n",
      "('BuAdj', 'StrClo400_median', 'BuHt_wsum', 'BuRough_3D_wsum') → Spearman-style R² = 0.384\n",
      "('BuEWA_3D_sum', 'BuAdj', 'BuSWR_3D_median', 'BuRough_3D_wsum') → Spearman-style R² = 0.384\n",
      "('BuVol_3D_sum', 'BuAdj', 'StrClo400_median', 'BuRough_3D_wsum') → Spearman-style R² = 0.383\n",
      "('BuIBD', 'BuAdj', 'BuSWR_3D_median', 'BuRough_3D_wsum') → Spearman-style R² = 0.383\n"
     ]
    }
   ],
   "source": [
    "# ======= Example Usage =======\n",
    "# Replace this with your actual DataFrame and target column\n",
    "target_col = 'Temperature_diff_K'  # e.g. 'temp_mean_day'\n",
    "top_raw, top_ranked = evaluate_combinations_cv(df, target_col, max_vars=4,top_n=10)\n",
    "\n",
    "# Print results\n",
    "print(\"🔵 Top 5 cross-validated R² (original data):\")\n",
    "for combo, r2 in top_raw:\n",
    "    print(f\"{combo} → R² = {r2:.3f}\")\n",
    "\n",
    "print(\"\\n🟢 Top 5 cross-validated R² (ranked data, Spearman-style):\")\n",
    "for combo, r2 in top_ranked:\n",
    "    print(f\"{combo} → Spearman-style R² = {r2:.3f}\")"
   ]
  },
  {
   "cell_type": "code",
   "execution_count": 62,
   "metadata": {},
   "outputs": [
    {
     "name": "stdout",
     "output_type": "stream",
     "text": [
      "🔵 Top 5 cross-validated R² (original data):\n",
      "('BuAre_sum', 'BuVol_3D_sum', 'BuAdj', 'BuHt_wmean', 'StrClo400_median') → R² = 0.355\n",
      "('BuAre_sum', 'BuVol_3D_sum', 'BuAdj', 'BuSWR_3D_median', 'BuHt_wmean') → R² = 0.342\n",
      "('BuAre_sum', 'BuVol_3D_sum', 'BuAdj', 'BuHt_wmean', 'StrHW_median') → R² = 0.341\n",
      "('BuAre_sum', 'BuVol_3D_sum', 'BuEWA_3D_sum', 'BuAdj', 'BuHt_wmean') → R² = 0.336\n",
      "('BuAre_sum', 'BuVol_3D_sum', 'BuAdj', 'BuHt_wmean', 'BuERI_mode') → R² = 0.336\n",
      "\n",
      "🟢 Top 5 cross-validated R² (ranked data, Spearman-style):\n",
      "('BuAre_sum', 'BuIBD', 'BuAdj', 'BuSWR_3D_median', 'StrClo400_median') → Spearman-style R² = 0.370\n",
      "('BuAre_sum', 'BuEWA_3D_sum', 'BuIBD', 'BuAdj', 'BuSWR_3D_median') → Spearman-style R² = 0.369\n",
      "('BuAre_sum', 'BuIBD', 'BuAdj', 'BuSWR_3D_median', 'BuERI_mode') → Spearman-style R² = 0.369\n",
      "('BuAre_sum', 'BuVol_3D_sum', 'BuEWA_3D_sum', 'BuAdj', 'BuSWR_3D_median') → Spearman-style R² = 0.369\n",
      "('BuAre_sum', 'BuEWA_3D_sum', 'BuAdj', 'BuSWR_3D_median', 'StrClo400_median') → Spearman-style R² = 0.368\n"
     ]
    }
   ],
   "source": [
    "# ======= Example Usage =======\n",
    "# Replace this with your actual DataFrame and target column\n",
    "target_col = 'Temperature_diff_K'  # e.g. 'temp_mean_day'\n",
    "top_raw, top_ranked = evaluate_combinations_cv(df, target_col, max_vars=5)\n",
    "\n",
    "# Print results\n",
    "print(\"🔵 Top 5 cross-validated R² (original data):\")\n",
    "for combo, r2 in top_raw:\n",
    "    print(f\"{combo} → R² = {r2:.3f}\")\n",
    "\n",
    "print(\"\\n🟢 Top 5 cross-validated R² (ranked data, Spearman-style):\")\n",
    "for combo, r2 in top_ranked:\n",
    "    print(f\"{combo} → Spearman-style R² = {r2:.3f}\")"
   ]
  },
  {
   "cell_type": "code",
   "execution_count": null,
   "metadata": {},
   "outputs": [],
   "source": [
    "Random forest"
   ]
  },
  {
   "cell_type": "code",
   "execution_count": 14,
   "metadata": {},
   "outputs": [],
   "source": [
    "df = stn_buffers[['Temperature_diff_K','BuAre_sum','BuVol_3D_sum', 'BuEWA_3D_sum', 'BuIBD', 'BuAdj', 'BuSWR_3D_median', 'BuHt_wmean','StrHW_median','SVF_3D_mean', 'BuERI_mode','StrClo400_median','BuRough_3D_wsum']].dropna()\n",
    "X = df.drop(columns='Temperature_diff_K')\n",
    "y = df['Temperature_diff_K']"
   ]
  },
  {
   "cell_type": "code",
   "execution_count": 7,
   "metadata": {},
   "outputs": [],
   "source": [
    "\n",
    "import pandas as pd\n",
    "import numpy as np\n",
    "from itertools import combinations\n",
    "from sklearn.ensemble import RandomForestRegressor\n",
    "from sklearn.model_selection import cross_val_score\n",
    "from sklearn.preprocessing import StandardScaler\n",
    "\n",
    "def evaluate_rf_combinations(df, target_col, max_vars=3, top_n=5, cv_folds=5, random_state=42):\n",
    "    predictors = [col for col in df.columns if col != target_col]\n",
    "    results = []\n",
    "\n",
    "    for k in range(2, max_vars):\n",
    "        for combo in combinations(predictors, k):\n",
    "            X = df[list(combo)].values\n",
    "            y = df[target_col].values\n",
    "\n",
    "            model = RandomForestRegressor(\n",
    "                n_estimators=100,\n",
    "                max_depth=5,\n",
    "                random_state=random_state\n",
    "            )\n",
    "            r2_cv = cross_val_score(model, X, y, scoring='r2', cv=cv_folds).mean()\n",
    "            results.append((combo, r2_cv))\n",
    "\n",
    "    # Sort and return top N\n",
    "    top_combos = sorted(results, key=lambda x: x[1], reverse=True)[:top_n]\n",
    "    return top_combos\n"
   ]
  },
  {
   "cell_type": "code",
   "execution_count": 8,
   "metadata": {},
   "outputs": [
    {
     "name": "stdout",
     "output_type": "stream",
     "text": [
      "🌳 Top 10 Random Forest combinations (nonlinear, CV R²):\n",
      "('BuVol_3D_sum', 'BuERI_mode') → R² = 0.342\n",
      "('BuAre_sum', 'BuAdj') → R² = 0.323\n",
      "('BuAre_sum', 'BuERI_mode') → R² = 0.321\n",
      "('BuVol_3D_sum', 'BuHt_wmean') → R² = 0.297\n",
      "('BuVol_3D_sum', 'BuAdj') → R² = 0.295\n",
      "('BuVol_3D_sum', 'BuSWR_3D_median') → R² = 0.288\n",
      "('BuAre_sum', 'BuHt_wmean') → R² = 0.287\n",
      "('BuAre_sum', 'BuVol_3D_sum') → R² = 0.273\n",
      "('BuEWA_3D_sum', 'BuAdj') → R² = 0.269\n",
      "('BuEWA_3D_sum', 'BuERI_mode') → R² = 0.266\n"
     ]
    }
   ],
   "source": [
    "# Replace with your actual target column\n",
    "target_col = 'Temperature_diff_K'\n",
    "\n",
    "top_rf = evaluate_rf_combinations(df, target_col, max_vars=3, top_n=10, cv_folds=5)\n",
    "\n",
    "print(\"🌳 Top 10 Random Forest combinations (nonlinear, CV R²):\")\n",
    "for combo, r2 in top_rf:\n",
    "    print(f\"{combo} → R² = {r2:.3f}\")"
   ]
  },
  {
   "cell_type": "code",
   "execution_count": 9,
   "metadata": {},
   "outputs": [
    {
     "name": "stdout",
     "output_type": "stream",
     "text": [
      "🌳 Top 10 Random Forest combinations (nonlinear, CV R²):\n",
      "('BuVol_3D_sum', 'BuSWR_3D_median', 'BuERI_mode') → R² = 0.388\n",
      "('BuAre_sum', 'BuIBD', 'BuAdj') → R² = 0.369\n",
      "('BuVol_3D_sum', 'BuAdj', 'BuHt_wmean') → R² = 0.369\n",
      "('BuAre_sum', 'BuAdj', 'BuERI_mode') → R² = 0.367\n",
      "('BuVol_3D_sum', 'BuAdj', 'BuERI_mode') → R² = 0.361\n",
      "('BuAre_sum', 'BuAdj', 'BuHt_wmean') → R² = 0.351\n",
      "('BuAre_sum', 'BuAdj', 'StrHW_median') → R² = 0.343\n",
      "('BuVol_3D_sum', 'BuERI_mode') → R² = 0.342\n",
      "('BuAre_sum', 'BuVol_3D_sum', 'BuERI_mode') → R² = 0.342\n",
      "('BuAre_sum', 'BuAdj', 'BuSWR_3D_median') → R² = 0.342\n"
     ]
    }
   ],
   "source": [
    "# Replace with your actual target column\n",
    "target_col = 'Temperature_diff_K'\n",
    "\n",
    "top_rf = evaluate_rf_combinations(df, target_col, max_vars=4, top_n=10, cv_folds=5)\n",
    "\n",
    "print(\"🌳 Top 10 Random Forest combinations (nonlinear, CV R²):\")\n",
    "for combo, r2 in top_rf:\n",
    "    print(f\"{combo} → R² = {r2:.3f}\")"
   ]
  },
  {
   "cell_type": "code",
   "execution_count": 10,
   "metadata": {},
   "outputs": [
    {
     "name": "stdout",
     "output_type": "stream",
     "text": [
      "🌳 Top 10 Random Forest combinations (nonlinear, CV R²):\n",
      "('BuVol_3D_sum', 'BuSWR_3D_median', 'BuERI_mode') → R² = 0.388\n",
      "('BuAre_sum', 'BuAdj', 'BuHt_wmean', 'BuERI_mode') → R² = 0.385\n",
      "('BuAre_sum', 'BuIBD', 'BuAdj', 'BuERI_mode') → R² = 0.385\n",
      "('BuVol_3D_sum', 'BuIBD', 'BuAdj', 'BuHt_wmean') → R² = 0.383\n",
      "('BuVol_3D_sum', 'BuAdj', 'BuHt_wmean', 'BuERI_mode') → R² = 0.381\n",
      "('BuAre_sum', 'BuIBD', 'BuAdj', 'BuHt_wmean') → R² = 0.380\n",
      "('BuAre_sum', 'BuIBD', 'BuAdj', 'StrHW_median') → R² = 0.379\n",
      "('BuVol_3D_sum', 'BuEWA_3D_sum', 'BuSWR_3D_median', 'BuERI_mode') → R² = 0.379\n",
      "('BuVol_3D_sum', 'BuIBD', 'BuAdj', 'BuERI_mode') → R² = 0.379\n",
      "('BuVol_3D_sum', 'BuAdj', 'BuSWR_3D_median', 'BuERI_mode') → R² = 0.378\n"
     ]
    }
   ],
   "source": [
    "# Replace with your actual target column\n",
    "target_col = 'Temperature_diff_K'\n",
    "\n",
    "top_rf = evaluate_rf_combinations(df, target_col, max_vars=5, top_n=10, cv_folds=5)\n",
    "\n",
    "print(\"🌳 Top 10 Random Forest combinations (nonlinear, CV R²):\")\n",
    "for combo, r2 in top_rf:\n",
    "    print(f\"{combo} → R² = {r2:.3f}\")"
   ]
  },
  {
   "cell_type": "code",
   "execution_count": 15,
   "metadata": {},
   "outputs": [
    {
     "name": "stdout",
     "output_type": "stream",
     "text": [
      "🌳 Top 10 Random Forest combinations (nonlinear, CV R²):\n",
      "('BuVol_3D_sum', 'BuERI_mode') → R² = 0.342\n",
      "('BuERI_mode', 'BuRough_3D_wsum') → R² = 0.334\n",
      "('BuAre_sum', 'BuAdj') → R² = 0.323\n",
      "('BuAdj', 'BuRough_3D_wsum') → R² = 0.322\n",
      "('BuAre_sum', 'BuERI_mode') → R² = 0.321\n",
      "('BuHt_wmean', 'BuRough_3D_wsum') → R² = 0.301\n",
      "('BuVol_3D_sum', 'BuHt_wmean') → R² = 0.297\n",
      "('BuVol_3D_sum', 'BuAdj') → R² = 0.295\n",
      "('BuVol_3D_sum', 'BuSWR_3D_median') → R² = 0.288\n",
      "('BuAre_sum', 'BuHt_wmean') → R² = 0.287\n"
     ]
    }
   ],
   "source": [
    "# Replace with your actual target column\n",
    "target_col = 'Temperature_diff_K'\n",
    "\n",
    "top_rf = evaluate_rf_combinations(df, target_col, max_vars=3, top_n=10, cv_folds=5)\n",
    "\n",
    "print(\"🌳 Top 10 Random Forest combinations (nonlinear, CV R²):\")\n",
    "for combo, r2 in top_rf:\n",
    "    print(f\"{combo} → R² = {r2:.3f}\")"
   ]
  },
  {
   "cell_type": "code",
   "execution_count": 16,
   "metadata": {},
   "outputs": [
    {
     "name": "stdout",
     "output_type": "stream",
     "text": [
      "🌳 Top 10 Random Forest combinations (nonlinear, CV R²):\n",
      "('BuVol_3D_sum', 'BuSWR_3D_median', 'BuERI_mode') → R² = 0.388\n",
      "('BuAdj', 'BuERI_mode', 'BuRough_3D_wsum') → R² = 0.372\n",
      "('BuAre_sum', 'BuIBD', 'BuAdj') → R² = 0.369\n",
      "('BuVol_3D_sum', 'BuAdj', 'BuHt_wmean') → R² = 0.369\n",
      "('BuAre_sum', 'BuAdj', 'BuERI_mode') → R² = 0.367\n",
      "('BuSWR_3D_median', 'BuERI_mode', 'BuRough_3D_wsum') → R² = 0.366\n",
      "('BuVol_3D_sum', 'BuAdj', 'BuERI_mode') → R² = 0.361\n",
      "('BuHt_wmean', 'BuERI_mode', 'BuRough_3D_wsum') → R² = 0.356\n",
      "('BuAdj', 'BuHt_wmean', 'BuRough_3D_wsum') → R² = 0.351\n",
      "('BuAre_sum', 'BuAdj', 'BuHt_wmean') → R² = 0.351\n"
     ]
    }
   ],
   "source": [
    "# Replace with your actual target column\n",
    "target_col = 'Temperature_diff_K'\n",
    "\n",
    "top_rf = evaluate_rf_combinations(df, target_col, max_vars=4, top_n=10, cv_folds=5)\n",
    "\n",
    "print(\"🌳 Top 10 Random Forest combinations (nonlinear, CV R²):\")\n",
    "for combo, r2 in top_rf:\n",
    "    print(f\"{combo} → R² = {r2:.3f}\")"
   ]
  },
  {
   "cell_type": "code",
   "execution_count": 17,
   "metadata": {},
   "outputs": [
    {
     "name": "stdout",
     "output_type": "stream",
     "text": [
      "🌳 Top 10 Random Forest combinations (nonlinear, CV R²):\n",
      "('BuAdj', 'BuHt_wmean', 'BuERI_mode', 'BuRough_3D_wsum') → R² = 0.397\n",
      "('BuVol_3D_sum', 'BuSWR_3D_median', 'BuERI_mode') → R² = 0.388\n",
      "('BuIBD', 'BuAdj', 'BuERI_mode', 'BuRough_3D_wsum') → R² = 0.386\n",
      "('BuAre_sum', 'BuAdj', 'BuHt_wmean', 'BuERI_mode') → R² = 0.385\n",
      "('BuAre_sum', 'BuIBD', 'BuAdj', 'BuERI_mode') → R² = 0.385\n",
      "('BuVol_3D_sum', 'BuIBD', 'BuAdj', 'BuHt_wmean') → R² = 0.383\n",
      "('BuVol_3D_sum', 'BuSWR_3D_median', 'BuERI_mode', 'BuRough_3D_wsum') → R² = 0.382\n",
      "('BuVol_3D_sum', 'BuAdj', 'BuHt_wmean', 'BuERI_mode') → R² = 0.381\n",
      "('BuAre_sum', 'BuIBD', 'BuAdj', 'BuHt_wmean') → R² = 0.380\n",
      "('BuAre_sum', 'BuIBD', 'BuAdj', 'StrHW_median') → R² = 0.379\n"
     ]
    }
   ],
   "source": [
    "# Replace with your actual target column\n",
    "target_col = 'Temperature_diff_K'\n",
    "\n",
    "top_rf = evaluate_rf_combinations(df, target_col, max_vars=5, top_n=10, cv_folds=5)\n",
    "\n",
    "print(\"🌳 Top 10 Random Forest combinations (nonlinear, CV R²):\")\n",
    "for combo, r2 in top_rf:\n",
    "    print(f\"{combo} → R² = {r2:.3f}\")"
   ]
  },
  {
   "cell_type": "code",
   "execution_count": 75,
   "metadata": {},
   "outputs": [
    {
     "name": "stdout",
     "output_type": "stream",
     "text": [
      "🌳 Top 10 Random Forest combinations (nonlinear, CV R²):\n",
      "('BuERI_mode', 'BuHt_wsum') → R² = 0.350\n",
      "('BuVol_3D_sum', 'BuERI_mode') → R² = 0.342\n",
      "('BuERI_mode', 'BuRough_3D_wsum') → R² = 0.334\n",
      "('BuAre_sum', 'BuAdj') → R² = 0.323\n",
      "('BuAdj', 'BuRough_3D_wsum') → R² = 0.322\n",
      "('BuAre_sum', 'BuERI_mode') → R² = 0.321\n",
      "('BuAdj', 'BuERI_wsum') → R² = 0.321\n",
      "('BuERI_mode', 'BuERI_wsum') → R² = 0.311\n",
      "('BuHt_wmean', 'BuRough_3D_wsum') → R² = 0.301\n",
      "('BuHt_wmean', 'BuHt_wsum') → R² = 0.299\n"
     ]
    }
   ],
   "source": [
    "# Replace with your actual target column\n",
    "target_col = 'Temperature_diff_K'\n",
    "\n",
    "top_rf = evaluate_rf_combinations(df, target_col, max_vars=3, top_n=10, cv_folds=5)\n",
    "\n",
    "print(\"🌳 Top 10 Random Forest combinations (nonlinear, CV R²):\")\n",
    "for combo, r2 in top_rf:\n",
    "    print(f\"{combo} → R² = {r2:.3f}\")\n"
   ]
  },
  {
   "cell_type": "code",
   "execution_count": 76,
   "metadata": {},
   "outputs": [
    {
     "name": "stdout",
     "output_type": "stream",
     "text": [
      "🌳 Top 10 Random Forest combinations (nonlinear, CV R²):\n",
      "('BuSWR_3D_median', 'BuERI_mode', 'BuHt_wsum') → R² = 0.398\n",
      "('BuVol_3D_sum', 'BuSWR_3D_median', 'BuERI_mode') → R² = 0.388\n",
      "('BuAdj', 'BuERI_mode', 'BuRough_3D_wsum') → R² = 0.372\n",
      "('BuAdj', 'BuHt_wmean', 'BuHt_wsum') → R² = 0.372\n",
      "('BuAre_sum', 'BuIBD', 'BuAdj') → R² = 0.369\n",
      "('BuVol_3D_sum', 'BuAdj', 'BuHt_wmean') → R² = 0.369\n",
      "('BuAre_sum', 'BuAdj', 'BuERI_mode') → R² = 0.367\n",
      "('BuSWR_3D_median', 'BuERI_mode', 'BuRough_3D_wsum') → R² = 0.366\n",
      "('BuIBD', 'BuAdj', 'BuERI_wsum') → R² = 0.366\n",
      "('BuAdj', 'BuERI_mode', 'BuHt_wsum') → R² = 0.364\n"
     ]
    }
   ],
   "source": [
    "# Replace with your actual target column\n",
    "target_col = 'Temperature_diff_K'\n",
    "\n",
    "top_rf = evaluate_rf_combinations(df, target_col, max_vars=4, top_n=10, cv_folds=5)\n",
    "\n",
    "print(\"🌳 Top 10 Random Forest combinations (nonlinear, CV R²):\")\n",
    "for combo, r2 in top_rf:\n",
    "    print(f\"{combo} → R² = {r2:.3f}\")"
   ]
  },
  {
   "cell_type": "code",
   "execution_count": 35,
   "metadata": {},
   "outputs": [
    {
     "name": "stdout",
     "output_type": "stream",
     "text": [
      "R² for BuAre_sum and BuAdj combined: 0.429\n"
     ]
    }
   ],
   "source": [
    "from sklearn.linear_model import LinearRegression\n",
    "from sklearn.metrics import r2_score\n",
    "import numpy as np\n",
    "\n",
    "# Choose predictors and target\n",
    "X_subset = df[['BuAre_sum', 'BuAdj']]\n",
    "y = df['Temperature_diff_K']  # replace with actual column name\n",
    "\n",
    "# Fit linear regression\n",
    "model = LinearRegression().fit(X_subset, y)\n",
    "\n",
    "# Predict and calculate R²\n",
    "y_pred = model.predict(X_subset)\n",
    "r2 = r2_score(y, y_pred)\n",
    "\n",
    "print(f\"R² for BuAre_sum and BuAdj combined: {r2:.3f}\")"
   ]
  },
  {
   "cell_type": "code",
   "execution_count": 42,
   "metadata": {},
   "outputs": [
    {
     "name": "stdout",
     "output_type": "stream",
     "text": [
      "R² for BuVol_3D_sum and BuAdj combined: 0.382\n"
     ]
    }
   ],
   "source": [
    "# Choose predictors and target\n",
    "X_subset = df[['BuVol_3D_sum', 'BuAdj']]\n",
    "y = df['Temperature_diff_K']  # replace with actual column name\n",
    "\n",
    "# Fit linear regression\n",
    "model = LinearRegression().fit(X_subset, y)\n",
    "\n",
    "# Predict and calculate R²\n",
    "y_pred = model.predict(X_subset)\n",
    "r2 = r2_score(y, y_pred)\n",
    "\n",
    "print(f\"R² for BuVol_3D_sum and BuAdj combined: {r2:.3f}\")"
   ]
  },
  {
   "cell_type": "code",
   "execution_count": 41,
   "metadata": {},
   "outputs": [
    {
     "name": "stdout",
     "output_type": "stream",
     "text": [
      "R² for BuAre_sum BuVol_3D_sum and BuAdj combined: 0.457\n"
     ]
    }
   ],
   "source": [
    "# Choose predictors and target\n",
    "X_subset = df[['BuAre_sum','BuVol_3D_sum', 'BuAdj']]\n",
    "y = df['Temperature_diff_K']  # replace with actual column name\n",
    "\n",
    "# Fit linear regression\n",
    "model = LinearRegression().fit(X_subset, y)\n",
    "\n",
    "# Predict and calculate R²\n",
    "y_pred = model.predict(X_subset)\n",
    "r2 = r2_score(y, y_pred)\n",
    "\n",
    "print(f\"R² for BuAre_sum BuVol_3D_sum and BuAdj combined: {r2:.3f}\")"
   ]
  },
  {
   "cell_type": "code",
   "execution_count": 46,
   "metadata": {},
   "outputs": [
    {
     "name": "stdout",
     "output_type": "stream",
     "text": [
      "R² for BuAre_sum StrHW_median BuVol_3D_sum and BuAdj combined: 0.449\n"
     ]
    }
   ],
   "source": [
    "# Choose predictors and target\n",
    "X_subset = df[['BuAre_sum','StrHW_median','BuAdj']]\n",
    "y = df['Temperature_diff_K']  # replace with actual column name\n",
    "\n",
    "# Fit linear regression\n",
    "model = LinearRegression().fit(X_subset, y)\n",
    "\n",
    "# Predict and calculate R²\n",
    "y_pred = model.predict(X_subset)\n",
    "r2 = r2_score(y, y_pred)\n",
    "\n",
    "print(f\"R² for BuAre_sum StrHW_median BuVol_3D_sum and BuAdj combined: {r2:.3f}\")"
   ]
  },
  {
   "cell_type": "code",
   "execution_count": 38,
   "metadata": {},
   "outputs": [
    {
     "name": "stdout",
     "output_type": "stream",
     "text": [
      "R² for BuAre_sum: 0.401\n"
     ]
    }
   ],
   "source": [
    "from sklearn.linear_model import LinearRegression\n",
    "from sklearn.metrics import r2_score\n",
    "import numpy as np\n",
    "\n",
    "# Choose predictors and target\n",
    "X_subset = df[['BuAre_sum']]\n",
    "y = df['Temperature_diff_K']  # replace with actual column name\n",
    "\n",
    "# Fit linear regression\n",
    "model = LinearRegression().fit(X_subset, y)\n",
    "\n",
    "# Predict and calculate R²\n",
    "y_pred = model.predict(X_subset)\n",
    "r2 = r2_score(y, y_pred)\n",
    "\n",
    "print(f\"R² for BuAre_sum: {r2:.3f}\")"
   ]
  },
  {
   "cell_type": "code",
   "execution_count": 39,
   "metadata": {},
   "outputs": [
    {
     "name": "stdout",
     "output_type": "stream",
     "text": [
      "R² for BuAre_sum and BuAdj combined: 0.416\n"
     ]
    }
   ],
   "source": [
    "# Choose predictors and target\n",
    "X_subset = df[['BuAre_sum', 'BuVol_3D_sum']]\n",
    "y = df['Temperature_diff_K']  # replace with actual column name\n",
    "\n",
    "# Fit linear regression\n",
    "model = LinearRegression().fit(X_subset, y)\n",
    "\n",
    "# Predict and calculate R²\n",
    "y_pred = model.predict(X_subset)\n",
    "r2 = r2_score(y, y_pred)\n",
    "\n",
    "print(f\"R² for BuAre_sum and BuAdj combined: {r2:.3f}\")"
   ]
  },
  {
   "cell_type": "code",
   "execution_count": 31,
   "metadata": {},
   "outputs": [
    {
     "data": {
      "text/html": [
       "<div>\n",
       "<style scoped>\n",
       "    .dataframe tbody tr th:only-of-type {\n",
       "        vertical-align: middle;\n",
       "    }\n",
       "\n",
       "    .dataframe tbody tr th {\n",
       "        vertical-align: top;\n",
       "    }\n",
       "\n",
       "    .dataframe thead th {\n",
       "        text-align: right;\n",
       "    }\n",
       "</style>\n",
       "<table border=\"1\" class=\"dataframe\">\n",
       "  <thead>\n",
       "    <tr style=\"text-align: right;\">\n",
       "      <th></th>\n",
       "      <th>Temperature_diff_K</th>\n",
       "      <th>BuAre_sum</th>\n",
       "      <th>BuVol_3D_sum</th>\n",
       "      <th>BuEWA_3D_sum</th>\n",
       "      <th>BuIBD</th>\n",
       "      <th>BuAdj</th>\n",
       "      <th>BuSWR_3D_median</th>\n",
       "      <th>BuHt_wmean</th>\n",
       "      <th>StrHW_median</th>\n",
       "      <th>SVF_3D_mean</th>\n",
       "      <th>BuERI_mode</th>\n",
       "      <th>StrClo400_median</th>\n",
       "    </tr>\n",
       "  </thead>\n",
       "  <tbody>\n",
       "    <tr>\n",
       "      <th>0</th>\n",
       "      <td>1.30</td>\n",
       "      <td>88611.064392</td>\n",
       "      <td>1.419363e+06</td>\n",
       "      <td>356116.386413</td>\n",
       "      <td>14.210120</td>\n",
       "      <td>0.316593</td>\n",
       "      <td>0.226575</td>\n",
       "      <td>16.088678</td>\n",
       "      <td>0.828041</td>\n",
       "      <td>0.726348</td>\n",
       "      <td>0.510927</td>\n",
       "      <td>0.000019</td>\n",
       "    </tr>\n",
       "    <tr>\n",
       "      <th>1</th>\n",
       "      <td>1.10</td>\n",
       "      <td>87945.342335</td>\n",
       "      <td>1.416225e+06</td>\n",
       "      <td>353928.535936</td>\n",
       "      <td>14.496523</td>\n",
       "      <td>0.333252</td>\n",
       "      <td>0.212780</td>\n",
       "      <td>16.174672</td>\n",
       "      <td>0.719806</td>\n",
       "      <td>0.733817</td>\n",
       "      <td>0.510927</td>\n",
       "      <td>0.000017</td>\n",
       "    </tr>\n",
       "    <tr>\n",
       "      <th>2</th>\n",
       "      <td>1.02</td>\n",
       "      <td>78953.475859</td>\n",
       "      <td>1.173644e+06</td>\n",
       "      <td>319341.437612</td>\n",
       "      <td>14.916552</td>\n",
       "      <td>0.359290</td>\n",
       "      <td>0.214372</td>\n",
       "      <td>14.934070</td>\n",
       "      <td>0.639352</td>\n",
       "      <td>0.746298</td>\n",
       "      <td>0.556153</td>\n",
       "      <td>0.000015</td>\n",
       "    </tr>\n",
       "    <tr>\n",
       "      <th>3</th>\n",
       "      <td>1.02</td>\n",
       "      <td>77989.530821</td>\n",
       "      <td>1.159853e+06</td>\n",
       "      <td>315972.447698</td>\n",
       "      <td>14.876094</td>\n",
       "      <td>0.359314</td>\n",
       "      <td>0.215963</td>\n",
       "      <td>14.941287</td>\n",
       "      <td>0.610363</td>\n",
       "      <td>0.746567</td>\n",
       "      <td>0.556153</td>\n",
       "      <td>0.000015</td>\n",
       "    </tr>\n",
       "    <tr>\n",
       "      <th>4</th>\n",
       "      <td>1.02</td>\n",
       "      <td>73037.647444</td>\n",
       "      <td>1.055864e+06</td>\n",
       "      <td>308325.986229</td>\n",
       "      <td>16.113767</td>\n",
       "      <td>0.417174</td>\n",
       "      <td>0.186234</td>\n",
       "      <td>14.499651</td>\n",
       "      <td>0.548229</td>\n",
       "      <td>0.751950</td>\n",
       "      <td>0.556153</td>\n",
       "      <td>0.000013</td>\n",
       "    </tr>\n",
       "    <tr>\n",
       "      <th>...</th>\n",
       "      <td>...</td>\n",
       "      <td>...</td>\n",
       "      <td>...</td>\n",
       "      <td>...</td>\n",
       "      <td>...</td>\n",
       "      <td>...</td>\n",
       "      <td>...</td>\n",
       "      <td>...</td>\n",
       "      <td>...</td>\n",
       "      <td>...</td>\n",
       "      <td>...</td>\n",
       "      <td>...</td>\n",
       "    </tr>\n",
       "    <tr>\n",
       "      <th>5936</th>\n",
       "      <td>-0.75</td>\n",
       "      <td>89538.392811</td>\n",
       "      <td>1.447345e+06</td>\n",
       "      <td>357100.320441</td>\n",
       "      <td>14.210719</td>\n",
       "      <td>0.322829</td>\n",
       "      <td>0.221957</td>\n",
       "      <td>16.235513</td>\n",
       "      <td>0.828041</td>\n",
       "      <td>0.726900</td>\n",
       "      <td>0.510927</td>\n",
       "      <td>0.000019</td>\n",
       "    </tr>\n",
       "    <tr>\n",
       "      <th>5937</th>\n",
       "      <td>-0.54</td>\n",
       "      <td>89442.584300</td>\n",
       "      <td>1.446028e+06</td>\n",
       "      <td>359930.485912</td>\n",
       "      <td>14.020836</td>\n",
       "      <td>0.316027</td>\n",
       "      <td>0.225701</td>\n",
       "      <td>16.238213</td>\n",
       "      <td>0.823423</td>\n",
       "      <td>0.725776</td>\n",
       "      <td>0.510927</td>\n",
       "      <td>0.000019</td>\n",
       "    </tr>\n",
       "    <tr>\n",
       "      <th>5938</th>\n",
       "      <td>-0.44</td>\n",
       "      <td>88410.156137</td>\n",
       "      <td>1.424107e+06</td>\n",
       "      <td>354690.005585</td>\n",
       "      <td>13.928590</td>\n",
       "      <td>0.310400</td>\n",
       "      <td>0.229856</td>\n",
       "      <td>16.179148</td>\n",
       "      <td>0.828041</td>\n",
       "      <td>0.723833</td>\n",
       "      <td>0.510927</td>\n",
       "      <td>0.000020</td>\n",
       "    </tr>\n",
       "    <tr>\n",
       "      <th>5939</th>\n",
       "      <td>-0.44</td>\n",
       "      <td>89368.249945</td>\n",
       "      <td>1.435355e+06</td>\n",
       "      <td>360215.607313</td>\n",
       "      <td>13.996876</td>\n",
       "      <td>0.310517</td>\n",
       "      <td>0.239904</td>\n",
       "      <td>16.131929</td>\n",
       "      <td>0.848238</td>\n",
       "      <td>0.722884</td>\n",
       "      <td>0.510927</td>\n",
       "      <td>0.000019</td>\n",
       "    </tr>\n",
       "    <tr>\n",
       "      <th>5940</th>\n",
       "      <td>-0.44</td>\n",
       "      <td>88879.198123</td>\n",
       "      <td>1.434105e+06</td>\n",
       "      <td>360214.725416</td>\n",
       "      <td>14.138048</td>\n",
       "      <td>0.312295</td>\n",
       "      <td>0.233347</td>\n",
       "      <td>16.206596</td>\n",
       "      <td>0.848238</td>\n",
       "      <td>0.723225</td>\n",
       "      <td>0.510927</td>\n",
       "      <td>0.000019</td>\n",
       "    </tr>\n",
       "  </tbody>\n",
       "</table>\n",
       "<p>4971 rows × 12 columns</p>\n",
       "</div>"
      ],
      "text/plain": [
       "      Temperature_diff_K     BuAre_sum  BuVol_3D_sum   BuEWA_3D_sum  \\\n",
       "0                   1.30  88611.064392  1.419363e+06  356116.386413   \n",
       "1                   1.10  87945.342335  1.416225e+06  353928.535936   \n",
       "2                   1.02  78953.475859  1.173644e+06  319341.437612   \n",
       "3                   1.02  77989.530821  1.159853e+06  315972.447698   \n",
       "4                   1.02  73037.647444  1.055864e+06  308325.986229   \n",
       "...                  ...           ...           ...            ...   \n",
       "5936               -0.75  89538.392811  1.447345e+06  357100.320441   \n",
       "5937               -0.54  89442.584300  1.446028e+06  359930.485912   \n",
       "5938               -0.44  88410.156137  1.424107e+06  354690.005585   \n",
       "5939               -0.44  89368.249945  1.435355e+06  360215.607313   \n",
       "5940               -0.44  88879.198123  1.434105e+06  360214.725416   \n",
       "\n",
       "          BuIBD     BuAdj  BuSWR_3D_median  BuHt_wmean  StrHW_median  \\\n",
       "0     14.210120  0.316593         0.226575   16.088678      0.828041   \n",
       "1     14.496523  0.333252         0.212780   16.174672      0.719806   \n",
       "2     14.916552  0.359290         0.214372   14.934070      0.639352   \n",
       "3     14.876094  0.359314         0.215963   14.941287      0.610363   \n",
       "4     16.113767  0.417174         0.186234   14.499651      0.548229   \n",
       "...         ...       ...              ...         ...           ...   \n",
       "5936  14.210719  0.322829         0.221957   16.235513      0.828041   \n",
       "5937  14.020836  0.316027         0.225701   16.238213      0.823423   \n",
       "5938  13.928590  0.310400         0.229856   16.179148      0.828041   \n",
       "5939  13.996876  0.310517         0.239904   16.131929      0.848238   \n",
       "5940  14.138048  0.312295         0.233347   16.206596      0.848238   \n",
       "\n",
       "      SVF_3D_mean  BuERI_mode  StrClo400_median  \n",
       "0        0.726348    0.510927          0.000019  \n",
       "1        0.733817    0.510927          0.000017  \n",
       "2        0.746298    0.556153          0.000015  \n",
       "3        0.746567    0.556153          0.000015  \n",
       "4        0.751950    0.556153          0.000013  \n",
       "...           ...         ...               ...  \n",
       "5936     0.726900    0.510927          0.000019  \n",
       "5937     0.725776    0.510927          0.000019  \n",
       "5938     0.723833    0.510927          0.000020  \n",
       "5939     0.722884    0.510927          0.000019  \n",
       "5940     0.723225    0.510927          0.000019  \n",
       "\n",
       "[4971 rows x 12 columns]"
      ]
     },
     "execution_count": 31,
     "metadata": {},
     "output_type": "execute_result"
    }
   ],
   "source": [
    "df"
   ]
  },
  {
   "cell_type": "code",
   "execution_count": 47,
   "metadata": {},
   "outputs": [
    {
     "name": "stdout",
     "output_type": "stream",
     "text": [
      "BuVol_3D_sum,Partial Spearman correlation between Y and X2 controlling for X1: 0.201, p=5.77e-52\n",
      "BuEWA_3D_sum,Partial Spearman correlation between Y and X2 controlling for X1: -0.035, p=0.00823\n",
      "BuIBD,Partial Spearman correlation between Y and X2 controlling for X1: 0.092, p=1.53e-11\n",
      "BuAdj,Partial Spearman correlation between Y and X2 controlling for X1: -0.235, p=4.98e-69\n",
      "BuSWR_3D_median,Partial Spearman correlation between Y and X2 controlling for X1: 0.092, p=1.11e-11\n",
      "BuHt_wmean,Partial Spearman correlation between Y and X2 controlling for X1: 0.143, p=6.83e-27\n",
      "StrHW_median,Partial Spearman correlation between Y and X2 controlling for X1: 0.098, p=2.93e-12\n",
      "SVF_3D_mean,Partial Spearman correlation between Y and X2 controlling for X1: -0.027, p=0.047\n",
      "BuERI_mode,Partial Spearman correlation between Y and X2 controlling for X1: -0.028, p=0.0383\n",
      "StrClo400_median,Partial Spearman correlation between Y and X2 controlling for X1: -0.084, p=8.87e-10\n"
     ]
    }
   ],
   "source": [
    "params = ['BuVol_3D_sum', 'BuEWA_3D_sum', 'BuIBD', 'BuAdj', 'BuSWR_3D_median', 'BuHt_wmean','StrHW_median','SVF_3D_mean', 'BuERI_mode','StrClo400_median']\n",
    "\n",
    "for i in params:\n",
    "\n",
    "    data = stn_buffers[['Temperature_diff_K',i,'BuAre_sum']].dropna()\n",
    "\n",
    "    y = data['Temperature_diff_K']\n",
    "    x2 = data[i]\n",
    "    x1 = data['BuAre_sum']\n",
    "    rho, pval = partial_spearman(y, x2, x1)\n",
    "    print(f\"{i},Partial Spearman correlation between Y and X2 controlling for X1: {rho:.3f}, p={pval:.3g}\")"
   ]
  },
  {
   "cell_type": "code",
   "execution_count": 23,
   "metadata": {},
   "outputs": [
    {
     "name": "stdout",
     "output_type": "stream",
     "text": [
      "BuAre_sum,Partial Spearman correlation between Y and X2 controlling for X1: 0.068, p=3e-07\n",
      "BuEWA_3D_sum,Partial Spearman correlation between Y and X2 controlling for X1: -0.183, p=3.77e-43\n",
      "BuIBD,Partial Spearman correlation between Y and X2 controlling for X1: 0.060, p=1.12e-05\n",
      "BuAdj,Partial Spearman correlation between Y and X2 controlling for X1: -0.201, p=8.5e-51\n",
      "BuSWR_3D_median,Partial Spearman correlation between Y and X2 controlling for X1: 0.066, p=1.23e-06\n",
      "BuHt_wmean,Partial Spearman correlation between Y and X2 controlling for X1: -0.093, p=3.24e-12\n",
      "StrHW_median,Partial Spearman correlation between Y and X2 controlling for X1: -0.025, p=0.0706\n",
      "SVF_3D_mean,Partial Spearman correlation between Y and X2 controlling for X1: 0.055, p=4e-05\n",
      "BuERI_mode,Partial Spearman correlation between Y and X2 controlling for X1: -0.007, p=0.589\n",
      "StrClo400_median,Partial Spearman correlation between Y and X2 controlling for X1: -0.045, p=0.00114\n"
     ]
    }
   ],
   "source": [
    "params = ['BuAre_sum', 'BuEWA_3D_sum', 'BuIBD', 'BuAdj', 'BuSWR_3D_median', 'BuHt_wmean','StrHW_median','SVF_3D_mean', 'BuERI_mode','StrClo400_median']\n",
    "\n",
    "for i in params:\n",
    "\n",
    "    data = stn_buffers[['Temperature_diff_K',i,'BuVol_3D_sum']].dropna()\n",
    "\n",
    "    y = data['Temperature_diff_K']\n",
    "    x2 = data[i]\n",
    "    x1 = data['BuVol_3D_sum']\n",
    "    rho, pval = partial_spearman(y, x2, x1)\n",
    "    print(f\"{i},Partial Spearman correlation between Y and X2 controlling for X1: {rho:.3f}, p={pval:.3g}\")"
   ]
  },
  {
   "cell_type": "code",
   "execution_count": 25,
   "metadata": {},
   "outputs": [
    {
     "name": "stdout",
     "output_type": "stream",
     "text": [
      "BuAre_sum,Partial Spearman correlation between Y and X2 controlling for X1: 0.317, p=4.47e-131\n",
      "BuVol_3D_sum,Partial Spearman correlation between Y and X2 controlling for X1: 0.335, p=2.11e-146\n",
      "BuEWA_3D_sum,Partial Spearman correlation between Y and X2 controlling for X1: 0.207, p=3.18e-55\n",
      "BuIBD,Partial Spearman correlation between Y and X2 controlling for X1: 0.045, p=0.000834\n",
      "BuAdj,Partial Spearman correlation between Y and X2 controlling for X1: -0.263, p=1.54e-86\n",
      "BuSWR_3D_median,Partial Spearman correlation between Y and X2 controlling for X1: 0.124, p=4.28e-20\n",
      "BuHt_wmean,Partial Spearman correlation between Y and X2 controlling for X1: 0.138, p=2.49e-25\n",
      "StrHW_median,Partial Spearman correlation between Y and X2 controlling for X1: 0.126, p=2.05e-19\n",
      "BuERI_mode,Partial Spearman correlation between Y and X2 controlling for X1: -0.111, p=1.05e-16\n",
      "StrClo400_median,Partial Spearman correlation between Y and X2 controlling for X1: -0.029, p=0.0367\n"
     ]
    }
   ],
   "source": [
    "params = ['BuAre_sum', 'BuVol_3D_sum','BuEWA_3D_sum', 'BuIBD', 'BuAdj', 'BuSWR_3D_median', 'BuHt_wmean','StrHW_median', 'BuERI_mode','StrClo400_median']\n",
    "\n",
    "for i in params:\n",
    "\n",
    "    data = stn_buffers[['Temperature_diff_K',i,'SVF_3D_mean']].dropna()\n",
    "\n",
    "    y = data['Temperature_diff_K']\n",
    "    x2 = data[i]\n",
    "    x1 = data['SVF_3D_mean']\n",
    "    rho, pval = partial_spearman(y, x2, x1)\n",
    "    print(f\"{i},Partial Spearman correlation between Y and X2 controlling for X1: {rho:.3f}, p={pval:.3g}\")"
   ]
  },
  {
   "cell_type": "code",
   "execution_count": 27,
   "metadata": {},
   "outputs": [
    {
     "data": {
      "text/html": [
       "<div class=\"bk-root\">\n",
       "        <a href=\"https://bokeh.org\" target=\"_blank\" class=\"bk-logo bk-logo-small bk-logo-notebook\"></a>\n",
       "        <span id=\"1002\">Loading BokehJS ...</span>\n",
       "    </div>\n"
      ]
     },
     "metadata": {},
     "output_type": "display_data"
    },
    {
     "data": {
      "application/javascript": "(function(root) {\n  function now() {\n    return new Date();\n  }\n\n  const force = true;\n\n  if (typeof root._bokeh_onload_callbacks === \"undefined\" || force === true) {\n    root._bokeh_onload_callbacks = [];\n    root._bokeh_is_loading = undefined;\n  }\n\nconst JS_MIME_TYPE = 'application/javascript';\n  const HTML_MIME_TYPE = 'text/html';\n  const EXEC_MIME_TYPE = 'application/vnd.bokehjs_exec.v0+json';\n  const CLASS_NAME = 'output_bokeh rendered_html';\n\n  /**\n   * Render data to the DOM node\n   */\n  function render(props, node) {\n    const script = document.createElement(\"script\");\n    node.appendChild(script);\n  }\n\n  /**\n   * Handle when an output is cleared or removed\n   */\n  function handleClearOutput(event, handle) {\n    const cell = handle.cell;\n\n    const id = cell.output_area._bokeh_element_id;\n    const server_id = cell.output_area._bokeh_server_id;\n    // Clean up Bokeh references\n    if (id != null && id in Bokeh.index) {\n      Bokeh.index[id].model.document.clear();\n      delete Bokeh.index[id];\n    }\n\n    if (server_id !== undefined) {\n      // Clean up Bokeh references\n      const cmd_clean = \"from bokeh.io.state import curstate; print(curstate().uuid_to_server['\" + server_id + \"'].get_sessions()[0].document.roots[0]._id)\";\n      cell.notebook.kernel.execute(cmd_clean, {\n        iopub: {\n          output: function(msg) {\n            const id = msg.content.text.trim();\n            if (id in Bokeh.index) {\n              Bokeh.index[id].model.document.clear();\n              delete Bokeh.index[id];\n            }\n          }\n        }\n      });\n      // Destroy server and session\n      const cmd_destroy = \"import bokeh.io.notebook as ion; ion.destroy_server('\" + server_id + \"')\";\n      cell.notebook.kernel.execute(cmd_destroy);\n    }\n  }\n\n  /**\n   * Handle when a new output is added\n   */\n  function handleAddOutput(event, handle) {\n    const output_area = handle.output_area;\n    const output = handle.output;\n\n    // limit handleAddOutput to display_data with EXEC_MIME_TYPE content only\n    if ((output.output_type != \"display_data\") || (!Object.prototype.hasOwnProperty.call(output.data, EXEC_MIME_TYPE))) {\n      return\n    }\n\n    const toinsert = output_area.element.find(\".\" + CLASS_NAME.split(' ')[0]);\n\n    if (output.metadata[EXEC_MIME_TYPE][\"id\"] !== undefined) {\n      toinsert[toinsert.length - 1].firstChild.textContent = output.data[JS_MIME_TYPE];\n      // store reference to embed id on output_area\n      output_area._bokeh_element_id = output.metadata[EXEC_MIME_TYPE][\"id\"];\n    }\n    if (output.metadata[EXEC_MIME_TYPE][\"server_id\"] !== undefined) {\n      const bk_div = document.createElement(\"div\");\n      bk_div.innerHTML = output.data[HTML_MIME_TYPE];\n      const script_attrs = bk_div.children[0].attributes;\n      for (let i = 0; i < script_attrs.length; i++) {\n        toinsert[toinsert.length - 1].firstChild.setAttribute(script_attrs[i].name, script_attrs[i].value);\n        toinsert[toinsert.length - 1].firstChild.textContent = bk_div.children[0].textContent\n      }\n      // store reference to server id on output_area\n      output_area._bokeh_server_id = output.metadata[EXEC_MIME_TYPE][\"server_id\"];\n    }\n  }\n\n  function register_renderer(events, OutputArea) {\n\n    function append_mime(data, metadata, element) {\n      // create a DOM node to render to\n      const toinsert = this.create_output_subarea(\n        metadata,\n        CLASS_NAME,\n        EXEC_MIME_TYPE\n      );\n      this.keyboard_manager.register_events(toinsert);\n      // Render to node\n      const props = {data: data, metadata: metadata[EXEC_MIME_TYPE]};\n      render(props, toinsert[toinsert.length - 1]);\n      element.append(toinsert);\n      return toinsert\n    }\n\n    /* Handle when an output is cleared or removed */\n    events.on('clear_output.CodeCell', handleClearOutput);\n    events.on('delete.Cell', handleClearOutput);\n\n    /* Handle when a new output is added */\n    events.on('output_added.OutputArea', handleAddOutput);\n\n    /**\n     * Register the mime type and append_mime function with output_area\n     */\n    OutputArea.prototype.register_mime_type(EXEC_MIME_TYPE, append_mime, {\n      /* Is output safe? */\n      safe: true,\n      /* Index of renderer in `output_area.display_order` */\n      index: 0\n    });\n  }\n\n  // register the mime type if in Jupyter Notebook environment and previously unregistered\n  if (root.Jupyter !== undefined) {\n    const events = require('base/js/events');\n    const OutputArea = require('notebook/js/outputarea').OutputArea;\n\n    if (OutputArea.prototype.mime_types().indexOf(EXEC_MIME_TYPE) == -1) {\n      register_renderer(events, OutputArea);\n    }\n  }\n  if (typeof (root._bokeh_timeout) === \"undefined\" || force === true) {\n    root._bokeh_timeout = Date.now() + 5000;\n    root._bokeh_failed_load = false;\n  }\n\n  const NB_LOAD_WARNING = {'data': {'text/html':\n     \"<div style='background-color: #fdd'>\\n\"+\n     \"<p>\\n\"+\n     \"BokehJS does not appear to have successfully loaded. If loading BokehJS from CDN, this \\n\"+\n     \"may be due to a slow or bad network connection. Possible fixes:\\n\"+\n     \"</p>\\n\"+\n     \"<ul>\\n\"+\n     \"<li>re-rerun `output_notebook()` to attempt to load from CDN again, or</li>\\n\"+\n     \"<li>use INLINE resources instead, as so:</li>\\n\"+\n     \"</ul>\\n\"+\n     \"<code>\\n\"+\n     \"from bokeh.resources import INLINE\\n\"+\n     \"output_notebook(resources=INLINE)\\n\"+\n     \"</code>\\n\"+\n     \"</div>\"}};\n\n  function display_loaded() {\n    const el = document.getElementById(\"1002\");\n    if (el != null) {\n      el.textContent = \"BokehJS is loading...\";\n    }\n    if (root.Bokeh !== undefined) {\n      if (el != null) {\n        el.textContent = \"BokehJS \" + root.Bokeh.version + \" successfully loaded.\";\n      }\n    } else if (Date.now() < root._bokeh_timeout) {\n      setTimeout(display_loaded, 100)\n    }\n  }\n\n  function run_callbacks() {\n    try {\n      root._bokeh_onload_callbacks.forEach(function(callback) {\n        if (callback != null)\n          callback();\n      });\n    } finally {\n      delete root._bokeh_onload_callbacks\n    }\n    console.debug(\"Bokeh: all callbacks have finished\");\n  }\n\n  function load_libs(css_urls, js_urls, callback) {\n    if (css_urls == null) css_urls = [];\n    if (js_urls == null) js_urls = [];\n\n    root._bokeh_onload_callbacks.push(callback);\n    if (root._bokeh_is_loading > 0) {\n      console.debug(\"Bokeh: BokehJS is being loaded, scheduling callback at\", now());\n      return null;\n    }\n    if (js_urls == null || js_urls.length === 0) {\n      run_callbacks();\n      return null;\n    }\n    console.debug(\"Bokeh: BokehJS not loaded, scheduling load and callback at\", now());\n    root._bokeh_is_loading = css_urls.length + js_urls.length;\n\n    function on_load() {\n      root._bokeh_is_loading--;\n      if (root._bokeh_is_loading === 0) {\n        console.debug(\"Bokeh: all BokehJS libraries/stylesheets loaded\");\n        run_callbacks()\n      }\n    }\n\n    function on_error(url) {\n      console.error(\"failed to load \" + url);\n    }\n\n    for (let i = 0; i < css_urls.length; i++) {\n      const url = css_urls[i];\n      const element = document.createElement(\"link\");\n      element.onload = on_load;\n      element.onerror = on_error.bind(null, url);\n      element.rel = \"stylesheet\";\n      element.type = \"text/css\";\n      element.href = url;\n      console.debug(\"Bokeh: injecting link tag for BokehJS stylesheet: \", url);\n      document.body.appendChild(element);\n    }\n\n    for (let i = 0; i < js_urls.length; i++) {\n      const url = js_urls[i];\n      const element = document.createElement('script');\n      element.onload = on_load;\n      element.onerror = on_error.bind(null, url);\n      element.async = false;\n      element.src = url;\n      console.debug(\"Bokeh: injecting script tag for BokehJS library: \", url);\n      document.head.appendChild(element);\n    }\n  };\n\n  function inject_raw_css(css) {\n    const element = document.createElement(\"style\");\n    element.appendChild(document.createTextNode(css));\n    document.body.appendChild(element);\n  }\n\n  const js_urls = [\"https://cdn.bokeh.org/bokeh/release/bokeh-2.4.3.min.js\", \"https://cdn.bokeh.org/bokeh/release/bokeh-gl-2.4.3.min.js\", \"https://cdn.bokeh.org/bokeh/release/bokeh-widgets-2.4.3.min.js\", \"https://cdn.bokeh.org/bokeh/release/bokeh-tables-2.4.3.min.js\", \"https://cdn.bokeh.org/bokeh/release/bokeh-mathjax-2.4.3.min.js\"];\n  const css_urls = [];\n\n  const inline_js = [    function(Bokeh) {\n      Bokeh.set_log_level(\"info\");\n    },\nfunction(Bokeh) {\n    }\n  ];\n\n  function run_inline_js() {\n    if (root.Bokeh !== undefined || force === true) {\n          for (let i = 0; i < inline_js.length; i++) {\n      inline_js[i].call(root, root.Bokeh);\n    }\nif (force === true) {\n        display_loaded();\n      }} else if (Date.now() < root._bokeh_timeout) {\n      setTimeout(run_inline_js, 100);\n    } else if (!root._bokeh_failed_load) {\n      console.log(\"Bokeh: BokehJS failed to load within specified timeout.\");\n      root._bokeh_failed_load = true;\n    } else if (force !== true) {\n      const cell = $(document.getElementById(\"1002\")).parents('.cell').data().cell;\n      cell.output_area.append_execute_result(NB_LOAD_WARNING)\n    }\n  }\n\n  if (root._bokeh_is_loading === 0) {\n    console.debug(\"Bokeh: BokehJS loaded, going straight to plotting\");\n    run_inline_js();\n  } else {\n    load_libs(css_urls, js_urls, function() {\n      console.debug(\"Bokeh: BokehJS plotting callback run at\", now());\n      run_inline_js();\n    });\n  }\n}(window));",
      "application/vnd.bokehjs_load.v0+json": ""
     },
     "metadata": {},
     "output_type": "display_data"
    },
    {
     "data": {
      "text/html": [
       "        <script type=\"text/javascript\">\n",
       "        window.PlotlyConfig = {MathJaxConfig: 'local'};\n",
       "        if (window.MathJax && window.MathJax.Hub && window.MathJax.Hub.Config) {window.MathJax.Hub.Config({SVG: {font: \"STIX-Web\"}});}\n",
       "        if (typeof require !== 'undefined') {\n",
       "        require.undef(\"plotly\");\n",
       "        requirejs.config({\n",
       "            paths: {\n",
       "                'plotly': ['https://cdn.plot.ly/plotly-2.35.2.min']\n",
       "            }\n",
       "        });\n",
       "        require(['plotly'], function(Plotly) {\n",
       "            window._Plotly = Plotly;\n",
       "        });\n",
       "        }\n",
       "        </script>\n",
       "        "
      ]
     },
     "metadata": {},
     "output_type": "display_data"
    },
    {
     "name": "stdout",
     "output_type": "stream",
     "text": [
      "Selecting 2 Best Predictors for the Model\n",
      "Selected Predictors :  ['X1', 'X2']\n",
      "\n",
      "********************  R-Squared of Complete Model :  ********************\n",
      "R Squared : 0.37869665015247567\n",
      "\n",
      "Selecting 2 Best Predictors for the Model\n",
      "Selected Predictors :  ['X1', 'X2']\n",
      "\n",
      "Creating models for 3 possible combinations of 2 features :\n"
     ]
    },
    {
     "name": "stderr",
     "output_type": "stream",
     "text": [
      "100%|██████████| 2/2 [00:00<00:00, 83.65it/s]\n"
     ]
    },
    {
     "name": "stdout",
     "output_type": "stream",
     "text": [
      "#########################  Model Training Done!!!!!  #########################\n",
      "\n",
      "#########################  Calculating Variable Dominances  #########################\n"
     ]
    },
    {
     "name": "stderr",
     "output_type": "stream",
     "text": [
      "100%|██████████| 1/1 [00:00<00:00, 2101.35it/s]"
     ]
    },
    {
     "name": "stdout",
     "output_type": "stream",
     "text": [
      "#########################  Variable Dominance Calculation Done!!!!!  #########################\n",
      "\n",
      "Incremental R² for each variable (Shapley values):\n",
      "{'X1': 0.30333669402696206, 'X2': 0.0753599561255136}\n"
     ]
    },
    {
     "name": "stderr",
     "output_type": "stream",
     "text": [
      "\n"
     ]
    }
   ],
   "source": [
    "from dominance_analysis import Dominance_Datasets, Dominance\n",
    "import pandas as pd\n",
    "\n",
    "# Example DataFrame with outcome 'Y' and predictors 'X1', 'X2'\n",
    "df = pd.DataFrame({\n",
    "    'Y': y,\n",
    "    'X1': x1,\n",
    "    'X2': x2\n",
    "})\n",
    "\n",
    "# Run dominance analysis\n",
    "dominance = Dominance(data=df, target='Y', objective=1)  # 1 = regression, 0 = classification\n",
    "dominance_stats = dominance.incremental_rsquare()\n",
    "\n",
    "# View incremental R² contributions\n",
    "print(\"Incremental R² for each variable (Shapley values):\")\n",
    "print(dominance_stats)"
   ]
  },
  {
   "cell_type": "code",
   "execution_count": 10,
   "metadata": {},
   "outputs": [],
   "source": [
    "data = stn_buffers[['Temperature_diff_K','BuVol_3D_sum','BuAre_sum']].dropna()\n",
    "\n",
    "y = data['Temperature_diff_K']\n",
    "x2 = data['BuVol_3D_sum']\n",
    "x1 = data['BuAre_sum']"
   ]
  },
  {
   "cell_type": "code",
   "execution_count": 11,
   "metadata": {},
   "outputs": [
    {
     "name": "stdout",
     "output_type": "stream",
     "text": [
      "Partial Spearman correlation between Y and X2 controlling for X1: 0.201, p=5.77e-52\n"
     ]
    }
   ],
   "source": [
    "# Example usage\n",
    "# y = outcome variable, x2 = predictor of interest, x1 = control variable\n",
    "rho, pval = partial_spearman(y, x2, x1)\n",
    "print(f\"Partial Spearman correlation between Y and X2 controlling for X1: {rho:.3f}, p={pval:.3g}\")"
   ]
  },
  {
   "cell_type": "code",
   "execution_count": 12,
   "metadata": {},
   "outputs": [
    {
     "name": "stdout",
     "output_type": "stream",
     "text": [
      "Partial Spearman correlation between Y and X2 controlling for X1: 0.068, p=3e-07\n"
     ]
    }
   ],
   "source": [
    "data = stn_buffers[['Temperature_diff_K','BuVol_3D_sum','BuAre_sum']].dropna()\n",
    "\n",
    "y = data['Temperature_diff_K']\n",
    "x1 = data['BuVol_3D_sum']\n",
    "x2 = data['BuAre_sum']\n",
    "\n",
    "# Example usage\n",
    "# y = outcome variable, x2 = predictor of interest, x1 = control variable\n",
    "rho, pval = partial_spearman(y, x2, x1)\n",
    "print(f\"Partial Spearman correlation between Y and X2 controlling for X1: {rho:.3f}, p={pval:.3g}\")"
   ]
  },
  {
   "cell_type": "code",
   "execution_count": 13,
   "metadata": {},
   "outputs": [
    {
     "name": "stdout",
     "output_type": "stream",
     "text": [
      "Partial Spearman correlation between Y and X2 controlling for X1: -0.201, p=8.5e-51\n"
     ]
    }
   ],
   "source": [
    "data = stn_buffers[['Temperature_diff_K','BuVol_3D_sum','BuAdj']].dropna()\n",
    "\n",
    "y = data['Temperature_diff_K']\n",
    "x1 = data['BuVol_3D_sum']\n",
    "x2 = data['BuAdj']\n",
    "\n",
    "# Example usage\n",
    "# y = outcome variable, x2 = predictor of interest, x1 = control variable\n",
    "rho, pval = partial_spearman(y, x2, x1)\n",
    "print(f\"Partial Spearman correlation between Y and X2 controlling for X1: {rho:.3f}, p={pval:.3g}\")"
   ]
  },
  {
   "cell_type": "code",
   "execution_count": 15,
   "metadata": {},
   "outputs": [
    {
     "name": "stdout",
     "output_type": "stream",
     "text": [
      "Partial Spearman correlation between Y and X2 controlling for X1: -0.093, p=3.24e-12\n"
     ]
    }
   ],
   "source": [
    "data = stn_buffers[['Temperature_diff_K','BuVol_3D_sum','BuHt_wmean']].dropna()\n",
    "\n",
    "y = data['Temperature_diff_K']\n",
    "x1 = data['BuVol_3D_sum']\n",
    "x2 = data['BuHt_wmean']\n",
    "\n",
    "# Example usage\n",
    "# y = outcome variable, x2 = predictor of interest, x1 = control variable\n",
    "rho, pval = partial_spearman(y, x2, x1)\n",
    "print(f\"Partial Spearman correlation between Y and X2 controlling for X1: {rho:.3f}, p={pval:.3g}\")"
   ]
  },
  {
   "cell_type": "code",
   "execution_count": 16,
   "metadata": {},
   "outputs": [
    {
     "name": "stdout",
     "output_type": "stream",
     "text": [
      "Partial Spearman correlation between Y and X2 controlling for X1: 0.143, p=6.83e-27\n"
     ]
    }
   ],
   "source": [
    "data = stn_buffers[['Temperature_diff_K','BuAre_sum','BuHt_wmean']].dropna()\n",
    "\n",
    "y = data['Temperature_diff_K']\n",
    "x1 = data['BuAre_sum']\n",
    "x2 = data['BuHt_wmean']\n",
    "\n",
    "# Example usage\n",
    "# y = outcome variable, x2 = predictor of interest, x1 = control variable\n",
    "rho, pval = partial_spearman(y, x2, x1)\n",
    "print(f\"Partial Spearman correlation between Y and X2 controlling for X1: {rho:.3f}, p={pval:.3g}\")"
   ]
  },
  {
   "cell_type": "code",
   "execution_count": 17,
   "metadata": {},
   "outputs": [
    {
     "name": "stdout",
     "output_type": "stream",
     "text": [
      "Partial Spearman correlation between Y and X2 controlling for X1: -0.028, p=0.0383\n"
     ]
    }
   ],
   "source": [
    "data = stn_buffers[['Temperature_diff_K','BuAre_sum','BuERI_mode']].dropna()\n",
    "\n",
    "y = data['Temperature_diff_K']\n",
    "x1 = data['BuAre_sum']\n",
    "x2 = data['BuERI_mode']\n",
    "\n",
    "# Example usage\n",
    "# y = outcome variable, x2 = predictor of interest, x1 = control variable\n",
    "rho, pval = partial_spearman(y, x2, x1)\n",
    "print(f\"Partial Spearman correlation between Y and X2 controlling for X1: {rho:.3f}, p={pval:.3g}\")"
   ]
  },
  {
   "cell_type": "code",
   "execution_count": 18,
   "metadata": {},
   "outputs": [
    {
     "name": "stdout",
     "output_type": "stream",
     "text": [
      "Partial Spearman correlation between Y and X2 controlling for X1: -0.027, p=0.047\n"
     ]
    }
   ],
   "source": [
    "data = stn_buffers[['Temperature_diff_K','BuAre_sum','SVF_3D_mean']].dropna()\n",
    "\n",
    "y = data['Temperature_diff_K']\n",
    "x1 = data['BuAre_sum']\n",
    "x2 = data['SVF_3D_mean']\n",
    "\n",
    "# Example usage\n",
    "# y = outcome variable, x2 = predictor of interest, x1 = control variable\n",
    "rho, pval = partial_spearman(y, x2, x1)\n",
    "print(f\"Partial Spearman correlation between Y and X2 controlling for X1: {rho:.3f}, p={pval:.3g}\")"
   ]
  },
  {
   "cell_type": "code",
   "execution_count": null,
   "metadata": {},
   "outputs": [],
   "source": []
  }
 ],
 "metadata": {
  "kernelspec": {
   "display_name": "py312_uscuni_buildingfootprints",
   "language": "python",
   "name": "python3"
  },
  "language_info": {
   "codemirror_mode": {
    "name": "ipython",
    "version": 3
   },
   "file_extension": ".py",
   "mimetype": "text/x-python",
   "name": "python",
   "nbconvert_exporter": "python",
   "pygments_lexer": "ipython3",
   "version": "3.12.2"
  }
 },
 "nbformat": 4,
 "nbformat_minor": 2
}
